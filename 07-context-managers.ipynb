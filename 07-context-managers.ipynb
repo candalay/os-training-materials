{
 "cells": [
 {
    "cell_type": "code",
    "execution_count": 1,
    "metadata": {
     "slideshow": {
      "slide_type": "skip"
     }
    },
    "outputs": [
     {
      "data": {
       "text/html": [
        "<link rel=\"stylesheet\" type=\"text/css\" href=\"//fonts.googleapis.com/css?family=Quicksand:300\" />\n",
        "<link rel=\"stylesheet\" type=\"text/css\" href=\"custom.css\">"
       ],
       "text/plain": [
        "<IPython.core.display.HTML object>"
       ]
      },
      "metadata": {},
      "output_type": "display_data"
     }
    ],
    "source": [
     "%%HTML\n",
     "<link rel=\"stylesheet\" type=\"text/css\" href=\"//fonts.googleapis.com/css?family=Quicksand:300\" />\n",
     "<link rel=\"stylesheet\" type=\"text/css\" href=\"custom.css\">"
    ]
   },
  {
   "cell_type": "markdown",
   "metadata": {
    "slideshow": {
     "slide_type": "slide"
    }
   },
   "source": [
    "# Context managers, the how and the why"
   ]
  },
  {
   "cell_type": "markdown",
   "metadata": {},
   "source": [
    "In the decorators section, we saw some code such as this:\n",
    "```python\n",
    "try:\n",
    "    cursor = connection.cursor()\n",
    "    result = function(*args, **kwargs, cursor=cursor)\n",
    "    connection.commit()\n",
    "finally:\n",
    "    cursor.close()\n",
    "```        "
   ]
  },
  {
   "cell_type": "markdown",
   "metadata": {
    "slideshow": {
     "slide_type": "slide"
    }
   },
   "source": [
    "The `finally` block ensures the `cursor.close()` code **always** run (it might throw some exceptions though :).\n",
    "\n",
    "There are various scenario's where it's important to execute cleanup code *no matter* what happened. \n",
    "\n",
    "This is the reason Python introduced the `with` statement/context managers."
   ]
  },
  {
   "cell_type": "markdown",
   "metadata": {
    "slideshow": {
     "slide_type": "slide"
    }
   },
   "source": [
    "With context managers you can write your code as this\n",
    "\n",
    "```python\n",
    "with connection.cursor() as cursor:\n",
    "    result = function(*args, **kwargs, cursor=cursor)\n",
    "    connection.commit()\n",
    "```"
   ]
  },
  {
   "cell_type": "markdown",
   "metadata": {
    "slideshow": {
     "slide_type": "slide"
    }
   },
   "source": [
    "But the magic ends here: someone, somewhere, needs to tell the object (or function) that a cursor should be closed.\n",
    "\n",
    "The `.cursor()` method of `connection` should therefore implement the context manager interface. In practice it works like this\n",
    "\n",
    "```python\n",
    "class Connection:\n",
    "    ...\n",
    "    def cursor(self, *args, **kwargs):\n",
    "        return Cursor(*args, **kwargs)\n",
    "    ...\n",
    "\n",
    "class Cursor:\n",
    "    ...\n",
    "    def __enter__(self):\n",
    "        return self\n",
    "    \n",
    "    def __exit__(self, *args):\n",
    "        cursor.close()\n",
    "    ...\n",
    "```"
   ]
  },
  {
   "cell_type": "markdown",
   "metadata": {
    "slideshow": {
     "slide_type": "slide"
    }
   },
   "source": [
    "## Exercise\n",
    "\n",
    "Implement the `Printer` class to get the behavior as below\n",
    "\n",
    "```python\n",
    ">>> with Printer(text='hey') as p:\n",
    "...    p.print_('you')\n",
    "...    raise Exception\n",
    "hey\n",
    "you\n",
    "goodbye\n",
    "---------------------------------------------------------------------------\n",
    "Exception                                 Traceback (most recent call last)\n",
    "<ipython-input-6-26ab3e0380cc> in <module>()\n",
    "      1 with Printer(text='hey') as p:\n",
    "      2     p.print_('you')\n",
    "----> 3     raise Exception\n",
    "\n",
    "Exception:\n",
    "```"
   ]
  },
  {
   "cell_type": "markdown",
   "metadata": {
    "slideshow": {
     "slide_type": "slide"
    }
   },
   "source": [
    "If we want something more lightweight, there's also a context manager decorator"
   ]
  },
  {
   "cell_type": "code",
   "execution_count": 2,
   "metadata": {},
   "outputs": [
    {
     "name": "stdout",
     "output_type": "stream",
     "text": [
      "hey\n",
      "you\n",
      "goodbye\n"
     ]
    }
   ],
   "source": [
    "from contextlib import contextmanager\n",
    "\n",
    "class Printer:\n",
    "    def __init__(self, text=None):\n",
    "        self.print_(text)\n",
    "\n",
    "    def print_(self, text=None):\n",
    "        if text:\n",
    "            print(text)\n",
    "\n",
    "\n",
    "@contextmanager\n",
    "def printer(text):\n",
    "    p = Printer(text)\n",
    "    yield p\n",
    "    p.print_('goodbye')\n",
    "    \n",
    "with printer(text='hey') as p:\n",
    "    p.print_('you')"
   ]
  },
  {
   "cell_type": "markdown",
   "metadata": {
    "slideshow": {
     "slide_type": "slide"
    }
   },
   "source": [
    "What's `yield`ed is what will be assigned after the `as`.\n",
    "\n",
    "You can also `yield` nothing if you want"
   ]
  },
  {
   "cell_type": "code",
   "execution_count": 5,
   "metadata": {},
   "outputs": [
    {
     "name": "stdout",
     "output_type": "stream",
     "text": [
      "hey\n",
      "you\n",
      "goodbye\n"
     ]
    }
   ],
   "source": [
    "@contextmanager\n",
    "def printer(p, text):\n",
    "    p.print_(text)\n",
    "    yield\n",
    "    p.print_('goodbye')\n",
    "    \n",
    "p = Printer()\n",
    "with printer(p, text='hey'):\n",
    "    p.print_('you')"
   ]
  },
  {
   "cell_type": "markdown",
   "metadata": {
    "slideshow": {
     "slide_type": "slide"
    }
   },
   "source": [
    "Note that exceptions could still happen in this case and you will not be protected from those. You need to explicitly guard you against those, so the cleanup code should be in a `finally`!\n",
    "\n",
    "```python\n",
    "@contextmanager\n",
    "def printer(p, text):\n",
    "    p.print_(text)\n",
    "    try:\n",
    "        yield\n",
    "    finally:  # no except: the exception will still be raised, but the cleanup code will always execute!\n",
    "        p.print_('goodbye')\n",
    "```\n",
    "\n",
    "## Exercise\n",
    "\n",
    "change the `p.print_('goodbye')` inside `def printer(p, text)` to `p.print('goodbye')` and see what happens."
   ]
  },
  {
   "cell_type": "markdown",
   "metadata": {
    "slideshow": {
     "slide_type": "slide"
    }
   },
   "source": [
    "Putting context managers and decorators together is really powerful\n",
    "\n",
    "```python\n",
    "@contextmanager\n",
    "def get_cursor(pool: AbstractConnectionPool, factory: Cursor=None):\n",
    "    try:\n",
    "        with pool.getconn() as conn, conn.cursor(cursor_factory=factory) as cur:\n",
    "            yield cur\n",
    "    finally:\n",
    "        pool.putconn(conn)\n",
    "\n",
    "```\n"
   ]
  },
  {
   "cell_type": "markdown",
   "metadata": {
    "slideshow": {
     "slide_type": "slide"
    }
   },
   "source": [
    "```python\n",
    "def manage_pool(factory: Cursor=None) -> Callable:\n",
    "    def function(function):\n",
    "        @wraps(function)\n",
    "        def wrapper(*args, **kwargs):\n",
    "            pool = kwargs.get('pool')\n",
    "            with get_cursor(pool, factory) as cursor:\n",
    "                result = function(*args, cursor=cursor, **kwargs)\n",
    "            return result\n",
    "        return wrapper\n",
    "    return function\n",
    "```"
   ]
  },
  {
   "cell_type": "markdown",
   "metadata": {
    "slideshow": {
     "slide_type": "slide"
    }
   },
   "source": [
    "The machinery above might seem complicated, but *usage* is very simple:\n",
    "\n",
    "```python\n",
    "@manage_pool(factory=RealDictCursor)\n",
    "def give_me_records(*, pool: AbstractConnectionPool, cursor: Cursor):\n",
    "    cursor.execute(\"SELECT * FROM my_table\")\n",
    "    return cursor.fetchall()\n",
    "\n",
    "\n",
    "# I need to pass a valid pool but I shouldn't pass a cursor!  \n",
    "results = give_me_records(pool)\n",
    "```"
   ]
  },
  {
   "cell_type": "markdown",
   "metadata": {
    "slideshow": {
     "slide_type": "slide"
    }
   },
   "source": [
    "## Exercise\n",
    "\n",
    "Why am I not passing `pool` to the decorator instead of passing it to the function?"
   ]
  },
  {
   "cell_type": "markdown",
   "metadata": {
    "slideshow": {
     "slide_type": "slide"
    }
   },
   "source": [
    "Context managers are a bit overall in Python. Every time you open a file you should use a context manager:\n",
    "\n",
    "Good:\n",
    "\n",
    "```python\n",
    "with open('my_file', 'r') as f:\n",
    "    content = f.read()\n",
    "```\n",
    "\n",
    "Ugly:\n",
    "\n",
    "```python\n",
    "try:\n",
    "    f = open('my_file', 'r')\n",
    "    content = f.read()\n",
    "finally:\n",
    "    f.close()\n",
    "```\n",
    "\n",
    "Bad:\n",
    "\n",
    "```python\n",
    "f = open('my_file', 'r')\n",
    "content = f.read()\n",
    "f.close()\n",
    "```"
   ]
  },
  {
   "cell_type": "markdown",
   "metadata": {
    "slideshow": {
     "slide_type": "slide"
    }
   },
   "source": [
    "## Exercise\n",
    "\n",
    "Write a context manager using `@contextmanager` to open files safely"
   ]
  }
 ],
 "metadata": {
  "celltoolbar": "Slideshow",
  "kernelspec": {
   "display_name": "Python 3",
   "language": "python",
   "name": "python3"
  },
  "language_info": {
   "codemirror_mode": {
    "name": "ipython",
    "version": 3
   },
   "file_extension": ".py",
   "mimetype": "text/x-python",
   "name": "python",
   "nbconvert_exporter": "python",
   "pygments_lexer": "ipython3",
   "version": "3.6.3"
  }
 },
 "nbformat": 4,
 "nbformat_minor": 2
}
