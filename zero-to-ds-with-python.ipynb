{
 "cells": [
  {
   "cell_type": "code",
   "execution_count": 82,
   "metadata": {
    "slideshow": {
     "slide_type": "skip"
    }
   },
   "outputs": [
    {
     "data": {
      "text/html": [
       "<link rel=\"stylesheet\" type=\"text/css\" href=\"//fonts.googleapis.com/css?family=Quicksand:300\" />\n",
       "<link rel=\"stylesheet\" type=\"text/css\" href=\"custom.css\">"
      ],
      "text/plain": [
       "<IPython.core.display.HTML object>"
      ]
     },
     "metadata": {},
     "output_type": "display_data"
    }
   ],
   "source": [
    "%%HTML\n",
    "<link rel=\"stylesheet\" type=\"text/css\" href=\"//fonts.googleapis.com/css?family=Quicksand:300\" />\n",
    "<link rel=\"stylesheet\" type=\"text/css\" href=\"custom.css\">"
   ]
  },
  {
   "cell_type": "markdown",
   "metadata": {
    "slideshow": {
     "slide_type": "slide"
    }
   },
   "source": [
    "# From zero to Data Science with Python"
   ]
  },
  {
   "cell_type": "markdown",
   "metadata": {},
   "source": [
    "---"
   ]
  },
  {
   "cell_type": "markdown",
   "metadata": {
    "slideshow": {
     "slide_type": "slide"
    }
   },
   "source": [
    "# Jupyter Notebook"
   ]
  },
  {
   "cell_type": "markdown",
   "metadata": {},
   "source": [
    "## Reasons to use:\n",
    "\n",
    "+ easier to edit code\n",
    "+ plays well with Pandas data structures\n",
    "+ output (graphs) stored under code\n",
    "+ shareable"
   ]
  },
  {
   "cell_type": "markdown",
   "metadata": {
    "slideshow": {
     "slide_type": "slide"
    }
   },
   "source": [
    "## Notebook shortcuts \n",
    "\n",
    "All necessary commands have corresponding button at the top of the screen. As you become more familiar with using Jupyter Notebook, you'll become more efficient by using hotkeys instead. A list of some useful ones:\n",
    "\n",
    "- `ctrl  + enter` : run cell\n",
    "- `shift + enter` : run cell and create/select the one after\n",
    "- `esc`           : enter command mode \n",
    "- `ctrl  + s`     : save notebook \n",
    "\n",
    "While in command mode, the shortcuts work a bit differently: \n",
    "\n",
    "- `↑`/`↓` : browser through different cells \n",
    "- `y`     : changes cell to a code cell \n",
    "- `m`     : changes cell to a `markdown` cell\n",
    "- `a`     : create new cell above \n",
    "- `b`     : create new cell below \n",
    "- `l`     : toggle line numbers \n",
    "- `dd`    : delete cell \n",
    "\n",
    "You can always access the docs/help by added the `?` in front of any function in python. You can escape this helper view by pressing `q`."
   ]
  },
  {
   "cell_type": "code",
   "execution_count": 83,
   "metadata": {
    "slideshow": {
     "slide_type": "slide"
    }
   },
   "outputs": [],
   "source": [
    "? len"
   ]
  },
  {
   "cell_type": "markdown",
   "metadata": {},
   "source": [
    "---"
   ]
  },
  {
   "cell_type": "markdown",
   "metadata": {
    "slideshow": {
     "slide_type": "slide"
    }
   },
   "source": [
    "# Introduction to Python"
   ]
  },
  {
   "cell_type": "markdown",
   "metadata": {
    "slideshow": {
     "slide_type": "slide"
    }
   },
   "source": [
    "## The basic types: `int`, `str`, `float`, `bool`, `None`"
   ]
  },
  {
   "cell_type": "code",
   "execution_count": 84,
   "metadata": {},
   "outputs": [
    {
     "data": {
      "text/plain": [
       "2"
      ]
     },
     "execution_count": 84,
     "metadata": {},
     "output_type": "execute_result"
    }
   ],
   "source": [
    "1 + 1 "
   ]
  },
  {
   "cell_type": "code",
   "execution_count": 85,
   "metadata": {},
   "outputs": [
    {
     "data": {
      "text/plain": [
       "'11'"
      ]
     },
     "execution_count": 85,
     "metadata": {},
     "output_type": "execute_result"
    }
   ],
   "source": [
    "'1' + '1'"
   ]
  },
  {
   "cell_type": "code",
   "execution_count": 86,
   "metadata": {},
   "outputs": [
    {
     "data": {
      "text/plain": [
       "int"
      ]
     },
     "execution_count": 86,
     "metadata": {},
     "output_type": "execute_result"
    }
   ],
   "source": [
    "type(1)"
   ]
  },
  {
   "cell_type": "code",
   "execution_count": 87,
   "metadata": {},
   "outputs": [
    {
     "data": {
      "text/plain": [
       "str"
      ]
     },
     "execution_count": 87,
     "metadata": {},
     "output_type": "execute_result"
    }
   ],
   "source": [
    "type('1')"
   ]
  },
  {
   "cell_type": "code",
   "execution_count": 88,
   "metadata": {
    "slideshow": {
     "slide_type": "slide"
    }
   },
   "outputs": [
    {
     "data": {
      "text/plain": [
       "3"
      ]
     },
     "execution_count": 88,
     "metadata": {},
     "output_type": "execute_result"
    }
   ],
   "source": [
    "1 * 3"
   ]
  },
  {
   "cell_type": "code",
   "execution_count": 89,
   "metadata": {},
   "outputs": [
    {
     "data": {
      "text/plain": [
       "'111'"
      ]
     },
     "execution_count": 89,
     "metadata": {},
     "output_type": "execute_result"
    }
   ],
   "source": [
    "'1' * 3"
   ]
  },
  {
   "cell_type": "code",
   "execution_count": 90,
   "metadata": {},
   "outputs": [
    {
     "data": {
      "text/plain": [
       "'this is a sentence in captial letters!'"
      ]
     },
     "execution_count": 90,
     "metadata": {},
     "output_type": "execute_result"
    }
   ],
   "source": [
    "\"THIS IS A SENTENCE IN CAPTIAL LETTERS!\".lower()"
   ]
  },
  {
   "cell_type": "code",
   "execution_count": 91,
   "metadata": {},
   "outputs": [
    {
     "data": {
      "text/plain": [
       "'THIS IS A SENTENCE IN LOWERCASE LETTERS!'"
      ]
     },
     "execution_count": 91,
     "metadata": {},
     "output_type": "execute_result"
    }
   ],
   "source": [
    "\"this is a sentence in lowercase letters!\".upper()"
   ]
  },
  {
   "cell_type": "code",
   "execution_count": 92,
   "metadata": {
    "slideshow": {
     "slide_type": "slide"
    }
   },
   "outputs": [
    {
     "data": {
      "text/plain": [
       "'2018-02-01'"
      ]
     },
     "execution_count": 92,
     "metadata": {},
     "output_type": "execute_result"
    }
   ],
   "source": [
    "\"2018/02/01\".replace(\"/\", \"-\")"
   ]
  },
  {
   "cell_type": "code",
   "execution_count": 93,
   "metadata": {},
   "outputs": [
    {
     "data": {
      "text/plain": [
       "'1'"
      ]
     },
     "execution_count": 93,
     "metadata": {},
     "output_type": "execute_result"
    }
   ],
   "source": [
    "str(1)"
   ]
  },
  {
   "cell_type": "code",
   "execution_count": 94,
   "metadata": {},
   "outputs": [
    {
     "data": {
      "text/plain": [
       "str"
      ]
     },
     "execution_count": 94,
     "metadata": {},
     "output_type": "execute_result"
    }
   ],
   "source": [
    "type( str(1) )"
   ]
  },
  {
   "cell_type": "code",
   "execution_count": 95,
   "metadata": {
    "slideshow": {
     "slide_type": "slide"
    }
   },
   "outputs": [
    {
     "name": "stdout",
     "output_type": "stream",
     "text": [
      "The number five looks like : 5\n"
     ]
    }
   ],
   "source": [
    "print('The number five looks like : ' + str(5))"
   ]
  },
  {
   "cell_type": "code",
   "execution_count": 96,
   "metadata": {},
   "outputs": [
    {
     "data": {
      "text/plain": [
       "float"
      ]
     },
     "execution_count": 96,
     "metadata": {},
     "output_type": "execute_result"
    }
   ],
   "source": [
    "type(1.0)"
   ]
  },
  {
   "cell_type": "code",
   "execution_count": 97,
   "metadata": {},
   "outputs": [
    {
     "data": {
      "text/plain": [
       "1.0"
      ]
     },
     "execution_count": 97,
     "metadata": {},
     "output_type": "execute_result"
    }
   ],
   "source": [
    "float(1)"
   ]
  },
  {
   "cell_type": "code",
   "execution_count": 98,
   "metadata": {},
   "outputs": [
    {
     "data": {
      "text/plain": [
       "(bool, bool)"
      ]
     },
     "execution_count": 98,
     "metadata": {},
     "output_type": "execute_result"
    }
   ],
   "source": [
    "type(True), type(False)"
   ]
  },
  {
   "cell_type": "code",
   "execution_count": 99,
   "metadata": {},
   "outputs": [
    {
     "data": {
      "text/plain": [
       "NoneType"
      ]
     },
     "execution_count": 99,
     "metadata": {},
     "output_type": "execute_result"
    }
   ],
   "source": [
    "type(None)"
   ]
  },
  {
   "cell_type": "markdown",
   "metadata": {
    "slideshow": {
     "slide_type": "slide"
    }
   },
   "source": [
    "## Lists"
   ]
  },
  {
   "cell_type": "code",
   "execution_count": 100,
   "metadata": {},
   "outputs": [],
   "source": [
    "a = [1, 'q', False]"
   ]
  },
  {
   "cell_type": "code",
   "execution_count": 101,
   "metadata": {},
   "outputs": [
    {
     "data": {
      "text/plain": [
       "list"
      ]
     },
     "execution_count": 101,
     "metadata": {},
     "output_type": "execute_result"
    }
   ],
   "source": [
    "type(a)"
   ]
  },
  {
   "cell_type": "code",
   "execution_count": 102,
   "metadata": {},
   "outputs": [
    {
     "data": {
      "text/plain": [
       "'q'"
      ]
     },
     "execution_count": 102,
     "metadata": {},
     "output_type": "execute_result"
    }
   ],
   "source": [
    "a[1]"
   ]
  },
  {
   "cell_type": "code",
   "execution_count": 103,
   "metadata": {},
   "outputs": [
    {
     "ename": "IndexError",
     "evalue": "list index out of range",
     "output_type": "error",
     "traceback": [
      "\u001b[0;31m---------------------------------------------------------------------------\u001b[0m",
      "\u001b[0;31mIndexError\u001b[0m                                Traceback (most recent call last)",
      "\u001b[0;32m<ipython-input-103-f75b6be7d8e3>\u001b[0m in \u001b[0;36m<module>\u001b[0;34m()\u001b[0m\n\u001b[0;32m----> 1\u001b[0;31m \u001b[0ma\u001b[0m\u001b[0;34m[\u001b[0m\u001b[0;36m3\u001b[0m\u001b[0;34m]\u001b[0m\u001b[0;34m\u001b[0m\u001b[0m\n\u001b[0m",
      "\u001b[0;31mIndexError\u001b[0m: list index out of range"
     ]
    }
   ],
   "source": [
    "a[3]"
   ]
  },
  {
   "cell_type": "code",
   "execution_count": 104,
   "metadata": {
    "slideshow": {
     "slide_type": "slide"
    }
   },
   "outputs": [
    {
     "data": {
      "text/plain": [
       "['w', 1211.35]"
      ]
     },
     "execution_count": 104,
     "metadata": {},
     "output_type": "execute_result"
    }
   ],
   "source": [
    "b = []\n",
    "b.append('w')\n",
    "b.append(1211.35)\n",
    "b"
   ]
  },
  {
   "cell_type": "code",
   "execution_count": 105,
   "metadata": {},
   "outputs": [
    {
     "data": {
      "text/plain": [
       "2"
      ]
     },
     "execution_count": 105,
     "metadata": {},
     "output_type": "execute_result"
    }
   ],
   "source": [
    "len(b)"
   ]
  },
  {
   "cell_type": "code",
   "execution_count": 106,
   "metadata": {},
   "outputs": [
    {
     "data": {
      "text/plain": [
       "31"
      ]
     },
     "execution_count": 106,
     "metadata": {},
     "output_type": "execute_result"
    }
   ],
   "source": [
    "len('this sentence has 31 characters')"
   ]
  },
  {
   "cell_type": "code",
   "execution_count": 107,
   "metadata": {},
   "outputs": [],
   "source": [
    "c0 = [1, 2, 3]\n",
    "c1 = ['x', 'y', 'z']\n",
    "c = c0 + c1"
   ]
  },
  {
   "cell_type": "code",
   "execution_count": 108,
   "metadata": {
    "slideshow": {
     "slide_type": "slide"
    }
   },
   "outputs": [
    {
     "data": {
      "text/plain": [
       "[1, 2, 3, 'x', 'y', 'z']"
      ]
     },
     "execution_count": 108,
     "metadata": {},
     "output_type": "execute_result"
    }
   ],
   "source": [
    "c"
   ]
  },
  {
   "cell_type": "code",
   "execution_count": 109,
   "metadata": {},
   "outputs": [
    {
     "data": {
      "text/plain": [
       "True"
      ]
     },
     "execution_count": 109,
     "metadata": {},
     "output_type": "execute_result"
    }
   ],
   "source": [
    "'y' in c"
   ]
  },
  {
   "cell_type": "code",
   "execution_count": 110,
   "metadata": {},
   "outputs": [
    {
     "data": {
      "text/plain": [
       "['2018', '02', '01']"
      ]
     },
     "execution_count": 110,
     "metadata": {},
     "output_type": "execute_result"
    }
   ],
   "source": [
    "'2018-02-01'.split('-')"
   ]
  },
  {
   "cell_type": "code",
   "execution_count": 111,
   "metadata": {
    "slideshow": {
     "slide_type": "slide"
    }
   },
   "outputs": [
    {
     "name": "stdout",
     "output_type": "stream",
     "text": [
      "0\n",
      "1\n",
      "2\n",
      "3\n",
      "4\n"
     ]
    }
   ],
   "source": [
    "for i in [0, 1, 2, 3, 4]:\n",
    "    print(i)"
   ]
  },
  {
   "cell_type": "code",
   "execution_count": 112,
   "metadata": {
    "slideshow": {
     "slide_type": "slide"
    }
   },
   "outputs": [
    {
     "name": "stdout",
     "output_type": "stream",
     "text": [
      "Index:  0 , Character:  a\n",
      "Index:  1 , Character:  b\n",
      "Index:  2 , Character:  c\n",
      "Index:  3 , Character:  d\n",
      "Index:  4 , Character:  e\n"
     ]
    }
   ],
   "source": [
    "for i, j in enumerate(['a', 'b', 'c', 'd', 'e']):\n",
    "    print('Index: ', i, ', Character: ', j)"
   ]
  },
  {
   "cell_type": "code",
   "execution_count": 113,
   "metadata": {
    "slideshow": {
     "slide_type": "slide"
    }
   },
   "outputs": [
    {
     "data": {
      "text/plain": [
       "[(0, 'a'), (1, 'b'), (2, 'c'), (3, 'd'), (4, 'e')]"
      ]
     },
     "execution_count": 113,
     "metadata": {},
     "output_type": "execute_result"
    }
   ],
   "source": [
    "list(enumerate(['a', 'b', 'c', 'd', 'e']))"
   ]
  },
  {
   "cell_type": "code",
   "execution_count": 114,
   "metadata": {},
   "outputs": [
    {
     "name": "stdout",
     "output_type": "stream",
     "text": [
      "0\n",
      "1\n",
      "2\n",
      "3\n",
      "4\n"
     ]
    }
   ],
   "source": [
    "for i in range(5):\n",
    "    print(i)"
   ]
  },
  {
   "cell_type": "code",
   "execution_count": 115,
   "metadata": {
    "slideshow": {
     "slide_type": "slide"
    }
   },
   "outputs": [
    {
     "name": "stdout",
     "output_type": "stream",
     "text": [
      "5\n",
      "6\n",
      "7\n",
      "8\n",
      "9\n"
     ]
    }
   ],
   "source": [
    "for i in range(5, 10):\n",
    "    print(i)"
   ]
  },
  {
   "cell_type": "code",
   "execution_count": 116,
   "metadata": {},
   "outputs": [
    {
     "name": "stdout",
     "output_type": "stream",
     "text": [
      "0\n",
      "2\n",
      "4\n",
      "6\n",
      "8\n"
     ]
    }
   ],
   "source": [
    "for i in range(0, 10, 2):\n",
    "    print(i)"
   ]
  },
  {
   "cell_type": "code",
   "execution_count": null,
   "metadata": {
    "slideshow": {
     "slide_type": "slide"
    }
   },
   "outputs": [],
   "source": [
    "for i in range(10, 5):\n",
    "    print(i)"
   ]
  },
  {
   "cell_type": "markdown",
   "metadata": {},
   "source": [
    "Full list of built-in Python functions: [https://docs.python.org/3/library/functions.html](https://docs.python.org/3/library/functions.html)"
   ]
  },
  {
   "cell_type": "markdown",
   "metadata": {
    "slideshow": {
     "slide_type": "slide"
    }
   },
   "source": [
    "## Functions"
   ]
  },
  {
   "cell_type": "code",
   "execution_count": 118,
   "metadata": {},
   "outputs": [],
   "source": [
    "def double(x):\n",
    "    \"\"\"\n",
    "    This functions doubles a number.\n",
    "    \n",
    "    example:\n",
    "    double(2) => 4\n",
    "    \"\"\"\n",
    "    y = x * 2\n",
    "    return y"
   ]
  },
  {
   "cell_type": "code",
   "execution_count": 119,
   "metadata": {},
   "outputs": [
    {
     "data": {
      "text/plain": [
       "6"
      ]
     },
     "execution_count": 119,
     "metadata": {},
     "output_type": "execute_result"
    }
   ],
   "source": [
    "double(3)"
   ]
  },
  {
   "cell_type": "code",
   "execution_count": 120,
   "metadata": {},
   "outputs": [
    {
     "data": {
      "text/plain": [
       "'33'"
      ]
     },
     "execution_count": 120,
     "metadata": {},
     "output_type": "execute_result"
    }
   ],
   "source": [
    "double('3')"
   ]
  },
  {
   "cell_type": "code",
   "execution_count": 121,
   "metadata": {
    "slideshow": {
     "slide_type": "slide"
    }
   },
   "outputs": [],
   "source": [
    "? double"
   ]
  },
  {
   "cell_type": "code",
   "execution_count": 122,
   "metadata": {},
   "outputs": [
    {
     "data": {
      "text/plain": [
       "'\\n    This functions doubles a number.\\n    \\n    example:\\n    double(2) => 4\\n    '"
      ]
     },
     "execution_count": 122,
     "metadata": {},
     "output_type": "execute_result"
    }
   ],
   "source": [
    "double.__doc__"
   ]
  },
  {
   "cell_type": "code",
   "execution_count": 242,
   "metadata": {
    "slideshow": {
     "slide_type": "slide"
    }
   },
   "outputs": [],
   "source": [
    "def is_even(x):\n",
    "    if type(x) != int:\n",
    "        return \"Enter only integers!\"  # this type of returns are harmful though, you should raise or return None\n",
    "    elif x % 2 == 0:\n",
    "        return True\n",
    "    else:\n",
    "        return False"
   ]
  },
  {
   "cell_type": "code",
   "execution_count": 124,
   "metadata": {
    "slideshow": {
     "slide_type": "slide"
    }
   },
   "outputs": [
    {
     "data": {
      "text/plain": [
       "True"
      ]
     },
     "execution_count": 124,
     "metadata": {},
     "output_type": "execute_result"
    }
   ],
   "source": [
    "is_even(42)"
   ]
  },
  {
   "cell_type": "code",
   "execution_count": 125,
   "metadata": {},
   "outputs": [
    {
     "data": {
      "text/plain": [
       "'Enter only integers!'"
      ]
     },
     "execution_count": 125,
     "metadata": {},
     "output_type": "execute_result"
    }
   ],
   "source": [
    "is_even(1.5)"
   ]
  },
  {
   "cell_type": "code",
   "execution_count": 126,
   "metadata": {
    "slideshow": {
     "slide_type": "slide"
    }
   },
   "outputs": [],
   "source": [
    "def factorial(n):\n",
    "    \"\"\"\n",
    "    factorial(n) = n * (n-1) * (n-2) * ... * 3 * 2 * 1\n",
    "    \"\"\"\n",
    "    answer = 1\n",
    "    current_factor = 1\n",
    "    while current_factor <= n:\n",
    "        answer *= current_factor\n",
    "        current_factor += 1\n",
    "    return answer"
   ]
  },
  {
   "cell_type": "code",
   "execution_count": 127,
   "metadata": {},
   "outputs": [
    {
     "data": {
      "text/plain": [
       "24"
      ]
     },
     "execution_count": 127,
     "metadata": {},
     "output_type": "execute_result"
    }
   ],
   "source": [
    "factorial(4)"
   ]
  },
  {
   "cell_type": "markdown",
   "metadata": {
    "slideshow": {
     "slide_type": "slide"
    }
   },
   "source": [
    "## Exercise\n",
    "\n",
    "The Fibonacci numbers is the sequence beginning 1, 1, 2, 3, 5, 8, 13, ... and defined by the recursive equation:\n",
    "\n",
    "`F(n) = F(n-1) + F(n-2), F(0) = F(1) = 1`\n",
    "\n",
    "Thus if we want to calculate `F(3)`, we proceed as follows:\n",
    "\n",
    "`F(3) = F(2) + F(1) = F(1) + F(0) + 1 = 1 + 1 + 1 = 3`\n",
    "\n",
    "Defining a Python function in this way, though, is a bit tricky. Instead of performing the calculation from the top-down, let's try from the bottom-up: for a given `n`, add `F(0)`, `F(1)`, `F(2)`, ..., `F(n-1)`, and `F(n)`. Write a function `fibonacci()` in this way, using the logic of `while`, `if`, and `else`."
   ]
  },
  {
   "cell_type": "code",
   "execution_count": null,
   "metadata": {},
   "outputs": [],
   "source": [
    "assert fibonacci(6) == 8"
   ]
  },
  {
   "cell_type": "markdown",
   "metadata": {
    "slideshow": {
     "slide_type": "slide"
    }
   },
   "source": [
    "## List comprehensions"
   ]
  },
  {
   "cell_type": "code",
   "execution_count": 129,
   "metadata": {},
   "outputs": [
    {
     "data": {
      "text/plain": [
       "[0, 1, 2, 3, 4]"
      ]
     },
     "execution_count": 129,
     "metadata": {},
     "output_type": "execute_result"
    }
   ],
   "source": [
    "[ k for k in [0, 1, 2, 3, 4] ]"
   ]
  },
  {
   "cell_type": "code",
   "execution_count": 130,
   "metadata": {},
   "outputs": [
    {
     "data": {
      "text/plain": [
       "[0, 2, 4, 6, 8]"
      ]
     },
     "execution_count": 130,
     "metadata": {},
     "output_type": "execute_result"
    }
   ],
   "source": [
    "[ i * 2 for i in [0, 1, 2, 3, 4] ]"
   ]
  },
  {
   "cell_type": "code",
   "execution_count": 131,
   "metadata": {
    "slideshow": {
     "slide_type": "slide"
    }
   },
   "outputs": [
    {
     "data": {
      "text/plain": [
       "[True, False, True, False, True]"
      ]
     },
     "execution_count": 131,
     "metadata": {},
     "output_type": "execute_result"
    }
   ],
   "source": [
    "[ is_even(i) for i in [0, 1, 2, 3, 4]]"
   ]
  },
  {
   "cell_type": "code",
   "execution_count": 132,
   "metadata": {},
   "outputs": [
    {
     "data": {
      "text/plain": [
       "[0, 2, 4, 6, 8]"
      ]
     },
     "execution_count": 132,
     "metadata": {},
     "output_type": "execute_result"
    }
   ],
   "source": [
    "[ i * 2 for i in range(5) ]"
   ]
  },
  {
   "cell_type": "code",
   "execution_count": 133,
   "metadata": {
    "slideshow": {
     "slide_type": "slide"
    }
   },
   "outputs": [
    {
     "data": {
      "text/plain": [
       "[(0, 'aa'), (1, 'bb'), (2, 'cc'), (3, 'dd'), (4, 'ee')]"
      ]
     },
     "execution_count": 133,
     "metadata": {},
     "output_type": "execute_result"
    }
   ],
   "source": [
    "[(i, double(j)) for i, j in enumerate(['a', 'b', 'c', 'd', 'e'])]"
   ]
  },
  {
   "cell_type": "code",
   "execution_count": 134,
   "metadata": {},
   "outputs": [
    {
     "data": {
      "text/plain": [
       "[4, 8]"
      ]
     },
     "execution_count": 134,
     "metadata": {},
     "output_type": "execute_result"
    }
   ],
   "source": [
    "[ double(i) for i in [1, 2, 3, 4, 5] if is_even(i) ]"
   ]
  },
  {
   "cell_type": "code",
   "execution_count": 135,
   "metadata": {},
   "outputs": [
    {
     "name": "stdout",
     "output_type": "stream",
     "text": [
      "2\n",
      "4\n",
      "6\n",
      "8\n",
      "10\n"
     ]
    }
   ],
   "source": [
    "for i in map(double, [1, 2, 3, 4, 5]):\n",
    "    print(i)"
   ]
  },
  {
   "cell_type": "markdown",
   "metadata": {
    "slideshow": {
     "slide_type": "slide"
    }
   },
   "source": [
    "## Indexing and slicing\n"
   ]
  },
  {
   "cell_type": "code",
   "execution_count": 136,
   "metadata": {},
   "outputs": [],
   "source": [
    "arr = [1, 2, 3, 4, 5, 6, 7, 8, 9, 10]"
   ]
  },
  {
   "cell_type": "code",
   "execution_count": 137,
   "metadata": {},
   "outputs": [
    {
     "data": {
      "text/plain": [
       "1"
      ]
     },
     "execution_count": 137,
     "metadata": {},
     "output_type": "execute_result"
    }
   ],
   "source": [
    "arr[0]"
   ]
  },
  {
   "cell_type": "code",
   "execution_count": 138,
   "metadata": {},
   "outputs": [
    {
     "data": {
      "text/plain": [
       "2"
      ]
     },
     "execution_count": 138,
     "metadata": {},
     "output_type": "execute_result"
    }
   ],
   "source": [
    "arr[1]"
   ]
  },
  {
   "cell_type": "code",
   "execution_count": 139,
   "metadata": {
    "slideshow": {
     "slide_type": "slide"
    }
   },
   "outputs": [
    {
     "data": {
      "text/plain": [
       "[1, 2]"
      ]
     },
     "execution_count": 139,
     "metadata": {},
     "output_type": "execute_result"
    }
   ],
   "source": [
    "arr[:2]"
   ]
  },
  {
   "cell_type": "code",
   "execution_count": 140,
   "metadata": {},
   "outputs": [
    {
     "data": {
      "text/plain": [
       "[2, 3]"
      ]
     },
     "execution_count": 140,
     "metadata": {},
     "output_type": "execute_result"
    }
   ],
   "source": [
    "arr[1:3]"
   ]
  },
  {
   "cell_type": "code",
   "execution_count": 141,
   "metadata": {},
   "outputs": [
    {
     "data": {
      "text/plain": [
       "[2, 4, 6, 8, 10]"
      ]
     },
     "execution_count": 141,
     "metadata": {},
     "output_type": "execute_result"
    }
   ],
   "source": [
    "arr[1::2]"
   ]
  },
  {
   "cell_type": "code",
   "execution_count": 142,
   "metadata": {
    "slideshow": {
     "slide_type": "slide"
    }
   },
   "outputs": [
    {
     "data": {
      "text/plain": [
       "[1, 2, 3, 4, 5, 6, 7, 8, 9]"
      ]
     },
     "execution_count": 142,
     "metadata": {},
     "output_type": "execute_result"
    }
   ],
   "source": [
    "arr[:-1]"
   ]
  },
  {
   "cell_type": "code",
   "execution_count": 143,
   "metadata": {},
   "outputs": [
    {
     "data": {
      "text/plain": [
       "[9, 10]"
      ]
     },
     "execution_count": 143,
     "metadata": {},
     "output_type": "execute_result"
    }
   ],
   "source": [
    "arr[-2:]"
   ]
  },
  {
   "cell_type": "code",
   "execution_count": 144,
   "metadata": {},
   "outputs": [
    {
     "data": {
      "text/plain": [
       "[4, 5, 6, 7, 8, 9]"
      ]
     },
     "execution_count": 144,
     "metadata": {},
     "output_type": "execute_result"
    }
   ],
   "source": [
    "arr[3:-1]"
   ]
  },
  {
   "cell_type": "code",
   "execution_count": 145,
   "metadata": {
    "slideshow": {
     "slide_type": "slide"
    }
   },
   "outputs": [
    {
     "data": {
      "text/plain": [
       "[8, 9]"
      ]
     },
     "execution_count": 145,
     "metadata": {},
     "output_type": "execute_result"
    }
   ],
   "source": [
    "arr[-3:-1]"
   ]
  },
  {
   "cell_type": "code",
   "execution_count": 146,
   "metadata": {},
   "outputs": [
    {
     "data": {
      "text/plain": [
       "[10, 9, 8, 7, 6, 5, 4, 3, 2, 1]"
      ]
     },
     "execution_count": 146,
     "metadata": {},
     "output_type": "execute_result"
    }
   ],
   "source": [
    "arr[::-1]"
   ]
  },
  {
   "cell_type": "code",
   "execution_count": 147,
   "metadata": {},
   "outputs": [
    {
     "data": {
      "text/plain": [
       "[1, 3, 5, 7, 9]"
      ]
     },
     "execution_count": 147,
     "metadata": {},
     "output_type": "execute_result"
    }
   ],
   "source": [
    "arr[::2]"
   ]
  },
  {
   "cell_type": "code",
   "execution_count": 148,
   "metadata": {
    "slideshow": {
     "slide_type": "slide"
    }
   },
   "outputs": [
    {
     "data": {
      "text/plain": [
       "True"
      ]
     },
     "execution_count": 148,
     "metadata": {},
     "output_type": "execute_result"
    }
   ],
   "source": [
    "arr[:-1] == arr[:-1:]"
   ]
  },
  {
   "cell_type": "code",
   "execution_count": 149,
   "metadata": {},
   "outputs": [
    {
     "data": {
      "text/plain": [
       "[1, 2, 3, 4, 5]"
      ]
     },
     "execution_count": 149,
     "metadata": {},
     "output_type": "execute_result"
    }
   ],
   "source": [
    "arr[0:5]"
   ]
  },
  {
   "cell_type": "markdown",
   "metadata": {
    "slideshow": {
     "slide_type": "slide"
    }
   },
   "source": [
    "## Dicts"
   ]
  },
  {
   "cell_type": "code",
   "execution_count": 150,
   "metadata": {},
   "outputs": [
    {
     "name": "stdout",
     "output_type": "stream",
     "text": [
      "Type:  <class 'dict'> , d:  {'a': 1, 'b': 2, 'c': 3}\n"
     ]
    }
   ],
   "source": [
    "d = {\n",
    "    'a': 1, \n",
    "    'b': 2, \n",
    "    'c': 3\n",
    "}\n",
    "print('Type: ', type(d), ', d: ', d)"
   ]
  },
  {
   "cell_type": "code",
   "execution_count": 151,
   "metadata": {},
   "outputs": [
    {
     "data": {
      "text/plain": [
       "3"
      ]
     },
     "execution_count": 151,
     "metadata": {},
     "output_type": "execute_result"
    }
   ],
   "source": [
    "d['c']"
   ]
  },
  {
   "cell_type": "code",
   "execution_count": 152,
   "metadata": {},
   "outputs": [
    {
     "name": "stdout",
     "output_type": "stream",
     "text": [
      "{'a': 1, 'b': 2, 'c': 4}\n"
     ]
    }
   ],
   "source": [
    "d['c'] = 4\n",
    "print( d )"
   ]
  },
  {
   "cell_type": "code",
   "execution_count": 153,
   "metadata": {
    "slideshow": {
     "slide_type": "slide"
    }
   },
   "outputs": [
    {
     "data": {
      "text/plain": [
       "dict_keys(['a', 'b', 'c'])"
      ]
     },
     "execution_count": 153,
     "metadata": {},
     "output_type": "execute_result"
    }
   ],
   "source": [
    "d.keys()"
   ]
  },
  {
   "cell_type": "code",
   "execution_count": 154,
   "metadata": {},
   "outputs": [
    {
     "data": {
      "text/plain": [
       "True"
      ]
     },
     "execution_count": 154,
     "metadata": {},
     "output_type": "execute_result"
    }
   ],
   "source": [
    "'b' in d.keys()"
   ]
  },
  {
   "cell_type": "code",
   "execution_count": 155,
   "metadata": {},
   "outputs": [
    {
     "data": {
      "text/plain": [
       "dict_values([1, 2, 4])"
      ]
     },
     "execution_count": 155,
     "metadata": {},
     "output_type": "execute_result"
    }
   ],
   "source": [
    "d.values()"
   ]
  },
  {
   "cell_type": "code",
   "execution_count": 156,
   "metadata": {
    "slideshow": {
     "slide_type": "slide"
    }
   },
   "outputs": [
    {
     "data": {
      "text/plain": [
       "dict_items([('a', 1), ('b', 2), ('c', 4)])"
      ]
     },
     "execution_count": 156,
     "metadata": {},
     "output_type": "execute_result"
    }
   ],
   "source": [
    "d.items()"
   ]
  },
  {
   "cell_type": "code",
   "execution_count": 157,
   "metadata": {},
   "outputs": [
    {
     "name": "stdout",
     "output_type": "stream",
     "text": [
      "Key:  a , Value:  1\n",
      "Key:  b , Value:  2\n",
      "Key:  c , Value:  4\n"
     ]
    }
   ],
   "source": [
    "for k, v in d.items():\n",
    "    print('Key: ', k, ', Value: ', v)"
   ]
  },
  {
   "cell_type": "code",
   "execution_count": 158,
   "metadata": {
    "slideshow": {
     "slide_type": "slide"
    }
   },
   "outputs": [
    {
     "name": "stdout",
     "output_type": "stream",
     "text": [
      "a 1\n",
      "b 2\n",
      "c 4\n"
     ]
    }
   ],
   "source": [
    "for thing in d.items():\n",
    "    print(thing[0], thing[1])"
   ]
  },
  {
   "cell_type": "code",
   "execution_count": 159,
   "metadata": {},
   "outputs": [
    {
     "name": "stdout",
     "output_type": "stream",
     "text": [
      "Type:  <class 'tuple'> , e:  ('a', 1, True)\n"
     ]
    }
   ],
   "source": [
    "e = ('a', 1, True)\n",
    "print('Type: ', type(e), ', e: ', e)"
   ]
  },
  {
   "cell_type": "code",
   "execution_count": 160,
   "metadata": {
    "slideshow": {
     "slide_type": "slide"
    }
   },
   "outputs": [
    {
     "data": {
      "text/plain": [
       "'a'"
      ]
     },
     "execution_count": 160,
     "metadata": {},
     "output_type": "execute_result"
    }
   ],
   "source": [
    "e[0]"
   ]
  },
  {
   "cell_type": "code",
   "execution_count": 161,
   "metadata": {},
   "outputs": [
    {
     "ename": "TypeError",
     "evalue": "'tuple' object does not support item assignment",
     "output_type": "error",
     "traceback": [
      "\u001b[0;31m---------------------------------------------------------------------------\u001b[0m",
      "\u001b[0;31mTypeError\u001b[0m                                 Traceback (most recent call last)",
      "\u001b[0;32m<ipython-input-161-c2fd9e57b0c3>\u001b[0m in \u001b[0;36m<module>\u001b[0;34m()\u001b[0m\n\u001b[0;32m----> 1\u001b[0;31m \u001b[0me\u001b[0m\u001b[0;34m[\u001b[0m\u001b[0;36m0\u001b[0m\u001b[0;34m]\u001b[0m \u001b[0;34m=\u001b[0m \u001b[0;34m'z'\u001b[0m\u001b[0;34m\u001b[0m\u001b[0m\n\u001b[0m",
      "\u001b[0;31mTypeError\u001b[0m: 'tuple' object does not support item assignment"
     ]
    }
   ],
   "source": [
    "e[0] = 'z'"
   ]
  },
  {
   "cell_type": "code",
   "execution_count": 162,
   "metadata": {
    "slideshow": {
     "slide_type": "slide"
    }
   },
   "outputs": [
    {
     "data": {
      "text/plain": [
       "{'a': 1, 'b': 2, 'c': 3}"
      ]
     },
     "execution_count": 162,
     "metadata": {},
     "output_type": "execute_result"
    }
   ],
   "source": [
    "{ thing[0]: thing[1] for thing in [('a', 1), ('b', 2), ('c', 3)] }"
   ]
  },
  {
   "cell_type": "code",
   "execution_count": 163,
   "metadata": {},
   "outputs": [
    {
     "data": {
      "text/plain": [
       "{'a': 2, 'b': 4, 'c': 6}"
      ]
     },
     "execution_count": 163,
     "metadata": {},
     "output_type": "execute_result"
    }
   ],
   "source": [
    "{ k: double(v) for k, v in [('a', 1), ('b', 2), ('c', 3)] }"
   ]
  },
  {
   "cell_type": "code",
   "execution_count": 164,
   "metadata": {},
   "outputs": [
    {
     "ename": "KeyError",
     "evalue": "'f'",
     "output_type": "error",
     "traceback": [
      "\u001b[0;31m---------------------------------------------------------------------------\u001b[0m",
      "\u001b[0;31mKeyError\u001b[0m                                  Traceback (most recent call last)",
      "\u001b[0;32m<ipython-input-164-cdfea06344db>\u001b[0m in \u001b[0;36m<module>\u001b[0;34m()\u001b[0m\n\u001b[0;32m----> 1\u001b[0;31m \u001b[0md\u001b[0m\u001b[0;34m[\u001b[0m\u001b[0;34m'f'\u001b[0m\u001b[0;34m]\u001b[0m\u001b[0;34m\u001b[0m\u001b[0m\n\u001b[0m",
      "\u001b[0;31mKeyError\u001b[0m: 'f'"
     ]
    }
   ],
   "source": [
    "d['f']"
   ]
  },
  {
   "cell_type": "markdown",
   "metadata": {
    "slideshow": {
     "slide_type": "slide"
    }
   },
   "source": [
    "This problem can arise in the following way. When building a dict, you need to check first if the key you want to add is already present (to avoid the above `KeyError`). If not, you need to add it before adding your desired value:"
   ]
  },
  {
   "cell_type": "code",
   "execution_count": 165,
   "metadata": {},
   "outputs": [
    {
     "data": {
      "text/plain": [
       "{'a': [2, 4, 8], 'b': [3, 5], 'c': [0]}"
      ]
     },
     "execution_count": 165,
     "metadata": {},
     "output_type": "execute_result"
    }
   ],
   "source": [
    "d = {}\n",
    "for k, v in [('a', 2), ('b', 3), ('a', 4), ('c', 0), ('b', 5), ('a', 8)]:\n",
    "    if k not in d.keys():\n",
    "        d[k] = []\n",
    "    d[k].append(v)\n",
    "d"
   ]
  },
  {
   "cell_type": "markdown",
   "metadata": {
    "slideshow": {
     "slide_type": "slide"
    }
   },
   "source": [
    "This seems un-Pythonic to me. Enter the `defaultdict`:"
   ]
  },
  {
   "cell_type": "code",
   "execution_count": 166,
   "metadata": {},
   "outputs": [],
   "source": [
    "from collections import defaultdict"
   ]
  },
  {
   "cell_type": "code",
   "execution_count": 167,
   "metadata": {},
   "outputs": [
    {
     "data": {
      "text/plain": [
       "defaultdict(list, {'a': [2, 4, 8], 'b': [3, 5], 'c': [0]})"
      ]
     },
     "execution_count": 167,
     "metadata": {},
     "output_type": "execute_result"
    }
   ],
   "source": [
    "d = defaultdict(list)\n",
    "for k, v in [('a', 2), ('b', 3), ('a', 4), ('c', 0), ('b', 5), ('a', 8)]:\n",
    "    d[k].append(v)\n",
    "d"
   ]
  },
  {
   "cell_type": "markdown",
   "metadata": {
    "slideshow": {
     "slide_type": "slide"
    }
   },
   "source": [
    "You may also notice that not everything can be a key in a dictionary. Lists cannot be keys, but tuples can! "
   ]
  },
  {
   "cell_type": "code",
   "execution_count": 168,
   "metadata": {},
   "outputs": [
    {
     "data": {
      "text/plain": [
       "{(1, 1): 'London', (2, 2): 'Amsterdam'}"
      ]
     },
     "execution_count": 168,
     "metadata": {},
     "output_type": "execute_result"
    }
   ],
   "source": [
    "d = { (1, 1) : 'London', (2, 2): 'Amsterdam' }\n",
    "d"
   ]
  },
  {
   "cell_type": "code",
   "execution_count": 169,
   "metadata": {},
   "outputs": [
    {
     "data": {
      "text/plain": [
       "'Amsterdam'"
      ]
     },
     "execution_count": 169,
     "metadata": {},
     "output_type": "execute_result"
    }
   ],
   "source": [
    "d[(2,2)]"
   ]
  },
  {
   "cell_type": "markdown",
   "metadata": {
    "slideshow": {
     "slide_type": "slide"
    }
   },
   "source": [
    "The reason that lists cannot be used is because they are mutable (which is a bad characteristic for a key)."
   ]
  },
  {
   "cell_type": "markdown",
   "metadata": {
    "slideshow": {
     "slide_type": "slide"
    }
   },
   "source": [
    "## Itertools\n",
    "\n",
    "`itertools` is part of the python standard library, just like the `collections` module. It has a few very useful functions in it. We'll briefly discuss them here. "
   ]
  },
  {
   "cell_type": "code",
   "execution_count": 170,
   "metadata": {},
   "outputs": [],
   "source": [
    "import itertools as it"
   ]
  },
  {
   "cell_type": "code",
   "execution_count": 171,
   "metadata": {},
   "outputs": [
    {
     "data": {
      "text/plain": [
       "<itertools.product at 0x10bcacca8>"
      ]
     },
     "execution_count": 171,
     "metadata": {},
     "output_type": "execute_result"
    }
   ],
   "source": [
    "it.product([1,2,3], [4,5,6])"
   ]
  },
  {
   "cell_type": "markdown",
   "metadata": {
    "slideshow": {
     "slide_type": "slide"
    }
   },
   "source": [
    "The reason this doesn't produce the expected output is because it returns a **generator** and not a **list**. What a generator is is outside the scope of this lecture; a decent explanation can be found [here](https://realpython.com/blog/python/introduction-to-python-generators/)."
   ]
  },
  {
   "cell_type": "code",
   "execution_count": 172,
   "metadata": {},
   "outputs": [
    {
     "data": {
      "text/plain": [
       "[(1, 4), (1, 5), (1, 6), (2, 4), (2, 5), (2, 6), (3, 4), (3, 5), (3, 6)]"
      ]
     },
     "execution_count": 172,
     "metadata": {},
     "output_type": "execute_result"
    }
   ],
   "source": [
    "list( it.product([1, 2, 3], [4, 5, 6]) )"
   ]
  },
  {
   "cell_type": "code",
   "execution_count": 173,
   "metadata": {
    "slideshow": {
     "slide_type": "slide"
    }
   },
   "outputs": [
    {
     "data": {
      "text/plain": [
       "[(1, 2),\n",
       " (1, 3),\n",
       " (1, 4),\n",
       " (1, 5),\n",
       " (2, 1),\n",
       " (2, 3),\n",
       " (2, 4),\n",
       " (2, 5),\n",
       " (3, 1),\n",
       " (3, 2),\n",
       " (3, 4),\n",
       " (3, 5),\n",
       " (4, 1),\n",
       " (4, 2),\n",
       " (4, 3),\n",
       " (4, 5),\n",
       " (5, 1),\n",
       " (5, 2),\n",
       " (5, 3),\n",
       " (5, 4)]"
      ]
     },
     "execution_count": 173,
     "metadata": {},
     "output_type": "execute_result"
    }
   ],
   "source": [
    "list( it.permutations([1, 2, 3, 4, 5], 2) )"
   ]
  },
  {
   "cell_type": "code",
   "execution_count": 174,
   "metadata": {
    "slideshow": {
     "slide_type": "slide"
    }
   },
   "outputs": [
    {
     "data": {
      "text/plain": [
       "[(1, 2),\n",
       " (1, 3),\n",
       " (1, 4),\n",
       " (1, 5),\n",
       " (2, 3),\n",
       " (2, 4),\n",
       " (2, 5),\n",
       " (3, 4),\n",
       " (3, 5),\n",
       " (4, 5)]"
      ]
     },
     "execution_count": 174,
     "metadata": {},
     "output_type": "execute_result"
    }
   ],
   "source": [
    "list( it.combinations([1, 2, 3, 4, 5], 2) )"
   ]
  },
  {
   "cell_type": "markdown",
   "metadata": {
    "slideshow": {
     "slide_type": "slide"
    }
   },
   "source": [
    "### Key lessons \n",
    "\n",
    "- list comprehensions are shorter and often simpler\n",
    "- it's OK to use `for`-loops if you need them, but sometimes its better not to\n",
    "- map/apply type functions seperate concerns, `collections`/`itertools` help\n",
    "- there are usually multiple ways to do something\n",
    "- pick the obvious way of doing something but think about it beforehand"
   ]
  },
  {
   "cell_type": "markdown",
   "metadata": {
    "slideshow": {
     "slide_type": "slide"
    }
   },
   "source": [
    "## Files"
   ]
  },
  {
   "cell_type": "code",
   "execution_count": 175,
   "metadata": {},
   "outputs": [
    {
     "name": "stdout",
     "output_type": "stream",
     "text": [
      "rownum,weight,Time,Chick,Diet\n",
      "\n",
      "1,42,0,1,1\n",
      "\n",
      "2,51,2,1,1\n",
      "\n",
      "3,59,4,1,1\n",
      "\n",
      "4,64,6,1,1\n",
      "\n"
     ]
    }
   ],
   "source": [
    "with open('data/chickweight.csv', 'r') as ff:\n",
    "    for _ in range(5):\n",
    "        print(ff.readline())"
   ]
  },
  {
   "cell_type": "markdown",
   "metadata": {
    "slideshow": {
     "slide_type": "slide"
    }
   },
   "source": [
    "`chickweight.csv` is a CSV (**Comma-Separated Values**) file. It stores tabular information in human-readable form, using (usually but not necessarily) commas to separate values. A Python module exists for helping read from and write to CSV files but using it typically not necessary."
   ]
  },
  {
   "cell_type": "code",
   "execution_count": 176,
   "metadata": {},
   "outputs": [],
   "source": [
    "with open('data/chickweight.csv', 'r') as ff:\n",
    "    contents = ff.read()"
   ]
  },
  {
   "cell_type": "code",
   "execution_count": 177,
   "metadata": {},
   "outputs": [
    {
     "data": {
      "text/plain": [
       "str"
      ]
     },
     "execution_count": 177,
     "metadata": {},
     "output_type": "execute_result"
    }
   ],
   "source": [
    "type(contents)"
   ]
  },
  {
   "cell_type": "code",
   "execution_count": 178,
   "metadata": {
    "slideshow": {
     "slide_type": "slide"
    }
   },
   "outputs": [
    {
     "data": {
      "text/plain": [
       "'rownum,weight,Time,Chick,Diet\\n1,42,0,1,1\\n2,51,2,1,1\\n3,59,4,1,1\\n4,64,6,1,1\\n5,76,8,1,1\\n6,93,10,1,1\\n7,1'"
      ]
     },
     "execution_count": 178,
     "metadata": {},
     "output_type": "execute_result"
    }
   ],
   "source": [
    "contents[:100]"
   ]
  },
  {
   "cell_type": "code",
   "execution_count": 179,
   "metadata": {},
   "outputs": [
    {
     "name": "stdout",
     "output_type": "stream",
     "text": [
      "a \n",
      " b\n"
     ]
    }
   ],
   "source": [
    "print('a', '\\n', 'b')"
   ]
  },
  {
   "cell_type": "code",
   "execution_count": 180,
   "metadata": {},
   "outputs": [
    {
     "name": "stdout",
     "output_type": "stream",
     "text": [
      "a \\n b\n"
     ]
    }
   ],
   "source": [
    "print('a', '\\\\n', 'b')"
   ]
  },
  {
   "cell_type": "code",
   "execution_count": 181,
   "metadata": {
    "slideshow": {
     "slide_type": "slide"
    }
   },
   "outputs": [],
   "source": [
    "lines = contents.split('\\n')"
   ]
  },
  {
   "cell_type": "code",
   "execution_count": 182,
   "metadata": {},
   "outputs": [
    {
     "data": {
      "text/plain": [
       "list"
      ]
     },
     "execution_count": 182,
     "metadata": {},
     "output_type": "execute_result"
    }
   ],
   "source": [
    "type(lines)"
   ]
  },
  {
   "cell_type": "code",
   "execution_count": 183,
   "metadata": {
    "slideshow": {
     "slide_type": "slide"
    }
   },
   "outputs": [
    {
     "data": {
      "text/plain": [
       "'rownum,weight,Time,Chick,Diet'"
      ]
     },
     "execution_count": 183,
     "metadata": {},
     "output_type": "execute_result"
    }
   ],
   "source": [
    "lines[0]"
   ]
  },
  {
   "cell_type": "code",
   "execution_count": 184,
   "metadata": {},
   "outputs": [
    {
     "data": {
      "text/plain": [
       "'1,42,0,1,1'"
      ]
     },
     "execution_count": 184,
     "metadata": {},
     "output_type": "execute_result"
    }
   ],
   "source": [
    "lines[1]"
   ]
  },
  {
   "cell_type": "code",
   "execution_count": 185,
   "metadata": {
    "slideshow": {
     "slide_type": "-"
    }
   },
   "outputs": [
    {
     "data": {
      "text/plain": [
       "579"
      ]
     },
     "execution_count": 185,
     "metadata": {},
     "output_type": "execute_result"
    }
   ],
   "source": [
    "len(lines)"
   ]
  },
  {
   "cell_type": "code",
   "execution_count": 186,
   "metadata": {
    "slideshow": {
     "slide_type": "slide"
    }
   },
   "outputs": [],
   "source": [
    "header = lines[0]\n",
    "last_ten_lines = lines[-10:]\n",
    "small_file_list = [header] + last_ten_lines\n",
    "small_file_str = '\\n'.join(small_file_list)"
   ]
  },
  {
   "cell_type": "code",
   "execution_count": 187,
   "metadata": {},
   "outputs": [
    {
     "data": {
      "text/plain": [
       "'rownum,weight,Time,Chick,Diet\\n569,67,4,50,4\\n570,84,6,50,4\\n571,105,8,50,4\\n572,122,10,50,4\\n573,155,12,50,4\\n574,175,14,50,4\\n575,205,16,50,4\\n576,234,18,50,4\\n577,264,20,50,4\\n578,264,21,50,4'"
      ]
     },
     "execution_count": 187,
     "metadata": {},
     "output_type": "execute_result"
    }
   ],
   "source": [
    "small_file_str"
   ]
  },
  {
   "cell_type": "code",
   "execution_count": 188,
   "metadata": {},
   "outputs": [],
   "source": [
    "with open('data/small_chickweight.csv', 'w') as ff:\n",
    "    ff.write(small_file_str)"
   ]
  },
  {
   "cell_type": "markdown",
   "metadata": {
    "slideshow": {
     "slide_type": "slide"
    }
   },
   "source": [
    "## Exercise\n",
    "\n",
    "Use the techniques above to create a new file from `data/chickweight.csv` for every distinct `Chick` containing only the `weight` and `Time` columns."
   ]
  },
  {
   "cell_type": "markdown",
   "metadata": {
    "slideshow": {
     "slide_type": "slide"
    }
   },
   "source": [
    "## JSON"
   ]
  },
  {
   "cell_type": "markdown",
   "metadata": {},
   "source": [
    "**JavaScript Object Notation** is another popular human-readable file format. A JSON document consists of either an array (think: Python list) or associative array (think: Python dict) where the keys are strings. The values in these arrays can be numbers, Booleans, `None`s, strings, or other (associative) arrays. Let's examine a sample JSON document (generated via the [JSON Generator](https://www.json-generator.com/):"
   ]
  },
  {
   "cell_type": "code",
   "execution_count": 189,
   "metadata": {
    "scrolled": true,
    "slideshow": {
     "slide_type": "slide"
    }
   },
   "outputs": [
    {
     "name": "stdout",
     "output_type": "stream",
     "text": [
      "[\n",
      "  {\n",
      "    \"_id\": \"5a70cfbc45459ab8b01b0772\",\n",
      "    \"index\": 0,\n",
      "    \"guid\": \"fdd155b6-5d61-4ae0-a912-d11533c94e9c\",\n",
      "    \"isActive\": true,\n",
      "    \"balance\": \"$3,635.14\",\n",
      "    \"picture\": \"http://placehold.it/32x32\",\n",
      "    \"age\": 40,\n",
      "    \"eyeColor\": \"green\",\n",
      "    \"name\": \"Corrine Pugh\",\n",
      "    \"gender\": \"female\",\n",
      "    \"company\": \"BESTO\",\n",
      "    \"email\": \"corrinepugh@besto.com\",\n",
      "    \"phone\": \"+1 (856) 523-2643\",\n",
      "    \"address\": \"726 Lincoln Terrace, Cowiche, Alabama, 9320\",\n",
      "    \"about\": \"Ullamco ex dolor aliqua dolor duis esse ipsum laboris adipisicing. Commodo nisi veniam sit esse ex. Occaecat anim labore voluptate elit ut ut elit veniam laboris esse qui velit. Aute velit sint adipisicing ullamco consectetur id. Aliquip quis irure eu ad Lorem eiusmod anim in magna aute adipisicing fugiat eiusmod excepteur.\\r\\n\",\n",
      "    \"registered\": \"2016-03-08T10:47:14 -01:00\",\n",
      "    \"latitude\": 64.881052,\n",
      "    \"longitude\": 152.110462,\n",
      "    \"tags\": [\n",
      "      \"duis\",\n",
      "      \"excepteur\",\n",
      "      \"tempor\",\n",
      "      \"aliqua\",\n",
      "      \"proident\",\n",
      "      \"amet\",\n",
      "      \"amet\"\n",
      "    ],\n",
      "    \"friends\": [\n",
      "      {\n",
      "        \"id\": 0,\n",
      "        \"name\": \"Hannah Pacheco\"\n",
      "      },\n",
      "      {\n",
      "        \"id\": 1,\n",
      "        \"name\": \"Loraine Burton\"\n",
      "      },\n",
      "      {\n",
      "        \"id\": 2,\n",
      "        \"name\": \"Darlene Burris\"\n",
      "      }\n",
      "    ],\n",
      "    \"greeting\": \"Hello, Corrine Pugh! You have 3 unread messages.\",\n",
      "    \"favoriteFruit\": \"strawberry\"\n",
      "  },\n",
      "  {\n",
      "    \"_id\": \"5a70cfbca8acc89ddf73fe58\",\n",
      "    \"index\": 1,\n",
      "    \"guid\": \"789e1e8e-b093-4182-a482-0d206a9b26ec\",\n",
      "    \"isActive\": true,\n",
      "    \"balance\": \"$1,078.48\",\n",
      "    \"picture\": \"http://placehold.it/32x32\",\n",
      "    \"age\": 34,\n",
      "    \"eyeColor\": \"blue\",\n",
      "    \"name\": \"Stanton Kelley\",\n",
      "    \"gender\": \"male\",\n",
      "    \"company\": \"TOURMANIA\",\n",
      "    \"email\": \"stantonkelley@tourmania.com\",\n",
      "    \"phone\": \"+1 (974) 491-2133\",\n",
      "    \"address\": \"258 Rockwell Place, Osage, Puerto Rico, 549\",\n",
      "    \"about\": \"Mollit ex Lorem in nisi fugiat mollit irure eiusmod excepteur. Exercitation anim Lorem dolor nulla magna. Ea in est irure irure Lorem mollit incididunt.\\r\\n\",\n",
      "    \"registered\": \"2017-10-23T03:42:05 -02:00\",\n",
      "    \"latitude\": 10.181705,\n",
      "    \"longitude\": 22.472016,\n",
      "    \"tags\": [\n",
      "      \"adipisicing\",\n",
      "      \"commodo\",\n",
      "      \"enim\",\n",
      "      \"aliqua\",\n",
      "      \"do\",\n",
      "      \"quis\",\n",
      "      \"cupidatat\"\n",
      "    ],\n",
      "    \"friends\": [\n",
      "      {\n",
      "        \"id\": 0,\n",
      "        \"name\": \"Luna Campos\"\n",
      "      },\n",
      "      {\n",
      "        \"id\": 1,\n",
      "        \"name\": \"Elaine Gentry\"\n",
      "      },\n",
      "      {\n",
      "        \"id\": 2,\n",
      "        \"name\": \"Elvira Baird\"\n",
      "      }\n",
      "    ],\n",
      "    \"greeting\": \"Hello, Stanton Kelley! You have 4 unread messages.\",\n",
      "    \"favoriteFruit\": \"strawberry\"\n",
      "  },\n",
      "  {\n",
      "    \"_id\": \"5a70cfbca6467b1911ba63f5\",\n",
      "    \"index\": 2,\n",
      "    \"guid\": \"6ebc5c58-e9d9-467a-845f-b13229c5a505\",\n",
      "    \"isActive\": true,\n",
      "    \"balance\": \"$3,602.10\",\n",
      "    \"picture\": \"http://placehold.it/32x32\",\n",
      "    \"age\": 37,\n",
      "    \"eyeColor\": \"brown\",\n",
      "    \"name\": \"Dollie Nelson\",\n",
      "    \"gender\": \"female\",\n",
      "    \"company\": \"ENERSAVE\",\n",
      "    \"email\": \"dollienelson@enersave.com\",\n",
      "    \"phone\": \"+1 (883) 489-3713\",\n",
      "    \"address\": \"491 Dennett Place, Downsville, Washington, 5649\",\n",
      "    \"about\": \"Laborum ea dolor cupidatat proident cillum est minim labore. Incididunt eu nisi eu aliquip consectetur do laborum. Dolor ad sit sunt excepteur tempor eu excepteur. Esse officia officia sit Lorem ut fugiat duis fugiat ut do. Magna quis exercitation ullamco fugiat cupidatat sit fugiat et reprehenderit cupidatat. Minim et dolor ex irure veniam enim non quis esse.\\r\\n\",\n",
      "    \"registered\": \"2014-06-24T08:53:19 -02:00\",\n",
      "    \"latitude\": -49.748363,\n",
      "    \"longitude\": -37.100133,\n",
      "    \"tags\": [\n",
      "      \"mollit\",\n",
      "      \"nulla\",\n",
      "      \"occaecat\",\n",
      "      \"aliqua\",\n",
      "      \"ad\",\n",
      "      \"minim\",\n",
      "      \"officia\"\n",
      "    ],\n",
      "    \"friends\": [\n",
      "      {\n",
      "        \"id\": 0,\n",
      "        \"name\": \"Crystal Sloan\"\n",
      "      },\n",
      "      {\n",
      "        \"id\": 1,\n",
      "        \"name\": \"Preston Rosario\"\n",
      "      },\n",
      "      {\n",
      "        \"id\": 2,\n",
      "        \"name\": \"Bowers Mcfarland\"\n",
      "      }\n",
      "    ],\n",
      "    \"greeting\": \"Hello, Dollie Nelson! You have 7 unread messages.\",\n",
      "    \"favoriteFruit\": \"apple\"\n",
      "  },\n",
      "  {\n",
      "    \"_id\": \"5a70cfbc5f072e9d911e49df\",\n",
      "    \"index\": 3,\n",
      "    \"guid\": \"48f596dd-c440-4940-8f53-9dc17a4d8b8f\",\n",
      "    \"isActive\": false,\n",
      "    \"balance\": \"$3,052.70\",\n",
      "    \"picture\": \"http://placehold.it/32x32\",\n",
      "    \"age\": 33,\n",
      "    \"eyeColor\": \"brown\",\n",
      "    \"name\": \"Deena Schmidt\",\n",
      "    \"gender\": \"female\",\n",
      "    \"company\": \"VIOCULAR\",\n",
      "    \"email\": \"deenaschmidt@viocular.com\",\n",
      "    \"phone\": \"+1 (880) 417-3391\",\n",
      "    \"address\": \"818 Cooper Street, Forbestown, Maryland, 8259\",\n",
      "    \"about\": \"Quis adipisicing aute elit dolor pariatur dolor. Dolor amet velit occaecat ex aliquip minim. Incididunt sit magna dolor elit consequat. Eu culpa consequat do irure incididunt aute.\\r\\n\",\n",
      "    \"registered\": \"2014-09-15T05:32:02 -02:00\",\n",
      "    \"latitude\": -10.133346,\n",
      "    \"longitude\": 89.592497,\n",
      "    \"tags\": [\n",
      "      \"ullamco\",\n",
      "      \"incididunt\",\n",
      "      \"deserunt\",\n",
      "      \"ipsum\",\n",
      "      \"veniam\",\n",
      "      \"voluptate\",\n",
      "      \"exercitation\"\n",
      "    ],\n",
      "    \"friends\": [\n",
      "      {\n",
      "        \"id\": 0,\n",
      "        \"name\": \"Rice Keith\"\n",
      "      },\n",
      "      {\n",
      "        \"id\": 1,\n",
      "        \"name\": \"Noel Morgan\"\n",
      "      },\n",
      "      {\n",
      "        \"id\": 2,\n",
      "        \"name\": \"Elva Sandoval\"\n",
      "      }\n",
      "    ],\n",
      "    \"greeting\": \"Hello, Deena Schmidt! You have 5 unread messages.\",\n",
      "    \"favoriteFruit\": \"apple\"\n",
      "  },\n",
      "  {\n",
      "    \"_id\": \"5a70cfbc4d421b6fdbf78baf\",\n",
      "    \"index\": 4,\n",
      "    \"guid\": \"a46324b5-ff81-4b2c-8136-dc5adb830adc\",\n",
      "    \"isActive\": false,\n",
      "    \"balance\": \"$2,986.41\",\n",
      "    \"picture\": \"http://placehold.it/32x32\",\n",
      "    \"age\": 32,\n",
      "    \"eyeColor\": \"green\",\n",
      "    \"name\": \"Gay Griffith\",\n",
      "    \"gender\": \"male\",\n",
      "    \"company\": \"TECHADE\",\n",
      "    \"email\": \"gaygriffith@techade.com\",\n",
      "    \"phone\": \"+1 (964) 583-3859\",\n",
      "    \"address\": \"322 Lawton Street, Coleville, Ohio, 3802\",\n",
      "    \"about\": \"Exercitation sunt ullamco labore velit aute culpa et voluptate. Consequat et ut cupidatat non ullamco irure duis nostrud. Elit Lorem anim minim consequat consequat in deserunt sint quis pariatur commodo. Eiusmod commodo nostrud in eiusmod ut sit. Cupidatat et ullamco ad tempor veniam consequat dolor aliqua est.\\r\\n\",\n",
      "    \"registered\": \"2015-10-10T03:17:41 -02:00\",\n",
      "    \"latitude\": 44.352609,\n",
      "    \"longitude\": 101.846246,\n",
      "    \"tags\": [\n",
      "      \"duis\",\n",
      "      \"quis\",\n",
      "      \"proident\",\n",
      "      \"qui\",\n",
      "      \"quis\",\n",
      "      \"velit\",\n",
      "      \"labore\"\n",
      "    ],\n",
      "    \"friends\": [\n",
      "      {\n",
      "        \"id\": 0,\n",
      "        \"name\": \"Harding Thompson\"\n",
      "      },\n",
      "      {\n",
      "        \"id\": 1,\n",
      "        \"name\": \"Eugenia Kemp\"\n",
      "      },\n",
      "      {\n",
      "        \"id\": 2,\n",
      "        \"name\": \"Payne Fischer\"\n",
      "      }\n",
      "    ],\n",
      "    \"greeting\": \"Hello, Gay Griffith! You have 2 unread messages.\",\n",
      "    \"favoriteFruit\": \"strawberry\"\n",
      "  },\n",
      "  {\n",
      "    \"_id\": \"5a70cfbc082993456638e3b9\",\n",
      "    \"index\": 5,\n",
      "    \"guid\": \"874298b3-7319-4f5d-a7be-e97e2edd79ab\",\n",
      "    \"isActive\": false,\n",
      "    \"balance\": \"$1,738.60\",\n",
      "    \"picture\": \"http://placehold.it/32x32\",\n",
      "    \"age\": 35,\n",
      "    \"eyeColor\": \"brown\",\n",
      "    \"name\": \"Mclaughlin James\",\n",
      "    \"gender\": \"male\",\n",
      "    \"company\": \"CAPSCREEN\",\n",
      "    \"email\": \"mclaughlinjames@capscreen.com\",\n",
      "    \"phone\": \"+1 (953) 462-3163\",\n",
      "    \"address\": \"331 Fane Court, Chical, Nevada, 8750\",\n",
      "    \"about\": \"Dolore anim incididunt sit ea reprehenderit veniam ullamco. Incididunt laborum in reprehenderit cillum qui Lorem. Id eiusmod anim consequat laborum. Do commodo mollit officia aliquip non officia id cillum occaecat nulla excepteur cupidatat. Pariatur culpa laborum velit ut esse nisi nostrud quis do dolor commodo cillum eiusmod.\\r\\n\",\n",
      "    \"registered\": \"2014-06-23T02:54:36 -02:00\",\n",
      "    \"latitude\": 51.342523,\n",
      "    \"longitude\": -167.974659,\n",
      "    \"tags\": [\n",
      "      \"dolore\",\n",
      "      \"ad\",\n",
      "      \"labore\",\n",
      "      \"labore\",\n",
      "      \"cillum\",\n",
      "      \"ea\",\n",
      "      \"eu\"\n",
      "    ],\n",
      "    \"friends\": [\n",
      "      {\n",
      "        \"id\": 0,\n",
      "        \"name\": \"Mattie Buck\"\n",
      "      },\n",
      "      {\n",
      "        \"id\": 1,\n",
      "        \"name\": \"Emma Strong\"\n",
      "      },\n",
      "      {\n",
      "        \"id\": 2,\n",
      "        \"name\": \"Janis Farmer\"\n",
      "      }\n",
      "    ],\n",
      "    \"greeting\": \"Hello, Mclaughlin James! You have 3 unread messages.\",\n",
      "    \"favoriteFruit\": \"strawberry\"\n",
      "  },\n",
      "  {\n",
      "    \"_id\": \"5a70cfbc432201017cdc344b\",\n",
      "    \"index\": 6,\n",
      "    \"guid\": \"8db3a87b-d25d-4452-b746-876172ded0b2\",\n",
      "    \"isActive\": false,\n",
      "    \"balance\": \"$3,907.58\",\n",
      "    \"picture\": \"http://placehold.it/32x32\",\n",
      "    \"age\": 33,\n",
      "    \"eyeColor\": \"blue\",\n",
      "    \"name\": \"Benton Humphrey\",\n",
      "    \"gender\": \"male\",\n",
      "    \"company\": \"DAIDO\",\n",
      "    \"email\": \"bentonhumphrey@daido.com\",\n",
      "    \"phone\": \"+1 (804) 497-2066\",\n",
      "    \"address\": \"897 Loring Avenue, Allendale, Montana, 9518\",\n",
      "    \"about\": \"Id commodo amet enim velit cillum minim anim. Aliquip laborum tempor nostrud dolor ad ullamco anim. Veniam minim ad dolor quis aliqua cillum adipisicing mollit pariatur id nostrud ut. Ullamco officia duis sint aliqua. Esse veniam ad laboris ut irure.\\r\\n\",\n",
      "    \"registered\": \"2016-03-30T01:18:36 -02:00\",\n",
      "    \"latitude\": 76.716756,\n",
      "    \"longitude\": -73.392068,\n",
      "    \"tags\": [\n",
      "      \"velit\",\n",
      "      \"proident\",\n",
      "      \"sit\",\n",
      "      \"ut\",\n",
      "      \"eiusmod\",\n",
      "      \"nulla\",\n",
      "      \"aute\"\n",
      "    ],\n",
      "    \"friends\": [\n",
      "      {\n",
      "        \"id\": 0,\n",
      "        \"name\": \"Henrietta Berger\"\n",
      "      },\n",
      "      {\n",
      "        \"id\": 1,\n",
      "        \"name\": \"Hazel Weber\"\n",
      "      },\n",
      "      {\n",
      "        \"id\": 2,\n",
      "        \"name\": \"Aileen Wade\"\n",
      "      }\n",
      "    ],\n",
      "    \"greeting\": \"Hello, Benton Humphrey! You have 1 unread messages.\",\n",
      "    \"favoriteFruit\": \"apple\"\n",
      "  }\n",
      "]\n"
     ]
    }
   ],
   "source": [
    "with open('data/generated.json', 'r') as ff:\n",
    "    doc_string = ff.read()\n",
    "print(doc_string)"
   ]
  },
  {
   "cell_type": "code",
   "execution_count": 190,
   "metadata": {
    "slideshow": {
     "slide_type": "slide"
    }
   },
   "outputs": [
    {
     "data": {
      "text/plain": [
       "str"
      ]
     },
     "execution_count": 190,
     "metadata": {},
     "output_type": "execute_result"
    }
   ],
   "source": [
    "type(doc_string)"
   ]
  },
  {
   "cell_type": "code",
   "execution_count": 191,
   "metadata": {},
   "outputs": [
    {
     "data": {
      "text/plain": [
       "9212"
      ]
     },
     "execution_count": 191,
     "metadata": {},
     "output_type": "execute_result"
    }
   ],
   "source": [
    "len(doc_string)"
   ]
  },
  {
   "cell_type": "markdown",
   "metadata": {
    "slideshow": {
     "slide_type": "slide"
    }
   },
   "source": [
    "Notice that, although what's printed out **looks** like Python lists, dicts, ints, etc. it's actually one big string. Manipulating the string is possible but there is a better way: convert the string into Python objects."
   ]
  },
  {
   "cell_type": "code",
   "execution_count": 192,
   "metadata": {},
   "outputs": [],
   "source": [
    "import json\n",
    "\n",
    "doc_json = json.loads(doc_string)"
   ]
  },
  {
   "cell_type": "code",
   "execution_count": 193,
   "metadata": {},
   "outputs": [
    {
     "data": {
      "text/plain": [
       "list"
      ]
     },
     "execution_count": 193,
     "metadata": {},
     "output_type": "execute_result"
    }
   ],
   "source": [
    "type(doc_json)"
   ]
  },
  {
   "cell_type": "code",
   "execution_count": 194,
   "metadata": {},
   "outputs": [
    {
     "data": {
      "text/plain": [
       "7"
      ]
     },
     "execution_count": 194,
     "metadata": {},
     "output_type": "execute_result"
    }
   ],
   "source": [
    "len(doc_json)"
   ]
  },
  {
   "cell_type": "code",
   "execution_count": 195,
   "metadata": {
    "slideshow": {
     "slide_type": "slide"
    }
   },
   "outputs": [
    {
     "name": "stdout",
     "output_type": "stream",
     "text": [
      "{'_id': '5a70cfbc45459ab8b01b0772', 'index': 0, 'guid': 'fdd155b6-5d61-4ae0-a912-d11533c94e9c', 'isActive': True, 'balance': '$3,635.14', 'picture': 'http://placehold.it/32x32', 'age': 40, 'eyeColor': 'green', 'name': 'Corrine Pugh', 'gender': 'female', 'company': 'BESTO', 'email': 'corrinepugh@besto.com', 'phone': '+1 (856) 523-2643', 'address': '726 Lincoln Terrace, Cowiche, Alabama, 9320', 'about': 'Ullamco ex dolor aliqua dolor duis esse ipsum laboris adipisicing. Commodo nisi veniam sit esse ex. Occaecat anim labore voluptate elit ut ut elit veniam laboris esse qui velit. Aute velit sint adipisicing ullamco consectetur id. Aliquip quis irure eu ad Lorem eiusmod anim in magna aute adipisicing fugiat eiusmod excepteur.\\r\\n', 'registered': '2016-03-08T10:47:14 -01:00', 'latitude': 64.881052, 'longitude': 152.110462, 'tags': ['duis', 'excepteur', 'tempor', 'aliqua', 'proident', 'amet', 'amet'], 'friends': [{'id': 0, 'name': 'Hannah Pacheco'}, {'id': 1, 'name': 'Loraine Burton'}, {'id': 2, 'name': 'Darlene Burris'}], 'greeting': 'Hello, Corrine Pugh! You have 3 unread messages.', 'favoriteFruit': 'strawberry'}\n"
     ]
    }
   ],
   "source": [
    "print(doc_json[0])"
   ]
  },
  {
   "cell_type": "code",
   "execution_count": 196,
   "metadata": {
    "slideshow": {
     "slide_type": "-"
    }
   },
   "outputs": [
    {
     "data": {
      "text/plain": [
       "dict"
      ]
     },
     "execution_count": 196,
     "metadata": {},
     "output_type": "execute_result"
    }
   ],
   "source": [
    "type(doc_json[0])"
   ]
  },
  {
   "cell_type": "code",
   "execution_count": 197,
   "metadata": {
    "slideshow": {
     "slide_type": "slide"
    }
   },
   "outputs": [
    {
     "name": "stdout",
     "output_type": "stream",
     "text": [
      "{'_id': '5a70cfbc45459ab8b01b0772',\n",
      " 'about': 'Ullamco ex dolor aliqua dolor duis esse ipsum laboris adipisicing. '\n",
      "          'Commodo nisi veniam sit esse ex. Occaecat anim labore voluptate '\n",
      "          'elit ut ut elit veniam laboris esse qui velit. Aute velit sint '\n",
      "          'adipisicing ullamco consectetur id. Aliquip quis irure eu ad Lorem '\n",
      "          'eiusmod anim in magna aute adipisicing fugiat eiusmod '\n",
      "          'excepteur.\\r\\n',\n",
      " 'address': '726 Lincoln Terrace, Cowiche, Alabama, 9320',\n",
      " 'age': 40,\n",
      " 'balance': '$3,635.14',\n",
      " 'company': 'BESTO',\n",
      " 'email': 'corrinepugh@besto.com',\n",
      " 'eyeColor': 'green',\n",
      " 'favoriteFruit': 'strawberry',\n",
      " 'friends': [{'id': 0, 'name': 'Hannah Pacheco'},\n",
      "             {'id': 1, 'name': 'Loraine Burton'},\n",
      "             {'id': 2, 'name': 'Darlene Burris'}],\n",
      " 'gender': 'female',\n",
      " 'greeting': 'Hello, Corrine Pugh! You have 3 unread messages.',\n",
      " 'guid': 'fdd155b6-5d61-4ae0-a912-d11533c94e9c',\n",
      " 'index': 0,\n",
      " 'isActive': True,\n",
      " 'latitude': 64.881052,\n",
      " 'longitude': 152.110462,\n",
      " 'name': 'Corrine Pugh',\n",
      " 'phone': '+1 (856) 523-2643',\n",
      " 'picture': 'http://placehold.it/32x32',\n",
      " 'registered': '2016-03-08T10:47:14 -01:00',\n",
      " 'tags': ['duis', 'excepteur', 'tempor', 'aliqua', 'proident', 'amet', 'amet']}\n"
     ]
    }
   ],
   "source": [
    "from pprint import pprint\n",
    "\n",
    "pprint(doc_json[0])"
   ]
  },
  {
   "cell_type": "code",
   "execution_count": 198,
   "metadata": {
    "slideshow": {
     "slide_type": "slide"
    }
   },
   "outputs": [
    {
     "data": {
      "text/plain": [
       "[{'id': 0, 'name': 'Hannah Pacheco'},\n",
       " {'id': 1, 'name': 'Loraine Burton'},\n",
       " {'id': 2, 'name': 'Darlene Burris'}]"
      ]
     },
     "execution_count": 198,
     "metadata": {},
     "output_type": "execute_result"
    }
   ],
   "source": [
    "doc_json[0]['friends']"
   ]
  },
  {
   "cell_type": "markdown",
   "metadata": {},
   "source": [
    "We also also go the other way: save Python dicts, arrays, etc. as JSON docs."
   ]
  },
  {
   "cell_type": "code",
   "execution_count": 199,
   "metadata": {
    "slideshow": {
     "slide_type": "slide"
    }
   },
   "outputs": [],
   "source": [
    "address_dict = {\n",
    "    'number': 202,\n",
    "    'street': 'Wibautstraat',\n",
    "    'city': 'Amsterdam'\n",
    "}\n",
    "address_string = json.dumps(address_dict)"
   ]
  },
  {
   "cell_type": "code",
   "execution_count": 200,
   "metadata": {},
   "outputs": [
    {
     "name": "stdout",
     "output_type": "stream",
     "text": [
      "{\"number\": 202, \"street\": \"Wibautstraat\", \"city\": \"Amsterdam\"}\n"
     ]
    }
   ],
   "source": [
    "print(address_string)"
   ]
  },
  {
   "cell_type": "code",
   "execution_count": 201,
   "metadata": {
    "slideshow": {
     "slide_type": "slide"
    }
   },
   "outputs": [
    {
     "data": {
      "text/plain": [
       "str"
      ]
     },
     "execution_count": 201,
     "metadata": {},
     "output_type": "execute_result"
    }
   ],
   "source": [
    "type(address_string)"
   ]
  },
  {
   "cell_type": "code",
   "execution_count": 202,
   "metadata": {},
   "outputs": [],
   "source": [
    "with open('data/address.json', 'w') as ff:\n",
    "    ff.write(address_string)"
   ]
  },
  {
   "cell_type": "markdown",
   "metadata": {
    "slideshow": {
     "slide_type": "slide"
    }
   },
   "source": [
    "Note that JSON can't fully reproduce the structure of all Python objects. In particular, Python tuples are converted into JSON arrays and Python defaultdicts are converted into JSON associative arrays. Were such JSON to be then converted back into Python via the `json` module, we would end up with lists and (normal) dicts.\n",
    "\n",
    "One additional bit of trickiness you'll see with files whose name ends in `.json` is that they can sometimes consist of multiple JSON documents, each separated by a newline."
   ]
  },
  {
   "cell_type": "markdown",
   "metadata": {
    "slideshow": {
     "slide_type": "slide"
    }
   },
   "source": [
    "## Exercise\n",
    "\n",
    "Using `data/generated.json`, create a new file `data/generated-short.json`. This file should have one line per entry in the original `data/generated.json`, where each line is a JSON document consisting of the following name/value pairs from the original entry: `'name'`, `'age'`, `'balance'`, and `'isActive'` and the lines in the file are separated by newline characters (`'\\n'`)."
   ]
  },
  {
   "cell_type": "markdown",
   "metadata": {
    "slideshow": {
     "slide_type": "slide"
    }
   },
   "source": [
    "## Loading modules \n",
    "\n",
    "Not all Python functions are included in the list of built-in functions or the standard library - some have to be downloaded and installed from the internet. Before moving on, make sure that the following modules can be loaded without difficulty:"
   ]
  },
  {
   "cell_type": "code",
   "execution_count": 203,
   "metadata": {},
   "outputs": [],
   "source": [
    "import math\n",
    "import numpy as np\n",
    "import pandas as pd\n",
    "import matplotlib.pyplot as plt\n",
    "\n",
    "%matplotlib inline \n",
    "import seaborn as sns; sns.set()"
   ]
  },
  {
   "cell_type": "markdown",
   "metadata": {
    "slideshow": {
     "slide_type": "slide"
    }
   },
   "source": [
    "Should this give a problem, you can use pip from your ipython notebook and install any python package you might want. "
   ]
  },
  {
   "cell_type": "code",
   "execution_count": null,
   "metadata": {},
   "outputs": [],
   "source": [
    "import pip\n",
    "from pip._internal import  main as pip_main\n",
    "\n",
    "def install(package):\n",
    "    pip_main(['install', package])\n",
    "\n",
    "install('requests') "
   ]
  },
  {
   "cell_type": "markdown",
   "metadata": {
    "slideshow": {
     "slide_type": "slide"
    }
   },
   "source": [
    "## Lists, NumPy and performance \n",
    "\n",
    "A downside of python is that because it is a dynamically-typed language (you don't have to specify the type of your variables while writing code, the interpreter will figure this out on the fly) we lose some performance. The `numpy` module is meant to counter this by giving us an API with python objects that call highly-performant C code so that we can still write python code for performant numerical problems. \n",
    "\n",
    "Let's have a look. We can use the `%%timeit` notebook magic. "
   ]
  },
  {
   "cell_type": "code",
   "execution_count": 208,
   "metadata": {},
   "outputs": [
    {
     "name": "stdout",
     "output_type": "stream",
     "text": [
      "2.23 ms ± 157 µs per loop (mean ± std. dev. of 7 runs, 100 loops each)\n"
     ]
    }
   ],
   "source": [
    "%%timeit \n",
    "sum( range(100000) )"
   ]
  },
  {
   "cell_type": "code",
   "execution_count": 209,
   "metadata": {},
   "outputs": [
    {
     "name": "stdout",
     "output_type": "stream",
     "text": [
      "6.63 ms ± 717 µs per loop (mean ± std. dev. of 7 runs, 100 loops each)\n"
     ]
    }
   ],
   "source": [
    "%%timeit \n",
    "sum( [i for i in range(100000)] )"
   ]
  },
  {
   "cell_type": "code",
   "execution_count": 210,
   "metadata": {
    "slideshow": {
     "slide_type": "slide"
    }
   },
   "outputs": [
    {
     "name": "stdout",
     "output_type": "stream",
     "text": [
      "94.1 µs ± 5.16 µs per loop (mean ± std. dev. of 7 runs, 10000 loops each)\n"
     ]
    }
   ],
   "source": [
    "%%timeit\n",
    "np.sum( np.arange(100000) )"
   ]
  },
  {
   "cell_type": "code",
   "execution_count": 211,
   "metadata": {},
   "outputs": [
    {
     "name": "stdout",
     "output_type": "stream",
     "text": [
      "0.0006170272827148438\n"
     ]
    }
   ],
   "source": [
    "from time import time\n",
    "\n",
    "start = time()\n",
    "np.sum( np.arange(0,100000) )\n",
    "print( time() - start )"
   ]
  },
  {
   "cell_type": "code",
   "execution_count": 212,
   "metadata": {
    "slideshow": {
     "slide_type": "slide"
    }
   },
   "outputs": [
    {
     "name": "stdout",
     "output_type": "stream",
     "text": [
      "11.7 ms ± 258 µs per loop (mean ± std. dev. of 7 runs, 100 loops each)\n"
     ]
    }
   ],
   "source": [
    "%%timeit\n",
    "np.sum( [i for i in range(100000)] )"
   ]
  },
  {
   "cell_type": "code",
   "execution_count": 213,
   "metadata": {},
   "outputs": [
    {
     "name": "stdout",
     "output_type": "stream",
     "text": [
      "7.81 ms ± 154 µs per loop (mean ± std. dev. of 7 runs, 100 loops each)\n"
     ]
    }
   ],
   "source": [
    "%%timeit\n",
    "sum( np.arange(100000) )"
   ]
  },
  {
   "cell_type": "code",
   "execution_count": 214,
   "metadata": {},
   "outputs": [
    {
     "name": "stdout",
     "output_type": "stream",
     "text": [
      "4.7 ms ± 112 µs per loop (mean ± std. dev. of 7 runs, 100 loops each)\n"
     ]
    }
   ],
   "source": [
    "%%timeit \n",
    "s = 0 \n",
    "for i in range(100000):\n",
    "    s += 1"
   ]
  },
  {
   "cell_type": "markdown",
   "metadata": {
    "slideshow": {
     "slide_type": "slide"
    }
   },
   "source": [
    "Keep all your functions restricted to numpy if you want performant code. The moment you mix python number lists with numpy arrays the code seems to drastically lose performance. Using the standard python `sum` function on a numpy array is the worst case! \n",
    "\n",
    "Similar conclusions can be made when dealing with vectorized operations."
   ]
  },
  {
   "cell_type": "code",
   "execution_count": 215,
   "metadata": {
    "scrolled": true
   },
   "outputs": [
    {
     "name": "stdout",
     "output_type": "stream",
     "text": [
      "7.54 ms ± 350 µs per loop (mean ± std. dev. of 7 runs, 100 loops each)\n"
     ]
    }
   ],
   "source": [
    "%%timeit \n",
    "[ 2 * i for i in range(100000) ]"
   ]
  },
  {
   "cell_type": "code",
   "execution_count": 216,
   "metadata": {},
   "outputs": [
    {
     "name": "stdout",
     "output_type": "stream",
     "text": [
      "79.8 µs ± 2.2 µs per loop (mean ± std. dev. of 7 runs, 10000 loops each)\n"
     ]
    }
   ],
   "source": [
    "%%timeit\n",
    "np.arange(100000) * 2"
   ]
  },
  {
   "cell_type": "code",
   "execution_count": 217,
   "metadata": {
    "slideshow": {
     "slide_type": "slide"
    }
   },
   "outputs": [
    {
     "name": "stdout",
     "output_type": "stream",
     "text": [
      "14 ms ± 664 µs per loop (mean ± std. dev. of 7 runs, 100 loops each)\n"
     ]
    }
   ],
   "source": [
    "%%timeit \n",
    "[ math.sqrt(i) for i in range(100000) ]"
   ]
  },
  {
   "cell_type": "code",
   "execution_count": 218,
   "metadata": {},
   "outputs": [
    {
     "name": "stdout",
     "output_type": "stream",
     "text": [
      "256 µs ± 10.2 µs per loop (mean ± std. dev. of 7 runs, 1000 loops each)\n"
     ]
    }
   ],
   "source": [
    "%%timeit \n",
    "np.sqrt( np.arange(100000) )"
   ]
  },
  {
   "cell_type": "markdown",
   "metadata": {
    "slideshow": {
     "slide_type": "slide"
    }
   },
   "source": [
    "The reason behind the performance cost has to do with type-checking/casting that needs to be done at runtime instead of compile time. Numpy will run precompiled C-code, any combination with normal python code will therefore add overhead. "
   ]
  },
  {
   "cell_type": "markdown",
   "metadata": {
    "slideshow": {
     "slide_type": "slide"
    }
   },
   "source": [
    "## NumPy"
   ]
  },
  {
   "cell_type": "markdown",
   "metadata": {},
   "source": [
    "Numpy arrays are very different from python lists. You can easily cast between the two, but you should notice they will behave differently around operators. "
   ]
  },
  {
   "cell_type": "code",
   "execution_count": 219,
   "metadata": {},
   "outputs": [
    {
     "name": "stdout",
     "output_type": "stream",
     "text": [
      "[1, False, 1.0] <class 'list'>\n",
      "[ 1.  0.  1.] float64\n"
     ]
    }
   ],
   "source": [
    "py_arr = [1, False, 1.]\n",
    "np_arr = np.array(py_arr)\n",
    "\n",
    "print(py_arr, type(py_arr))\n",
    "print(np_arr, np_arr.dtype)"
   ]
  },
  {
   "cell_type": "code",
   "execution_count": 220,
   "metadata": {
    "slideshow": {
     "slide_type": "slide"
    }
   },
   "outputs": [
    {
     "data": {
      "text/plain": [
       "[1, False, 1.0, 1, False, 1.0]"
      ]
     },
     "execution_count": 220,
     "metadata": {},
     "output_type": "execute_result"
    }
   ],
   "source": [
    "py_arr * 2"
   ]
  },
  {
   "cell_type": "code",
   "execution_count": 221,
   "metadata": {},
   "outputs": [
    {
     "data": {
      "text/plain": [
       "array([ 2.,  0.,  2.])"
      ]
     },
     "execution_count": 221,
     "metadata": {},
     "output_type": "execute_result"
    }
   ],
   "source": [
    "np_arr * 2"
   ]
  },
  {
   "cell_type": "code",
   "execution_count": 222,
   "metadata": {
    "slideshow": {
     "slide_type": "slide"
    }
   },
   "outputs": [
    {
     "name": "stdout",
     "output_type": "stream",
     "text": [
      "float64\n",
      "(3,)\n"
     ]
    }
   ],
   "source": [
    "print(np_arr.dtype)\n",
    "print(np_arr.shape)"
   ]
  },
  {
   "cell_type": "markdown",
   "metadata": {},
   "source": [
    "The datatype of the array automatically depends on the array content."
   ]
  },
  {
   "cell_type": "code",
   "execution_count": 223,
   "metadata": {},
   "outputs": [
    {
     "data": {
      "text/plain": [
       "dtype('int64')"
      ]
     },
     "execution_count": 223,
     "metadata": {},
     "output_type": "execute_result"
    }
   ],
   "source": [
    "np.array([1, 25]).dtype"
   ]
  },
  {
   "cell_type": "code",
   "execution_count": 224,
   "metadata": {
    "slideshow": {
     "slide_type": "slide"
    }
   },
   "outputs": [
    {
     "data": {
      "text/plain": [
       "dtype('float64')"
      ]
     },
     "execution_count": 224,
     "metadata": {},
     "output_type": "execute_result"
    }
   ],
   "source": [
    "np.array([1.0, 2.5]).dtype"
   ]
  },
  {
   "cell_type": "code",
   "execution_count": 225,
   "metadata": {},
   "outputs": [
    {
     "data": {
      "text/plain": [
       "dtype('<U27')"
      ]
     },
     "execution_count": 225,
     "metadata": {},
     "output_type": "execute_result"
    }
   ],
   "source": [
    "np.array(['Phase 1: collect underpants','Phase 2: ?','Phase 3: profit']).dtype"
   ]
  },
  {
   "cell_type": "code",
   "execution_count": 226,
   "metadata": {
    "slideshow": {
     "slide_type": "slide"
    }
   },
   "outputs": [
    {
     "data": {
      "text/plain": [
       "dtype('float64')"
      ]
     },
     "execution_count": 226,
     "metadata": {},
     "output_type": "execute_result"
    }
   ],
   "source": [
    "np.array([1, 2.5]).dtype"
   ]
  },
  {
   "cell_type": "markdown",
   "metadata": {},
   "source": [
    "There are [many](http://docs.scipy.org/doc/numpy/reference/generated/numpy.dtype.html) datatypes out there. For now, we will only focus on numerical `float64` arrays and matrices. "
   ]
  },
  {
   "cell_type": "markdown",
   "metadata": {
    "slideshow": {
     "slide_type": "slide"
    }
   },
   "source": [
    "You can declare arrays very easily in numpy. Here are some common initialization functions."
   ]
  },
  {
   "cell_type": "code",
   "execution_count": 227,
   "metadata": {},
   "outputs": [
    {
     "data": {
      "text/plain": [
       "array([ 0.,  0.,  0.])"
      ]
     },
     "execution_count": 227,
     "metadata": {},
     "output_type": "execute_result"
    }
   ],
   "source": [
    "np.zeros(3)"
   ]
  },
  {
   "cell_type": "code",
   "execution_count": 228,
   "metadata": {},
   "outputs": [
    {
     "data": {
      "text/plain": [
       "array([ 1.,  1.,  1.])"
      ]
     },
     "execution_count": 228,
     "metadata": {},
     "output_type": "execute_result"
    }
   ],
   "source": [
    "np.ones(3)"
   ]
  },
  {
   "cell_type": "code",
   "execution_count": 229,
   "metadata": {
    "slideshow": {
     "slide_type": "slide"
    }
   },
   "outputs": [
    {
     "data": {
      "text/plain": [
       "array([[ 0.,  0.,  0.],\n",
       "       [ 0.,  0.,  0.],\n",
       "       [ 0.,  0.,  0.]])"
      ]
     },
     "execution_count": 229,
     "metadata": {},
     "output_type": "execute_result"
    }
   ],
   "source": [
    "np.zeros((3, 3))"
   ]
  },
  {
   "cell_type": "code",
   "execution_count": 230,
   "metadata": {},
   "outputs": [
    {
     "data": {
      "text/plain": [
       "array([[ 1.,  1.,  1.],\n",
       "       [ 1.,  1.,  1.],\n",
       "       [ 1.,  1.,  1.]])"
      ]
     },
     "execution_count": 230,
     "metadata": {},
     "output_type": "execute_result"
    }
   ],
   "source": [
    "np.ones((3, 3))"
   ]
  },
  {
   "cell_type": "code",
   "execution_count": 231,
   "metadata": {
    "slideshow": {
     "slide_type": "slide"
    }
   },
   "outputs": [
    {
     "data": {
      "text/plain": [
       "array([[ 1.,  0.,  0.],\n",
       "       [ 0.,  1.,  0.],\n",
       "       [ 0.,  0.,  1.]])"
      ]
     },
     "execution_count": 231,
     "metadata": {},
     "output_type": "execute_result"
    }
   ],
   "source": [
    "np.eye(3)"
   ]
  },
  {
   "cell_type": "code",
   "execution_count": 232,
   "metadata": {
    "slideshow": {
     "slide_type": "slide"
    }
   },
   "outputs": [
    {
     "data": {
      "text/plain": [
       "array([ 1. ,  1.1,  1.2,  1.3,  1.4,  1.5,  1.6,  1.7,  1.8,  1.9,  2. ,\n",
       "        2.1,  2.2,  2.3,  2.4,  2.5,  2.6,  2.7,  2.8,  2.9,  3. ,  3.1,\n",
       "        3.2,  3.3,  3.4,  3.5,  3.6,  3.7,  3.8,  3.9,  4. ,  4.1,  4.2,\n",
       "        4.3,  4.4,  4.5,  4.6,  4.7,  4.8,  4.9,  5. ,  5.1,  5.2,  5.3,\n",
       "        5.4,  5.5,  5.6,  5.7,  5.8,  5.9,  6. ,  6.1,  6.2,  6.3,  6.4,\n",
       "        6.5,  6.6,  6.7,  6.8,  6.9,  7. ,  7.1,  7.2,  7.3,  7.4,  7.5,\n",
       "        7.6,  7.7,  7.8,  7.9,  8. ,  8.1,  8.2,  8.3,  8.4,  8.5,  8.6,\n",
       "        8.7,  8.8,  8.9,  9. ,  9.1,  9.2,  9.3,  9.4,  9.5,  9.6,  9.7,\n",
       "        9.8,  9.9])"
      ]
     },
     "execution_count": 232,
     "metadata": {},
     "output_type": "execute_result"
    }
   ],
   "source": [
    "np.arange(1, 10, 0.1)"
   ]
  },
  {
   "cell_type": "code",
   "execution_count": 233,
   "metadata": {
    "slideshow": {
     "slide_type": "slide"
    }
   },
   "outputs": [
    {
     "data": {
      "text/plain": [
       "array([  1.        ,   1.47368421,   1.94736842,   2.42105263,\n",
       "         2.89473684,   3.36842105,   3.84210526,   4.31578947,\n",
       "         4.78947368,   5.26315789,   5.73684211,   6.21052632,\n",
       "         6.68421053,   7.15789474,   7.63157895,   8.10526316,\n",
       "         8.57894737,   9.05263158,   9.52631579,  10.        ])"
      ]
     },
     "execution_count": 233,
     "metadata": {},
     "output_type": "execute_result"
    }
   ],
   "source": [
    "np.linspace(start=1, stop=10, num=20)"
   ]
  },
  {
   "cell_type": "code",
   "execution_count": 234,
   "metadata": {
    "slideshow": {
     "slide_type": "slide"
    }
   },
   "outputs": [
    {
     "data": {
      "text/plain": [
       "array([  1.00000000e+01,   1.00000000e+02,   1.00000000e+03,\n",
       "         1.00000000e+04,   1.00000000e+05,   1.00000000e+06,\n",
       "         1.00000000e+07])"
      ]
     },
     "execution_count": 234,
     "metadata": {},
     "output_type": "execute_result"
    }
   ],
   "source": [
    "np.logspace(start=1, stop=7, num=7, base=10)"
   ]
  },
  {
   "cell_type": "code",
   "execution_count": 235,
   "metadata": {},
   "outputs": [
    {
     "data": {
      "text/plain": [
       "array([[ 0,  1,  2,  3,  4],\n",
       "       [ 5,  6,  7,  8,  9],\n",
       "       [10, 11, 12, 13, 14]])"
      ]
     },
     "execution_count": 235,
     "metadata": {},
     "output_type": "execute_result"
    }
   ],
   "source": [
    "np.arange(15).reshape([3, 5])"
   ]
  },
  {
   "cell_type": "markdown",
   "metadata": {
    "slideshow": {
     "slide_type": "slide"
    }
   },
   "source": [
    "As stated before, we can do vectorized operations on these arrays as if we are doing true mathematical operators on them. If you remember your linear algebra from college, the following might feel more familiar."
   ]
  },
  {
   "cell_type": "code",
   "execution_count": 236,
   "metadata": {},
   "outputs": [
    {
     "data": {
      "text/plain": [
       "array([ 2.,  4.,  6.])"
      ]
     },
     "execution_count": 236,
     "metadata": {},
     "output_type": "execute_result"
    }
   ],
   "source": [
    "np_nums = np.array([1.0, 3.0, 5.0])\n",
    "np_nums + 1"
   ]
  },
  {
   "cell_type": "code",
   "execution_count": 237,
   "metadata": {
    "slideshow": {
     "slide_type": "slide"
    }
   },
   "outputs": [
    {
     "data": {
      "text/plain": [
       "array([[ 1,  2,  3,  4,  5],\n",
       "       [ 6,  7,  8,  9, 10],\n",
       "       [11, 12, 13, 14, 15]])"
      ]
     },
     "execution_count": 237,
     "metadata": {},
     "output_type": "execute_result"
    }
   ],
   "source": [
    "np.arange(15).reshape([3, 5]) + 1"
   ]
  },
  {
   "cell_type": "code",
   "execution_count": 238,
   "metadata": {},
   "outputs": [
    {
     "data": {
      "text/plain": [
       "array([ 0.,  0.,  0.])"
      ]
     },
     "execution_count": 238,
     "metadata": {},
     "output_type": "execute_result"
    }
   ],
   "source": [
    "np_nums - np_nums"
   ]
  },
  {
   "cell_type": "code",
   "execution_count": 239,
   "metadata": {
    "slideshow": {
     "slide_type": "slide"
    }
   },
   "outputs": [
    {
     "data": {
      "text/plain": [
       "array([[ 1.,  1.,  1.],\n",
       "       [ 1.,  1.,  1.],\n",
       "       [ 1.,  1.,  1.],\n",
       "       [ 1.,  1.,  1.]])"
      ]
     },
     "execution_count": 239,
     "metadata": {},
     "output_type": "execute_result"
    }
   ],
   "source": [
    "np.ones((4, 3))"
   ]
  },
  {
   "cell_type": "code",
   "execution_count": 240,
   "metadata": {},
   "outputs": [
    {
     "data": {
      "text/plain": [
       "array([[ 1.,  3.,  5.],\n",
       "       [ 1.,  3.,  5.],\n",
       "       [ 1.,  3.,  5.],\n",
       "       [ 1.,  3.,  5.]])"
      ]
     },
     "execution_count": 240,
     "metadata": {},
     "output_type": "execute_result"
    }
   ],
   "source": [
    "np_nums * np.ones((4, 3))"
   ]
  },
  {
   "cell_type": "markdown",
   "metadata": {
    "slideshow": {
     "slide_type": "slide"
    }
   },
   "source": [
    "but..."
   ]
  },
  {
   "cell_type": "code",
   "execution_count": 241,
   "metadata": {},
   "outputs": [
    {
     "ename": "ValueError",
     "evalue": "operands could not be broadcast together with shapes (3,) (3,4) ",
     "output_type": "error",
     "traceback": [
      "\u001b[0;31m---------------------------------------------------------------------------\u001b[0m",
      "\u001b[0;31mValueError\u001b[0m                                Traceback (most recent call last)",
      "\u001b[0;32m<ipython-input-241-0795076f8380>\u001b[0m in \u001b[0;36m<module>\u001b[0;34m()\u001b[0m\n\u001b[0;32m----> 1\u001b[0;31m \u001b[0mnp_nums\u001b[0m \u001b[0;34m*\u001b[0m \u001b[0mnp\u001b[0m\u001b[0;34m.\u001b[0m\u001b[0mones\u001b[0m\u001b[0;34m(\u001b[0m\u001b[0;34m(\u001b[0m\u001b[0;36m3\u001b[0m\u001b[0;34m,\u001b[0m \u001b[0;36m4\u001b[0m\u001b[0;34m)\u001b[0m\u001b[0;34m)\u001b[0m\u001b[0;34m\u001b[0m\u001b[0m\n\u001b[0m",
      "\u001b[0;31mValueError\u001b[0m: operands could not be broadcast together with shapes (3,) (3,4) "
     ]
    }
   ],
   "source": [
    "np_nums * np.ones((3, 4))"
   ]
  },
  {
   "cell_type": "code",
   "execution_count": 243,
   "metadata": {
    "slideshow": {
     "slide_type": "slide"
    }
   },
   "outputs": [
    {
     "data": {
      "text/plain": [
       "((3,), (3, 4))"
      ]
     },
     "execution_count": 243,
     "metadata": {},
     "output_type": "execute_result"
    }
   ],
   "source": [
    "np_nums.shape, np.ones((3, 4)).shape"
   ]
  },
  {
   "cell_type": "code",
   "execution_count": 244,
   "metadata": {},
   "outputs": [
    {
     "data": {
      "text/plain": [
       "array([[ 1.],\n",
       "       [ 3.],\n",
       "       [ 5.]])"
      ]
     },
     "execution_count": 244,
     "metadata": {},
     "output_type": "execute_result"
    }
   ],
   "source": [
    "np_nums.reshape((3, 1))"
   ]
  },
  {
   "cell_type": "code",
   "execution_count": 245,
   "metadata": {
    "slideshow": {
     "slide_type": "slide"
    }
   },
   "outputs": [
    {
     "data": {
      "text/plain": [
       "(3, 1)"
      ]
     },
     "execution_count": 245,
     "metadata": {},
     "output_type": "execute_result"
    }
   ],
   "source": [
    "np_nums.reshape((3, 1)).shape"
   ]
  },
  {
   "cell_type": "code",
   "execution_count": 246,
   "metadata": {},
   "outputs": [
    {
     "data": {
      "text/plain": [
       "array([[ 1.,  1.,  1.,  1.],\n",
       "       [ 3.,  3.,  3.,  3.],\n",
       "       [ 5.,  5.,  5.,  5.]])"
      ]
     },
     "execution_count": 246,
     "metadata": {},
     "output_type": "execute_result"
    }
   ],
   "source": [
    "np_nums.reshape((3, 1)) * np.ones((3, 4))"
   ]
  },
  {
   "cell_type": "markdown",
   "metadata": {
    "slideshow": {
     "slide_type": "slide"
    }
   },
   "source": [
    "NumPy arrays have common summary statistics methods associated with them:"
   ]
  },
  {
   "cell_type": "code",
   "execution_count": 247,
   "metadata": {},
   "outputs": [
    {
     "name": "stdout",
     "output_type": "stream",
     "text": [
      "[1 2 3 4 5 6 7 8 9]\n"
     ]
    }
   ],
   "source": [
    "print( np.arange(1, 10) )"
   ]
  },
  {
   "cell_type": "code",
   "execution_count": 248,
   "metadata": {},
   "outputs": [
    {
     "name": "stdout",
     "output_type": "stream",
     "text": [
      "45\n"
     ]
    }
   ],
   "source": [
    "print( np.arange(1, 10).sum() )"
   ]
  },
  {
   "cell_type": "code",
   "execution_count": 249,
   "metadata": {
    "slideshow": {
     "slide_type": "slide"
    }
   },
   "outputs": [
    {
     "name": "stdout",
     "output_type": "stream",
     "text": [
      "[ 1  3  6 10 15 21 28 36 45]\n"
     ]
    }
   ],
   "source": [
    "print( np.arange(1, 10).cumsum() )"
   ]
  },
  {
   "cell_type": "code",
   "execution_count": 250,
   "metadata": {},
   "outputs": [
    {
     "name": "stdout",
     "output_type": "stream",
     "text": [
      "5.0\n"
     ]
    }
   ],
   "source": [
    "print( np.arange(1, 10).mean() )"
   ]
  },
  {
   "cell_type": "code",
   "execution_count": 251,
   "metadata": {},
   "outputs": [
    {
     "name": "stdout",
     "output_type": "stream",
     "text": [
      "2.58198889747\n"
     ]
    }
   ],
   "source": [
    "print( np.arange(1, 10).std() )"
   ]
  },
  {
   "cell_type": "code",
   "execution_count": 252,
   "metadata": {
    "slideshow": {
     "slide_type": "slide"
    }
   },
   "outputs": [
    {
     "name": "stdout",
     "output_type": "stream",
     "text": [
      "9\n"
     ]
    }
   ],
   "source": [
    "print( np.arange(1, 10).max() )"
   ]
  },
  {
   "cell_type": "code",
   "execution_count": 253,
   "metadata": {},
   "outputs": [
    {
     "name": "stdout",
     "output_type": "stream",
     "text": [
      "1\n"
     ]
    }
   ],
   "source": [
    "print( np.arange(1, 10).min() )"
   ]
  },
  {
   "cell_type": "markdown",
   "metadata": {
    "slideshow": {
     "slide_type": "slide"
    }
   },
   "source": [
    "NumPy also allows for indexing and slicing, but has some extra flexibilities."
   ]
  },
  {
   "cell_type": "code",
   "execution_count": 254,
   "metadata": {},
   "outputs": [
    {
     "data": {
      "text/plain": [
       "4"
      ]
     },
     "execution_count": 254,
     "metadata": {},
     "output_type": "execute_result"
    }
   ],
   "source": [
    "arr = np.array([9, 4, 3, 5, 2, 1, 5, 3])\n",
    "arr[1]"
   ]
  },
  {
   "cell_type": "code",
   "execution_count": 255,
   "metadata": {},
   "outputs": [
    {
     "data": {
      "text/plain": [
       "array([4, 3, 5, 2])"
      ]
     },
     "execution_count": 255,
     "metadata": {},
     "output_type": "execute_result"
    }
   ],
   "source": [
    "arr[1:5]"
   ]
  },
  {
   "cell_type": "code",
   "execution_count": 256,
   "metadata": {},
   "outputs": [
    {
     "data": {
      "text/plain": [
       "array([9, 3, 3, 3, 3, 1, 5, 3])"
      ]
     },
     "execution_count": 256,
     "metadata": {},
     "output_type": "execute_result"
    }
   ],
   "source": [
    "arr[1:5] = 3\n",
    "arr "
   ]
  },
  {
   "cell_type": "code",
   "execution_count": 257,
   "metadata": {
    "slideshow": {
     "slide_type": "slide"
    }
   },
   "outputs": [
    {
     "data": {
      "text/plain": [
       "array([False,  True,  True,  True,  True, False, False,  True], dtype=bool)"
      ]
     },
     "execution_count": 257,
     "metadata": {},
     "output_type": "execute_result"
    }
   ],
   "source": [
    "arr == 3"
   ]
  },
  {
   "cell_type": "markdown",
   "metadata": {},
   "source": [
    "(This is called a bitmask.)"
   ]
  },
  {
   "cell_type": "code",
   "execution_count": 258,
   "metadata": {
    "slideshow": {
     "slide_type": "slide"
    }
   },
   "outputs": [
    {
     "data": {
      "text/plain": [
       "array([3, 3, 3, 3, 3])"
      ]
     },
     "execution_count": 258,
     "metadata": {},
     "output_type": "execute_result"
    }
   ],
   "source": [
    "arr[arr == 3]"
   ]
  },
  {
   "cell_type": "code",
   "execution_count": 259,
   "metadata": {},
   "outputs": [
    {
     "data": {
      "text/plain": [
       "array([9, 1, 5])"
      ]
     },
     "execution_count": 259,
     "metadata": {},
     "output_type": "execute_result"
    }
   ],
   "source": [
    "arr[arr != 3]"
   ]
  },
  {
   "cell_type": "markdown",
   "metadata": {
    "slideshow": {
     "slide_type": "slide"
    }
   },
   "source": [
    "Array slices can be multidimensional too!"
   ]
  },
  {
   "cell_type": "code",
   "execution_count": 260,
   "metadata": {},
   "outputs": [
    {
     "data": {
      "text/plain": [
       "array([[ 0.58655646, -0.11468599, -0.76400848, -0.49096007],\n",
       "       [ 0.33159074, -0.5886225 , -0.03742059,  1.18871613],\n",
       "       [-1.14929503, -0.4189929 ,  1.23538325, -0.25124764],\n",
       "       [-0.06174092, -1.64996835, -0.01030903, -0.50062249]])"
      ]
     },
     "execution_count": 260,
     "metadata": {},
     "output_type": "execute_result"
    }
   ],
   "source": [
    "orig = np.random.normal(loc=0, scale=1, size=[4,4])\n",
    "orig"
   ]
  },
  {
   "cell_type": "code",
   "execution_count": 261,
   "metadata": {
    "slideshow": {
     "slide_type": "slide"
    }
   },
   "outputs": [],
   "source": [
    "deriv = orig.copy()"
   ]
  },
  {
   "cell_type": "code",
   "execution_count": 262,
   "metadata": {},
   "outputs": [
    {
     "data": {
      "text/plain": [
       "array([[False,  True,  True,  True],\n",
       "       [False,  True,  True, False],\n",
       "       [ True,  True, False,  True],\n",
       "       [ True,  True,  True,  True]], dtype=bool)"
      ]
     },
     "execution_count": 262,
     "metadata": {},
     "output_type": "execute_result"
    }
   ],
   "source": [
    "deriv < 0"
   ]
  },
  {
   "cell_type": "code",
   "execution_count": 263,
   "metadata": {
    "slideshow": {
     "slide_type": "slide"
    }
   },
   "outputs": [],
   "source": [
    "deriv[deriv < 0] = 0 "
   ]
  },
  {
   "cell_type": "code",
   "execution_count": 264,
   "metadata": {},
   "outputs": [
    {
     "data": {
      "text/plain": [
       "array([[ 0.58655646, -0.11468599, -0.76400848, -0.49096007],\n",
       "       [ 0.33159074, -0.5886225 , -0.03742059,  1.18871613],\n",
       "       [-1.14929503, -0.4189929 ,  1.23538325, -0.25124764],\n",
       "       [-0.06174092, -1.64996835, -0.01030903, -0.50062249]])"
      ]
     },
     "execution_count": 264,
     "metadata": {},
     "output_type": "execute_result"
    }
   ],
   "source": [
    "orig"
   ]
  },
  {
   "cell_type": "code",
   "execution_count": 265,
   "metadata": {
    "slideshow": {
     "slide_type": "slide"
    }
   },
   "outputs": [
    {
     "data": {
      "text/plain": [
       "array([[ 0.58655646,  0.        ,  0.        ,  0.        ],\n",
       "       [ 0.33159074,  0.        ,  0.        ,  1.18871613],\n",
       "       [ 0.        ,  0.        ,  1.23538325,  0.        ],\n",
       "       [ 0.        ,  0.        ,  0.        ,  0.        ]])"
      ]
     },
     "execution_count": 265,
     "metadata": {},
     "output_type": "execute_result"
    }
   ],
   "source": [
    "deriv"
   ]
  },
  {
   "cell_type": "markdown",
   "metadata": {
    "slideshow": {
     "slide_type": "slide"
    }
   },
   "source": [
    "We are now using the `random` submodule from NumPy. The random processes generated by this submodule depend on a seed number to determine their output, which often times is based on something quasi-unique, such as the system time. To ensure reproducible results, set the seed value."
   ]
  },
  {
   "cell_type": "code",
   "execution_count": 266,
   "metadata": {},
   "outputs": [],
   "source": [
    "np.random.seed(seed=0)"
   ]
  },
  {
   "cell_type": "code",
   "execution_count": 267,
   "metadata": {
    "slideshow": {
     "slide_type": "slide"
    }
   },
   "outputs": [
    {
     "data": {
      "text/plain": [
       "array([[ 1.76405235,  0.40015721,  0.97873798,  2.2408932 ],\n",
       "       [ 1.86755799, -0.97727788,  0.95008842, -0.15135721],\n",
       "       [-0.10321885,  0.4105985 ,  0.14404357,  1.45427351],\n",
       "       [ 0.76103773,  0.12167502,  0.44386323,  0.33367433]])"
      ]
     },
     "execution_count": 267,
     "metadata": {},
     "output_type": "execute_result"
    }
   ],
   "source": [
    "np.random.normal(loc=0, scale=1, size=[4,4])"
   ]
  },
  {
   "cell_type": "code",
   "execution_count": 268,
   "metadata": {},
   "outputs": [
    {
     "data": {
      "text/plain": [
       "array([[ 1.49407907, -0.20515826,  0.3130677 , -0.85409574],\n",
       "       [-2.55298982,  0.6536186 ,  0.8644362 , -0.74216502],\n",
       "       [ 2.26975462, -1.45436567,  0.04575852, -0.18718385],\n",
       "       [ 1.53277921,  1.46935877,  0.15494743,  0.37816252]])"
      ]
     },
     "execution_count": 268,
     "metadata": {},
     "output_type": "execute_result"
    }
   ],
   "source": [
    "np.random.normal(loc=0, scale=1, size=[4,4])"
   ]
  },
  {
   "cell_type": "code",
   "execution_count": 269,
   "metadata": {
    "slideshow": {
     "slide_type": "slide"
    }
   },
   "outputs": [
    {
     "data": {
      "text/plain": [
       "array([[ 1.76405235,  0.40015721,  0.97873798,  2.2408932 ],\n",
       "       [ 1.86755799, -0.97727788,  0.95008842, -0.15135721],\n",
       "       [-0.10321885,  0.4105985 ,  0.14404357,  1.45427351],\n",
       "       [ 0.76103773,  0.12167502,  0.44386323,  0.33367433]])"
      ]
     },
     "execution_count": 269,
     "metadata": {},
     "output_type": "execute_result"
    }
   ],
   "source": [
    "np.random.seed(seed=0)\n",
    "np.random.normal(loc=0, scale=1, size=[4,4])"
   ]
  },
  {
   "cell_type": "markdown",
   "metadata": {
    "slideshow": {
     "slide_type": "slide"
    }
   },
   "source": [
    "The normal distribution is of course not the only distribution from which you can sample in NumPy; for instance:\n",
    "\n",
    "+ `np.random.beta()`\n",
    "+ `np.random.poisson()`\n",
    "+ `np.random.uniform()`\n",
    "+ `np.random.zipf()`\n",
    "\n",
    "For a full list see the NumPy [documentation](https://docs.scipy.org/doc/numpy-1.13.0/reference/routines.random.html#distributions)."
   ]
  },
  {
   "cell_type": "markdown",
   "metadata": {
    "slideshow": {
     "slide_type": "slide"
    }
   },
   "source": [
    "## Matplotlib"
   ]
  },
  {
   "cell_type": "code",
   "execution_count": 270,
   "metadata": {},
   "outputs": [
    {
     "data": {
      "image/png": "[encoded data removed]",
      "text/plain": [
       "<Figure size 432x288 with 1 Axes>"
      ]
     },
     "metadata": {},
     "output_type": "display_data"
    }
   ],
   "source": [
    "x = np.linspace(start=0, stop=2 * np.pi, num=256, endpoint=True)\n",
    "\n",
    "y_sin = np.sin(x)\n",
    "y_cos = np.cos(x)\n",
    "plt.plot(x, y_sin)\n",
    "plt.plot(x, y_cos)\n",
    "plt.show()"
   ]
  },
  {
   "cell_type": "code",
   "execution_count": 271,
   "metadata": {
    "slideshow": {
     "slide_type": "slide"
    }
   },
   "outputs": [
    {
     "data": {
      "image/png": "[encoded data removed]",
      "text/plain": [
       "<Figure size 432x288 with 1 Axes>"
      ]
     },
     "metadata": {},
     "output_type": "display_data"
    }
   ],
   "source": [
    "plt.plot(x, y_cos)\n",
    "plt.plot(x, y_sin)\n",
    "\n",
    "plt.ylim(-1.1, 1.1)\n",
    "plt.xlim(0, 2 * np.pi)\n",
    "\n",
    "plt.xticks([0, np.pi/2, np.pi, 3*np.pi/2, 2*np.pi],\n",
    "           [r'$0$', r'$+\\pi/2$', r'$+\\pi$', r'$3\\pi/2$', r'$2\\pi$' ])\n",
    "plt.yticks([-1, 0, +1], [r'$-1$', r'$0$', r'$+1$'])\n",
    "plt.show()"
   ]
  },
  {
   "cell_type": "code",
   "execution_count": 272,
   "metadata": {
    "slideshow": {
     "slide_type": "slide"
    }
   },
   "outputs": [
    {
     "data": {
      "image/png": "[encoded data removed]",
      "text/plain": [
       "<Figure size 432x288 with 1 Axes>"
      ]
     },
     "metadata": {},
     "output_type": "display_data"
    }
   ],
   "source": [
    "plt.plot(x, y_cos, linewidth=3, linestyle='--')  # <-- thicker line and linestyle\n",
    "plt.plot(x, y_sin, color='red')  # <-- different color \n",
    "\n",
    "plt.ylim(-1.1, 1.1)\n",
    "plt.xlim(0, 2*np.pi)\n",
    "\n",
    "plt.xticks([0, np.pi/2, np.pi, 3*np.pi/2, 2*np.pi],\n",
    "           [r'$0$', r'$+\\pi/2$', r'$+\\pi$', r'$3\\pi/2$', r'$2\\pi$' ])\n",
    "plt.yticks([-1, 0, +1], [r'$-1$', r'$0$', r'$+1$'])\n",
    "# plt.savefig(\"sincos.png\", dpi=600, transparent=True)\n",
    "plt.show()"
   ]
  },
  {
   "cell_type": "code",
   "execution_count": 273,
   "metadata": {
    "slideshow": {
     "slide_type": "slide"
    }
   },
   "outputs": [
    {
     "data": {
      "image/png": "[encoded data removed]",
      "text/plain": [
       "<Figure size 432x288 with 1 Axes>"
      ]
     },
     "metadata": {},
     "output_type": "display_data"
    }
   ],
   "source": [
    "plt.plot(x, y_cos, linewidth=3, linestyle='--', label=r'$\\cos x$')\n",
    "plt.plot(x, y_sin, color='red', label=r'$\\sin x$')\n",
    "plt.ylim(-1.1, 1.2)\n",
    "plt.xlim(0, 2*np.pi)\n",
    "plt.xticks([0, np.pi/2, np.pi, 3*np.pi/2, 2*np.pi],\n",
    "       [r'$0$', r'$+\\pi/2$', r'$+\\pi$', r'$3\\pi/2$', r'$2\\pi$' ])\n",
    "plt.yticks([-1, 0, +1],[r'$-1$', r'$0$', r'$+1$'])\n",
    "t = 2 * np.pi / 3\n",
    "plt.scatter([t,],[np.sin(t),], 50, color ='red')\n",
    "plt.annotate(r'$\\sin(\\frac{2\\pi}{3})=\\frac{\\sqrt{3}}{2}$',\n",
    "             xy=(t, np.sin(t)), \n",
    "             xycoords='data', \n",
    "             xytext=(+40, 10), \n",
    "             textcoords='offset points', \n",
    "             fontsize=16, \n",
    "             arrowprops=dict(arrowstyle=\"->\", connectionstyle=\"arc3,rad=.2\", edgecolor='black'))\n",
    "plt.title(\"All the bells and whistles!\")\n",
    "plt.show()"
   ]
  },
  {
   "cell_type": "markdown",
   "metadata": {
    "slideshow": {
     "slide_type": "slide"
    }
   },
   "source": [
    "The `plt` module contains everything you need to create and adjust plots!\n",
    "\n",
    "For instance:\n",
    "* `plt.plot`\n",
    "* `plt.scatter`\n",
    "* `plt.hist` \n",
    "* `plt.xlabel`\n",
    "* `plt.colorbar`\n",
    "* `plt.savefig`\n",
    "\n",
    "Typically, 90% of all plots are done with `plt.plot`, `plt.scatter` or `plt.hist`. The documentation allows for much more, but I hardly find the need to do much more. "
   ]
  },
  {
   "cell_type": "markdown",
   "metadata": {
    "slideshow": {
     "slide_type": "slide"
    }
   },
   "source": [
    "## Exercise\n",
    "\n",
    "Play around with matplotlib and create a few plots with functions from NumPy (the random distributions make nice plots!). If you don't know how to create the function, try looking for it in the NumPy documentation."
   ]
  },
  {
   "cell_type": "markdown",
   "metadata": {
    "slideshow": {
     "slide_type": "slide"
    }
   },
   "source": [
    "## Exercise\n",
    "\n",
    "Here's a nice puzzle: \n",
    "\n",
    "> There's a wind blowing while a plane is flying a return flight. The wind direction is parallel to the flight direction. Does a round-trip by plane take more time, less time, or the same time? \n",
    "\n",
    "Let's go and use full-on math for this one. Denote $v$ the speed of the airplane and let $w$ be the effect on the speed caused by the wind. Then the time to get from **A** to **B** (with the wind) and the time to get from **B** to **A** (against the wind) is defined via: \n",
    "\n",
    "\\begin{align} \n",
    "t_{AB}& = \\frac{d}{v+w}\\\\ \n",
    "t_{BA}& = \\frac{d}{v-w} \n",
    "\\end{align}\n",
    "\n",
    "Notice then that the total time needed make a round trip becomes: \n",
    "\n",
    "\\begin{align} \n",
    "T  = t_{AB} + t_{BA}& = \\frac{d}{v+w} + \\frac{d}{v-w}\\\\ \n",
    "& = d \\frac{(v-w)+(v+w)}{(v+w)(v-w)}\\\\\n",
    "& = 2d \\frac{v}{v^2-w^2}\\\\\n",
    "\\end{align}\n",
    "\n",
    "Let's go and plot this as a function $T(w)$ of the wind speed: "
   ]
  },
  {
   "cell_type": "code",
   "execution_count": 274,
   "metadata": {
    "slideshow": {
     "slide_type": "slide"
    }
   },
   "outputs": [],
   "source": [
    "w = np.linspace(start=-99, stop=99, num=2000)\n",
    "v = 100 \n",
    "d = 1200\n",
    "t = 2 * d * v / (v**2 - w**2) # ** is the exponential operator"
   ]
  },
  {
   "cell_type": "code",
   "execution_count": 275,
   "metadata": {
    "slideshow": {
     "slide_type": "slide"
    }
   },
   "outputs": [
    {
     "data": {
      "text/plain": [
       "Text(0.5,1,'Effect of wind on total travel time')"
      ]
     },
     "execution_count": 275,
     "metadata": {},
     "output_type": "execute_result"
    },
    {
     "data": {
      "image/png": "[encoded data removed]",
      "text/plain": [
       "<Figure size 432x288 with 1 Axes>"
      ]
     },
     "metadata": {},
     "output_type": "display_data"
    }
   ],
   "source": [
    "plt.plot(w, t)\n",
    "plt.xlim(-105, 105)\n",
    "plt.title(\"Effect of wind on total travel time\")"
   ]
  },
  {
   "cell_type": "markdown",
   "metadata": {
    "slideshow": {
     "slide_type": "slide"
    }
   },
   "source": [
    "When the magnitude of $v$ approaches that of $w$ the traveling time goes to infinity, which makes sense. \n",
    "\n",
    "The main point though, is that our single line of code that is calculating all this is very elegant: \n",
    "\n",
    "    t = 2 * d * v / (v**2 - w**2)\n",
    "    \n",
    "If you are used to working with maths the vectorized operations aren't just very performant, they are also very elegant in writing."
   ]
  },
  {
   "cell_type": "markdown",
   "metadata": {
    "slideshow": {
     "slide_type": "slide"
    }
   },
   "source": [
    "## Simulation \n",
    "\n",
    "NumPy has great support for random number generation. Here're a few results from randomly-generated sequences: "
   ]
  },
  {
   "cell_type": "markdown",
   "metadata": {},
   "source": [
    "### Uniform distribution"
   ]
  },
  {
   "cell_type": "code",
   "execution_count": 276,
   "metadata": {},
   "outputs": [
    {
     "data": {
      "image/png": "[encoded data removed]",
      "text/plain": [
       "<Figure size 432x288 with 1 Axes>"
      ]
     },
     "metadata": {},
     "output_type": "display_data"
    }
   ],
   "source": [
    "rns = np.random.uniform(low=0, high=1, size=100000)\n",
    "plt.hist(rns, color=\"steelblue\", bins=10)\n",
    "plt.show()"
   ]
  },
  {
   "cell_type": "markdown",
   "metadata": {
    "slideshow": {
     "slide_type": "slide"
    }
   },
   "source": [
    "### Normal distribution"
   ]
  },
  {
   "cell_type": "code",
   "execution_count": 277,
   "metadata": {},
   "outputs": [
    {
     "data": {
      "image/png": "[encoded data removed]",
      "text/plain": [
       "<Figure size 432x288 with 1 Axes>"
      ]
     },
     "metadata": {},
     "output_type": "display_data"
    }
   ],
   "source": [
    "rns = np.random.normal(loc=0, scale=1, size=10000)\n",
    "plt.hist(rns, color=\"steelblue\", bins=100)\n",
    "plt.show()"
   ]
  },
  {
   "cell_type": "markdown",
   "metadata": {
    "slideshow": {
     "slide_type": "slide"
    }
   },
   "source": [
    "### Random integer distribution"
   ]
  },
  {
   "cell_type": "code",
   "execution_count": 278,
   "metadata": {},
   "outputs": [
    {
     "data": {
      "image/png": "[encoded data removed]",
      "text/plain": [
       "<Figure size 432x288 with 1 Axes>"
      ]
     },
     "metadata": {},
     "output_type": "display_data"
    }
   ],
   "source": [
    "rns = np.random.randint(low=1, high=4, size=10000)\n",
    "plt.hist(rns, color=\"steelblue\", bins=5)\n",
    "plt.show()"
   ]
  },
  {
   "cell_type": "code",
   "execution_count": 279,
   "metadata": {
    "slideshow": {
     "slide_type": "slide"
    }
   },
   "outputs": [
    {
     "data": {
      "image/png": "[encoded data removed]",
      "text/plain": [
       "<Figure size 432x288 with 1 Axes>"
      ]
     },
     "metadata": {},
     "output_type": "display_data"
    }
   ],
   "source": [
    "rns = np.random.randint(low=1, high=4, size=10000)\n",
    "plt.hist(rns, color=\"steelblue\", bins=7, range=(0.25, 3.75))\n",
    "plt.show()"
   ]
  },
  {
   "cell_type": "markdown",
   "metadata": {
    "slideshow": {
     "slide_type": "slide"
    }
   },
   "source": [
    "### Weighted integer sample"
   ]
  },
  {
   "cell_type": "code",
   "execution_count": 280,
   "metadata": {},
   "outputs": [
    {
     "data": {
      "image/png": "[encoded data removed]",
      "text/plain": [
       "<Figure size 432x288 with 1 Axes>"
      ]
     },
     "metadata": {},
     "output_type": "display_data"
    }
   ],
   "source": [
    "rns = np.random.choice(a=[4, 5, 6], size=10000, replace=True, p=[0.1, 0.1, 0.8])\n",
    "plt.hist(rns, color=\"steelblue\", bins=7, range=(3.25, 6.75))\n",
    "plt.show()"
   ]
  },
  {
   "cell_type": "markdown",
   "metadata": {
    "slideshow": {
     "slide_type": "slide"
    }
   },
   "source": [
    "### Binomial distribution"
   ]
  },
  {
   "cell_type": "code",
   "execution_count": 281,
   "metadata": {},
   "outputs": [
    {
     "data": {
      "image/png": "[encoded data removed]",
      "text/plain": [
       "<Figure size 432x288 with 1 Axes>"
      ]
     },
     "metadata": {},
     "output_type": "display_data"
    }
   ],
   "source": [
    "rns = np.random.binomial(n=1, p=0.33, size=10000)\n",
    "plt.hist(rns, color=\"steelblue\", bins=5, range=[-0.75, 1.75])\n",
    "plt.show()"
   ]
  },
  {
   "cell_type": "code",
   "execution_count": 282,
   "metadata": {
    "slideshow": {
     "slide_type": "slide"
    }
   },
   "outputs": [
    {
     "data": {
      "image/png": "[encoded data removed]",
      "text/plain": [
       "<Figure size 432x288 with 1 Axes>"
      ]
     },
     "metadata": {},
     "output_type": "display_data"
    }
   ],
   "source": [
    "rns = np.random.binomial(10, 0.33, 10000)\n",
    "plt.hist(rns, color=\"steelblue\", bins=10)\n",
    "plt.show()"
   ]
  },
  {
   "cell_type": "markdown",
   "metadata": {
    "slideshow": {
     "slide_type": "slide"
    }
   },
   "source": [
    "### Poisson distribution"
   ]
  },
  {
   "cell_type": "code",
   "execution_count": 283,
   "metadata": {},
   "outputs": [
    {
     "data": {
      "image/png": "[encoded data removed]",
      "text/plain": [
       "<Figure size 432x288 with 1 Axes>"
      ]
     },
     "metadata": {},
     "output_type": "display_data"
    }
   ],
   "source": [
    "rns = np.random.poisson(2, 10000)\n",
    "plt.hist(rns, color=\"steelblue\", bins=10)\n",
    "plt.show()"
   ]
  },
  {
   "cell_type": "markdown",
   "metadata": {
    "slideshow": {
     "slide_type": "slide"
    }
   },
   "source": [
    "### NumPy + matplotlib Exercises\n",
    "\n",
    "Here is a small list of some assignments. You may want to consult the numpy documentation to see if there are helper functions that can make your life a lot easier. \n",
    "\n",
    "1. Create 1000 random uniform numbers and find out what the largest number is. \n",
    "2. Estimate the probability that a random standard normal value lies between 0.1 and 0.5.\n",
    "3. Calculate the mean of 1000 random values. Is this what you expected? Also repeat for 10, 100 and 10000. Preferably make a nice function.\n",
    "4. Use simulation to estimate the probability that two people in this room have the same birthday. Where does the probability cross the 50% mark? "
   ]
  },
  {
   "cell_type": "markdown",
   "metadata": {
    "slideshow": {
     "slide_type": "slide"
    }
   },
   "source": [
    "#### Solution to (1)"
   ]
  },
  {
   "cell_type": "code",
   "execution_count": 284,
   "metadata": {},
   "outputs": [
    {
     "data": {
      "text/plain": [
       "(0.99923088350172717, 309)"
      ]
     },
     "execution_count": 284,
     "metadata": {},
     "output_type": "execute_result"
    }
   ],
   "source": [
    "rns = np.random.uniform(low=0, high=1, size=1000)\n",
    "rns.max(), rns.argmax()"
   ]
  },
  {
   "cell_type": "markdown",
   "metadata": {
    "slideshow": {
     "slide_type": "slide"
    }
   },
   "source": [
    "#### Solution to (2)"
   ]
  },
  {
   "cell_type": "code",
   "execution_count": 285,
   "metadata": {},
   "outputs": [
    {
     "data": {
      "text/plain": [
       "100000"
      ]
     },
     "execution_count": 285,
     "metadata": {},
     "output_type": "execute_result"
    }
   ],
   "source": [
    "rns = np.random.uniform(low=0, high=1, size=100000)\n",
    "rns.size"
   ]
  },
  {
   "cell_type": "code",
   "execution_count": 286,
   "metadata": {},
   "outputs": [
    {
     "data": {
      "text/plain": [
       "array([ True,  True,  True, ...,  True,  True,  True], dtype=bool)"
      ]
     },
     "execution_count": 286,
     "metadata": {},
     "output_type": "execute_result"
    }
   ],
   "source": [
    "rns > 0.1"
   ]
  },
  {
   "cell_type": "code",
   "execution_count": 287,
   "metadata": {
    "slideshow": {
     "slide_type": "slide"
    }
   },
   "outputs": [
    {
     "data": {
      "text/plain": [
       "89878"
      ]
     },
     "execution_count": 287,
     "metadata": {},
     "output_type": "execute_result"
    }
   ],
   "source": [
    "(rns > 0.1).sum()"
   ]
  },
  {
   "cell_type": "code",
   "execution_count": 288,
   "metadata": {},
   "outputs": [
    {
     "data": {
      "text/plain": [
       "50131"
      ]
     },
     "execution_count": 288,
     "metadata": {},
     "output_type": "execute_result"
    }
   ],
   "source": [
    "(rns < 0.5).sum()"
   ]
  },
  {
   "cell_type": "code",
   "execution_count": 289,
   "metadata": {},
   "outputs": [
    {
     "data": {
      "text/plain": [
       "40009"
      ]
     },
     "execution_count": 289,
     "metadata": {},
     "output_type": "execute_result"
    }
   ],
   "source": [
    "((rns > 0.1) & (rns < 0.5)).sum()"
   ]
  },
  {
   "cell_type": "code",
   "execution_count": 290,
   "metadata": {
    "slideshow": {
     "slide_type": "slide"
    }
   },
   "outputs": [],
   "source": [
    "def calc_prob(num, rand_alg = np.random.normal, lower=0.1, upper=0.5):\n",
    "    rand_vals = rand_alg(size=num)\n",
    "    lower_predicate = (rand_vals > lower)\n",
    "    upper_predicate = (rand_vals < upper)\n",
    "    return np.mean(lower_predicate & upper_predicate)"
   ]
  },
  {
   "cell_type": "code",
   "execution_count": 291,
   "metadata": {},
   "outputs": [
    {
     "data": {
      "text/plain": [
       "0.40260000000000001"
      ]
     },
     "execution_count": 291,
     "metadata": {},
     "output_type": "execute_result"
    }
   ],
   "source": [
    "calc_prob(10000, rand_alg=np.random.uniform)"
   ]
  },
  {
   "cell_type": "code",
   "execution_count": 292,
   "metadata": {},
   "outputs": [
    {
     "data": {
      "text/plain": [
       "0.14729999999999999"
      ]
     },
     "execution_count": 292,
     "metadata": {},
     "output_type": "execute_result"
    }
   ],
   "source": [
    "calc_prob(10000, rand_alg=np.random.normal)"
   ]
  },
  {
   "cell_type": "markdown",
   "metadata": {
    "slideshow": {
     "slide_type": "slide"
    }
   },
   "source": [
    "#### Solution to (3)"
   ]
  },
  {
   "cell_type": "code",
   "execution_count": 293,
   "metadata": {},
   "outputs": [
    {
     "data": {
      "text/plain": [
       "0.49897521419284974"
      ]
     },
     "execution_count": 293,
     "metadata": {},
     "output_type": "execute_result"
    }
   ],
   "source": [
    "rns = np.random.uniform(low=0, high=1, size=100000)\n",
    "rns.mean()"
   ]
  },
  {
   "cell_type": "code",
   "execution_count": 294,
   "metadata": {},
   "outputs": [
    {
     "data": {
      "text/plain": [
       "3.0139900000000002"
      ]
     },
     "execution_count": 294,
     "metadata": {},
     "output_type": "execute_result"
    }
   ],
   "source": [
    "rns = np.random.poisson(3, size=100000)\n",
    "rns.mean()"
   ]
  },
  {
   "cell_type": "code",
   "execution_count": 295,
   "metadata": {
    "slideshow": {
     "slide_type": "slide"
    }
   },
   "outputs": [
    {
     "data": {
      "text/plain": [
       "0.0024206829066252896"
      ]
     },
     "execution_count": 295,
     "metadata": {},
     "output_type": "execute_result"
    }
   ],
   "source": [
    "rns = np.random.normal(loc=0, scale=1, size=100000)\n",
    "rns.mean()"
   ]
  },
  {
   "cell_type": "code",
   "execution_count": 296,
   "metadata": {},
   "outputs": [],
   "source": [
    "def prob_mean(dist, n):\n",
    "    return dist(size=n).mean()"
   ]
  },
  {
   "cell_type": "code",
   "execution_count": 297,
   "metadata": {},
   "outputs": [
    {
     "data": {
      "text/plain": [
       "0.99450000000000005"
      ]
     },
     "execution_count": 297,
     "metadata": {},
     "output_type": "execute_result"
    }
   ],
   "source": [
    "prob_mean(np.random.poisson, 10000)"
   ]
  },
  {
   "cell_type": "markdown",
   "metadata": {
    "slideshow": {
     "slide_type": "slide"
    }
   },
   "source": [
    "#### Solution to (4)"
   ]
  },
  {
   "cell_type": "code",
   "execution_count": 298,
   "metadata": {},
   "outputs": [],
   "source": [
    "def simulate_overlap(num_people=14):\n",
    "    birthdays = np.random.randint(1, 366, size=num_people)\n",
    "    return len(np.unique(birthdays)) != num_people\n",
    "\n",
    "def est_prob(num_people, n_sim=1000):\n",
    "    return np.mean( [simulate_overlap(num_people) for _ in range(n_sim)] )"
   ]
  },
  {
   "cell_type": "code",
   "execution_count": 299,
   "metadata": {},
   "outputs": [],
   "source": [
    "x = np.arange(100)\n",
    "y = [est_prob(num_people, n_sim=10000) for num_people in x]"
   ]
  },
  {
   "cell_type": "code",
   "execution_count": 300,
   "metadata": {
    "scrolled": true,
    "slideshow": {
     "slide_type": "slide"
    }
   },
   "outputs": [
    {
     "data": {
      "image/png": "[encoded data removed]",
      "text/plain": [
       "<Figure size 432x288 with 1 Axes>"
      ]
     },
     "metadata": {},
     "output_type": "display_data"
    }
   ],
   "source": [
    "plt.plot(x, y);"
   ]
  },
  {
   "cell_type": "markdown",
   "metadata": {},
   "source": [
    "For larger values of `n_sims` we expect to be closer to the true value and to have a smoother curve. We can see that simulation can deliver an adequate answer if the problem is hard to derive, mathematically."
   ]
  },
  {
   "cell_type": "markdown",
   "metadata": {
    "slideshow": {
     "slide_type": "slide"
    }
   },
   "source": [
    "## pandas \n",
    "\n",
    "NumPy is very performant and useful but it doesn't resemble a sheet of data with rows and columns as much as we'd like. It's more like an array or a matrix. This is fine for the more science-y applications but it is less ideal for the applications where we are analyzing a data sheet that you've been handed which can contain categorical and temporal data. \n",
    "\n",
    "Back in the day before code, this meant that you needed to use your mouse and click away in Excel. \n",
    "\n",
    "![](images/excel_face.jpg)\n",
    "\n",
    "Thankfully, we have pandas and Python nowadays. The syntax of pandas is mostly similar to NumPy, so let's get familiar with it."
   ]
  },
  {
   "cell_type": "code",
   "execution_count": 301,
   "metadata": {
    "slideshow": {
     "slide_type": "slide"
    }
   },
   "outputs": [
    {
     "data": {
      "text/plain": [
       "0   -0.576753\n",
       "1    1.589395\n",
       "2    1.250364\n",
       "3   -1.138342\n",
       "4   -1.184932\n",
       "5   -0.552428\n",
       "6    0.361902\n",
       "7   -1.795201\n",
       "8    0.979794\n",
       "9    0.171570\n",
       "dtype: float64"
      ]
     },
     "execution_count": 301,
     "metadata": {},
     "output_type": "execute_result"
    }
   ],
   "source": [
    "random_numbers = np.random.randn(10)\n",
    "range_series = pd.Series(data=random_numbers)\n",
    "range_series"
   ]
  },
  {
   "cell_type": "markdown",
   "metadata": {},
   "source": [
    "Notice that a Series is just like our NumPy array but that we get an Index attached:"
   ]
  },
  {
   "cell_type": "code",
   "execution_count": 302,
   "metadata": {
    "slideshow": {
     "slide_type": "slide"
    }
   },
   "outputs": [
    {
     "data": {
      "text/plain": [
       "RangeIndex(start=0, stop=10, step=1)"
      ]
     },
     "execution_count": 302,
     "metadata": {},
     "output_type": "execute_result"
    }
   ],
   "source": [
    "range_series.index"
   ]
  },
  {
   "cell_type": "markdown",
   "metadata": {},
   "source": [
    "In this case the Index is numeric, but it could even be a string or a date:"
   ]
  },
  {
   "cell_type": "code",
   "execution_count": 303,
   "metadata": {},
   "outputs": [
    {
     "data": {
      "text/plain": [
       "DatetimeIndex(['2018-01-02', '2018-01-03', '2018-01-04', '2018-01-05',\n",
       "               '2018-01-06', '2018-01-07', '2018-01-08'],\n",
       "              dtype='datetime64[ns]', freq='D')"
      ]
     },
     "execution_count": 303,
     "metadata": {},
     "output_type": "execute_result"
    }
   ],
   "source": [
    "dates = pd.date_range(start='01/02/2018', periods=7)\n",
    "dates"
   ]
  },
  {
   "cell_type": "code",
   "execution_count": 304,
   "metadata": {
    "slideshow": {
     "slide_type": "slide"
    }
   },
   "outputs": [
    {
     "data": {
      "text/plain": [
       "datetime.date"
      ]
     },
     "execution_count": 304,
     "metadata": {},
     "output_type": "execute_result"
    }
   ],
   "source": [
    "from datetime import date\n",
    "\n",
    "start_date = date(year=2018, month=2, day=1)\n",
    "type(start_date)"
   ]
  },
  {
   "cell_type": "code",
   "execution_count": 305,
   "metadata": {},
   "outputs": [
    {
     "data": {
      "text/plain": [
       "DatetimeIndex(['2018-02-01', '2018-02-02', '2018-02-03', '2018-02-04',\n",
       "               '2018-02-05', '2018-02-06', '2018-02-07'],\n",
       "              dtype='datetime64[ns]', freq='D')"
      ]
     },
     "execution_count": 305,
     "metadata": {},
     "output_type": "execute_result"
    }
   ],
   "source": [
    "dates = pd.date_range(start=start_date, periods=7)\n",
    "dates"
   ]
  },
  {
   "cell_type": "code",
   "execution_count": 306,
   "metadata": {
    "slideshow": {
     "slide_type": "slide"
    }
   },
   "outputs": [
    {
     "data": {
      "text/plain": [
       "2018-02-01    1.327079\n",
       "2018-02-02    0.168353\n",
       "2018-02-03    0.509586\n",
       "2018-02-04   -0.769438\n",
       "2018-02-05   -1.468650\n",
       "2018-02-06   -1.558707\n",
       "2018-02-07    0.323132\n",
       "Freq: D, dtype: float64"
      ]
     },
     "execution_count": 306,
     "metadata": {},
     "output_type": "execute_result"
    }
   ],
   "source": [
    "random_numbers = np.random.randn(7)\n",
    "date_series = pd.Series(data=random_numbers, index=dates)\n",
    "date_series"
   ]
  },
  {
   "cell_type": "markdown",
   "metadata": {
    "slideshow": {
     "slide_type": "slide"
    }
   },
   "source": [
    "The default frequency daily, but we can change that:"
   ]
  },
  {
   "cell_type": "code",
   "execution_count": 307,
   "metadata": {},
   "outputs": [
    {
     "data": {
      "text/plain": [
       "DatetimeIndex(['2018-02-04', '2018-02-11', '2018-02-18', '2018-02-25',\n",
       "               '2018-03-04', '2018-03-11', '2018-03-18', '2018-03-25',\n",
       "               '2018-04-01', '2018-04-08'],\n",
       "              dtype='datetime64[ns]', freq='W-SUN')"
      ]
     },
     "execution_count": 307,
     "metadata": {},
     "output_type": "execute_result"
    }
   ],
   "source": [
    "weekly_dates = pd.date_range(start=start_date, periods=52, freq='W')\n",
    "weekly_dates[:10]"
   ]
  },
  {
   "cell_type": "code",
   "execution_count": 308,
   "metadata": {
    "slideshow": {
     "slide_type": "-"
    }
   },
   "outputs": [
    {
     "data": {
      "text/plain": [
       "DatetimeIndex(['2018-02-01', '2018-02-08', '2018-02-15', '2018-02-22',\n",
       "               '2018-03-01', '2018-03-08', '2018-03-15', '2018-03-22',\n",
       "               '2018-03-29', '2018-04-05'],\n",
       "              dtype='datetime64[ns]', freq='7D')"
      ]
     },
     "execution_count": 308,
     "metadata": {},
     "output_type": "execute_result"
    }
   ],
   "source": [
    "weekly_dates = pd.date_range(start=start_date, periods=52, freq='7D')\n",
    "weekly_dates[:10]"
   ]
  },
  {
   "cell_type": "code",
   "execution_count": 309,
   "metadata": {
    "slideshow": {
     "slide_type": "slide"
    }
   },
   "outputs": [
    {
     "data": {
      "text/plain": [
       "DatetimeIndex(['2018-02-04', '2018-02-11', '2018-02-18', '2018-02-25',\n",
       "               '2018-03-04', '2018-03-11', '2018-03-18', '2018-03-25',\n",
       "               '2018-04-01', '2018-04-08', '2018-04-15', '2018-04-22',\n",
       "               '2018-04-29', '2018-05-06', '2018-05-13', '2018-05-20',\n",
       "               '2018-05-27', '2018-06-03', '2018-06-10', '2018-06-17',\n",
       "               '2018-06-24', '2018-07-01', '2018-07-08', '2018-07-15',\n",
       "               '2018-07-22', '2018-07-29', '2018-08-05', '2018-08-12',\n",
       "               '2018-08-19', '2018-08-26', '2018-09-02', '2018-09-09',\n",
       "               '2018-09-16', '2018-09-23', '2018-09-30', '2018-10-07',\n",
       "               '2018-10-14', '2018-10-21', '2018-10-28', '2018-11-04',\n",
       "               '2018-11-11', '2018-11-18', '2018-11-25', '2018-12-02',\n",
       "               '2018-12-09', '2018-12-16', '2018-12-23', '2018-12-30',\n",
       "               '2019-01-06', '2019-01-13', '2019-01-20', '2019-01-27'],\n",
       "              dtype='datetime64[ns]', freq='W-SUN')"
      ]
     },
     "execution_count": 309,
     "metadata": {},
     "output_type": "execute_result"
    }
   ],
   "source": [
    "from datetime import timedelta\n",
    "\n",
    "offset = timedelta(days=3)\n",
    "weekly_dates + offset"
   ]
  },
  {
   "cell_type": "code",
   "execution_count": 310,
   "metadata": {
    "slideshow": {
     "slide_type": "slide"
    }
   },
   "outputs": [
    {
     "data": {
      "text/plain": [
       "datetime.datetime"
      ]
     },
     "execution_count": 310,
     "metadata": {},
     "output_type": "execute_result"
    }
   ],
   "source": [
    "from datetime import datetime\n",
    "\n",
    "start_datetime = datetime(year=2018, month=2, day=1, hour=9, minute=0, second=0)\n",
    "type(start_datetime)"
   ]
  },
  {
   "cell_type": "code",
   "execution_count": 312,
   "metadata": {},
   "outputs": [
    {
     "data": {
      "text/plain": [
       "DatetimeIndex(['2018-02-01 09:00:00', '2018-02-01 10:00:00',\n",
       "               '2018-02-01 11:00:00', '2018-02-01 12:00:00',\n",
       "               '2018-02-01 13:00:00', '2018-02-01 14:00:00',\n",
       "               '2018-02-01 15:00:00', '2018-02-01 16:00:00',\n",
       "               '2018-02-01 17:00:00', '2018-02-01 18:00:00'],\n",
       "              dtype='datetime64[ns]', freq='H')"
      ]
     },
     "execution_count": 312,
     "metadata": {},
     "output_type": "execute_result"
    }
   ],
   "source": [
    "hourly_datetimes = pd.date_range(start=start_datetime, periods=72, freq='H')\n",
    "hourly_datetimes[:10]"
   ]
  },
  {
   "cell_type": "markdown",
   "metadata": {},
   "source": [
    "There are many useful frequency options, see [here](https://pandas.pydata.org/pandas-docs/stable/timeseries.html#offset-aliases)."
   ]
  },
  {
   "cell_type": "markdown",
   "metadata": {
    "slideshow": {
     "slide_type": "-"
    }
   },
   "source": [
    "As long as it is sortable and unique for each row, it can be used as an Index."
   ]
  },
  {
   "cell_type": "markdown",
   "metadata": {
    "slideshow": {
     "slide_type": "slide"
    }
   },
   "source": [
    "Pandas Series can be treated in very much the same way as a NumPy array:"
   ]
  },
  {
   "cell_type": "code",
   "execution_count": 313,
   "metadata": {},
   "outputs": [
    {
     "data": {
      "text/plain": [
       "-1.184932370947223"
      ]
     },
     "execution_count": 313,
     "metadata": {},
     "output_type": "execute_result"
    }
   ],
   "source": [
    "range_series[4]"
   ]
  },
  {
   "cell_type": "code",
   "execution_count": 314,
   "metadata": {},
   "outputs": [
    {
     "data": {
      "text/plain": [
       "4   -1.184932\n",
       "5   -0.552428\n",
       "6    0.361902\n",
       "dtype: float64"
      ]
     },
     "execution_count": 314,
     "metadata": {},
     "output_type": "execute_result"
    }
   ],
   "source": [
    "range_series[4:7]"
   ]
  },
  {
   "cell_type": "code",
   "execution_count": 315,
   "metadata": {
    "slideshow": {
     "slide_type": "slide"
    }
   },
   "outputs": [
    {
     "data": {
      "text/plain": [
       "-0.76943832647710497"
      ]
     },
     "execution_count": 315,
     "metadata": {},
     "output_type": "execute_result"
    }
   ],
   "source": [
    "date_series['2018-02-04']"
   ]
  },
  {
   "cell_type": "code",
   "execution_count": 316,
   "metadata": {},
   "outputs": [
    {
     "data": {
      "text/plain": [
       "2018-02-04   -0.769438\n",
       "2018-02-05   -1.468650\n",
       "2018-02-06   -1.558707\n",
       "2018-02-07    0.323132\n",
       "Freq: D, dtype: float64"
      ]
     },
     "execution_count": 316,
     "metadata": {},
     "output_type": "execute_result"
    }
   ],
   "source": [
    "date_series['2018-02-04':'2018-02-07']"
   ]
  },
  {
   "cell_type": "markdown",
   "metadata": {
    "slideshow": {
     "slide_type": "slide"
    }
   },
   "source": [
    "Note that for DatetimeIndices both endpoints are included in a slice."
   ]
  },
  {
   "cell_type": "code",
   "execution_count": 317,
   "metadata": {},
   "outputs": [
    {
     "data": {
      "text/plain": [
       "(-0.0036489664047400384, 0.99369952796654792)"
      ]
     },
     "execution_count": 317,
     "metadata": {},
     "output_type": "execute_result"
    }
   ],
   "source": [
    "normal_series = pd.Series(data=np.random.normal(loc=0, scale=1, size=10000))\n",
    "normal_series.mean(), normal_series.std()"
   ]
  },
  {
   "cell_type": "markdown",
   "metadata": {
    "slideshow": {
     "slide_type": "slide"
    }
   },
   "source": [
    "Just like NumPy arrays, each Series must contain values of only one type:"
   ]
  },
  {
   "cell_type": "code",
   "execution_count": 318,
   "metadata": {},
   "outputs": [
    {
     "data": {
      "text/plain": [
       "dtype('float64')"
      ]
     },
     "execution_count": 318,
     "metadata": {},
     "output_type": "execute_result"
    }
   ],
   "source": [
    "normal_series.dtype"
   ]
  },
  {
   "cell_type": "markdown",
   "metadata": {
    "slideshow": {
     "slide_type": "slide"
    }
   },
   "source": [
    " If we wanted a data structure consisting of multiple Series of the same length but of different data types, one thing we could try is a Python dict:"
   ]
  },
  {
   "cell_type": "code",
   "execution_count": 319,
   "metadata": {},
   "outputs": [
    {
     "data": {
      "text/plain": [
       "{'a': array([-0.8122872 ,  1.96108308,  0.78628605, -0.09426957,  0.5544281 ,\n",
       "        -0.08118371,  0.23068922, -1.06895393, -0.27336916, -1.06171749]),\n",
       " 'b': array([5, 4, 9, 5, 7, 3, 3, 3, 3, 3]),\n",
       " 'c': ['bar', 'foo', 'bar', 'foo', 'bar', 'bar', 'bar', 'bar', 'bar', 'foo']}"
      ]
     },
     "execution_count": 319,
     "metadata": {},
     "output_type": "execute_result"
    }
   ],
   "source": [
    "a = np.random.randn(10)\n",
    "b = np.random.randint(low=0, high=10, size=10)\n",
    "c = [ 'foo' if x > 0.5 else 'bar' for x in np.random.rand(10) ]\n",
    "\n",
    "d = {'a': a, 'b': b, 'c': c} \n",
    "d"
   ]
  },
  {
   "cell_type": "markdown",
   "metadata": {
    "slideshow": {
     "slide_type": "slide"
    }
   },
   "source": [
    "Pandas can convert these into a table-like structure called a DataFrame. A pandas DataFrame can be seen as a collection of Series where each Series is a column in the DataFrame. The Index of the Series represents the row number. \n",
    "\n",
    "This DataFrame object will be the main object you will talk to when using pandas."
   ]
  },
  {
   "cell_type": "code",
   "execution_count": 320,
   "metadata": {},
   "outputs": [
    {
     "data": {
      "text/html": [
       "<div>\n",
       "<style scoped>\n",
       "    .dataframe tbody tr th:only-of-type {\n",
       "        vertical-align: middle;\n",
       "    }\n",
       "\n",
       "    .dataframe tbody tr th {\n",
       "        vertical-align: top;\n",
       "    }\n",
       "\n",
       "    .dataframe thead th {\n",
       "        text-align: right;\n",
       "    }\n",
       "</style>\n",
       "<table border=\"1\" class=\"dataframe\">\n",
       "  <thead>\n",
       "    <tr style=\"text-align: right;\">\n",
       "      <th></th>\n",
       "      <th>a</th>\n",
       "      <th>b</th>\n",
       "      <th>c</th>\n",
       "    </tr>\n",
       "  </thead>\n",
       "  <tbody>\n",
       "    <tr>\n",
       "      <th>0</th>\n",
       "      <td>-0.812287</td>\n",
       "      <td>5</td>\n",
       "      <td>bar</td>\n",
       "    </tr>\n",
       "    <tr>\n",
       "      <th>1</th>\n",
       "      <td>1.961083</td>\n",
       "      <td>4</td>\n",
       "      <td>foo</td>\n",
       "    </tr>\n",
       "    <tr>\n",
       "      <th>2</th>\n",
       "      <td>0.786286</td>\n",
       "      <td>9</td>\n",
       "      <td>bar</td>\n",
       "    </tr>\n",
       "    <tr>\n",
       "      <th>3</th>\n",
       "      <td>-0.094270</td>\n",
       "      <td>5</td>\n",
       "      <td>foo</td>\n",
       "    </tr>\n",
       "    <tr>\n",
       "      <th>4</th>\n",
       "      <td>0.554428</td>\n",
       "      <td>7</td>\n",
       "      <td>bar</td>\n",
       "    </tr>\n",
       "    <tr>\n",
       "      <th>5</th>\n",
       "      <td>-0.081184</td>\n",
       "      <td>3</td>\n",
       "      <td>bar</td>\n",
       "    </tr>\n",
       "    <tr>\n",
       "      <th>6</th>\n",
       "      <td>0.230689</td>\n",
       "      <td>3</td>\n",
       "      <td>bar</td>\n",
       "    </tr>\n",
       "    <tr>\n",
       "      <th>7</th>\n",
       "      <td>-1.068954</td>\n",
       "      <td>3</td>\n",
       "      <td>bar</td>\n",
       "    </tr>\n",
       "    <tr>\n",
       "      <th>8</th>\n",
       "      <td>-0.273369</td>\n",
       "      <td>3</td>\n",
       "      <td>bar</td>\n",
       "    </tr>\n",
       "    <tr>\n",
       "      <th>9</th>\n",
       "      <td>-1.061717</td>\n",
       "      <td>3</td>\n",
       "      <td>foo</td>\n",
       "    </tr>\n",
       "  </tbody>\n",
       "</table>\n",
       "</div>"
      ],
      "text/plain": [
       "          a  b    c\n",
       "0 -0.812287  5  bar\n",
       "1  1.961083  4  foo\n",
       "2  0.786286  9  bar\n",
       "3 -0.094270  5  foo\n",
       "4  0.554428  7  bar\n",
       "5 -0.081184  3  bar\n",
       "6  0.230689  3  bar\n",
       "7 -1.068954  3  bar\n",
       "8 -0.273369  3  bar\n",
       "9 -1.061717  3  foo"
      ]
     },
     "execution_count": 320,
     "metadata": {},
     "output_type": "execute_result"
    }
   ],
   "source": [
    "df = pd.DataFrame(data=d) \n",
    "df"
   ]
  },
  {
   "cell_type": "code",
   "execution_count": 321,
   "metadata": {
    "slideshow": {
     "slide_type": "slide"
    }
   },
   "outputs": [
    {
     "data": {
      "text/html": [
       "<div>\n",
       "<style scoped>\n",
       "    .dataframe tbody tr th:only-of-type {\n",
       "        vertical-align: middle;\n",
       "    }\n",
       "\n",
       "    .dataframe tbody tr th {\n",
       "        vertical-align: top;\n",
       "    }\n",
       "\n",
       "    .dataframe thead th {\n",
       "        text-align: right;\n",
       "    }\n",
       "</style>\n",
       "<table border=\"1\" class=\"dataframe\">\n",
       "  <thead>\n",
       "    <tr style=\"text-align: right;\">\n",
       "      <th></th>\n",
       "      <th>a</th>\n",
       "      <th>b</th>\n",
       "      <th>c</th>\n",
       "    </tr>\n",
       "  </thead>\n",
       "  <tbody>\n",
       "    <tr>\n",
       "      <th>2018-02-01</th>\n",
       "      <td>-0.812287</td>\n",
       "      <td>5</td>\n",
       "      <td>bar</td>\n",
       "    </tr>\n",
       "    <tr>\n",
       "      <th>2018-02-02</th>\n",
       "      <td>1.961083</td>\n",
       "      <td>4</td>\n",
       "      <td>foo</td>\n",
       "    </tr>\n",
       "    <tr>\n",
       "      <th>2018-02-03</th>\n",
       "      <td>0.786286</td>\n",
       "      <td>9</td>\n",
       "      <td>bar</td>\n",
       "    </tr>\n",
       "    <tr>\n",
       "      <th>2018-02-04</th>\n",
       "      <td>-0.094270</td>\n",
       "      <td>5</td>\n",
       "      <td>foo</td>\n",
       "    </tr>\n",
       "    <tr>\n",
       "      <th>2018-02-05</th>\n",
       "      <td>0.554428</td>\n",
       "      <td>7</td>\n",
       "      <td>bar</td>\n",
       "    </tr>\n",
       "    <tr>\n",
       "      <th>2018-02-06</th>\n",
       "      <td>-0.081184</td>\n",
       "      <td>3</td>\n",
       "      <td>bar</td>\n",
       "    </tr>\n",
       "    <tr>\n",
       "      <th>2018-02-07</th>\n",
       "      <td>0.230689</td>\n",
       "      <td>3</td>\n",
       "      <td>bar</td>\n",
       "    </tr>\n",
       "    <tr>\n",
       "      <th>2018-02-08</th>\n",
       "      <td>-1.068954</td>\n",
       "      <td>3</td>\n",
       "      <td>bar</td>\n",
       "    </tr>\n",
       "    <tr>\n",
       "      <th>2018-02-09</th>\n",
       "      <td>-0.273369</td>\n",
       "      <td>3</td>\n",
       "      <td>bar</td>\n",
       "    </tr>\n",
       "    <tr>\n",
       "      <th>2018-02-10</th>\n",
       "      <td>-1.061717</td>\n",
       "      <td>3</td>\n",
       "      <td>foo</td>\n",
       "    </tr>\n",
       "  </tbody>\n",
       "</table>\n",
       "</div>"
      ],
      "text/plain": [
       "                   a  b    c\n",
       "2018-02-01 -0.812287  5  bar\n",
       "2018-02-02  1.961083  4  foo\n",
       "2018-02-03  0.786286  9  bar\n",
       "2018-02-04 -0.094270  5  foo\n",
       "2018-02-05  0.554428  7  bar\n",
       "2018-02-06 -0.081184  3  bar\n",
       "2018-02-07  0.230689  3  bar\n",
       "2018-02-08 -1.068954  3  bar\n",
       "2018-02-09 -0.273369  3  bar\n",
       "2018-02-10 -1.061717  3  foo"
      ]
     },
     "execution_count": 321,
     "metadata": {},
     "output_type": "execute_result"
    }
   ],
   "source": [
    "df_dates = pd.DataFrame(\n",
    "    data=d,\n",
    "    index=pd.date_range(date(2018, 2, 1), periods=10)\n",
    ")\n",
    "\n",
    "df_dates"
   ]
  },
  {
   "cell_type": "code",
   "execution_count": 322,
   "metadata": {
    "slideshow": {
     "slide_type": "slide"
    }
   },
   "outputs": [
    {
     "data": {
      "text/plain": [
       "a    1.96108\n",
       "b          4\n",
       "c        foo\n",
       "Name: 2018-02-02 00:00:00, dtype: object"
      ]
     },
     "execution_count": 322,
     "metadata": {},
     "output_type": "execute_result"
    }
   ],
   "source": [
    "df_dates.loc['2018-02-02']"
   ]
  },
  {
   "cell_type": "markdown",
   "metadata": {
    "slideshow": {
     "slide_type": "slide"
    }
   },
   "source": [
    "## DataFrame properties"
   ]
  },
  {
   "cell_type": "code",
   "execution_count": 323,
   "metadata": {},
   "outputs": [
    {
     "data": {
      "text/html": [
       "<div>\n",
       "<style scoped>\n",
       "    .dataframe tbody tr th:only-of-type {\n",
       "        vertical-align: middle;\n",
       "    }\n",
       "\n",
       "    .dataframe tbody tr th {\n",
       "        vertical-align: top;\n",
       "    }\n",
       "\n",
       "    .dataframe thead th {\n",
       "        text-align: right;\n",
       "    }\n",
       "</style>\n",
       "<table border=\"1\" class=\"dataframe\">\n",
       "  <thead>\n",
       "    <tr style=\"text-align: right;\">\n",
       "      <th></th>\n",
       "      <th>a</th>\n",
       "      <th>b</th>\n",
       "      <th>c</th>\n",
       "    </tr>\n",
       "  </thead>\n",
       "  <tbody>\n",
       "    <tr>\n",
       "      <th>0</th>\n",
       "      <td>-0.812287</td>\n",
       "      <td>5</td>\n",
       "      <td>bar</td>\n",
       "    </tr>\n",
       "    <tr>\n",
       "      <th>1</th>\n",
       "      <td>1.961083</td>\n",
       "      <td>4</td>\n",
       "      <td>foo</td>\n",
       "    </tr>\n",
       "    <tr>\n",
       "      <th>2</th>\n",
       "      <td>0.786286</td>\n",
       "      <td>9</td>\n",
       "      <td>bar</td>\n",
       "    </tr>\n",
       "    <tr>\n",
       "      <th>3</th>\n",
       "      <td>-0.094270</td>\n",
       "      <td>5</td>\n",
       "      <td>foo</td>\n",
       "    </tr>\n",
       "    <tr>\n",
       "      <th>4</th>\n",
       "      <td>0.554428</td>\n",
       "      <td>7</td>\n",
       "      <td>bar</td>\n",
       "    </tr>\n",
       "  </tbody>\n",
       "</table>\n",
       "</div>"
      ],
      "text/plain": [
       "          a  b    c\n",
       "0 -0.812287  5  bar\n",
       "1  1.961083  4  foo\n",
       "2  0.786286  9  bar\n",
       "3 -0.094270  5  foo\n",
       "4  0.554428  7  bar"
      ]
     },
     "execution_count": 323,
     "metadata": {},
     "output_type": "execute_result"
    }
   ],
   "source": [
    "df.head()"
   ]
  },
  {
   "cell_type": "code",
   "execution_count": 324,
   "metadata": {
    "slideshow": {
     "slide_type": "slide"
    }
   },
   "outputs": [
    {
     "data": {
      "text/html": [
       "<div>\n",
       "<style scoped>\n",
       "    .dataframe tbody tr th:only-of-type {\n",
       "        vertical-align: middle;\n",
       "    }\n",
       "\n",
       "    .dataframe tbody tr th {\n",
       "        vertical-align: top;\n",
       "    }\n",
       "\n",
       "    .dataframe thead th {\n",
       "        text-align: right;\n",
       "    }\n",
       "</style>\n",
       "<table border=\"1\" class=\"dataframe\">\n",
       "  <thead>\n",
       "    <tr style=\"text-align: right;\">\n",
       "      <th></th>\n",
       "      <th>a</th>\n",
       "      <th>b</th>\n",
       "      <th>c</th>\n",
       "    </tr>\n",
       "  </thead>\n",
       "  <tbody>\n",
       "    <tr>\n",
       "      <th>0</th>\n",
       "      <td>-0.812287</td>\n",
       "      <td>5</td>\n",
       "      <td>bar</td>\n",
       "    </tr>\n",
       "    <tr>\n",
       "      <th>1</th>\n",
       "      <td>1.961083</td>\n",
       "      <td>4</td>\n",
       "      <td>foo</td>\n",
       "    </tr>\n",
       "    <tr>\n",
       "      <th>2</th>\n",
       "      <td>0.786286</td>\n",
       "      <td>9</td>\n",
       "      <td>bar</td>\n",
       "    </tr>\n",
       "    <tr>\n",
       "      <th>3</th>\n",
       "      <td>-0.094270</td>\n",
       "      <td>5</td>\n",
       "      <td>foo</td>\n",
       "    </tr>\n",
       "    <tr>\n",
       "      <th>4</th>\n",
       "      <td>0.554428</td>\n",
       "      <td>7</td>\n",
       "      <td>bar</td>\n",
       "    </tr>\n",
       "    <tr>\n",
       "      <th>5</th>\n",
       "      <td>-0.081184</td>\n",
       "      <td>3</td>\n",
       "      <td>bar</td>\n",
       "    </tr>\n",
       "    <tr>\n",
       "      <th>6</th>\n",
       "      <td>0.230689</td>\n",
       "      <td>3</td>\n",
       "      <td>bar</td>\n",
       "    </tr>\n",
       "    <tr>\n",
       "      <th>7</th>\n",
       "      <td>-1.068954</td>\n",
       "      <td>3</td>\n",
       "      <td>bar</td>\n",
       "    </tr>\n",
       "  </tbody>\n",
       "</table>\n",
       "</div>"
      ],
      "text/plain": [
       "          a  b    c\n",
       "0 -0.812287  5  bar\n",
       "1  1.961083  4  foo\n",
       "2  0.786286  9  bar\n",
       "3 -0.094270  5  foo\n",
       "4  0.554428  7  bar\n",
       "5 -0.081184  3  bar\n",
       "6  0.230689  3  bar\n",
       "7 -1.068954  3  bar"
      ]
     },
     "execution_count": 324,
     "metadata": {},
     "output_type": "execute_result"
    }
   ],
   "source": [
    "df.head(8)"
   ]
  },
  {
   "cell_type": "code",
   "execution_count": 325,
   "metadata": {
    "slideshow": {
     "slide_type": "slide"
    }
   },
   "outputs": [
    {
     "data": {
      "text/html": [
       "<div>\n",
       "<style scoped>\n",
       "    .dataframe tbody tr th:only-of-type {\n",
       "        vertical-align: middle;\n",
       "    }\n",
       "\n",
       "    .dataframe tbody tr th {\n",
       "        vertical-align: top;\n",
       "    }\n",
       "\n",
       "    .dataframe thead th {\n",
       "        text-align: right;\n",
       "    }\n",
       "</style>\n",
       "<table border=\"1\" class=\"dataframe\">\n",
       "  <thead>\n",
       "    <tr style=\"text-align: right;\">\n",
       "      <th></th>\n",
       "      <th>0</th>\n",
       "      <th>1</th>\n",
       "      <th>2</th>\n",
       "      <th>3</th>\n",
       "      <th>4</th>\n",
       "    </tr>\n",
       "  </thead>\n",
       "  <tbody>\n",
       "    <tr>\n",
       "      <th>a</th>\n",
       "      <td>-0.812287</td>\n",
       "      <td>1.96108</td>\n",
       "      <td>0.786286</td>\n",
       "      <td>-0.0942696</td>\n",
       "      <td>0.554428</td>\n",
       "    </tr>\n",
       "    <tr>\n",
       "      <th>b</th>\n",
       "      <td>5</td>\n",
       "      <td>4</td>\n",
       "      <td>9</td>\n",
       "      <td>5</td>\n",
       "      <td>7</td>\n",
       "    </tr>\n",
       "    <tr>\n",
       "      <th>c</th>\n",
       "      <td>bar</td>\n",
       "      <td>foo</td>\n",
       "      <td>bar</td>\n",
       "      <td>foo</td>\n",
       "      <td>bar</td>\n",
       "    </tr>\n",
       "  </tbody>\n",
       "</table>\n",
       "</div>"
      ],
      "text/plain": [
       "          0        1         2          3         4\n",
       "a -0.812287  1.96108  0.786286 -0.0942696  0.554428\n",
       "b         5        4         9          5         7\n",
       "c       bar      foo       bar        foo       bar"
      ]
     },
     "execution_count": 325,
     "metadata": {},
     "output_type": "execute_result"
    }
   ],
   "source": [
    "df.head().T"
   ]
  },
  {
   "cell_type": "code",
   "execution_count": 326,
   "metadata": {
    "slideshow": {
     "slide_type": "slide"
    }
   },
   "outputs": [
    {
     "data": {
      "text/plain": [
       "(10, 3)"
      ]
     },
     "execution_count": 326,
     "metadata": {},
     "output_type": "execute_result"
    }
   ],
   "source": [
    "df.shape"
   ]
  },
  {
   "cell_type": "code",
   "execution_count": 327,
   "metadata": {},
   "outputs": [
    {
     "data": {
      "text/plain": [
       "RangeIndex(start=0, stop=10, step=1)"
      ]
     },
     "execution_count": 327,
     "metadata": {},
     "output_type": "execute_result"
    }
   ],
   "source": [
    "df.index"
   ]
  },
  {
   "cell_type": "code",
   "execution_count": 328,
   "metadata": {},
   "outputs": [
    {
     "data": {
      "text/plain": [
       "a    float64\n",
       "b      int64\n",
       "c     object\n",
       "dtype: object"
      ]
     },
     "execution_count": 328,
     "metadata": {},
     "output_type": "execute_result"
    }
   ],
   "source": [
    "df.dtypes"
   ]
  },
  {
   "cell_type": "code",
   "execution_count": 329,
   "metadata": {
    "slideshow": {
     "slide_type": "slide"
    }
   },
   "outputs": [
    {
     "data": {
      "text/html": [
       "<div>\n",
       "<style scoped>\n",
       "    .dataframe tbody tr th:only-of-type {\n",
       "        vertical-align: middle;\n",
       "    }\n",
       "\n",
       "    .dataframe tbody tr th {\n",
       "        vertical-align: top;\n",
       "    }\n",
       "\n",
       "    .dataframe thead th {\n",
       "        text-align: right;\n",
       "    }\n",
       "</style>\n",
       "<table border=\"1\" class=\"dataframe\">\n",
       "  <thead>\n",
       "    <tr style=\"text-align: right;\">\n",
       "      <th></th>\n",
       "      <th>a</th>\n",
       "      <th>b</th>\n",
       "    </tr>\n",
       "  </thead>\n",
       "  <tbody>\n",
       "    <tr>\n",
       "      <th>count</th>\n",
       "      <td>10.000000</td>\n",
       "      <td>10.000000</td>\n",
       "    </tr>\n",
       "    <tr>\n",
       "      <th>mean</th>\n",
       "      <td>0.014071</td>\n",
       "      <td>4.500000</td>\n",
       "    </tr>\n",
       "    <tr>\n",
       "      <th>std</th>\n",
       "      <td>0.933491</td>\n",
       "      <td>2.068279</td>\n",
       "    </tr>\n",
       "    <tr>\n",
       "      <th>min</th>\n",
       "      <td>-1.068954</td>\n",
       "      <td>3.000000</td>\n",
       "    </tr>\n",
       "    <tr>\n",
       "      <th>25%</th>\n",
       "      <td>-0.677558</td>\n",
       "      <td>3.000000</td>\n",
       "    </tr>\n",
       "    <tr>\n",
       "      <th>50%</th>\n",
       "      <td>-0.087727</td>\n",
       "      <td>3.500000</td>\n",
       "    </tr>\n",
       "    <tr>\n",
       "      <th>75%</th>\n",
       "      <td>0.473493</td>\n",
       "      <td>5.000000</td>\n",
       "    </tr>\n",
       "    <tr>\n",
       "      <th>max</th>\n",
       "      <td>1.961083</td>\n",
       "      <td>9.000000</td>\n",
       "    </tr>\n",
       "  </tbody>\n",
       "</table>\n",
       "</div>"
      ],
      "text/plain": [
       "               a          b\n",
       "count  10.000000  10.000000\n",
       "mean    0.014071   4.500000\n",
       "std     0.933491   2.068279\n",
       "min    -1.068954   3.000000\n",
       "25%    -0.677558   3.000000\n",
       "50%    -0.087727   3.500000\n",
       "75%     0.473493   5.000000\n",
       "max     1.961083   9.000000"
      ]
     },
     "execution_count": 329,
     "metadata": {},
     "output_type": "execute_result"
    }
   ],
   "source": [
    "df.describe()"
   ]
  },
  {
   "cell_type": "code",
   "execution_count": 330,
   "metadata": {
    "slideshow": {
     "slide_type": "slide"
    }
   },
   "outputs": [
    {
     "data": {
      "text/plain": [
       "Index(['a', 'b', 'c'], dtype='object')"
      ]
     },
     "execution_count": 330,
     "metadata": {},
     "output_type": "execute_result"
    }
   ],
   "source": [
    "df.columns"
   ]
  },
  {
   "cell_type": "code",
   "execution_count": 331,
   "metadata": {
    "slideshow": {
     "slide_type": "-"
    }
   },
   "outputs": [],
   "source": [
    "df.columns = ['normal', 'uniform', 'foo_bar']"
   ]
  },
  {
   "cell_type": "code",
   "execution_count": 332,
   "metadata": {
    "slideshow": {
     "slide_type": "slide"
    }
   },
   "outputs": [
    {
     "data": {
      "text/html": [
       "<div>\n",
       "<style scoped>\n",
       "    .dataframe tbody tr th:only-of-type {\n",
       "        vertical-align: middle;\n",
       "    }\n",
       "\n",
       "    .dataframe tbody tr th {\n",
       "        vertical-align: top;\n",
       "    }\n",
       "\n",
       "    .dataframe thead th {\n",
       "        text-align: right;\n",
       "    }\n",
       "</style>\n",
       "<table border=\"1\" class=\"dataframe\">\n",
       "  <thead>\n",
       "    <tr style=\"text-align: right;\">\n",
       "      <th></th>\n",
       "      <th>normal</th>\n",
       "      <th>uniform</th>\n",
       "      <th>foo_bar</th>\n",
       "    </tr>\n",
       "  </thead>\n",
       "  <tbody>\n",
       "    <tr>\n",
       "      <th>0</th>\n",
       "      <td>-0.812287</td>\n",
       "      <td>5</td>\n",
       "      <td>bar</td>\n",
       "    </tr>\n",
       "    <tr>\n",
       "      <th>1</th>\n",
       "      <td>1.961083</td>\n",
       "      <td>4</td>\n",
       "      <td>foo</td>\n",
       "    </tr>\n",
       "    <tr>\n",
       "      <th>2</th>\n",
       "      <td>0.786286</td>\n",
       "      <td>9</td>\n",
       "      <td>bar</td>\n",
       "    </tr>\n",
       "    <tr>\n",
       "      <th>3</th>\n",
       "      <td>-0.094270</td>\n",
       "      <td>5</td>\n",
       "      <td>foo</td>\n",
       "    </tr>\n",
       "    <tr>\n",
       "      <th>4</th>\n",
       "      <td>0.554428</td>\n",
       "      <td>7</td>\n",
       "      <td>bar</td>\n",
       "    </tr>\n",
       "    <tr>\n",
       "      <th>5</th>\n",
       "      <td>-0.081184</td>\n",
       "      <td>3</td>\n",
       "      <td>bar</td>\n",
       "    </tr>\n",
       "    <tr>\n",
       "      <th>6</th>\n",
       "      <td>0.230689</td>\n",
       "      <td>3</td>\n",
       "      <td>bar</td>\n",
       "    </tr>\n",
       "    <tr>\n",
       "      <th>7</th>\n",
       "      <td>-1.068954</td>\n",
       "      <td>3</td>\n",
       "      <td>bar</td>\n",
       "    </tr>\n",
       "    <tr>\n",
       "      <th>8</th>\n",
       "      <td>-0.273369</td>\n",
       "      <td>3</td>\n",
       "      <td>bar</td>\n",
       "    </tr>\n",
       "    <tr>\n",
       "      <th>9</th>\n",
       "      <td>-1.061717</td>\n",
       "      <td>3</td>\n",
       "      <td>foo</td>\n",
       "    </tr>\n",
       "  </tbody>\n",
       "</table>\n",
       "</div>"
      ],
      "text/plain": [
       "     normal  uniform foo_bar\n",
       "0 -0.812287        5     bar\n",
       "1  1.961083        4     foo\n",
       "2  0.786286        9     bar\n",
       "3 -0.094270        5     foo\n",
       "4  0.554428        7     bar\n",
       "5 -0.081184        3     bar\n",
       "6  0.230689        3     bar\n",
       "7 -1.068954        3     bar\n",
       "8 -0.273369        3     bar\n",
       "9 -1.061717        3     foo"
      ]
     },
     "execution_count": 332,
     "metadata": {},
     "output_type": "execute_result"
    }
   ],
   "source": [
    "df"
   ]
  },
  {
   "cell_type": "markdown",
   "metadata": {
    "slideshow": {
     "slide_type": "slide"
    }
   },
   "source": [
    "## Columnar operations"
   ]
  },
  {
   "cell_type": "code",
   "execution_count": 333,
   "metadata": {},
   "outputs": [
    {
     "data": {
      "text/plain": [
       "0   -0.812287\n",
       "1    1.961083\n",
       "2    0.786286\n",
       "3   -0.094270\n",
       "4    0.554428\n",
       "5   -0.081184\n",
       "6    0.230689\n",
       "7   -1.068954\n",
       "8   -0.273369\n",
       "9   -1.061717\n",
       "Name: normal, dtype: float64"
      ]
     },
     "execution_count": 333,
     "metadata": {},
     "output_type": "execute_result"
    }
   ],
   "source": [
    "df['normal']"
   ]
  },
  {
   "cell_type": "code",
   "execution_count": 334,
   "metadata": {
    "slideshow": {
     "slide_type": "slide"
    }
   },
   "outputs": [
    {
     "data": {
      "text/plain": [
       "pandas.core.series.Series"
      ]
     },
     "execution_count": 334,
     "metadata": {},
     "output_type": "execute_result"
    }
   ],
   "source": [
    "type(df['normal'])"
   ]
  },
  {
   "cell_type": "code",
   "execution_count": 335,
   "metadata": {},
   "outputs": [
    {
     "data": {
      "text/plain": [
       "0.14070539625244338"
      ]
     },
     "execution_count": 335,
     "metadata": {},
     "output_type": "execute_result"
    }
   ],
   "source": [
    "df['normal'].sum()"
   ]
  },
  {
   "cell_type": "code",
   "execution_count": 336,
   "metadata": {},
   "outputs": [
    {
     "data": {
      "text/plain": [
       "(0.014070539625244339, 0.93349082617896373)"
      ]
     },
     "execution_count": 336,
     "metadata": {},
     "output_type": "execute_result"
    }
   ],
   "source": [
    "df['normal'].mean(), df['normal'].std()"
   ]
  },
  {
   "cell_type": "code",
   "execution_count": 337,
   "metadata": {
    "slideshow": {
     "slide_type": "slide"
    }
   },
   "outputs": [
    {
     "data": {
      "text/plain": [
       "<matplotlib.axes._subplots.AxesSubplot at 0x1148904e0>"
      ]
     },
     "execution_count": 337,
     "metadata": {},
     "output_type": "execute_result"
    },
    {
     "data": {
      "image/png": "[encoded data removed]",
      "text/plain": [
       "<Figure size 432x288 with 1 Axes>"
      ]
     },
     "metadata": {},
     "output_type": "display_data"
    }
   ],
   "source": [
    "df['normal'].hist(bins=5)"
   ]
  },
  {
   "cell_type": "code",
   "execution_count": 338,
   "metadata": {
    "slideshow": {
     "slide_type": "slide"
    }
   },
   "outputs": [
    {
     "data": {
      "text/html": [
       "<div>\n",
       "<style scoped>\n",
       "    .dataframe tbody tr th:only-of-type {\n",
       "        vertical-align: middle;\n",
       "    }\n",
       "\n",
       "    .dataframe tbody tr th {\n",
       "        vertical-align: top;\n",
       "    }\n",
       "\n",
       "    .dataframe thead th {\n",
       "        text-align: right;\n",
       "    }\n",
       "</style>\n",
       "<table border=\"1\" class=\"dataframe\">\n",
       "  <thead>\n",
       "    <tr style=\"text-align: right;\">\n",
       "      <th></th>\n",
       "      <th>normal</th>\n",
       "      <th>uniform</th>\n",
       "    </tr>\n",
       "  </thead>\n",
       "  <tbody>\n",
       "    <tr>\n",
       "      <th>0</th>\n",
       "      <td>-0.812287</td>\n",
       "      <td>5</td>\n",
       "    </tr>\n",
       "    <tr>\n",
       "      <th>1</th>\n",
       "      <td>1.961083</td>\n",
       "      <td>4</td>\n",
       "    </tr>\n",
       "    <tr>\n",
       "      <th>2</th>\n",
       "      <td>0.786286</td>\n",
       "      <td>9</td>\n",
       "    </tr>\n",
       "    <tr>\n",
       "      <th>3</th>\n",
       "      <td>-0.094270</td>\n",
       "      <td>5</td>\n",
       "    </tr>\n",
       "    <tr>\n",
       "      <th>4</th>\n",
       "      <td>0.554428</td>\n",
       "      <td>7</td>\n",
       "    </tr>\n",
       "    <tr>\n",
       "      <th>5</th>\n",
       "      <td>-0.081184</td>\n",
       "      <td>3</td>\n",
       "    </tr>\n",
       "    <tr>\n",
       "      <th>6</th>\n",
       "      <td>0.230689</td>\n",
       "      <td>3</td>\n",
       "    </tr>\n",
       "    <tr>\n",
       "      <th>7</th>\n",
       "      <td>-1.068954</td>\n",
       "      <td>3</td>\n",
       "    </tr>\n",
       "    <tr>\n",
       "      <th>8</th>\n",
       "      <td>-0.273369</td>\n",
       "      <td>3</td>\n",
       "    </tr>\n",
       "    <tr>\n",
       "      <th>9</th>\n",
       "      <td>-1.061717</td>\n",
       "      <td>3</td>\n",
       "    </tr>\n",
       "  </tbody>\n",
       "</table>\n",
       "</div>"
      ],
      "text/plain": [
       "     normal  uniform\n",
       "0 -0.812287        5\n",
       "1  1.961083        4\n",
       "2  0.786286        9\n",
       "3 -0.094270        5\n",
       "4  0.554428        7\n",
       "5 -0.081184        3\n",
       "6  0.230689        3\n",
       "7 -1.068954        3\n",
       "8 -0.273369        3\n",
       "9 -1.061717        3"
      ]
     },
     "execution_count": 338,
     "metadata": {},
     "output_type": "execute_result"
    }
   ],
   "source": [
    "df[['normal','uniform']]"
   ]
  },
  {
   "cell_type": "markdown",
   "metadata": {
    "slideshow": {
     "slide_type": "slide"
    }
   },
   "source": [
    "### Adding a column"
   ]
  },
  {
   "cell_type": "code",
   "execution_count": 339,
   "metadata": {},
   "outputs": [
    {
     "data": {
      "text/html": [
       "<div>\n",
       "<style scoped>\n",
       "    .dataframe tbody tr th:only-of-type {\n",
       "        vertical-align: middle;\n",
       "    }\n",
       "\n",
       "    .dataframe tbody tr th {\n",
       "        vertical-align: top;\n",
       "    }\n",
       "\n",
       "    .dataframe thead th {\n",
       "        text-align: right;\n",
       "    }\n",
       "</style>\n",
       "<table border=\"1\" class=\"dataframe\">\n",
       "  <thead>\n",
       "    <tr style=\"text-align: right;\">\n",
       "      <th></th>\n",
       "      <th>normal</th>\n",
       "      <th>uniform</th>\n",
       "      <th>foo_bar</th>\n",
       "      <th>shifted_normal</th>\n",
       "    </tr>\n",
       "  </thead>\n",
       "  <tbody>\n",
       "    <tr>\n",
       "      <th>0</th>\n",
       "      <td>-0.812287</td>\n",
       "      <td>5</td>\n",
       "      <td>bar</td>\n",
       "      <td>0.187713</td>\n",
       "    </tr>\n",
       "    <tr>\n",
       "      <th>1</th>\n",
       "      <td>1.961083</td>\n",
       "      <td>4</td>\n",
       "      <td>foo</td>\n",
       "      <td>2.961083</td>\n",
       "    </tr>\n",
       "    <tr>\n",
       "      <th>2</th>\n",
       "      <td>0.786286</td>\n",
       "      <td>9</td>\n",
       "      <td>bar</td>\n",
       "      <td>1.786286</td>\n",
       "    </tr>\n",
       "    <tr>\n",
       "      <th>3</th>\n",
       "      <td>-0.094270</td>\n",
       "      <td>5</td>\n",
       "      <td>foo</td>\n",
       "      <td>0.905730</td>\n",
       "    </tr>\n",
       "    <tr>\n",
       "      <th>4</th>\n",
       "      <td>0.554428</td>\n",
       "      <td>7</td>\n",
       "      <td>bar</td>\n",
       "      <td>1.554428</td>\n",
       "    </tr>\n",
       "    <tr>\n",
       "      <th>5</th>\n",
       "      <td>-0.081184</td>\n",
       "      <td>3</td>\n",
       "      <td>bar</td>\n",
       "      <td>0.918816</td>\n",
       "    </tr>\n",
       "    <tr>\n",
       "      <th>6</th>\n",
       "      <td>0.230689</td>\n",
       "      <td>3</td>\n",
       "      <td>bar</td>\n",
       "      <td>1.230689</td>\n",
       "    </tr>\n",
       "    <tr>\n",
       "      <th>7</th>\n",
       "      <td>-1.068954</td>\n",
       "      <td>3</td>\n",
       "      <td>bar</td>\n",
       "      <td>-0.068954</td>\n",
       "    </tr>\n",
       "    <tr>\n",
       "      <th>8</th>\n",
       "      <td>-0.273369</td>\n",
       "      <td>3</td>\n",
       "      <td>bar</td>\n",
       "      <td>0.726631</td>\n",
       "    </tr>\n",
       "    <tr>\n",
       "      <th>9</th>\n",
       "      <td>-1.061717</td>\n",
       "      <td>3</td>\n",
       "      <td>foo</td>\n",
       "      <td>-0.061717</td>\n",
       "    </tr>\n",
       "  </tbody>\n",
       "</table>\n",
       "</div>"
      ],
      "text/plain": [
       "     normal  uniform foo_bar  shifted_normal\n",
       "0 -0.812287        5     bar        0.187713\n",
       "1  1.961083        4     foo        2.961083\n",
       "2  0.786286        9     bar        1.786286\n",
       "3 -0.094270        5     foo        0.905730\n",
       "4  0.554428        7     bar        1.554428\n",
       "5 -0.081184        3     bar        0.918816\n",
       "6  0.230689        3     bar        1.230689\n",
       "7 -1.068954        3     bar       -0.068954\n",
       "8 -0.273369        3     bar        0.726631\n",
       "9 -1.061717        3     foo       -0.061717"
      ]
     },
     "execution_count": 339,
     "metadata": {},
     "output_type": "execute_result"
    }
   ],
   "source": [
    "df['shifted_normal'] = 1 + df['normal']\n",
    "df"
   ]
  },
  {
   "cell_type": "code",
   "execution_count": 340,
   "metadata": {
    "slideshow": {
     "slide_type": "slide"
    }
   },
   "outputs": [
    {
     "data": {
      "text/html": [
       "<div>\n",
       "<style scoped>\n",
       "    .dataframe tbody tr th:only-of-type {\n",
       "        vertical-align: middle;\n",
       "    }\n",
       "\n",
       "    .dataframe tbody tr th {\n",
       "        vertical-align: top;\n",
       "    }\n",
       "\n",
       "    .dataframe thead th {\n",
       "        text-align: right;\n",
       "    }\n",
       "</style>\n",
       "<table border=\"1\" class=\"dataframe\">\n",
       "  <thead>\n",
       "    <tr style=\"text-align: right;\">\n",
       "      <th></th>\n",
       "      <th>normal</th>\n",
       "      <th>uniform</th>\n",
       "      <th>foo_bar</th>\n",
       "      <th>shifted_normal</th>\n",
       "      <th>weighted_normal</th>\n",
       "    </tr>\n",
       "  </thead>\n",
       "  <tbody>\n",
       "    <tr>\n",
       "      <th>0</th>\n",
       "      <td>-0.812287</td>\n",
       "      <td>5</td>\n",
       "      <td>bar</td>\n",
       "      <td>0.187713</td>\n",
       "      <td>-4.061436</td>\n",
       "    </tr>\n",
       "    <tr>\n",
       "      <th>1</th>\n",
       "      <td>1.961083</td>\n",
       "      <td>4</td>\n",
       "      <td>foo</td>\n",
       "      <td>2.961083</td>\n",
       "      <td>7.844332</td>\n",
       "    </tr>\n",
       "    <tr>\n",
       "      <th>2</th>\n",
       "      <td>0.786286</td>\n",
       "      <td>9</td>\n",
       "      <td>bar</td>\n",
       "      <td>1.786286</td>\n",
       "      <td>7.076574</td>\n",
       "    </tr>\n",
       "    <tr>\n",
       "      <th>3</th>\n",
       "      <td>-0.094270</td>\n",
       "      <td>5</td>\n",
       "      <td>foo</td>\n",
       "      <td>0.905730</td>\n",
       "      <td>-0.471348</td>\n",
       "    </tr>\n",
       "    <tr>\n",
       "      <th>4</th>\n",
       "      <td>0.554428</td>\n",
       "      <td>7</td>\n",
       "      <td>bar</td>\n",
       "      <td>1.554428</td>\n",
       "      <td>3.880997</td>\n",
       "    </tr>\n",
       "    <tr>\n",
       "      <th>5</th>\n",
       "      <td>-0.081184</td>\n",
       "      <td>3</td>\n",
       "      <td>bar</td>\n",
       "      <td>0.918816</td>\n",
       "      <td>-0.243551</td>\n",
       "    </tr>\n",
       "    <tr>\n",
       "      <th>6</th>\n",
       "      <td>0.230689</td>\n",
       "      <td>3</td>\n",
       "      <td>bar</td>\n",
       "      <td>1.230689</td>\n",
       "      <td>0.692068</td>\n",
       "    </tr>\n",
       "    <tr>\n",
       "      <th>7</th>\n",
       "      <td>-1.068954</td>\n",
       "      <td>3</td>\n",
       "      <td>bar</td>\n",
       "      <td>-0.068954</td>\n",
       "      <td>-3.206862</td>\n",
       "    </tr>\n",
       "    <tr>\n",
       "      <th>8</th>\n",
       "      <td>-0.273369</td>\n",
       "      <td>3</td>\n",
       "      <td>bar</td>\n",
       "      <td>0.726631</td>\n",
       "      <td>-0.820107</td>\n",
       "    </tr>\n",
       "    <tr>\n",
       "      <th>9</th>\n",
       "      <td>-1.061717</td>\n",
       "      <td>3</td>\n",
       "      <td>foo</td>\n",
       "      <td>-0.061717</td>\n",
       "      <td>-3.185152</td>\n",
       "    </tr>\n",
       "  </tbody>\n",
       "</table>\n",
       "</div>"
      ],
      "text/plain": [
       "     normal  uniform foo_bar  shifted_normal  weighted_normal\n",
       "0 -0.812287        5     bar        0.187713        -4.061436\n",
       "1  1.961083        4     foo        2.961083         7.844332\n",
       "2  0.786286        9     bar        1.786286         7.076574\n",
       "3 -0.094270        5     foo        0.905730        -0.471348\n",
       "4  0.554428        7     bar        1.554428         3.880997\n",
       "5 -0.081184        3     bar        0.918816        -0.243551\n",
       "6  0.230689        3     bar        1.230689         0.692068\n",
       "7 -1.068954        3     bar       -0.068954        -3.206862\n",
       "8 -0.273369        3     bar        0.726631        -0.820107\n",
       "9 -1.061717        3     foo       -0.061717        -3.185152"
      ]
     },
     "execution_count": 340,
     "metadata": {},
     "output_type": "execute_result"
    }
   ],
   "source": [
    "df['weighted_normal'] = df['normal'] * df['uniform']\n",
    "df"
   ]
  },
  {
   "cell_type": "code",
   "execution_count": 341,
   "metadata": {
    "slideshow": {
     "slide_type": "slide"
    }
   },
   "outputs": [],
   "source": [
    "def is_positive(x):\n",
    "    return x > 0"
   ]
  },
  {
   "cell_type": "code",
   "execution_count": 342,
   "metadata": {},
   "outputs": [
    {
     "data": {
      "text/html": [
       "<div>\n",
       "<style scoped>\n",
       "    .dataframe tbody tr th:only-of-type {\n",
       "        vertical-align: middle;\n",
       "    }\n",
       "\n",
       "    .dataframe tbody tr th {\n",
       "        vertical-align: top;\n",
       "    }\n",
       "\n",
       "    .dataframe thead th {\n",
       "        text-align: right;\n",
       "    }\n",
       "</style>\n",
       "<table border=\"1\" class=\"dataframe\">\n",
       "  <thead>\n",
       "    <tr style=\"text-align: right;\">\n",
       "      <th></th>\n",
       "      <th>normal</th>\n",
       "      <th>uniform</th>\n",
       "      <th>foo_bar</th>\n",
       "      <th>shifted_normal</th>\n",
       "      <th>weighted_normal</th>\n",
       "      <th>is_positive</th>\n",
       "    </tr>\n",
       "  </thead>\n",
       "  <tbody>\n",
       "    <tr>\n",
       "      <th>0</th>\n",
       "      <td>-0.812287</td>\n",
       "      <td>5</td>\n",
       "      <td>bar</td>\n",
       "      <td>0.187713</td>\n",
       "      <td>-4.061436</td>\n",
       "      <td>False</td>\n",
       "    </tr>\n",
       "    <tr>\n",
       "      <th>1</th>\n",
       "      <td>1.961083</td>\n",
       "      <td>4</td>\n",
       "      <td>foo</td>\n",
       "      <td>2.961083</td>\n",
       "      <td>7.844332</td>\n",
       "      <td>True</td>\n",
       "    </tr>\n",
       "    <tr>\n",
       "      <th>2</th>\n",
       "      <td>0.786286</td>\n",
       "      <td>9</td>\n",
       "      <td>bar</td>\n",
       "      <td>1.786286</td>\n",
       "      <td>7.076574</td>\n",
       "      <td>True</td>\n",
       "    </tr>\n",
       "    <tr>\n",
       "      <th>3</th>\n",
       "      <td>-0.094270</td>\n",
       "      <td>5</td>\n",
       "      <td>foo</td>\n",
       "      <td>0.905730</td>\n",
       "      <td>-0.471348</td>\n",
       "      <td>False</td>\n",
       "    </tr>\n",
       "    <tr>\n",
       "      <th>4</th>\n",
       "      <td>0.554428</td>\n",
       "      <td>7</td>\n",
       "      <td>bar</td>\n",
       "      <td>1.554428</td>\n",
       "      <td>3.880997</td>\n",
       "      <td>True</td>\n",
       "    </tr>\n",
       "    <tr>\n",
       "      <th>5</th>\n",
       "      <td>-0.081184</td>\n",
       "      <td>3</td>\n",
       "      <td>bar</td>\n",
       "      <td>0.918816</td>\n",
       "      <td>-0.243551</td>\n",
       "      <td>False</td>\n",
       "    </tr>\n",
       "    <tr>\n",
       "      <th>6</th>\n",
       "      <td>0.230689</td>\n",
       "      <td>3</td>\n",
       "      <td>bar</td>\n",
       "      <td>1.230689</td>\n",
       "      <td>0.692068</td>\n",
       "      <td>True</td>\n",
       "    </tr>\n",
       "    <tr>\n",
       "      <th>7</th>\n",
       "      <td>-1.068954</td>\n",
       "      <td>3</td>\n",
       "      <td>bar</td>\n",
       "      <td>-0.068954</td>\n",
       "      <td>-3.206862</td>\n",
       "      <td>False</td>\n",
       "    </tr>\n",
       "    <tr>\n",
       "      <th>8</th>\n",
       "      <td>-0.273369</td>\n",
       "      <td>3</td>\n",
       "      <td>bar</td>\n",
       "      <td>0.726631</td>\n",
       "      <td>-0.820107</td>\n",
       "      <td>False</td>\n",
       "    </tr>\n",
       "    <tr>\n",
       "      <th>9</th>\n",
       "      <td>-1.061717</td>\n",
       "      <td>3</td>\n",
       "      <td>foo</td>\n",
       "      <td>-0.061717</td>\n",
       "      <td>-3.185152</td>\n",
       "      <td>False</td>\n",
       "    </tr>\n",
       "  </tbody>\n",
       "</table>\n",
       "</div>"
      ],
      "text/plain": [
       "     normal  uniform foo_bar  shifted_normal  weighted_normal  is_positive\n",
       "0 -0.812287        5     bar        0.187713        -4.061436        False\n",
       "1  1.961083        4     foo        2.961083         7.844332         True\n",
       "2  0.786286        9     bar        1.786286         7.076574         True\n",
       "3 -0.094270        5     foo        0.905730        -0.471348        False\n",
       "4  0.554428        7     bar        1.554428         3.880997         True\n",
       "5 -0.081184        3     bar        0.918816        -0.243551        False\n",
       "6  0.230689        3     bar        1.230689         0.692068         True\n",
       "7 -1.068954        3     bar       -0.068954        -3.206862        False\n",
       "8 -0.273369        3     bar        0.726631        -0.820107        False\n",
       "9 -1.061717        3     foo       -0.061717        -3.185152        False"
      ]
     },
     "execution_count": 342,
     "metadata": {},
     "output_type": "execute_result"
    }
   ],
   "source": [
    "df['is_positive'] = df['normal'].apply(is_positive)\n",
    "df"
   ]
  },
  {
   "cell_type": "markdown",
   "metadata": {
    "slideshow": {
     "slide_type": "slide"
    }
   },
   "source": [
    "### Drop a column"
   ]
  },
  {
   "cell_type": "code",
   "execution_count": 345,
   "metadata": {},
   "outputs": [
    {
     "data": {
      "text/html": [
       "<div>\n",
       "<style scoped>\n",
       "    .dataframe tbody tr th:only-of-type {\n",
       "        vertical-align: middle;\n",
       "    }\n",
       "\n",
       "    .dataframe tbody tr th {\n",
       "        vertical-align: top;\n",
       "    }\n",
       "\n",
       "    .dataframe thead th {\n",
       "        text-align: right;\n",
       "    }\n",
       "</style>\n",
       "<table border=\"1\" class=\"dataframe\">\n",
       "  <thead>\n",
       "    <tr style=\"text-align: right;\">\n",
       "      <th></th>\n",
       "      <th>normal</th>\n",
       "      <th>foo_bar</th>\n",
       "      <th>weighted_normal</th>\n",
       "      <th>is_positive</th>\n",
       "    </tr>\n",
       "  </thead>\n",
       "  <tbody>\n",
       "    <tr>\n",
       "      <th>0</th>\n",
       "      <td>-0.812287</td>\n",
       "      <td>bar</td>\n",
       "      <td>-4.061436</td>\n",
       "      <td>False</td>\n",
       "    </tr>\n",
       "    <tr>\n",
       "      <th>1</th>\n",
       "      <td>1.961083</td>\n",
       "      <td>foo</td>\n",
       "      <td>7.844332</td>\n",
       "      <td>True</td>\n",
       "    </tr>\n",
       "    <tr>\n",
       "      <th>2</th>\n",
       "      <td>0.786286</td>\n",
       "      <td>bar</td>\n",
       "      <td>7.076574</td>\n",
       "      <td>True</td>\n",
       "    </tr>\n",
       "    <tr>\n",
       "      <th>3</th>\n",
       "      <td>-0.094270</td>\n",
       "      <td>foo</td>\n",
       "      <td>-0.471348</td>\n",
       "      <td>False</td>\n",
       "    </tr>\n",
       "    <tr>\n",
       "      <th>4</th>\n",
       "      <td>0.554428</td>\n",
       "      <td>bar</td>\n",
       "      <td>3.880997</td>\n",
       "      <td>True</td>\n",
       "    </tr>\n",
       "    <tr>\n",
       "      <th>5</th>\n",
       "      <td>-0.081184</td>\n",
       "      <td>bar</td>\n",
       "      <td>-0.243551</td>\n",
       "      <td>False</td>\n",
       "    </tr>\n",
       "    <tr>\n",
       "      <th>6</th>\n",
       "      <td>0.230689</td>\n",
       "      <td>bar</td>\n",
       "      <td>0.692068</td>\n",
       "      <td>True</td>\n",
       "    </tr>\n",
       "    <tr>\n",
       "      <th>7</th>\n",
       "      <td>-1.068954</td>\n",
       "      <td>bar</td>\n",
       "      <td>-3.206862</td>\n",
       "      <td>False</td>\n",
       "    </tr>\n",
       "    <tr>\n",
       "      <th>8</th>\n",
       "      <td>-0.273369</td>\n",
       "      <td>bar</td>\n",
       "      <td>-0.820107</td>\n",
       "      <td>False</td>\n",
       "    </tr>\n",
       "    <tr>\n",
       "      <th>9</th>\n",
       "      <td>-1.061717</td>\n",
       "      <td>foo</td>\n",
       "      <td>-3.185152</td>\n",
       "      <td>False</td>\n",
       "    </tr>\n",
       "  </tbody>\n",
       "</table>\n",
       "</div>"
      ],
      "text/plain": [
       "     normal foo_bar  weighted_normal  is_positive\n",
       "0 -0.812287     bar        -4.061436        False\n",
       "1  1.961083     foo         7.844332         True\n",
       "2  0.786286     bar         7.076574         True\n",
       "3 -0.094270     foo        -0.471348        False\n",
       "4  0.554428     bar         3.880997         True\n",
       "5 -0.081184     bar        -0.243551        False\n",
       "6  0.230689     bar         0.692068         True\n",
       "7 -1.068954     bar        -3.206862        False\n",
       "8 -0.273369     bar        -0.820107        False\n",
       "9 -1.061717     foo        -3.185152        False"
      ]
     },
     "execution_count": 345,
     "metadata": {},
     "output_type": "execute_result"
    }
   ],
   "source": [
    "df = df.drop(['shifted_normal', 'uniform'], axis=1)\n",
    "df"
   ]
  },
  {
   "cell_type": "markdown",
   "metadata": {
    "slideshow": {
     "slide_type": "slide"
    }
   },
   "source": [
    "### Select only rows meeting some criterion:"
   ]
  },
  {
   "cell_type": "code",
   "execution_count": 346,
   "metadata": {},
   "outputs": [
    {
     "data": {
      "text/plain": [
       "0     True\n",
       "1    False\n",
       "2    False\n",
       "3     True\n",
       "4    False\n",
       "5     True\n",
       "6    False\n",
       "7     True\n",
       "8     True\n",
       "9     True\n",
       "Name: normal, dtype: bool"
      ]
     },
     "execution_count": 346,
     "metadata": {},
     "output_type": "execute_result"
    }
   ],
   "source": [
    "df['normal'] < 0"
   ]
  },
  {
   "cell_type": "code",
   "execution_count": 347,
   "metadata": {
    "slideshow": {
     "slide_type": "slide"
    }
   },
   "outputs": [
    {
     "data": {
      "text/html": [
       "<div>\n",
       "<style scoped>\n",
       "    .dataframe tbody tr th:only-of-type {\n",
       "        vertical-align: middle;\n",
       "    }\n",
       "\n",
       "    .dataframe tbody tr th {\n",
       "        vertical-align: top;\n",
       "    }\n",
       "\n",
       "    .dataframe thead th {\n",
       "        text-align: right;\n",
       "    }\n",
       "</style>\n",
       "<table border=\"1\" class=\"dataframe\">\n",
       "  <thead>\n",
       "    <tr style=\"text-align: right;\">\n",
       "      <th></th>\n",
       "      <th>normal</th>\n",
       "      <th>foo_bar</th>\n",
       "      <th>weighted_normal</th>\n",
       "      <th>is_positive</th>\n",
       "    </tr>\n",
       "  </thead>\n",
       "  <tbody>\n",
       "    <tr>\n",
       "      <th>0</th>\n",
       "      <td>-0.812287</td>\n",
       "      <td>bar</td>\n",
       "      <td>-4.061436</td>\n",
       "      <td>False</td>\n",
       "    </tr>\n",
       "    <tr>\n",
       "      <th>3</th>\n",
       "      <td>-0.094270</td>\n",
       "      <td>foo</td>\n",
       "      <td>-0.471348</td>\n",
       "      <td>False</td>\n",
       "    </tr>\n",
       "    <tr>\n",
       "      <th>5</th>\n",
       "      <td>-0.081184</td>\n",
       "      <td>bar</td>\n",
       "      <td>-0.243551</td>\n",
       "      <td>False</td>\n",
       "    </tr>\n",
       "    <tr>\n",
       "      <th>7</th>\n",
       "      <td>-1.068954</td>\n",
       "      <td>bar</td>\n",
       "      <td>-3.206862</td>\n",
       "      <td>False</td>\n",
       "    </tr>\n",
       "    <tr>\n",
       "      <th>8</th>\n",
       "      <td>-0.273369</td>\n",
       "      <td>bar</td>\n",
       "      <td>-0.820107</td>\n",
       "      <td>False</td>\n",
       "    </tr>\n",
       "    <tr>\n",
       "      <th>9</th>\n",
       "      <td>-1.061717</td>\n",
       "      <td>foo</td>\n",
       "      <td>-3.185152</td>\n",
       "      <td>False</td>\n",
       "    </tr>\n",
       "  </tbody>\n",
       "</table>\n",
       "</div>"
      ],
      "text/plain": [
       "     normal foo_bar  weighted_normal  is_positive\n",
       "0 -0.812287     bar        -4.061436        False\n",
       "3 -0.094270     foo        -0.471348        False\n",
       "5 -0.081184     bar        -0.243551        False\n",
       "7 -1.068954     bar        -3.206862        False\n",
       "8 -0.273369     bar        -0.820107        False\n",
       "9 -1.061717     foo        -3.185152        False"
      ]
     },
     "execution_count": 347,
     "metadata": {},
     "output_type": "execute_result"
    }
   ],
   "source": [
    "df[ df['normal'] < 0 ]"
   ]
  },
  {
   "cell_type": "code",
   "execution_count": 348,
   "metadata": {
    "slideshow": {
     "slide_type": "slide"
    }
   },
   "outputs": [
    {
     "data": {
      "text/html": [
       "<div>\n",
       "<style scoped>\n",
       "    .dataframe tbody tr th:only-of-type {\n",
       "        vertical-align: middle;\n",
       "    }\n",
       "\n",
       "    .dataframe tbody tr th {\n",
       "        vertical-align: top;\n",
       "    }\n",
       "\n",
       "    .dataframe thead th {\n",
       "        text-align: right;\n",
       "    }\n",
       "</style>\n",
       "<table border=\"1\" class=\"dataframe\">\n",
       "  <thead>\n",
       "    <tr style=\"text-align: right;\">\n",
       "      <th></th>\n",
       "      <th>normal</th>\n",
       "      <th>foo_bar</th>\n",
       "      <th>weighted_normal</th>\n",
       "      <th>is_positive</th>\n",
       "    </tr>\n",
       "  </thead>\n",
       "  <tbody>\n",
       "    <tr>\n",
       "      <th>1</th>\n",
       "      <td>1.961083</td>\n",
       "      <td>foo</td>\n",
       "      <td>7.844332</td>\n",
       "      <td>True</td>\n",
       "    </tr>\n",
       "  </tbody>\n",
       "</table>\n",
       "</div>"
      ],
      "text/plain": [
       "     normal foo_bar  weighted_normal  is_positive\n",
       "1  1.961083     foo         7.844332         True"
      ]
     },
     "execution_count": 348,
     "metadata": {},
     "output_type": "execute_result"
    }
   ],
   "source": [
    "df[ (df['normal'] > 0) & (df['foo_bar'] == 'foo') ] "
   ]
  },
  {
   "cell_type": "code",
   "execution_count": 349,
   "metadata": {
    "slideshow": {
     "slide_type": "slide"
    }
   },
   "outputs": [
    {
     "data": {
      "text/html": [
       "<div>\n",
       "<style scoped>\n",
       "    .dataframe tbody tr th:only-of-type {\n",
       "        vertical-align: middle;\n",
       "    }\n",
       "\n",
       "    .dataframe tbody tr th {\n",
       "        vertical-align: top;\n",
       "    }\n",
       "\n",
       "    .dataframe thead th {\n",
       "        text-align: right;\n",
       "    }\n",
       "</style>\n",
       "<table border=\"1\" class=\"dataframe\">\n",
       "  <thead>\n",
       "    <tr style=\"text-align: right;\">\n",
       "      <th></th>\n",
       "      <th>normal</th>\n",
       "      <th>foo_bar</th>\n",
       "      <th>weighted_normal</th>\n",
       "      <th>is_positive</th>\n",
       "    </tr>\n",
       "  </thead>\n",
       "  <tbody>\n",
       "    <tr>\n",
       "      <th>1</th>\n",
       "      <td>1.961083</td>\n",
       "      <td>foo</td>\n",
       "      <td>7.844332</td>\n",
       "      <td>True</td>\n",
       "    </tr>\n",
       "    <tr>\n",
       "      <th>2</th>\n",
       "      <td>0.786286</td>\n",
       "      <td>bar</td>\n",
       "      <td>7.076574</td>\n",
       "      <td>True</td>\n",
       "    </tr>\n",
       "    <tr>\n",
       "      <th>3</th>\n",
       "      <td>-0.094270</td>\n",
       "      <td>foo</td>\n",
       "      <td>-0.471348</td>\n",
       "      <td>False</td>\n",
       "    </tr>\n",
       "    <tr>\n",
       "      <th>4</th>\n",
       "      <td>0.554428</td>\n",
       "      <td>bar</td>\n",
       "      <td>3.880997</td>\n",
       "      <td>True</td>\n",
       "    </tr>\n",
       "    <tr>\n",
       "      <th>6</th>\n",
       "      <td>0.230689</td>\n",
       "      <td>bar</td>\n",
       "      <td>0.692068</td>\n",
       "      <td>True</td>\n",
       "    </tr>\n",
       "    <tr>\n",
       "      <th>9</th>\n",
       "      <td>-1.061717</td>\n",
       "      <td>foo</td>\n",
       "      <td>-3.185152</td>\n",
       "      <td>False</td>\n",
       "    </tr>\n",
       "  </tbody>\n",
       "</table>\n",
       "</div>"
      ],
      "text/plain": [
       "     normal foo_bar  weighted_normal  is_positive\n",
       "1  1.961083     foo         7.844332         True\n",
       "2  0.786286     bar         7.076574         True\n",
       "3 -0.094270     foo        -0.471348        False\n",
       "4  0.554428     bar         3.880997         True\n",
       "6  0.230689     bar         0.692068         True\n",
       "9 -1.061717     foo        -3.185152        False"
      ]
     },
     "execution_count": 349,
     "metadata": {},
     "output_type": "execute_result"
    }
   ],
   "source": [
    "df[ (df['normal'] > 0) | (df['foo_bar'] == 'foo') ] "
   ]
  },
  {
   "cell_type": "code",
   "execution_count": 350,
   "metadata": {
    "slideshow": {
     "slide_type": "slide"
    }
   },
   "outputs": [
    {
     "data": {
      "text/plain": [
       "1.9610830828815413"
      ]
     },
     "execution_count": 350,
     "metadata": {},
     "output_type": "execute_result"
    }
   ],
   "source": [
    "df['normal'].max()"
   ]
  },
  {
   "cell_type": "code",
   "execution_count": 351,
   "metadata": {},
   "outputs": [
    {
     "data": {
      "text/plain": [
       "0    False\n",
       "1     True\n",
       "2    False\n",
       "3    False\n",
       "4    False\n",
       "5    False\n",
       "6    False\n",
       "7    False\n",
       "8    False\n",
       "9    False\n",
       "Name: normal, dtype: bool"
      ]
     },
     "execution_count": 351,
     "metadata": {},
     "output_type": "execute_result"
    }
   ],
   "source": [
    "df['normal'] == df['normal'].max()"
   ]
  },
  {
   "cell_type": "code",
   "execution_count": 352,
   "metadata": {
    "slideshow": {
     "slide_type": "slide"
    }
   },
   "outputs": [
    {
     "data": {
      "text/html": [
       "<div>\n",
       "<style scoped>\n",
       "    .dataframe tbody tr th:only-of-type {\n",
       "        vertical-align: middle;\n",
       "    }\n",
       "\n",
       "    .dataframe tbody tr th {\n",
       "        vertical-align: top;\n",
       "    }\n",
       "\n",
       "    .dataframe thead th {\n",
       "        text-align: right;\n",
       "    }\n",
       "</style>\n",
       "<table border=\"1\" class=\"dataframe\">\n",
       "  <thead>\n",
       "    <tr style=\"text-align: right;\">\n",
       "      <th></th>\n",
       "      <th>normal</th>\n",
       "      <th>foo_bar</th>\n",
       "      <th>weighted_normal</th>\n",
       "      <th>is_positive</th>\n",
       "    </tr>\n",
       "  </thead>\n",
       "  <tbody>\n",
       "    <tr>\n",
       "      <th>1</th>\n",
       "      <td>1.961083</td>\n",
       "      <td>foo</td>\n",
       "      <td>7.844332</td>\n",
       "      <td>True</td>\n",
       "    </tr>\n",
       "  </tbody>\n",
       "</table>\n",
       "</div>"
      ],
      "text/plain": [
       "     normal foo_bar  weighted_normal  is_positive\n",
       "1  1.961083     foo         7.844332         True"
      ]
     },
     "execution_count": 352,
     "metadata": {},
     "output_type": "execute_result"
    }
   ],
   "source": [
    "df[ df['normal'] == df['normal'].max() ]"
   ]
  },
  {
   "cell_type": "markdown",
   "metadata": {
    "slideshow": {
     "slide_type": "slide"
    }
   },
   "source": [
    "### Saving a DataFrame"
   ]
  },
  {
   "cell_type": "code",
   "execution_count": 353,
   "metadata": {},
   "outputs": [],
   "source": [
    "df.to_csv('data/random_df.csv', sep=',', header=True, index=False)"
   ]
  },
  {
   "cell_type": "markdown",
   "metadata": {
    "slideshow": {
     "slide_type": "slide"
    }
   },
   "source": [
    "## Getting data into a DataFrame"
   ]
  },
  {
   "cell_type": "markdown",
   "metadata": {},
   "source": [
    "### CSV"
   ]
  },
  {
   "cell_type": "code",
   "execution_count": 354,
   "metadata": {
    "scrolled": true
   },
   "outputs": [
    {
     "data": {
      "text/html": [
       "<div>\n",
       "<style scoped>\n",
       "    .dataframe tbody tr th:only-of-type {\n",
       "        vertical-align: middle;\n",
       "    }\n",
       "\n",
       "    .dataframe tbody tr th {\n",
       "        vertical-align: top;\n",
       "    }\n",
       "\n",
       "    .dataframe thead th {\n",
       "        text-align: right;\n",
       "    }\n",
       "</style>\n",
       "<table border=\"1\" class=\"dataframe\">\n",
       "  <thead>\n",
       "    <tr style=\"text-align: right;\">\n",
       "      <th></th>\n",
       "      <th>normal</th>\n",
       "      <th>foo_bar</th>\n",
       "      <th>weighted_normal</th>\n",
       "      <th>is_positive</th>\n",
       "    </tr>\n",
       "  </thead>\n",
       "  <tbody>\n",
       "    <tr>\n",
       "      <th>0</th>\n",
       "      <td>-0.812287</td>\n",
       "      <td>bar</td>\n",
       "      <td>-4.061436</td>\n",
       "      <td>False</td>\n",
       "    </tr>\n",
       "    <tr>\n",
       "      <th>1</th>\n",
       "      <td>1.961083</td>\n",
       "      <td>foo</td>\n",
       "      <td>7.844332</td>\n",
       "      <td>True</td>\n",
       "    </tr>\n",
       "    <tr>\n",
       "      <th>2</th>\n",
       "      <td>0.786286</td>\n",
       "      <td>bar</td>\n",
       "      <td>7.076574</td>\n",
       "      <td>True</td>\n",
       "    </tr>\n",
       "    <tr>\n",
       "      <th>3</th>\n",
       "      <td>-0.094270</td>\n",
       "      <td>foo</td>\n",
       "      <td>-0.471348</td>\n",
       "      <td>False</td>\n",
       "    </tr>\n",
       "    <tr>\n",
       "      <th>4</th>\n",
       "      <td>0.554428</td>\n",
       "      <td>bar</td>\n",
       "      <td>3.880997</td>\n",
       "      <td>True</td>\n",
       "    </tr>\n",
       "    <tr>\n",
       "      <th>5</th>\n",
       "      <td>-0.081184</td>\n",
       "      <td>bar</td>\n",
       "      <td>-0.243551</td>\n",
       "      <td>False</td>\n",
       "    </tr>\n",
       "    <tr>\n",
       "      <th>6</th>\n",
       "      <td>0.230689</td>\n",
       "      <td>bar</td>\n",
       "      <td>0.692068</td>\n",
       "      <td>True</td>\n",
       "    </tr>\n",
       "    <tr>\n",
       "      <th>7</th>\n",
       "      <td>-1.068954</td>\n",
       "      <td>bar</td>\n",
       "      <td>-3.206862</td>\n",
       "      <td>False</td>\n",
       "    </tr>\n",
       "    <tr>\n",
       "      <th>8</th>\n",
       "      <td>-0.273369</td>\n",
       "      <td>bar</td>\n",
       "      <td>-0.820107</td>\n",
       "      <td>False</td>\n",
       "    </tr>\n",
       "    <tr>\n",
       "      <th>9</th>\n",
       "      <td>-1.061717</td>\n",
       "      <td>foo</td>\n",
       "      <td>-3.185152</td>\n",
       "      <td>False</td>\n",
       "    </tr>\n",
       "  </tbody>\n",
       "</table>\n",
       "</div>"
      ],
      "text/plain": [
       "     normal foo_bar  weighted_normal  is_positive\n",
       "0 -0.812287     bar        -4.061436        False\n",
       "1  1.961083     foo         7.844332         True\n",
       "2  0.786286     bar         7.076574         True\n",
       "3 -0.094270     foo        -0.471348        False\n",
       "4  0.554428     bar         3.880997         True\n",
       "5 -0.081184     bar        -0.243551        False\n",
       "6  0.230689     bar         0.692068         True\n",
       "7 -1.068954     bar        -3.206862        False\n",
       "8 -0.273369     bar        -0.820107        False\n",
       "9 -1.061717     foo        -3.185152        False"
      ]
     },
     "execution_count": 354,
     "metadata": {},
     "output_type": "execute_result"
    }
   ],
   "source": [
    "df_random = pd.read_csv('data/random_df.csv')\n",
    "df_random"
   ]
  },
  {
   "cell_type": "code",
   "execution_count": 355,
   "metadata": {
    "slideshow": {
     "slide_type": "slide"
    }
   },
   "outputs": [
    {
     "data": {
      "text/plain": [
       "normal             float64\n",
       "foo_bar             object\n",
       "weighted_normal    float64\n",
       "is_positive           bool\n",
       "dtype: object"
      ]
     },
     "execution_count": 355,
     "metadata": {},
     "output_type": "execute_result"
    }
   ],
   "source": [
    "df_random.dtypes"
   ]
  },
  {
   "cell_type": "code",
   "execution_count": 356,
   "metadata": {
    "scrolled": true
   },
   "outputs": [
    {
     "data": {
      "text/html": [
       "<div>\n",
       "<style scoped>\n",
       "    .dataframe tbody tr th:only-of-type {\n",
       "        vertical-align: middle;\n",
       "    }\n",
       "\n",
       "    .dataframe tbody tr th {\n",
       "        vertical-align: top;\n",
       "    }\n",
       "\n",
       "    .dataframe thead th {\n",
       "        text-align: right;\n",
       "    }\n",
       "</style>\n",
       "<table border=\"1\" class=\"dataframe\">\n",
       "  <thead>\n",
       "    <tr style=\"text-align: right;\">\n",
       "      <th></th>\n",
       "      <th>normal</th>\n",
       "      <th>foo_bar</th>\n",
       "      <th>weighted_normal</th>\n",
       "      <th>is_positive</th>\n",
       "    </tr>\n",
       "  </thead>\n",
       "  <tbody>\n",
       "    <tr>\n",
       "      <th>0</th>\n",
       "      <td>-0.812287</td>\n",
       "      <td>bar</td>\n",
       "      <td>-4.061436</td>\n",
       "      <td>False</td>\n",
       "    </tr>\n",
       "    <tr>\n",
       "      <th>1</th>\n",
       "      <td>1.961083</td>\n",
       "      <td>foo</td>\n",
       "      <td>7.844332</td>\n",
       "      <td>True</td>\n",
       "    </tr>\n",
       "    <tr>\n",
       "      <th>2</th>\n",
       "      <td>0.786286</td>\n",
       "      <td>bar</td>\n",
       "      <td>7.076574</td>\n",
       "      <td>True</td>\n",
       "    </tr>\n",
       "    <tr>\n",
       "      <th>3</th>\n",
       "      <td>-0.094270</td>\n",
       "      <td>foo</td>\n",
       "      <td>-0.471348</td>\n",
       "      <td>False</td>\n",
       "    </tr>\n",
       "    <tr>\n",
       "      <th>4</th>\n",
       "      <td>0.554428</td>\n",
       "      <td>bar</td>\n",
       "      <td>3.880997</td>\n",
       "      <td>True</td>\n",
       "    </tr>\n",
       "    <tr>\n",
       "      <th>5</th>\n",
       "      <td>-0.081184</td>\n",
       "      <td>bar</td>\n",
       "      <td>-0.243551</td>\n",
       "      <td>False</td>\n",
       "    </tr>\n",
       "    <tr>\n",
       "      <th>6</th>\n",
       "      <td>0.230689</td>\n",
       "      <td>bar</td>\n",
       "      <td>0.692068</td>\n",
       "      <td>True</td>\n",
       "    </tr>\n",
       "    <tr>\n",
       "      <th>7</th>\n",
       "      <td>-1.068954</td>\n",
       "      <td>bar</td>\n",
       "      <td>-3.206862</td>\n",
       "      <td>False</td>\n",
       "    </tr>\n",
       "    <tr>\n",
       "      <th>8</th>\n",
       "      <td>-0.273369</td>\n",
       "      <td>bar</td>\n",
       "      <td>-0.820107</td>\n",
       "      <td>False</td>\n",
       "    </tr>\n",
       "    <tr>\n",
       "      <th>9</th>\n",
       "      <td>-1.061717</td>\n",
       "      <td>foo</td>\n",
       "      <td>-3.185152</td>\n",
       "      <td>False</td>\n",
       "    </tr>\n",
       "  </tbody>\n",
       "</table>\n",
       "</div>"
      ],
      "text/plain": [
       "     normal foo_bar  weighted_normal  is_positive\n",
       "0 -0.812287     bar        -4.061436        False\n",
       "1  1.961083     foo         7.844332         True\n",
       "2  0.786286     bar         7.076574         True\n",
       "3 -0.094270     foo        -0.471348        False\n",
       "4  0.554428     bar         3.880997         True\n",
       "5 -0.081184     bar        -0.243551        False\n",
       "6  0.230689     bar         0.692068         True\n",
       "7 -1.068954     bar        -3.206862        False\n",
       "8 -0.273369     bar        -0.820107        False\n",
       "9 -1.061717     foo        -3.185152        False"
      ]
     },
     "execution_count": 356,
     "metadata": {},
     "output_type": "execute_result"
    }
   ],
   "source": [
    "df_random = pd.read_csv('data/random_df.csv', header=0, sep=',')\n",
    "df_random"
   ]
  },
  {
   "cell_type": "markdown",
   "metadata": {},
   "source": [
    "`read_csv()` has tons of options to help navigate the morass of CSV formatting: [check them out](https://pandas.pydata.org/pandas-docs/stable/generated/pandas.read_csv.html)."
   ]
  },
  {
   "cell_type": "markdown",
   "metadata": {
    "slideshow": {
     "slide_type": "slide"
    }
   },
   "source": [
    "### JSON"
   ]
  },
  {
   "cell_type": "code",
   "execution_count": 357,
   "metadata": {},
   "outputs": [],
   "source": [
    "df_generated = pd.read_json('data/generated.json')"
   ]
  },
  {
   "cell_type": "code",
   "execution_count": 358,
   "metadata": {
    "slideshow": {
     "slide_type": "slide"
    }
   },
   "outputs": [
    {
     "data": {
      "text/html": [
       "<div>\n",
       "<style scoped>\n",
       "    .dataframe tbody tr th:only-of-type {\n",
       "        vertical-align: middle;\n",
       "    }\n",
       "\n",
       "    .dataframe tbody tr th {\n",
       "        vertical-align: top;\n",
       "    }\n",
       "\n",
       "    .dataframe thead th {\n",
       "        text-align: right;\n",
       "    }\n",
       "</style>\n",
       "<table border=\"1\" class=\"dataframe\">\n",
       "  <thead>\n",
       "    <tr style=\"text-align: right;\">\n",
       "      <th></th>\n",
       "      <th>0</th>\n",
       "      <th>1</th>\n",
       "      <th>2</th>\n",
       "      <th>3</th>\n",
       "      <th>4</th>\n",
       "    </tr>\n",
       "  </thead>\n",
       "  <tbody>\n",
       "    <tr>\n",
       "      <th>_id</th>\n",
       "      <td>5a70cfbc45459ab8b01b0772</td>\n",
       "      <td>5a70cfbca8acc89ddf73fe58</td>\n",
       "      <td>5a70cfbca6467b1911ba63f5</td>\n",
       "      <td>5a70cfbc5f072e9d911e49df</td>\n",
       "      <td>5a70cfbc4d421b6fdbf78baf</td>\n",
       "    </tr>\n",
       "    <tr>\n",
       "      <th>about</th>\n",
       "      <td>Ullamco ex dolor aliqua dolor duis esse ipsum ...</td>\n",
       "      <td>Mollit ex Lorem in nisi fugiat mollit irure ei...</td>\n",
       "      <td>Laborum ea dolor cupidatat proident cillum est...</td>\n",
       "      <td>Quis adipisicing aute elit dolor pariatur dolo...</td>\n",
       "      <td>Exercitation sunt ullamco labore velit aute cu...</td>\n",
       "    </tr>\n",
       "    <tr>\n",
       "      <th>address</th>\n",
       "      <td>726 Lincoln Terrace, Cowiche, Alabama, 9320</td>\n",
       "      <td>258 Rockwell Place, Osage, Puerto Rico, 549</td>\n",
       "      <td>491 Dennett Place, Downsville, Washington, 5649</td>\n",
       "      <td>818 Cooper Street, Forbestown, Maryland, 8259</td>\n",
       "      <td>322 Lawton Street, Coleville, Ohio, 3802</td>\n",
       "    </tr>\n",
       "    <tr>\n",
       "      <th>age</th>\n",
       "      <td>40</td>\n",
       "      <td>34</td>\n",
       "      <td>37</td>\n",
       "      <td>33</td>\n",
       "      <td>32</td>\n",
       "    </tr>\n",
       "    <tr>\n",
       "      <th>balance</th>\n",
       "      <td>$3,635.14</td>\n",
       "      <td>$1,078.48</td>\n",
       "      <td>$3,602.10</td>\n",
       "      <td>$3,052.70</td>\n",
       "      <td>$2,986.41</td>\n",
       "    </tr>\n",
       "    <tr>\n",
       "      <th>company</th>\n",
       "      <td>BESTO</td>\n",
       "      <td>TOURMANIA</td>\n",
       "      <td>ENERSAVE</td>\n",
       "      <td>VIOCULAR</td>\n",
       "      <td>TECHADE</td>\n",
       "    </tr>\n",
       "    <tr>\n",
       "      <th>email</th>\n",
       "      <td>corrinepugh@besto.com</td>\n",
       "      <td>stantonkelley@tourmania.com</td>\n",
       "      <td>dollienelson@enersave.com</td>\n",
       "      <td>deenaschmidt@viocular.com</td>\n",
       "      <td>gaygriffith@techade.com</td>\n",
       "    </tr>\n",
       "    <tr>\n",
       "      <th>eyeColor</th>\n",
       "      <td>green</td>\n",
       "      <td>blue</td>\n",
       "      <td>brown</td>\n",
       "      <td>brown</td>\n",
       "      <td>green</td>\n",
       "    </tr>\n",
       "    <tr>\n",
       "      <th>favoriteFruit</th>\n",
       "      <td>strawberry</td>\n",
       "      <td>strawberry</td>\n",
       "      <td>apple</td>\n",
       "      <td>apple</td>\n",
       "      <td>strawberry</td>\n",
       "    </tr>\n",
       "    <tr>\n",
       "      <th>friends</th>\n",
       "      <td>[{'id': 0, 'name': 'Hannah Pacheco'}, {'id': 1...</td>\n",
       "      <td>[{'id': 0, 'name': 'Luna Campos'}, {'id': 1, '...</td>\n",
       "      <td>[{'id': 0, 'name': 'Crystal Sloan'}, {'id': 1,...</td>\n",
       "      <td>[{'id': 0, 'name': 'Rice Keith'}, {'id': 1, 'n...</td>\n",
       "      <td>[{'id': 0, 'name': 'Harding Thompson'}, {'id':...</td>\n",
       "    </tr>\n",
       "    <tr>\n",
       "      <th>gender</th>\n",
       "      <td>female</td>\n",
       "      <td>male</td>\n",
       "      <td>female</td>\n",
       "      <td>female</td>\n",
       "      <td>male</td>\n",
       "    </tr>\n",
       "    <tr>\n",
       "      <th>greeting</th>\n",
       "      <td>Hello, Corrine Pugh! You have 3 unread messages.</td>\n",
       "      <td>Hello, Stanton Kelley! You have 4 unread messa...</td>\n",
       "      <td>Hello, Dollie Nelson! You have 7 unread messages.</td>\n",
       "      <td>Hello, Deena Schmidt! You have 5 unread messages.</td>\n",
       "      <td>Hello, Gay Griffith! You have 2 unread messages.</td>\n",
       "    </tr>\n",
       "    <tr>\n",
       "      <th>guid</th>\n",
       "      <td>fdd155b6-5d61-4ae0-a912-d11533c94e9c</td>\n",
       "      <td>789e1e8e-b093-4182-a482-0d206a9b26ec</td>\n",
       "      <td>6ebc5c58-e9d9-467a-845f-b13229c5a505</td>\n",
       "      <td>48f596dd-c440-4940-8f53-9dc17a4d8b8f</td>\n",
       "      <td>a46324b5-ff81-4b2c-8136-dc5adb830adc</td>\n",
       "    </tr>\n",
       "    <tr>\n",
       "      <th>index</th>\n",
       "      <td>0</td>\n",
       "      <td>1</td>\n",
       "      <td>2</td>\n",
       "      <td>3</td>\n",
       "      <td>4</td>\n",
       "    </tr>\n",
       "    <tr>\n",
       "      <th>isActive</th>\n",
       "      <td>True</td>\n",
       "      <td>True</td>\n",
       "      <td>True</td>\n",
       "      <td>False</td>\n",
       "      <td>False</td>\n",
       "    </tr>\n",
       "    <tr>\n",
       "      <th>latitude</th>\n",
       "      <td>64.8811</td>\n",
       "      <td>10.1817</td>\n",
       "      <td>-49.7484</td>\n",
       "      <td>-10.1333</td>\n",
       "      <td>44.3526</td>\n",
       "    </tr>\n",
       "    <tr>\n",
       "      <th>longitude</th>\n",
       "      <td>152.11</td>\n",
       "      <td>22.472</td>\n",
       "      <td>-37.1001</td>\n",
       "      <td>89.5925</td>\n",
       "      <td>101.846</td>\n",
       "    </tr>\n",
       "    <tr>\n",
       "      <th>name</th>\n",
       "      <td>Corrine Pugh</td>\n",
       "      <td>Stanton Kelley</td>\n",
       "      <td>Dollie Nelson</td>\n",
       "      <td>Deena Schmidt</td>\n",
       "      <td>Gay Griffith</td>\n",
       "    </tr>\n",
       "    <tr>\n",
       "      <th>phone</th>\n",
       "      <td>+1 (856) 523-2643</td>\n",
       "      <td>+1 (974) 491-2133</td>\n",
       "      <td>+1 (883) 489-3713</td>\n",
       "      <td>+1 (880) 417-3391</td>\n",
       "      <td>+1 (964) 583-3859</td>\n",
       "    </tr>\n",
       "    <tr>\n",
       "      <th>picture</th>\n",
       "      <td>http://placehold.it/32x32</td>\n",
       "      <td>http://placehold.it/32x32</td>\n",
       "      <td>http://placehold.it/32x32</td>\n",
       "      <td>http://placehold.it/32x32</td>\n",
       "      <td>http://placehold.it/32x32</td>\n",
       "    </tr>\n",
       "    <tr>\n",
       "      <th>registered</th>\n",
       "      <td>2016-03-08T10:47:14 -01:00</td>\n",
       "      <td>2017-10-23T03:42:05 -02:00</td>\n",
       "      <td>2014-06-24T08:53:19 -02:00</td>\n",
       "      <td>2014-09-15T05:32:02 -02:00</td>\n",
       "      <td>2015-10-10T03:17:41 -02:00</td>\n",
       "    </tr>\n",
       "    <tr>\n",
       "      <th>tags</th>\n",
       "      <td>[duis, excepteur, tempor, aliqua, proident, am...</td>\n",
       "      <td>[adipisicing, commodo, enim, aliqua, do, quis,...</td>\n",
       "      <td>[mollit, nulla, occaecat, aliqua, ad, minim, o...</td>\n",
       "      <td>[ullamco, incididunt, deserunt, ipsum, veniam,...</td>\n",
       "      <td>[duis, quis, proident, qui, quis, velit, labore]</td>\n",
       "    </tr>\n",
       "  </tbody>\n",
       "</table>\n",
       "</div>"
      ],
      "text/plain": [
       "                                                               0  \\\n",
       "_id                                     5a70cfbc45459ab8b01b0772   \n",
       "about          Ullamco ex dolor aliqua dolor duis esse ipsum ...   \n",
       "address              726 Lincoln Terrace, Cowiche, Alabama, 9320   \n",
       "age                                                           40   \n",
       "balance                                                $3,635.14   \n",
       "company                                                    BESTO   \n",
       "email                                      corrinepugh@besto.com   \n",
       "eyeColor                                                   green   \n",
       "favoriteFruit                                         strawberry   \n",
       "friends        [{'id': 0, 'name': 'Hannah Pacheco'}, {'id': 1...   \n",
       "gender                                                    female   \n",
       "greeting        Hello, Corrine Pugh! You have 3 unread messages.   \n",
       "guid                        fdd155b6-5d61-4ae0-a912-d11533c94e9c   \n",
       "index                                                          0   \n",
       "isActive                                                    True   \n",
       "latitude                                                 64.8811   \n",
       "longitude                                                 152.11   \n",
       "name                                                Corrine Pugh   \n",
       "phone                                          +1 (856) 523-2643   \n",
       "picture                                http://placehold.it/32x32   \n",
       "registered                            2016-03-08T10:47:14 -01:00   \n",
       "tags           [duis, excepteur, tempor, aliqua, proident, am...   \n",
       "\n",
       "                                                               1  \\\n",
       "_id                                     5a70cfbca8acc89ddf73fe58   \n",
       "about          Mollit ex Lorem in nisi fugiat mollit irure ei...   \n",
       "address              258 Rockwell Place, Osage, Puerto Rico, 549   \n",
       "age                                                           34   \n",
       "balance                                                $1,078.48   \n",
       "company                                                TOURMANIA   \n",
       "email                                stantonkelley@tourmania.com   \n",
       "eyeColor                                                    blue   \n",
       "favoriteFruit                                         strawberry   \n",
       "friends        [{'id': 0, 'name': 'Luna Campos'}, {'id': 1, '...   \n",
       "gender                                                      male   \n",
       "greeting       Hello, Stanton Kelley! You have 4 unread messa...   \n",
       "guid                        789e1e8e-b093-4182-a482-0d206a9b26ec   \n",
       "index                                                          1   \n",
       "isActive                                                    True   \n",
       "latitude                                                 10.1817   \n",
       "longitude                                                 22.472   \n",
       "name                                              Stanton Kelley   \n",
       "phone                                          +1 (974) 491-2133   \n",
       "picture                                http://placehold.it/32x32   \n",
       "registered                            2017-10-23T03:42:05 -02:00   \n",
       "tags           [adipisicing, commodo, enim, aliqua, do, quis,...   \n",
       "\n",
       "                                                               2  \\\n",
       "_id                                     5a70cfbca6467b1911ba63f5   \n",
       "about          Laborum ea dolor cupidatat proident cillum est...   \n",
       "address          491 Dennett Place, Downsville, Washington, 5649   \n",
       "age                                                           37   \n",
       "balance                                                $3,602.10   \n",
       "company                                                 ENERSAVE   \n",
       "email                                  dollienelson@enersave.com   \n",
       "eyeColor                                                   brown   \n",
       "favoriteFruit                                              apple   \n",
       "friends        [{'id': 0, 'name': 'Crystal Sloan'}, {'id': 1,...   \n",
       "gender                                                    female   \n",
       "greeting       Hello, Dollie Nelson! You have 7 unread messages.   \n",
       "guid                        6ebc5c58-e9d9-467a-845f-b13229c5a505   \n",
       "index                                                          2   \n",
       "isActive                                                    True   \n",
       "latitude                                                -49.7484   \n",
       "longitude                                               -37.1001   \n",
       "name                                               Dollie Nelson   \n",
       "phone                                          +1 (883) 489-3713   \n",
       "picture                                http://placehold.it/32x32   \n",
       "registered                            2014-06-24T08:53:19 -02:00   \n",
       "tags           [mollit, nulla, occaecat, aliqua, ad, minim, o...   \n",
       "\n",
       "                                                               3  \\\n",
       "_id                                     5a70cfbc5f072e9d911e49df   \n",
       "about          Quis adipisicing aute elit dolor pariatur dolo...   \n",
       "address            818 Cooper Street, Forbestown, Maryland, 8259   \n",
       "age                                                           33   \n",
       "balance                                                $3,052.70   \n",
       "company                                                 VIOCULAR   \n",
       "email                                  deenaschmidt@viocular.com   \n",
       "eyeColor                                                   brown   \n",
       "favoriteFruit                                              apple   \n",
       "friends        [{'id': 0, 'name': 'Rice Keith'}, {'id': 1, 'n...   \n",
       "gender                                                    female   \n",
       "greeting       Hello, Deena Schmidt! You have 5 unread messages.   \n",
       "guid                        48f596dd-c440-4940-8f53-9dc17a4d8b8f   \n",
       "index                                                          3   \n",
       "isActive                                                   False   \n",
       "latitude                                                -10.1333   \n",
       "longitude                                                89.5925   \n",
       "name                                               Deena Schmidt   \n",
       "phone                                          +1 (880) 417-3391   \n",
       "picture                                http://placehold.it/32x32   \n",
       "registered                            2014-09-15T05:32:02 -02:00   \n",
       "tags           [ullamco, incididunt, deserunt, ipsum, veniam,...   \n",
       "\n",
       "                                                               4  \n",
       "_id                                     5a70cfbc4d421b6fdbf78baf  \n",
       "about          Exercitation sunt ullamco labore velit aute cu...  \n",
       "address                 322 Lawton Street, Coleville, Ohio, 3802  \n",
       "age                                                           32  \n",
       "balance                                                $2,986.41  \n",
       "company                                                  TECHADE  \n",
       "email                                    gaygriffith@techade.com  \n",
       "eyeColor                                                   green  \n",
       "favoriteFruit                                         strawberry  \n",
       "friends        [{'id': 0, 'name': 'Harding Thompson'}, {'id':...  \n",
       "gender                                                      male  \n",
       "greeting        Hello, Gay Griffith! You have 2 unread messages.  \n",
       "guid                        a46324b5-ff81-4b2c-8136-dc5adb830adc  \n",
       "index                                                          4  \n",
       "isActive                                                   False  \n",
       "latitude                                                 44.3526  \n",
       "longitude                                                101.846  \n",
       "name                                                Gay Griffith  \n",
       "phone                                          +1 (964) 583-3859  \n",
       "picture                                http://placehold.it/32x32  \n",
       "registered                            2015-10-10T03:17:41 -02:00  \n",
       "tags            [duis, quis, proident, qui, quis, velit, labore]  "
      ]
     },
     "execution_count": 358,
     "metadata": {},
     "output_type": "execute_result"
    }
   ],
   "source": [
    "df_generated.head().T"
   ]
  },
  {
   "cell_type": "code",
   "execution_count": 359,
   "metadata": {
    "slideshow": {
     "slide_type": "slide"
    }
   },
   "outputs": [
    {
     "data": {
      "text/plain": [
       "_id               object\n",
       "about             object\n",
       "address           object\n",
       "age                int64\n",
       "balance           object\n",
       "company           object\n",
       "email             object\n",
       "eyeColor          object\n",
       "favoriteFruit     object\n",
       "friends           object\n",
       "gender            object\n",
       "greeting          object\n",
       "guid              object\n",
       "index              int64\n",
       "isActive            bool\n",
       "latitude         float64\n",
       "longitude        float64\n",
       "name              object\n",
       "phone             object\n",
       "picture           object\n",
       "registered        object\n",
       "tags              object\n",
       "dtype: object"
      ]
     },
     "execution_count": 359,
     "metadata": {},
     "output_type": "execute_result"
    }
   ],
   "source": [
    "df_generated.dtypes"
   ]
  },
  {
   "cell_type": "code",
   "execution_count": 360,
   "metadata": {
    "slideshow": {
     "slide_type": "slide"
    }
   },
   "outputs": [
    {
     "data": {
      "text/plain": [
       "0    2016-03-08T10:47:14 -01:00\n",
       "1    2017-10-23T03:42:05 -02:00\n",
       "2    2014-06-24T08:53:19 -02:00\n",
       "3    2014-09-15T05:32:02 -02:00\n",
       "4    2015-10-10T03:17:41 -02:00\n",
       "5    2014-06-23T02:54:36 -02:00\n",
       "6    2016-03-30T01:18:36 -02:00\n",
       "Name: registered, dtype: object"
      ]
     },
     "execution_count": 360,
     "metadata": {},
     "output_type": "execute_result"
    }
   ],
   "source": [
    "df_generated['registered']"
   ]
  },
  {
   "cell_type": "code",
   "execution_count": 361,
   "metadata": {},
   "outputs": [],
   "source": [
    "df_generated = pd.read_json('data/generated.json', convert_dates=['registered',])"
   ]
  },
  {
   "cell_type": "code",
   "execution_count": 362,
   "metadata": {
    "slideshow": {
     "slide_type": "slide"
    }
   },
   "outputs": [
    {
     "data": {
      "text/plain": [
       "_id                      object\n",
       "about                    object\n",
       "address                  object\n",
       "age                       int64\n",
       "balance                  object\n",
       "company                  object\n",
       "email                    object\n",
       "eyeColor                 object\n",
       "favoriteFruit            object\n",
       "friends                  object\n",
       "gender                   object\n",
       "greeting                 object\n",
       "guid                     object\n",
       "index                     int64\n",
       "isActive                   bool\n",
       "latitude                float64\n",
       "longitude               float64\n",
       "name                     object\n",
       "phone                    object\n",
       "picture                  object\n",
       "registered       datetime64[ns]\n",
       "tags                     object\n",
       "dtype: object"
      ]
     },
     "execution_count": 362,
     "metadata": {},
     "output_type": "execute_result"
    }
   ],
   "source": [
    "df_generated.dtypes"
   ]
  },
  {
   "cell_type": "code",
   "execution_count": 363,
   "metadata": {
    "slideshow": {
     "slide_type": "slide"
    }
   },
   "outputs": [
    {
     "data": {
      "text/plain": [
       "0   2016-03-08 11:47:14\n",
       "1   2017-10-23 05:42:05\n",
       "2   2014-06-24 10:53:19\n",
       "3   2014-09-15 07:32:02\n",
       "4   2015-10-10 05:17:41\n",
       "5   2014-06-23 04:54:36\n",
       "6   2016-03-30 03:18:36\n",
       "Name: registered, dtype: datetime64[ns]"
      ]
     },
     "execution_count": 363,
     "metadata": {},
     "output_type": "execute_result"
    }
   ],
   "source": [
    "df_generated['registered']"
   ]
  },
  {
   "cell_type": "code",
   "execution_count": 364,
   "metadata": {
    "slideshow": {
     "slide_type": "slide"
    }
   },
   "outputs": [
    {
     "data": {
      "text/plain": [
       "0    $3,635.14\n",
       "1    $1,078.48\n",
       "2    $3,602.10\n",
       "3    $3,052.70\n",
       "4    $2,986.41\n",
       "5    $1,738.60\n",
       "6    $3,907.58\n",
       "Name: balance, dtype: object"
      ]
     },
     "execution_count": 364,
     "metadata": {},
     "output_type": "execute_result"
    }
   ],
   "source": [
    "df_generated['balance']"
   ]
  },
  {
   "cell_type": "code",
   "execution_count": 365,
   "metadata": {},
   "outputs": [
    {
     "data": {
      "text/plain": [
       "3635.14"
      ]
     },
     "execution_count": 365,
     "metadata": {},
     "output_type": "execute_result"
    }
   ],
   "source": [
    "x = '$3,635.14'\n",
    "float(x[1:].replace(',', ''))"
   ]
  },
  {
   "cell_type": "code",
   "execution_count": 366,
   "metadata": {
    "slideshow": {
     "slide_type": "slide"
    }
   },
   "outputs": [],
   "source": [
    "def convert_balance_to_float(balance):\n",
    "    return float(balance[1:].replace(',', ''))"
   ]
  },
  {
   "cell_type": "code",
   "execution_count": 367,
   "metadata": {},
   "outputs": [],
   "source": [
    "df_generated['float_balance'] = df_generated['balance'].apply(convert_balance_to_float)"
   ]
  },
  {
   "cell_type": "code",
   "execution_count": 368,
   "metadata": {},
   "outputs": [
    {
     "data": {
      "text/plain": [
       "0    3635.14\n",
       "1    1078.48\n",
       "2    3602.10\n",
       "3    3052.70\n",
       "4    2986.41\n",
       "5    1738.60\n",
       "6    3907.58\n",
       "Name: float_balance, dtype: float64"
      ]
     },
     "execution_count": 368,
     "metadata": {},
     "output_type": "execute_result"
    }
   ],
   "source": [
    "df_generated['float_balance']"
   ]
  },
  {
   "cell_type": "markdown",
   "metadata": {
    "slideshow": {
     "slide_type": "slide"
    }
   },
   "source": [
    "## Exercise:\n",
    "\n",
    "Add four new columns to `df_generated`: `street` (includes hous number and street name), `city`, `state`, and `postcode` based on the `address` column. Do so using the `apply` method. Make sure that the `dtype` for the `postcode` is `int`.\n",
    "\n",
    "Advanced: split `street` into `house_number` and `street_name`, again ensuring that `house_number` is of `dtype` `int`."
   ]
  },
  {
   "cell_type": "markdown",
   "metadata": {
    "slideshow": {
     "slide_type": "slide"
    }
   },
   "source": [
    "## Split-Apply-Combine \n",
    "\n",
    "A moment of abstraction. \n",
    "\n",
    "Very often we will want to perform group operations on data. In a financial example we might want to perform an operation for every week or for every month of data. In another example we might want to apply methods per geolocation/type of person/per website, etc.\n",
    "\n",
    "Whenever we are doing such an operation, we might look at it as a ```split-apply-combine``` operation, shown visually below:\n",
    "\n",
    "![](images/split_apply_combine.jpg)\n",
    "\n",
    "pandas has great support for these kinds of operations. Based on the key of a DataFrame we will split the data and then apply functions to the grouped data. "
   ]
  },
  {
   "cell_type": "markdown",
   "metadata": {
    "slideshow": {
     "slide_type": "slide"
    }
   },
   "source": [
    "## Enter ChickWeight \n",
    "\n",
    "For this next bit we will return to the ChickWeight dataset. This dataset contains information about different diets for chickens. The goal of the dataset is to find out which diet will get the chickens as fat as possible. "
   ]
  },
  {
   "cell_type": "code",
   "execution_count": 369,
   "metadata": {},
   "outputs": [
    {
     "data": {
      "text/html": [
       "<div>\n",
       "<style scoped>\n",
       "    .dataframe tbody tr th:only-of-type {\n",
       "        vertical-align: middle;\n",
       "    }\n",
       "\n",
       "    .dataframe tbody tr th {\n",
       "        vertical-align: top;\n",
       "    }\n",
       "\n",
       "    .dataframe thead th {\n",
       "        text-align: right;\n",
       "    }\n",
       "</style>\n",
       "<table border=\"1\" class=\"dataframe\">\n",
       "  <thead>\n",
       "    <tr style=\"text-align: right;\">\n",
       "      <th></th>\n",
       "      <th>rownum</th>\n",
       "      <th>weight</th>\n",
       "      <th>Time</th>\n",
       "      <th>Chick</th>\n",
       "      <th>Diet</th>\n",
       "    </tr>\n",
       "  </thead>\n",
       "  <tbody>\n",
       "    <tr>\n",
       "      <th>0</th>\n",
       "      <td>1</td>\n",
       "      <td>42</td>\n",
       "      <td>0</td>\n",
       "      <td>1</td>\n",
       "      <td>1</td>\n",
       "    </tr>\n",
       "    <tr>\n",
       "      <th>1</th>\n",
       "      <td>2</td>\n",
       "      <td>51</td>\n",
       "      <td>2</td>\n",
       "      <td>1</td>\n",
       "      <td>1</td>\n",
       "    </tr>\n",
       "    <tr>\n",
       "      <th>2</th>\n",
       "      <td>3</td>\n",
       "      <td>59</td>\n",
       "      <td>4</td>\n",
       "      <td>1</td>\n",
       "      <td>1</td>\n",
       "    </tr>\n",
       "    <tr>\n",
       "      <th>3</th>\n",
       "      <td>4</td>\n",
       "      <td>64</td>\n",
       "      <td>6</td>\n",
       "      <td>1</td>\n",
       "      <td>1</td>\n",
       "    </tr>\n",
       "    <tr>\n",
       "      <th>4</th>\n",
       "      <td>5</td>\n",
       "      <td>76</td>\n",
       "      <td>8</td>\n",
       "      <td>1</td>\n",
       "      <td>1</td>\n",
       "    </tr>\n",
       "  </tbody>\n",
       "</table>\n",
       "</div>"
      ],
      "text/plain": [
       "   rownum  weight  Time  Chick  Diet\n",
       "0       1      42     0      1     1\n",
       "1       2      51     2      1     1\n",
       "2       3      59     4      1     1\n",
       "3       4      64     6      1     1\n",
       "4       5      76     8      1     1"
      ]
     },
     "execution_count": 369,
     "metadata": {},
     "output_type": "execute_result"
    }
   ],
   "source": [
    "df_chickweight = pd.read_csv('data/chickweight.csv')\n",
    "# data: http://koaning.s3-website-us-west-2.amazonaws.com/data/pydata/chickweight.csv\n",
    "df_chickweight.head()"
   ]
  },
  {
   "cell_type": "code",
   "execution_count": 370,
   "metadata": {
    "scrolled": true,
    "slideshow": {
     "slide_type": "slide"
    }
   },
   "outputs": [
    {
     "data": {
      "text/html": [
       "<div>\n",
       "<style scoped>\n",
       "    .dataframe tbody tr th:only-of-type {\n",
       "        vertical-align: middle;\n",
       "    }\n",
       "\n",
       "    .dataframe tbody tr th {\n",
       "        vertical-align: top;\n",
       "    }\n",
       "\n",
       "    .dataframe thead th {\n",
       "        text-align: right;\n",
       "    }\n",
       "</style>\n",
       "<table border=\"1\" class=\"dataframe\">\n",
       "  <thead>\n",
       "    <tr style=\"text-align: right;\">\n",
       "      <th></th>\n",
       "      <th>weight</th>\n",
       "      <th>Time</th>\n",
       "      <th>Chick</th>\n",
       "      <th>Diet</th>\n",
       "    </tr>\n",
       "    <tr>\n",
       "      <th>rownum</th>\n",
       "      <th></th>\n",
       "      <th></th>\n",
       "      <th></th>\n",
       "      <th></th>\n",
       "    </tr>\n",
       "  </thead>\n",
       "  <tbody>\n",
       "    <tr>\n",
       "      <th>1</th>\n",
       "      <td>42</td>\n",
       "      <td>0</td>\n",
       "      <td>1</td>\n",
       "      <td>1</td>\n",
       "    </tr>\n",
       "    <tr>\n",
       "      <th>2</th>\n",
       "      <td>51</td>\n",
       "      <td>2</td>\n",
       "      <td>1</td>\n",
       "      <td>1</td>\n",
       "    </tr>\n",
       "    <tr>\n",
       "      <th>3</th>\n",
       "      <td>59</td>\n",
       "      <td>4</td>\n",
       "      <td>1</td>\n",
       "      <td>1</td>\n",
       "    </tr>\n",
       "    <tr>\n",
       "      <th>4</th>\n",
       "      <td>64</td>\n",
       "      <td>6</td>\n",
       "      <td>1</td>\n",
       "      <td>1</td>\n",
       "    </tr>\n",
       "    <tr>\n",
       "      <th>5</th>\n",
       "      <td>76</td>\n",
       "      <td>8</td>\n",
       "      <td>1</td>\n",
       "      <td>1</td>\n",
       "    </tr>\n",
       "    <tr>\n",
       "      <th>6</th>\n",
       "      <td>93</td>\n",
       "      <td>10</td>\n",
       "      <td>1</td>\n",
       "      <td>1</td>\n",
       "    </tr>\n",
       "    <tr>\n",
       "      <th>7</th>\n",
       "      <td>106</td>\n",
       "      <td>12</td>\n",
       "      <td>1</td>\n",
       "      <td>1</td>\n",
       "    </tr>\n",
       "    <tr>\n",
       "      <th>8</th>\n",
       "      <td>125</td>\n",
       "      <td>14</td>\n",
       "      <td>1</td>\n",
       "      <td>1</td>\n",
       "    </tr>\n",
       "    <tr>\n",
       "      <th>9</th>\n",
       "      <td>149</td>\n",
       "      <td>16</td>\n",
       "      <td>1</td>\n",
       "      <td>1</td>\n",
       "    </tr>\n",
       "    <tr>\n",
       "      <th>10</th>\n",
       "      <td>171</td>\n",
       "      <td>18</td>\n",
       "      <td>1</td>\n",
       "      <td>1</td>\n",
       "    </tr>\n",
       "    <tr>\n",
       "      <th>11</th>\n",
       "      <td>199</td>\n",
       "      <td>20</td>\n",
       "      <td>1</td>\n",
       "      <td>1</td>\n",
       "    </tr>\n",
       "    <tr>\n",
       "      <th>12</th>\n",
       "      <td>205</td>\n",
       "      <td>21</td>\n",
       "      <td>1</td>\n",
       "      <td>1</td>\n",
       "    </tr>\n",
       "    <tr>\n",
       "      <th>13</th>\n",
       "      <td>40</td>\n",
       "      <td>0</td>\n",
       "      <td>2</td>\n",
       "      <td>1</td>\n",
       "    </tr>\n",
       "    <tr>\n",
       "      <th>14</th>\n",
       "      <td>49</td>\n",
       "      <td>2</td>\n",
       "      <td>2</td>\n",
       "      <td>1</td>\n",
       "    </tr>\n",
       "    <tr>\n",
       "      <th>15</th>\n",
       "      <td>58</td>\n",
       "      <td>4</td>\n",
       "      <td>2</td>\n",
       "      <td>1</td>\n",
       "    </tr>\n",
       "    <tr>\n",
       "      <th>16</th>\n",
       "      <td>72</td>\n",
       "      <td>6</td>\n",
       "      <td>2</td>\n",
       "      <td>1</td>\n",
       "    </tr>\n",
       "    <tr>\n",
       "      <th>17</th>\n",
       "      <td>84</td>\n",
       "      <td>8</td>\n",
       "      <td>2</td>\n",
       "      <td>1</td>\n",
       "    </tr>\n",
       "    <tr>\n",
       "      <th>18</th>\n",
       "      <td>103</td>\n",
       "      <td>10</td>\n",
       "      <td>2</td>\n",
       "      <td>1</td>\n",
       "    </tr>\n",
       "    <tr>\n",
       "      <th>19</th>\n",
       "      <td>122</td>\n",
       "      <td>12</td>\n",
       "      <td>2</td>\n",
       "      <td>1</td>\n",
       "    </tr>\n",
       "    <tr>\n",
       "      <th>20</th>\n",
       "      <td>138</td>\n",
       "      <td>14</td>\n",
       "      <td>2</td>\n",
       "      <td>1</td>\n",
       "    </tr>\n",
       "    <tr>\n",
       "      <th>21</th>\n",
       "      <td>162</td>\n",
       "      <td>16</td>\n",
       "      <td>2</td>\n",
       "      <td>1</td>\n",
       "    </tr>\n",
       "    <tr>\n",
       "      <th>22</th>\n",
       "      <td>187</td>\n",
       "      <td>18</td>\n",
       "      <td>2</td>\n",
       "      <td>1</td>\n",
       "    </tr>\n",
       "    <tr>\n",
       "      <th>23</th>\n",
       "      <td>209</td>\n",
       "      <td>20</td>\n",
       "      <td>2</td>\n",
       "      <td>1</td>\n",
       "    </tr>\n",
       "    <tr>\n",
       "      <th>24</th>\n",
       "      <td>215</td>\n",
       "      <td>21</td>\n",
       "      <td>2</td>\n",
       "      <td>1</td>\n",
       "    </tr>\n",
       "    <tr>\n",
       "      <th>25</th>\n",
       "      <td>43</td>\n",
       "      <td>0</td>\n",
       "      <td>3</td>\n",
       "      <td>1</td>\n",
       "    </tr>\n",
       "    <tr>\n",
       "      <th>26</th>\n",
       "      <td>39</td>\n",
       "      <td>2</td>\n",
       "      <td>3</td>\n",
       "      <td>1</td>\n",
       "    </tr>\n",
       "    <tr>\n",
       "      <th>27</th>\n",
       "      <td>55</td>\n",
       "      <td>4</td>\n",
       "      <td>3</td>\n",
       "      <td>1</td>\n",
       "    </tr>\n",
       "    <tr>\n",
       "      <th>28</th>\n",
       "      <td>67</td>\n",
       "      <td>6</td>\n",
       "      <td>3</td>\n",
       "      <td>1</td>\n",
       "    </tr>\n",
       "    <tr>\n",
       "      <th>29</th>\n",
       "      <td>84</td>\n",
       "      <td>8</td>\n",
       "      <td>3</td>\n",
       "      <td>1</td>\n",
       "    </tr>\n",
       "    <tr>\n",
       "      <th>30</th>\n",
       "      <td>99</td>\n",
       "      <td>10</td>\n",
       "      <td>3</td>\n",
       "      <td>1</td>\n",
       "    </tr>\n",
       "    <tr>\n",
       "      <th>...</th>\n",
       "      <td>...</td>\n",
       "      <td>...</td>\n",
       "      <td>...</td>\n",
       "      <td>...</td>\n",
       "    </tr>\n",
       "    <tr>\n",
       "      <th>549</th>\n",
       "      <td>154</td>\n",
       "      <td>12</td>\n",
       "      <td>48</td>\n",
       "      <td>4</td>\n",
       "    </tr>\n",
       "    <tr>\n",
       "      <th>550</th>\n",
       "      <td>170</td>\n",
       "      <td>14</td>\n",
       "      <td>48</td>\n",
       "      <td>4</td>\n",
       "    </tr>\n",
       "    <tr>\n",
       "      <th>551</th>\n",
       "      <td>222</td>\n",
       "      <td>16</td>\n",
       "      <td>48</td>\n",
       "      <td>4</td>\n",
       "    </tr>\n",
       "    <tr>\n",
       "      <th>552</th>\n",
       "      <td>261</td>\n",
       "      <td>18</td>\n",
       "      <td>48</td>\n",
       "      <td>4</td>\n",
       "    </tr>\n",
       "    <tr>\n",
       "      <th>553</th>\n",
       "      <td>303</td>\n",
       "      <td>20</td>\n",
       "      <td>48</td>\n",
       "      <td>4</td>\n",
       "    </tr>\n",
       "    <tr>\n",
       "      <th>554</th>\n",
       "      <td>322</td>\n",
       "      <td>21</td>\n",
       "      <td>48</td>\n",
       "      <td>4</td>\n",
       "    </tr>\n",
       "    <tr>\n",
       "      <th>555</th>\n",
       "      <td>40</td>\n",
       "      <td>0</td>\n",
       "      <td>49</td>\n",
       "      <td>4</td>\n",
       "    </tr>\n",
       "    <tr>\n",
       "      <th>556</th>\n",
       "      <td>53</td>\n",
       "      <td>2</td>\n",
       "      <td>49</td>\n",
       "      <td>4</td>\n",
       "    </tr>\n",
       "    <tr>\n",
       "      <th>557</th>\n",
       "      <td>64</td>\n",
       "      <td>4</td>\n",
       "      <td>49</td>\n",
       "      <td>4</td>\n",
       "    </tr>\n",
       "    <tr>\n",
       "      <th>558</th>\n",
       "      <td>85</td>\n",
       "      <td>6</td>\n",
       "      <td>49</td>\n",
       "      <td>4</td>\n",
       "    </tr>\n",
       "    <tr>\n",
       "      <th>559</th>\n",
       "      <td>108</td>\n",
       "      <td>8</td>\n",
       "      <td>49</td>\n",
       "      <td>4</td>\n",
       "    </tr>\n",
       "    <tr>\n",
       "      <th>560</th>\n",
       "      <td>128</td>\n",
       "      <td>10</td>\n",
       "      <td>49</td>\n",
       "      <td>4</td>\n",
       "    </tr>\n",
       "    <tr>\n",
       "      <th>561</th>\n",
       "      <td>152</td>\n",
       "      <td>12</td>\n",
       "      <td>49</td>\n",
       "      <td>4</td>\n",
       "    </tr>\n",
       "    <tr>\n",
       "      <th>562</th>\n",
       "      <td>166</td>\n",
       "      <td>14</td>\n",
       "      <td>49</td>\n",
       "      <td>4</td>\n",
       "    </tr>\n",
       "    <tr>\n",
       "      <th>563</th>\n",
       "      <td>184</td>\n",
       "      <td>16</td>\n",
       "      <td>49</td>\n",
       "      <td>4</td>\n",
       "    </tr>\n",
       "    <tr>\n",
       "      <th>564</th>\n",
       "      <td>203</td>\n",
       "      <td>18</td>\n",
       "      <td>49</td>\n",
       "      <td>4</td>\n",
       "    </tr>\n",
       "    <tr>\n",
       "      <th>565</th>\n",
       "      <td>233</td>\n",
       "      <td>20</td>\n",
       "      <td>49</td>\n",
       "      <td>4</td>\n",
       "    </tr>\n",
       "    <tr>\n",
       "      <th>566</th>\n",
       "      <td>237</td>\n",
       "      <td>21</td>\n",
       "      <td>49</td>\n",
       "      <td>4</td>\n",
       "    </tr>\n",
       "    <tr>\n",
       "      <th>567</th>\n",
       "      <td>41</td>\n",
       "      <td>0</td>\n",
       "      <td>50</td>\n",
       "      <td>4</td>\n",
       "    </tr>\n",
       "    <tr>\n",
       "      <th>568</th>\n",
       "      <td>54</td>\n",
       "      <td>2</td>\n",
       "      <td>50</td>\n",
       "      <td>4</td>\n",
       "    </tr>\n",
       "    <tr>\n",
       "      <th>569</th>\n",
       "      <td>67</td>\n",
       "      <td>4</td>\n",
       "      <td>50</td>\n",
       "      <td>4</td>\n",
       "    </tr>\n",
       "    <tr>\n",
       "      <th>570</th>\n",
       "      <td>84</td>\n",
       "      <td>6</td>\n",
       "      <td>50</td>\n",
       "      <td>4</td>\n",
       "    </tr>\n",
       "    <tr>\n",
       "      <th>571</th>\n",
       "      <td>105</td>\n",
       "      <td>8</td>\n",
       "      <td>50</td>\n",
       "      <td>4</td>\n",
       "    </tr>\n",
       "    <tr>\n",
       "      <th>572</th>\n",
       "      <td>122</td>\n",
       "      <td>10</td>\n",
       "      <td>50</td>\n",
       "      <td>4</td>\n",
       "    </tr>\n",
       "    <tr>\n",
       "      <th>573</th>\n",
       "      <td>155</td>\n",
       "      <td>12</td>\n",
       "      <td>50</td>\n",
       "      <td>4</td>\n",
       "    </tr>\n",
       "    <tr>\n",
       "      <th>574</th>\n",
       "      <td>175</td>\n",
       "      <td>14</td>\n",
       "      <td>50</td>\n",
       "      <td>4</td>\n",
       "    </tr>\n",
       "    <tr>\n",
       "      <th>575</th>\n",
       "      <td>205</td>\n",
       "      <td>16</td>\n",
       "      <td>50</td>\n",
       "      <td>4</td>\n",
       "    </tr>\n",
       "    <tr>\n",
       "      <th>576</th>\n",
       "      <td>234</td>\n",
       "      <td>18</td>\n",
       "      <td>50</td>\n",
       "      <td>4</td>\n",
       "    </tr>\n",
       "    <tr>\n",
       "      <th>577</th>\n",
       "      <td>264</td>\n",
       "      <td>20</td>\n",
       "      <td>50</td>\n",
       "      <td>4</td>\n",
       "    </tr>\n",
       "    <tr>\n",
       "      <th>578</th>\n",
       "      <td>264</td>\n",
       "      <td>21</td>\n",
       "      <td>50</td>\n",
       "      <td>4</td>\n",
       "    </tr>\n",
       "  </tbody>\n",
       "</table>\n",
       "<p>578 rows × 4 columns</p>\n",
       "</div>"
      ],
      "text/plain": [
       "        weight  Time  Chick  Diet\n",
       "rownum                           \n",
       "1           42     0      1     1\n",
       "2           51     2      1     1\n",
       "3           59     4      1     1\n",
       "4           64     6      1     1\n",
       "5           76     8      1     1\n",
       "6           93    10      1     1\n",
       "7          106    12      1     1\n",
       "8          125    14      1     1\n",
       "9          149    16      1     1\n",
       "10         171    18      1     1\n",
       "11         199    20      1     1\n",
       "12         205    21      1     1\n",
       "13          40     0      2     1\n",
       "14          49     2      2     1\n",
       "15          58     4      2     1\n",
       "16          72     6      2     1\n",
       "17          84     8      2     1\n",
       "18         103    10      2     1\n",
       "19         122    12      2     1\n",
       "20         138    14      2     1\n",
       "21         162    16      2     1\n",
       "22         187    18      2     1\n",
       "23         209    20      2     1\n",
       "24         215    21      2     1\n",
       "25          43     0      3     1\n",
       "26          39     2      3     1\n",
       "27          55     4      3     1\n",
       "28          67     6      3     1\n",
       "29          84     8      3     1\n",
       "30          99    10      3     1\n",
       "...        ...   ...    ...   ...\n",
       "549        154    12     48     4\n",
       "550        170    14     48     4\n",
       "551        222    16     48     4\n",
       "552        261    18     48     4\n",
       "553        303    20     48     4\n",
       "554        322    21     48     4\n",
       "555         40     0     49     4\n",
       "556         53     2     49     4\n",
       "557         64     4     49     4\n",
       "558         85     6     49     4\n",
       "559        108     8     49     4\n",
       "560        128    10     49     4\n",
       "561        152    12     49     4\n",
       "562        166    14     49     4\n",
       "563        184    16     49     4\n",
       "564        203    18     49     4\n",
       "565        233    20     49     4\n",
       "566        237    21     49     4\n",
       "567         41     0     50     4\n",
       "568         54     2     50     4\n",
       "569         67     4     50     4\n",
       "570         84     6     50     4\n",
       "571        105     8     50     4\n",
       "572        122    10     50     4\n",
       "573        155    12     50     4\n",
       "574        175    14     50     4\n",
       "575        205    16     50     4\n",
       "576        234    18     50     4\n",
       "577        264    20     50     4\n",
       "578        264    21     50     4\n",
       "\n",
       "[578 rows x 4 columns]"
      ]
     },
     "execution_count": 370,
     "metadata": {},
     "output_type": "execute_result"
    }
   ],
   "source": [
    "df_chickweight = pd.read_csv('data/chickweight.csv', index_col=0)\n",
    "df_chickweight"
   ]
  },
  {
   "cell_type": "markdown",
   "metadata": {
    "slideshow": {
     "slide_type": "slide"
    }
   },
   "source": [
    "The nice thing about this object is that we can easily summarise it. "
   ]
  },
  {
   "cell_type": "code",
   "execution_count": 371,
   "metadata": {},
   "outputs": [
    {
     "data": {
      "text/html": [
       "<div>\n",
       "<style scoped>\n",
       "    .dataframe tbody tr th:only-of-type {\n",
       "        vertical-align: middle;\n",
       "    }\n",
       "\n",
       "    .dataframe tbody tr th {\n",
       "        vertical-align: top;\n",
       "    }\n",
       "\n",
       "    .dataframe thead th {\n",
       "        text-align: right;\n",
       "    }\n",
       "</style>\n",
       "<table border=\"1\" class=\"dataframe\">\n",
       "  <thead>\n",
       "    <tr style=\"text-align: right;\">\n",
       "      <th></th>\n",
       "      <th>weight</th>\n",
       "      <th>Time</th>\n",
       "      <th>Chick</th>\n",
       "      <th>Diet</th>\n",
       "    </tr>\n",
       "  </thead>\n",
       "  <tbody>\n",
       "    <tr>\n",
       "      <th>count</th>\n",
       "      <td>578.000000</td>\n",
       "      <td>578.000000</td>\n",
       "      <td>578.000000</td>\n",
       "      <td>578.000000</td>\n",
       "    </tr>\n",
       "    <tr>\n",
       "      <th>mean</th>\n",
       "      <td>121.818339</td>\n",
       "      <td>10.717993</td>\n",
       "      <td>25.750865</td>\n",
       "      <td>2.235294</td>\n",
       "    </tr>\n",
       "    <tr>\n",
       "      <th>std</th>\n",
       "      <td>71.071960</td>\n",
       "      <td>6.758400</td>\n",
       "      <td>14.568795</td>\n",
       "      <td>1.162678</td>\n",
       "    </tr>\n",
       "    <tr>\n",
       "      <th>min</th>\n",
       "      <td>35.000000</td>\n",
       "      <td>0.000000</td>\n",
       "      <td>1.000000</td>\n",
       "      <td>1.000000</td>\n",
       "    </tr>\n",
       "    <tr>\n",
       "      <th>25%</th>\n",
       "      <td>63.000000</td>\n",
       "      <td>4.000000</td>\n",
       "      <td>13.000000</td>\n",
       "      <td>1.000000</td>\n",
       "    </tr>\n",
       "    <tr>\n",
       "      <th>50%</th>\n",
       "      <td>103.000000</td>\n",
       "      <td>10.000000</td>\n",
       "      <td>26.000000</td>\n",
       "      <td>2.000000</td>\n",
       "    </tr>\n",
       "    <tr>\n",
       "      <th>75%</th>\n",
       "      <td>163.750000</td>\n",
       "      <td>16.000000</td>\n",
       "      <td>38.000000</td>\n",
       "      <td>3.000000</td>\n",
       "    </tr>\n",
       "    <tr>\n",
       "      <th>max</th>\n",
       "      <td>373.000000</td>\n",
       "      <td>21.000000</td>\n",
       "      <td>50.000000</td>\n",
       "      <td>4.000000</td>\n",
       "    </tr>\n",
       "  </tbody>\n",
       "</table>\n",
       "</div>"
      ],
      "text/plain": [
       "           weight        Time       Chick        Diet\n",
       "count  578.000000  578.000000  578.000000  578.000000\n",
       "mean   121.818339   10.717993   25.750865    2.235294\n",
       "std     71.071960    6.758400   14.568795    1.162678\n",
       "min     35.000000    0.000000    1.000000    1.000000\n",
       "25%     63.000000    4.000000   13.000000    1.000000\n",
       "50%    103.000000   10.000000   26.000000    2.000000\n",
       "75%    163.750000   16.000000   38.000000    3.000000\n",
       "max    373.000000   21.000000   50.000000    4.000000"
      ]
     },
     "execution_count": 371,
     "metadata": {},
     "output_type": "execute_result"
    }
   ],
   "source": [
    "df_chickweight.describe()"
   ]
  },
  {
   "cell_type": "code",
   "execution_count": 372,
   "metadata": {
    "slideshow": {
     "slide_type": "slide"
    }
   },
   "outputs": [
    {
     "data": {
      "text/plain": [
       "array([ 1,  2,  3,  4,  5,  6,  7,  8,  9, 10, 11, 12, 13, 14, 15, 16, 17,\n",
       "       18, 19, 20, 21, 22, 23, 24, 25, 26, 27, 28, 29, 30, 31, 32, 33, 34,\n",
       "       35, 36, 37, 38, 39, 40, 41, 42, 43, 44, 45, 46, 47, 48, 49, 50])"
      ]
     },
     "execution_count": 372,
     "metadata": {},
     "output_type": "execute_result"
    }
   ],
   "source": [
    "df_chickweight['Chick'].unique()"
   ]
  },
  {
   "cell_type": "code",
   "execution_count": 373,
   "metadata": {},
   "outputs": [
    {
     "data": {
      "text/plain": [
       "array([1, 2, 3, 4])"
      ]
     },
     "execution_count": 373,
     "metadata": {},
     "output_type": "execute_result"
    }
   ],
   "source": [
    "df_chickweight['Diet'].unique()"
   ]
  },
  {
   "cell_type": "code",
   "execution_count": 374,
   "metadata": {
    "slideshow": {
     "slide_type": "slide"
    }
   },
   "outputs": [
    {
     "data": {
      "text/html": [
       "<div>\n",
       "<style scoped>\n",
       "    .dataframe tbody tr th:only-of-type {\n",
       "        vertical-align: middle;\n",
       "    }\n",
       "\n",
       "    .dataframe tbody tr th {\n",
       "        vertical-align: top;\n",
       "    }\n",
       "\n",
       "    .dataframe thead th {\n",
       "        text-align: right;\n",
       "    }\n",
       "</style>\n",
       "<table border=\"1\" class=\"dataframe\">\n",
       "  <thead>\n",
       "    <tr style=\"text-align: right;\">\n",
       "      <th></th>\n",
       "      <th>weight</th>\n",
       "      <th>Time</th>\n",
       "      <th>Chick</th>\n",
       "      <th>Diet</th>\n",
       "    </tr>\n",
       "    <tr>\n",
       "      <th>rownum</th>\n",
       "      <th></th>\n",
       "      <th></th>\n",
       "      <th></th>\n",
       "      <th></th>\n",
       "    </tr>\n",
       "  </thead>\n",
       "  <tbody>\n",
       "    <tr>\n",
       "      <th>1</th>\n",
       "      <td>42</td>\n",
       "      <td>0</td>\n",
       "      <td>1</td>\n",
       "      <td>1</td>\n",
       "    </tr>\n",
       "    <tr>\n",
       "      <th>2</th>\n",
       "      <td>51</td>\n",
       "      <td>2</td>\n",
       "      <td>1</td>\n",
       "      <td>1</td>\n",
       "    </tr>\n",
       "    <tr>\n",
       "      <th>3</th>\n",
       "      <td>59</td>\n",
       "      <td>4</td>\n",
       "      <td>1</td>\n",
       "      <td>1</td>\n",
       "    </tr>\n",
       "    <tr>\n",
       "      <th>4</th>\n",
       "      <td>64</td>\n",
       "      <td>6</td>\n",
       "      <td>1</td>\n",
       "      <td>1</td>\n",
       "    </tr>\n",
       "    <tr>\n",
       "      <th>5</th>\n",
       "      <td>76</td>\n",
       "      <td>8</td>\n",
       "      <td>1</td>\n",
       "      <td>1</td>\n",
       "    </tr>\n",
       "    <tr>\n",
       "      <th>6</th>\n",
       "      <td>93</td>\n",
       "      <td>10</td>\n",
       "      <td>1</td>\n",
       "      <td>1</td>\n",
       "    </tr>\n",
       "    <tr>\n",
       "      <th>7</th>\n",
       "      <td>106</td>\n",
       "      <td>12</td>\n",
       "      <td>1</td>\n",
       "      <td>1</td>\n",
       "    </tr>\n",
       "    <tr>\n",
       "      <th>8</th>\n",
       "      <td>125</td>\n",
       "      <td>14</td>\n",
       "      <td>1</td>\n",
       "      <td>1</td>\n",
       "    </tr>\n",
       "    <tr>\n",
       "      <th>9</th>\n",
       "      <td>149</td>\n",
       "      <td>16</td>\n",
       "      <td>1</td>\n",
       "      <td>1</td>\n",
       "    </tr>\n",
       "    <tr>\n",
       "      <th>10</th>\n",
       "      <td>171</td>\n",
       "      <td>18</td>\n",
       "      <td>1</td>\n",
       "      <td>1</td>\n",
       "    </tr>\n",
       "    <tr>\n",
       "      <th>11</th>\n",
       "      <td>199</td>\n",
       "      <td>20</td>\n",
       "      <td>1</td>\n",
       "      <td>1</td>\n",
       "    </tr>\n",
       "    <tr>\n",
       "      <th>12</th>\n",
       "      <td>205</td>\n",
       "      <td>21</td>\n",
       "      <td>1</td>\n",
       "      <td>1</td>\n",
       "    </tr>\n",
       "  </tbody>\n",
       "</table>\n",
       "</div>"
      ],
      "text/plain": [
       "        weight  Time  Chick  Diet\n",
       "rownum                           \n",
       "1           42     0      1     1\n",
       "2           51     2      1     1\n",
       "3           59     4      1     1\n",
       "4           64     6      1     1\n",
       "5           76     8      1     1\n",
       "6           93    10      1     1\n",
       "7          106    12      1     1\n",
       "8          125    14      1     1\n",
       "9          149    16      1     1\n",
       "10         171    18      1     1\n",
       "11         199    20      1     1\n",
       "12         205    21      1     1"
      ]
     },
     "execution_count": 374,
     "metadata": {},
     "output_type": "execute_result"
    }
   ],
   "source": [
    "df_chickweight[ df_chickweight['Chick'] == 1 ]"
   ]
  },
  {
   "cell_type": "markdown",
   "metadata": {
    "slideshow": {
     "slide_type": "slide"
    }
   },
   "source": [
    "We could also do aggregation by using the `groupby` method. It is similar to `GROUP BY` in SQL."
   ]
  },
  {
   "cell_type": "code",
   "execution_count": 375,
   "metadata": {},
   "outputs": [],
   "source": [
    "grouped_chickweight = df_chickweight.groupby([\"Diet\"])"
   ]
  },
  {
   "cell_type": "code",
   "execution_count": 376,
   "metadata": {
    "scrolled": true,
    "slideshow": {
     "slide_type": "slide"
    }
   },
   "outputs": [
    {
     "name": "stdout",
     "output_type": "stream",
     "text": [
      "(1,         weight  Time  Chick  Diet\n",
      "rownum                           \n",
      "1           42     0      1     1\n",
      "2           51     2      1     1\n",
      "3           59     4      1     1\n",
      "4           64     6      1     1\n",
      "5           76     8      1     1\n",
      "6           93    10      1     1\n",
      "7          106    12      1     1\n",
      "8          125    14      1     1\n",
      "9          149    16      1     1\n",
      "10         171    18      1     1\n",
      "11         199    20      1     1\n",
      "12         205    21      1     1\n",
      "13          40     0      2     1\n",
      "14          49     2      2     1\n",
      "15          58     4      2     1\n",
      "16          72     6      2     1\n",
      "17          84     8      2     1\n",
      "18         103    10      2     1\n",
      "19         122    12      2     1\n",
      "20         138    14      2     1\n",
      "21         162    16      2     1\n",
      "22         187    18      2     1\n",
      "23         209    20      2     1\n",
      "24         215    21      2     1\n",
      "25          43     0      3     1\n",
      "26          39     2      3     1\n",
      "27          55     4      3     1\n",
      "28          67     6      3     1\n",
      "29          84     8      3     1\n",
      "30          99    10      3     1\n",
      "...        ...   ...    ...   ...\n",
      "191        113    16     17     1\n",
      "192        123    18     17     1\n",
      "193        133    20     17     1\n",
      "194        142    21     17     1\n",
      "195         39     0     18     1\n",
      "196         35     2     18     1\n",
      "197         43     0     19     1\n",
      "198         48     2     19     1\n",
      "199         55     4     19     1\n",
      "200         62     6     19     1\n",
      "201         65     8     19     1\n",
      "202         71    10     19     1\n",
      "203         82    12     19     1\n",
      "204         88    14     19     1\n",
      "205        106    16     19     1\n",
      "206        120    18     19     1\n",
      "207        144    20     19     1\n",
      "208        157    21     19     1\n",
      "209         41     0     20     1\n",
      "210         47     2     20     1\n",
      "211         54     4     20     1\n",
      "212         58     6     20     1\n",
      "213         65     8     20     1\n",
      "214         73    10     20     1\n",
      "215         77    12     20     1\n",
      "216         89    14     20     1\n",
      "217         98    16     20     1\n",
      "218        107    18     20     1\n",
      "219        115    20     20     1\n",
      "220        117    21     20     1\n",
      "\n",
      "[220 rows x 4 columns])\n",
      "(2,         weight  Time  Chick  Diet\n",
      "rownum                           \n",
      "221         40     0     21     2\n",
      "222         50     2     21     2\n",
      "223         62     4     21     2\n",
      "224         86     6     21     2\n",
      "225        125     8     21     2\n",
      "226        163    10     21     2\n",
      "227        217    12     21     2\n",
      "228        240    14     21     2\n",
      "229        275    16     21     2\n",
      "230        307    18     21     2\n",
      "231        318    20     21     2\n",
      "232        331    21     21     2\n",
      "233         41     0     22     2\n",
      "234         55     2     22     2\n",
      "235         64     4     22     2\n",
      "236         77     6     22     2\n",
      "237         90     8     22     2\n",
      "238         95    10     22     2\n",
      "239        108    12     22     2\n",
      "240        111    14     22     2\n",
      "241        131    16     22     2\n",
      "242        148    18     22     2\n",
      "243        164    20     22     2\n",
      "244        167    21     22     2\n",
      "245         43     0     23     2\n",
      "246         52     2     23     2\n",
      "247         61     4     23     2\n",
      "248         73     6     23     2\n",
      "249         90     8     23     2\n",
      "250        103    10     23     2\n",
      "...        ...   ...    ...   ...\n",
      "311        145    12     28     2\n",
      "312        156    14     28     2\n",
      "313        184    16     28     2\n",
      "314        207    18     28     2\n",
      "315        212    20     28     2\n",
      "316        233    21     28     2\n",
      "317         39     0     29     2\n",
      "318         48     2     29     2\n",
      "319         59     4     29     2\n",
      "320         74     6     29     2\n",
      "321         87     8     29     2\n",
      "322        106    10     29     2\n",
      "323        134    12     29     2\n",
      "324        150    14     29     2\n",
      "325        187    16     29     2\n",
      "326        230    18     29     2\n",
      "327        279    20     29     2\n",
      "328        309    21     29     2\n",
      "329         42     0     30     2\n",
      "330         48     2     30     2\n",
      "331         59     4     30     2\n",
      "332         72     6     30     2\n",
      "333         85     8     30     2\n",
      "334         98    10     30     2\n",
      "335        115    12     30     2\n",
      "336        122    14     30     2\n",
      "337        143    16     30     2\n",
      "338        151    18     30     2\n",
      "339        157    20     30     2\n",
      "340        150    21     30     2\n",
      "\n",
      "[120 rows x 4 columns])\n",
      "(3,         weight  Time  Chick  Diet\n",
      "rownum                           \n",
      "341         42     0     31     3\n",
      "342         53     2     31     3\n",
      "343         62     4     31     3\n",
      "344         73     6     31     3\n",
      "345         85     8     31     3\n",
      "346        102    10     31     3\n",
      "347        123    12     31     3\n",
      "348        138    14     31     3\n",
      "349        170    16     31     3\n",
      "350        204    18     31     3\n",
      "351        235    20     31     3\n",
      "352        256    21     31     3\n",
      "353         41     0     32     3\n",
      "354         49     2     32     3\n",
      "355         65     4     32     3\n",
      "356         82     6     32     3\n",
      "357        107     8     32     3\n",
      "358        129    10     32     3\n",
      "359        159    12     32     3\n",
      "360        179    14     32     3\n",
      "361        221    16     32     3\n",
      "362        263    18     32     3\n",
      "363        291    20     32     3\n",
      "364        305    21     32     3\n",
      "365         39     0     33     3\n",
      "366         50     2     33     3\n",
      "367         63     4     33     3\n",
      "368         77     6     33     3\n",
      "369         96     8     33     3\n",
      "370        111    10     33     3\n",
      "...        ...   ...    ...   ...\n",
      "431        128    12     38     3\n",
      "432        154    14     38     3\n",
      "433        192    16     38     3\n",
      "434        232    18     38     3\n",
      "435        280    20     38     3\n",
      "436        290    21     38     3\n",
      "437         42     0     39     3\n",
      "438         50     2     39     3\n",
      "439         61     4     39     3\n",
      "440         78     6     39     3\n",
      "441         89     8     39     3\n",
      "442        109    10     39     3\n",
      "443        130    12     39     3\n",
      "444        146    14     39     3\n",
      "445        170    16     39     3\n",
      "446        214    18     39     3\n",
      "447        250    20     39     3\n",
      "448        272    21     39     3\n",
      "449         41     0     40     3\n",
      "450         55     2     40     3\n",
      "451         66     4     40     3\n",
      "452         79     6     40     3\n",
      "453        101     8     40     3\n",
      "454        120    10     40     3\n",
      "455        154    12     40     3\n",
      "456        182    14     40     3\n",
      "457        215    16     40     3\n",
      "458        262    18     40     3\n",
      "459        295    20     40     3\n",
      "460        321    21     40     3\n",
      "\n",
      "[120 rows x 4 columns])\n",
      "(4,         weight  Time  Chick  Diet\n",
      "rownum                           \n",
      "461         42     0     41     4\n",
      "462         51     2     41     4\n",
      "463         66     4     41     4\n",
      "464         85     6     41     4\n",
      "465        103     8     41     4\n",
      "466        124    10     41     4\n",
      "467        155    12     41     4\n",
      "468        153    14     41     4\n",
      "469        175    16     41     4\n",
      "470        184    18     41     4\n",
      "471        199    20     41     4\n",
      "472        204    21     41     4\n",
      "473         42     0     42     4\n",
      "474         49     2     42     4\n",
      "475         63     4     42     4\n",
      "476         84     6     42     4\n",
      "477        103     8     42     4\n",
      "478        126    10     42     4\n",
      "479        160    12     42     4\n",
      "480        174    14     42     4\n",
      "481        204    16     42     4\n",
      "482        234    18     42     4\n",
      "483        269    20     42     4\n",
      "484        281    21     42     4\n",
      "485         42     0     43     4\n",
      "486         55     2     43     4\n",
      "487         69     4     43     4\n",
      "488         96     6     43     4\n",
      "489        131     8     43     4\n",
      "490        157    10     43     4\n",
      "...        ...   ...    ...   ...\n",
      "549        154    12     48     4\n",
      "550        170    14     48     4\n",
      "551        222    16     48     4\n",
      "552        261    18     48     4\n",
      "553        303    20     48     4\n",
      "554        322    21     48     4\n",
      "555         40     0     49     4\n",
      "556         53     2     49     4\n",
      "557         64     4     49     4\n",
      "558         85     6     49     4\n",
      "559        108     8     49     4\n",
      "560        128    10     49     4\n",
      "561        152    12     49     4\n",
      "562        166    14     49     4\n",
      "563        184    16     49     4\n",
      "564        203    18     49     4\n",
      "565        233    20     49     4\n",
      "566        237    21     49     4\n",
      "567         41     0     50     4\n",
      "568         54     2     50     4\n",
      "569         67     4     50     4\n",
      "570         84     6     50     4\n",
      "571        105     8     50     4\n",
      "572        122    10     50     4\n",
      "573        155    12     50     4\n",
      "574        175    14     50     4\n",
      "575        205    16     50     4\n",
      "576        234    18     50     4\n",
      "577        264    20     50     4\n",
      "578        264    21     50     4\n",
      "\n",
      "[118 rows x 4 columns])\n"
     ]
    }
   ],
   "source": [
    "for thing in grouped_chickweight:\n",
    "    print(thing)"
   ]
  },
  {
   "cell_type": "code",
   "execution_count": 377,
   "metadata": {
    "slideshow": {
     "slide_type": "slide"
    }
   },
   "outputs": [
    {
     "name": "stdout",
     "output_type": "stream",
     "text": [
      "1\n",
      "        weight  Time  Chick  Diet\n",
      "rownum                           \n",
      "1           42     0      1     1\n",
      "2           51     2      1     1\n",
      "3           59     4      1     1\n",
      "4           64     6      1     1\n",
      "5           76     8      1     1\n",
      "-----------------------------------\n",
      "2\n",
      "        weight  Time  Chick  Diet\n",
      "rownum                           \n",
      "221         40     0     21     2\n",
      "222         50     2     21     2\n",
      "223         62     4     21     2\n",
      "224         86     6     21     2\n",
      "225        125     8     21     2\n",
      "-----------------------------------\n",
      "3\n",
      "        weight  Time  Chick  Diet\n",
      "rownum                           \n",
      "341         42     0     31     3\n",
      "342         53     2     31     3\n",
      "343         62     4     31     3\n",
      "344         73     6     31     3\n",
      "345         85     8     31     3\n",
      "-----------------------------------\n",
      "4\n",
      "        weight  Time  Chick  Diet\n",
      "rownum                           \n",
      "461         42     0     41     4\n",
      "462         51     2     41     4\n",
      "463         66     4     41     4\n",
      "464         85     6     41     4\n",
      "465        103     8     41     4\n",
      "-----------------------------------\n"
     ]
    }
   ],
   "source": [
    "for diet, df_diet in grouped_chickweight:\n",
    "    print(diet)\n",
    "    print(df_diet.head())\n",
    "    print('-' * 35)"
   ]
  },
  {
   "cell_type": "code",
   "execution_count": 378,
   "metadata": {
    "scrolled": true,
    "slideshow": {
     "slide_type": "slide"
    }
   },
   "outputs": [
    {
     "data": {
      "text/html": [
       "<div>\n",
       "<style scoped>\n",
       "    .dataframe tbody tr th:only-of-type {\n",
       "        vertical-align: middle;\n",
       "    }\n",
       "\n",
       "    .dataframe tbody tr th {\n",
       "        vertical-align: top;\n",
       "    }\n",
       "\n",
       "    .dataframe thead tr th {\n",
       "        text-align: left;\n",
       "    }\n",
       "\n",
       "    .dataframe thead tr:last-of-type th {\n",
       "        text-align: right;\n",
       "    }\n",
       "</style>\n",
       "<table border=\"1\" class=\"dataframe\">\n",
       "  <thead>\n",
       "    <tr>\n",
       "      <th></th>\n",
       "      <th colspan=\"8\" halign=\"left\">Chick</th>\n",
       "      <th colspan=\"5\" halign=\"left\">Time</th>\n",
       "      <th colspan=\"8\" halign=\"left\">weight</th>\n",
       "    </tr>\n",
       "    <tr>\n",
       "      <th></th>\n",
       "      <th>count</th>\n",
       "      <th>mean</th>\n",
       "      <th>std</th>\n",
       "      <th>min</th>\n",
       "      <th>25%</th>\n",
       "      <th>50%</th>\n",
       "      <th>75%</th>\n",
       "      <th>max</th>\n",
       "      <th>count</th>\n",
       "      <th>mean</th>\n",
       "      <th>...</th>\n",
       "      <th>75%</th>\n",
       "      <th>max</th>\n",
       "      <th>count</th>\n",
       "      <th>mean</th>\n",
       "      <th>std</th>\n",
       "      <th>min</th>\n",
       "      <th>25%</th>\n",
       "      <th>50%</th>\n",
       "      <th>75%</th>\n",
       "      <th>max</th>\n",
       "    </tr>\n",
       "    <tr>\n",
       "      <th>Diet</th>\n",
       "      <th></th>\n",
       "      <th></th>\n",
       "      <th></th>\n",
       "      <th></th>\n",
       "      <th></th>\n",
       "      <th></th>\n",
       "      <th></th>\n",
       "      <th></th>\n",
       "      <th></th>\n",
       "      <th></th>\n",
       "      <th></th>\n",
       "      <th></th>\n",
       "      <th></th>\n",
       "      <th></th>\n",
       "      <th></th>\n",
       "      <th></th>\n",
       "      <th></th>\n",
       "      <th></th>\n",
       "      <th></th>\n",
       "      <th></th>\n",
       "      <th></th>\n",
       "    </tr>\n",
       "  </thead>\n",
       "  <tbody>\n",
       "    <tr>\n",
       "      <th>1</th>\n",
       "      <td>220.0</td>\n",
       "      <td>9.963636</td>\n",
       "      <td>5.700160</td>\n",
       "      <td>1.0</td>\n",
       "      <td>5.0</td>\n",
       "      <td>10.0</td>\n",
       "      <td>14.0</td>\n",
       "      <td>20.0</td>\n",
       "      <td>220.0</td>\n",
       "      <td>10.481818</td>\n",
       "      <td>...</td>\n",
       "      <td>16.0</td>\n",
       "      <td>21.0</td>\n",
       "      <td>220.0</td>\n",
       "      <td>102.645455</td>\n",
       "      <td>56.656553</td>\n",
       "      <td>35.0</td>\n",
       "      <td>57.75</td>\n",
       "      <td>88.0</td>\n",
       "      <td>136.50</td>\n",
       "      <td>305.0</td>\n",
       "    </tr>\n",
       "    <tr>\n",
       "      <th>2</th>\n",
       "      <td>120.0</td>\n",
       "      <td>25.500000</td>\n",
       "      <td>2.884324</td>\n",
       "      <td>21.0</td>\n",
       "      <td>23.0</td>\n",
       "      <td>25.5</td>\n",
       "      <td>28.0</td>\n",
       "      <td>30.0</td>\n",
       "      <td>120.0</td>\n",
       "      <td>10.916667</td>\n",
       "      <td>...</td>\n",
       "      <td>16.5</td>\n",
       "      <td>21.0</td>\n",
       "      <td>120.0</td>\n",
       "      <td>122.616667</td>\n",
       "      <td>71.607495</td>\n",
       "      <td>39.0</td>\n",
       "      <td>65.50</td>\n",
       "      <td>104.5</td>\n",
       "      <td>163.00</td>\n",
       "      <td>331.0</td>\n",
       "    </tr>\n",
       "    <tr>\n",
       "      <th>3</th>\n",
       "      <td>120.0</td>\n",
       "      <td>35.500000</td>\n",
       "      <td>2.884324</td>\n",
       "      <td>31.0</td>\n",
       "      <td>33.0</td>\n",
       "      <td>35.5</td>\n",
       "      <td>38.0</td>\n",
       "      <td>40.0</td>\n",
       "      <td>120.0</td>\n",
       "      <td>10.916667</td>\n",
       "      <td>...</td>\n",
       "      <td>16.5</td>\n",
       "      <td>21.0</td>\n",
       "      <td>120.0</td>\n",
       "      <td>142.950000</td>\n",
       "      <td>86.541761</td>\n",
       "      <td>39.0</td>\n",
       "      <td>67.50</td>\n",
       "      <td>125.5</td>\n",
       "      <td>198.75</td>\n",
       "      <td>373.0</td>\n",
       "    </tr>\n",
       "    <tr>\n",
       "      <th>4</th>\n",
       "      <td>118.0</td>\n",
       "      <td>45.525424</td>\n",
       "      <td>2.902141</td>\n",
       "      <td>41.0</td>\n",
       "      <td>43.0</td>\n",
       "      <td>46.0</td>\n",
       "      <td>48.0</td>\n",
       "      <td>50.0</td>\n",
       "      <td>118.0</td>\n",
       "      <td>10.754237</td>\n",
       "      <td>...</td>\n",
       "      <td>16.0</td>\n",
       "      <td>21.0</td>\n",
       "      <td>118.0</td>\n",
       "      <td>135.262712</td>\n",
       "      <td>68.828714</td>\n",
       "      <td>39.0</td>\n",
       "      <td>71.25</td>\n",
       "      <td>129.5</td>\n",
       "      <td>184.75</td>\n",
       "      <td>322.0</td>\n",
       "    </tr>\n",
       "  </tbody>\n",
       "</table>\n",
       "<p>4 rows × 24 columns</p>\n",
       "</div>"
      ],
      "text/plain": [
       "      Chick                                                      Time  \\\n",
       "      count       mean       std   min   25%   50%   75%   max  count   \n",
       "Diet                                                                    \n",
       "1     220.0   9.963636  5.700160   1.0   5.0  10.0  14.0  20.0  220.0   \n",
       "2     120.0  25.500000  2.884324  21.0  23.0  25.5  28.0  30.0  120.0   \n",
       "3     120.0  35.500000  2.884324  31.0  33.0  35.5  38.0  40.0  120.0   \n",
       "4     118.0  45.525424  2.902141  41.0  43.0  46.0  48.0  50.0  118.0   \n",
       "\n",
       "                 ...               weight                                      \\\n",
       "           mean  ...     75%   max  count        mean        std   min    25%   \n",
       "Diet             ...                                                            \n",
       "1     10.481818  ...    16.0  21.0  220.0  102.645455  56.656553  35.0  57.75   \n",
       "2     10.916667  ...    16.5  21.0  120.0  122.616667  71.607495  39.0  65.50   \n",
       "3     10.916667  ...    16.5  21.0  120.0  142.950000  86.541761  39.0  67.50   \n",
       "4     10.754237  ...    16.0  21.0  118.0  135.262712  68.828714  39.0  71.25   \n",
       "\n",
       "                            \n",
       "        50%     75%    max  \n",
       "Diet                        \n",
       "1      88.0  136.50  305.0  \n",
       "2     104.5  163.00  331.0  \n",
       "3     125.5  198.75  373.0  \n",
       "4     129.5  184.75  322.0  \n",
       "\n",
       "[4 rows x 24 columns]"
      ]
     },
     "execution_count": 378,
     "metadata": {},
     "output_type": "execute_result"
    }
   ],
   "source": [
    "grouped_chickweight.describe()"
   ]
  },
  {
   "cell_type": "markdown",
   "metadata": {
    "slideshow": {
     "slide_type": "slide"
    }
   },
   "source": [
    "### Applying your own\n",
    "\n",
    "We can use built-in functions on our grouped objects, but we can also just apply our own functions. \n",
    "\n",
    "Note that these functions need to be able to be applied to a DataFrame object, as long as the function does this, it will work."
   ]
  },
  {
   "cell_type": "code",
   "execution_count": 379,
   "metadata": {},
   "outputs": [
    {
     "data": {
      "text/plain": [
       "Diet\n",
       "1    Dude we have 220 rows here!\n",
       "2    Dude we have 120 rows here!\n",
       "3    Dude we have 120 rows here!\n",
       "4    Dude we have 118 rows here!\n",
       "dtype: object"
      ]
     },
     "execution_count": 379,
     "metadata": {},
     "output_type": "execute_result"
    }
   ],
   "source": [
    "def show_size(frame):\n",
    "    return \"Dude we have \" + str(frame.shape[0]) + \" rows here!\" \n",
    "\n",
    "grouped_chickweight.apply(show_size)"
   ]
  },
  {
   "cell_type": "markdown",
   "metadata": {
    "slideshow": {
     "slide_type": "slide"
    }
   },
   "source": [
    "Realize that this means that **any** function can be used here. You will want to think about performance when dealing with large datasets. This functionality is one of the things that make the pandas API very powerful. \n",
    "\n",
    "### Advanced Groups \n",
    "We can also create groups based on two columns in the table. "
   ]
  },
  {
   "cell_type": "code",
   "execution_count": 380,
   "metadata": {
    "slideshow": {
     "slide_type": "slide"
    }
   },
   "outputs": [
    {
     "data": {
      "text/plain": [
       "Diet  Time\n",
       "1     0       Dude we have 20 rows here!\n",
       "      2       Dude we have 20 rows here!\n",
       "      4       Dude we have 19 rows here!\n",
       "      6       Dude we have 19 rows here!\n",
       "      8       Dude we have 19 rows here!\n",
       "      10      Dude we have 19 rows here!\n",
       "      12      Dude we have 19 rows here!\n",
       "      14      Dude we have 18 rows here!\n",
       "      16      Dude we have 17 rows here!\n",
       "      18      Dude we have 17 rows here!\n",
       "      20      Dude we have 17 rows here!\n",
       "      21      Dude we have 16 rows here!\n",
       "2     0       Dude we have 10 rows here!\n",
       "      2       Dude we have 10 rows here!\n",
       "      4       Dude we have 10 rows here!\n",
       "      6       Dude we have 10 rows here!\n",
       "      8       Dude we have 10 rows here!\n",
       "      10      Dude we have 10 rows here!\n",
       "      12      Dude we have 10 rows here!\n",
       "      14      Dude we have 10 rows here!\n",
       "      16      Dude we have 10 rows here!\n",
       "      18      Dude we have 10 rows here!\n",
       "      20      Dude we have 10 rows here!\n",
       "      21      Dude we have 10 rows here!\n",
       "3     0       Dude we have 10 rows here!\n",
       "      2       Dude we have 10 rows here!\n",
       "      4       Dude we have 10 rows here!\n",
       "      6       Dude we have 10 rows here!\n",
       "      8       Dude we have 10 rows here!\n",
       "      10      Dude we have 10 rows here!\n",
       "      12      Dude we have 10 rows here!\n",
       "      14      Dude we have 10 rows here!\n",
       "      16      Dude we have 10 rows here!\n",
       "      18      Dude we have 10 rows here!\n",
       "      20      Dude we have 10 rows here!\n",
       "      21      Dude we have 10 rows here!\n",
       "4     0       Dude we have 10 rows here!\n",
       "      2       Dude we have 10 rows here!\n",
       "      4       Dude we have 10 rows here!\n",
       "      6       Dude we have 10 rows here!\n",
       "      8       Dude we have 10 rows here!\n",
       "      10      Dude we have 10 rows here!\n",
       "      12      Dude we have 10 rows here!\n",
       "      14      Dude we have 10 rows here!\n",
       "      16      Dude we have 10 rows here!\n",
       "      18      Dude we have 10 rows here!\n",
       "      20       Dude we have 9 rows here!\n",
       "      21       Dude we have 9 rows here!\n",
       "dtype: object"
      ]
     },
     "execution_count": 380,
     "metadata": {},
     "output_type": "execute_result"
    }
   ],
   "source": [
    "df_chickweight.groupby(['Diet', 'Time']).apply(show_size)"
   ]
  },
  {
   "cell_type": "markdown",
   "metadata": {
    "slideshow": {
     "slide_type": "slide"
    }
   },
   "source": [
    "Looks like some chickens 'disappeared' prematurely. "
   ]
  },
  {
   "cell_type": "markdown",
   "metadata": {
    "slideshow": {
     "slide_type": "slide"
    }
   },
   "source": [
    "## pandas & visualisation"
   ]
  },
  {
   "cell_type": "code",
   "execution_count": 381,
   "metadata": {},
   "outputs": [
    {
     "data": {
      "text/plain": [
       "<pandas.core.groupby.SeriesGroupBy object at 0x114f44dd8>"
      ]
     },
     "execution_count": 381,
     "metadata": {},
     "output_type": "execute_result"
    }
   ],
   "source": [
    "df_chickweight.groupby(['Time','Diet'])['weight']"
   ]
  },
  {
   "cell_type": "code",
   "execution_count": 382,
   "metadata": {},
   "outputs": [],
   "source": [
    "agg = df_chickweight.groupby(['Time','Diet'])['weight'].apply(np.mean)"
   ]
  },
  {
   "cell_type": "code",
   "execution_count": 383,
   "metadata": {},
   "outputs": [
    {
     "data": {
      "text/plain": [
       "Time  Diet\n",
       "0     1       41.400000\n",
       "      2       40.700000\n",
       "      3       40.800000\n",
       "      4       41.000000\n",
       "2     1       47.250000\n",
       "      2       49.400000\n",
       "      3       50.400000\n",
       "      4       51.800000\n",
       "4     1       56.473684\n",
       "      2       59.800000\n",
       "Name: weight, dtype: float64"
      ]
     },
     "execution_count": 383,
     "metadata": {},
     "output_type": "execute_result"
    }
   ],
   "source": [
    "agg.head(10)"
   ]
  },
  {
   "cell_type": "code",
   "execution_count": 384,
   "metadata": {
    "slideshow": {
     "slide_type": "slide"
    }
   },
   "outputs": [
    {
     "data": {
      "text/html": [
       "<div>\n",
       "<style scoped>\n",
       "    .dataframe tbody tr th:only-of-type {\n",
       "        vertical-align: middle;\n",
       "    }\n",
       "\n",
       "    .dataframe tbody tr th {\n",
       "        vertical-align: top;\n",
       "    }\n",
       "\n",
       "    .dataframe thead th {\n",
       "        text-align: right;\n",
       "    }\n",
       "</style>\n",
       "<table border=\"1\" class=\"dataframe\">\n",
       "  <thead>\n",
       "    <tr style=\"text-align: right;\">\n",
       "      <th></th>\n",
       "      <th>Time</th>\n",
       "      <th>Diet</th>\n",
       "      <th>weight</th>\n",
       "    </tr>\n",
       "  </thead>\n",
       "  <tbody>\n",
       "    <tr>\n",
       "      <th>0</th>\n",
       "      <td>0</td>\n",
       "      <td>1</td>\n",
       "      <td>41.400000</td>\n",
       "    </tr>\n",
       "    <tr>\n",
       "      <th>1</th>\n",
       "      <td>0</td>\n",
       "      <td>2</td>\n",
       "      <td>40.700000</td>\n",
       "    </tr>\n",
       "    <tr>\n",
       "      <th>2</th>\n",
       "      <td>0</td>\n",
       "      <td>3</td>\n",
       "      <td>40.800000</td>\n",
       "    </tr>\n",
       "    <tr>\n",
       "      <th>3</th>\n",
       "      <td>0</td>\n",
       "      <td>4</td>\n",
       "      <td>41.000000</td>\n",
       "    </tr>\n",
       "    <tr>\n",
       "      <th>4</th>\n",
       "      <td>2</td>\n",
       "      <td>1</td>\n",
       "      <td>47.250000</td>\n",
       "    </tr>\n",
       "    <tr>\n",
       "      <th>5</th>\n",
       "      <td>2</td>\n",
       "      <td>2</td>\n",
       "      <td>49.400000</td>\n",
       "    </tr>\n",
       "    <tr>\n",
       "      <th>6</th>\n",
       "      <td>2</td>\n",
       "      <td>3</td>\n",
       "      <td>50.400000</td>\n",
       "    </tr>\n",
       "    <tr>\n",
       "      <th>7</th>\n",
       "      <td>2</td>\n",
       "      <td>4</td>\n",
       "      <td>51.800000</td>\n",
       "    </tr>\n",
       "    <tr>\n",
       "      <th>8</th>\n",
       "      <td>4</td>\n",
       "      <td>1</td>\n",
       "      <td>56.473684</td>\n",
       "    </tr>\n",
       "    <tr>\n",
       "      <th>9</th>\n",
       "      <td>4</td>\n",
       "      <td>2</td>\n",
       "      <td>59.800000</td>\n",
       "    </tr>\n",
       "  </tbody>\n",
       "</table>\n",
       "</div>"
      ],
      "text/plain": [
       "   Time  Diet     weight\n",
       "0     0     1  41.400000\n",
       "1     0     2  40.700000\n",
       "2     0     3  40.800000\n",
       "3     0     4  41.000000\n",
       "4     2     1  47.250000\n",
       "5     2     2  49.400000\n",
       "6     2     3  50.400000\n",
       "7     2     4  51.800000\n",
       "8     4     1  56.473684\n",
       "9     4     2  59.800000"
      ]
     },
     "execution_count": 384,
     "metadata": {},
     "output_type": "execute_result"
    }
   ],
   "source": [
    "agg.reset_index().head(10)"
   ]
  },
  {
   "cell_type": "markdown",
   "metadata": {
    "slideshow": {
     "slide_type": "slide"
    }
   },
   "source": [
    "pandas has a wrapper for matplotlib that we can use. So if we quickly want to create a plot of our DataFrame we can simply do it with this one-liner:"
   ]
  },
  {
   "cell_type": "code",
   "execution_count": 385,
   "metadata": {},
   "outputs": [
    {
     "data": {
      "text/html": [
       "<div>\n",
       "<style scoped>\n",
       "    .dataframe tbody tr th:only-of-type {\n",
       "        vertical-align: middle;\n",
       "    }\n",
       "\n",
       "    .dataframe tbody tr th {\n",
       "        vertical-align: top;\n",
       "    }\n",
       "\n",
       "    .dataframe thead th {\n",
       "        text-align: right;\n",
       "    }\n",
       "</style>\n",
       "<table border=\"1\" class=\"dataframe\">\n",
       "  <thead>\n",
       "    <tr style=\"text-align: right;\">\n",
       "      <th>Diet</th>\n",
       "      <th>1</th>\n",
       "      <th>2</th>\n",
       "      <th>3</th>\n",
       "      <th>4</th>\n",
       "    </tr>\n",
       "    <tr>\n",
       "      <th>Time</th>\n",
       "      <th></th>\n",
       "      <th></th>\n",
       "      <th></th>\n",
       "      <th></th>\n",
       "    </tr>\n",
       "  </thead>\n",
       "  <tbody>\n",
       "    <tr>\n",
       "      <th>0</th>\n",
       "      <td>41.400000</td>\n",
       "      <td>40.7</td>\n",
       "      <td>40.8</td>\n",
       "      <td>41.000000</td>\n",
       "    </tr>\n",
       "    <tr>\n",
       "      <th>2</th>\n",
       "      <td>47.250000</td>\n",
       "      <td>49.4</td>\n",
       "      <td>50.4</td>\n",
       "      <td>51.800000</td>\n",
       "    </tr>\n",
       "    <tr>\n",
       "      <th>4</th>\n",
       "      <td>56.473684</td>\n",
       "      <td>59.8</td>\n",
       "      <td>62.2</td>\n",
       "      <td>64.500000</td>\n",
       "    </tr>\n",
       "    <tr>\n",
       "      <th>6</th>\n",
       "      <td>66.789474</td>\n",
       "      <td>75.4</td>\n",
       "      <td>77.9</td>\n",
       "      <td>83.900000</td>\n",
       "    </tr>\n",
       "    <tr>\n",
       "      <th>8</th>\n",
       "      <td>79.684211</td>\n",
       "      <td>91.7</td>\n",
       "      <td>98.4</td>\n",
       "      <td>105.600000</td>\n",
       "    </tr>\n",
       "    <tr>\n",
       "      <th>10</th>\n",
       "      <td>93.052632</td>\n",
       "      <td>108.5</td>\n",
       "      <td>117.1</td>\n",
       "      <td>126.000000</td>\n",
       "    </tr>\n",
       "    <tr>\n",
       "      <th>12</th>\n",
       "      <td>108.526316</td>\n",
       "      <td>131.3</td>\n",
       "      <td>144.4</td>\n",
       "      <td>151.400000</td>\n",
       "    </tr>\n",
       "    <tr>\n",
       "      <th>14</th>\n",
       "      <td>123.388889</td>\n",
       "      <td>141.9</td>\n",
       "      <td>164.5</td>\n",
       "      <td>161.800000</td>\n",
       "    </tr>\n",
       "    <tr>\n",
       "      <th>16</th>\n",
       "      <td>144.647059</td>\n",
       "      <td>164.7</td>\n",
       "      <td>197.4</td>\n",
       "      <td>182.000000</td>\n",
       "    </tr>\n",
       "    <tr>\n",
       "      <th>18</th>\n",
       "      <td>158.941176</td>\n",
       "      <td>187.7</td>\n",
       "      <td>233.1</td>\n",
       "      <td>202.900000</td>\n",
       "    </tr>\n",
       "    <tr>\n",
       "      <th>20</th>\n",
       "      <td>170.411765</td>\n",
       "      <td>205.6</td>\n",
       "      <td>258.9</td>\n",
       "      <td>233.888889</td>\n",
       "    </tr>\n",
       "    <tr>\n",
       "      <th>21</th>\n",
       "      <td>177.750000</td>\n",
       "      <td>214.7</td>\n",
       "      <td>270.3</td>\n",
       "      <td>238.555556</td>\n",
       "    </tr>\n",
       "  </tbody>\n",
       "</table>\n",
       "</div>"
      ],
      "text/plain": [
       "Diet           1      2      3           4\n",
       "Time                                      \n",
       "0      41.400000   40.7   40.8   41.000000\n",
       "2      47.250000   49.4   50.4   51.800000\n",
       "4      56.473684   59.8   62.2   64.500000\n",
       "6      66.789474   75.4   77.9   83.900000\n",
       "8      79.684211   91.7   98.4  105.600000\n",
       "10     93.052632  108.5  117.1  126.000000\n",
       "12    108.526316  131.3  144.4  151.400000\n",
       "14    123.388889  141.9  164.5  161.800000\n",
       "16    144.647059  164.7  197.4  182.000000\n",
       "18    158.941176  187.7  233.1  202.900000\n",
       "20    170.411765  205.6  258.9  233.888889\n",
       "21    177.750000  214.7  270.3  238.555556"
      ]
     },
     "execution_count": 385,
     "metadata": {},
     "output_type": "execute_result"
    }
   ],
   "source": [
    "agg.unstack()"
   ]
  },
  {
   "cell_type": "code",
   "execution_count": 386,
   "metadata": {
    "scrolled": false,
    "slideshow": {
     "slide_type": "slide"
    }
   },
   "outputs": [
    {
     "data": {
      "image/png": "[encoded data removed]",
      "text/plain": [
       "<Figure size 432x288 with 1 Axes>"
      ]
     },
     "metadata": {},
     "output_type": "display_data"
    }
   ],
   "source": [
    "agg.unstack().plot();"
   ]
  },
  {
   "cell_type": "markdown",
   "metadata": {
    "slideshow": {
     "slide_type": "slide"
    }
   },
   "source": [
    "### Exercise \n",
    "\n",
    "1. Add a title to the plot we've just made. Try googling to figure out how to do this. \n",
    "2. Figure out which chickens died prematurely. \n",
    "3. Figure out which chicken became the fattest. \n",
    "4. Figure out during what timestep the chickens tend to gain the most weight. Hint; google what the `shift` function does. "
   ]
  },
  {
   "cell_type": "code",
   "execution_count": 387,
   "metadata": {
    "slideshow": {
     "slide_type": "slide"
    }
   },
   "outputs": [
    {
     "data": {
      "text/plain": [
       "<matplotlib.axes._subplots.AxesSubplot at 0x114fbf0b8>"
      ]
     },
     "execution_count": 387,
     "metadata": {},
     "output_type": "execute_result"
    },
    {
     "data": {
      "image/png": "[encoded data removed]",
      "text/plain": [
       "<Figure size 432x288 with 1 Axes>"
      ]
     },
     "metadata": {},
     "output_type": "display_data"
    }
   ],
   "source": [
    "agg.unstack().plot(title=\"Diets!\")"
   ]
  },
  {
   "cell_type": "code",
   "execution_count": 388,
   "metadata": {
    "scrolled": true,
    "slideshow": {
     "slide_type": "slide"
    }
   },
   "outputs": [
    {
     "data": {
      "text/plain": [
       "rownum\n",
       "12      1\n",
       "24      2\n",
       "36      3\n",
       "48      4\n",
       "60      5\n",
       "72      6\n",
       "84      7\n",
       "107     9\n",
       "119    10\n",
       "131    11\n",
       "143    12\n",
       "155    13\n",
       "167    14\n",
       "194    17\n",
       "208    19\n",
       "220    20\n",
       "232    21\n",
       "244    22\n",
       "256    23\n",
       "268    24\n",
       "280    25\n",
       "292    26\n",
       "304    27\n",
       "316    28\n",
       "328    29\n",
       "340    30\n",
       "352    31\n",
       "364    32\n",
       "376    33\n",
       "388    34\n",
       "400    35\n",
       "412    36\n",
       "424    37\n",
       "436    38\n",
       "448    39\n",
       "460    40\n",
       "472    41\n",
       "484    42\n",
       "496    43\n",
       "518    45\n",
       "530    46\n",
       "542    47\n",
       "554    48\n",
       "566    49\n",
       "578    50\n",
       "Name: Chick, dtype: int64"
      ]
     },
     "execution_count": 388,
     "metadata": {},
     "output_type": "execute_result"
    }
   ],
   "source": [
    "df_chickweight[df_chickweight['Time'] == df_chickweight['Time'].max()]['Chick'] # all the chicks not in this list"
   ]
  },
  {
   "cell_type": "code",
   "execution_count": 389,
   "metadata": {
    "slideshow": {
     "slide_type": "slide"
    }
   },
   "outputs": [
    {
     "data": {
      "text/html": [
       "<div>\n",
       "<style scoped>\n",
       "    .dataframe tbody tr th:only-of-type {\n",
       "        vertical-align: middle;\n",
       "    }\n",
       "\n",
       "    .dataframe tbody tr th {\n",
       "        vertical-align: top;\n",
       "    }\n",
       "\n",
       "    .dataframe thead th {\n",
       "        text-align: right;\n",
       "    }\n",
       "</style>\n",
       "<table border=\"1\" class=\"dataframe\">\n",
       "  <thead>\n",
       "    <tr style=\"text-align: right;\">\n",
       "      <th></th>\n",
       "      <th>weight</th>\n",
       "      <th>Time</th>\n",
       "      <th>Chick</th>\n",
       "      <th>Diet</th>\n",
       "    </tr>\n",
       "    <tr>\n",
       "      <th>rownum</th>\n",
       "      <th></th>\n",
       "      <th></th>\n",
       "      <th></th>\n",
       "      <th></th>\n",
       "    </tr>\n",
       "  </thead>\n",
       "  <tbody>\n",
       "    <tr>\n",
       "      <th>400</th>\n",
       "      <td>373</td>\n",
       "      <td>21</td>\n",
       "      <td>35</td>\n",
       "      <td>3</td>\n",
       "    </tr>\n",
       "  </tbody>\n",
       "</table>\n",
       "</div>"
      ],
      "text/plain": [
       "        weight  Time  Chick  Diet\n",
       "rownum                           \n",
       "400        373    21     35     3"
      ]
     },
     "execution_count": 389,
     "metadata": {},
     "output_type": "execute_result"
    }
   ],
   "source": [
    "df_chickweight.sort_values('weight', ascending=False).head(1)"
   ]
  },
  {
   "cell_type": "code",
   "execution_count": 390,
   "metadata": {},
   "outputs": [],
   "source": [
    "df_chickweight['weight_shifted'] = df_chickweight.groupby('Chick')['weight'].shift()"
   ]
  },
  {
   "cell_type": "code",
   "execution_count": 391,
   "metadata": {
    "scrolled": true,
    "slideshow": {
     "slide_type": "slide"
    }
   },
   "outputs": [
    {
     "data": {
      "text/html": [
       "<div>\n",
       "<style scoped>\n",
       "    .dataframe tbody tr th:only-of-type {\n",
       "        vertical-align: middle;\n",
       "    }\n",
       "\n",
       "    .dataframe tbody tr th {\n",
       "        vertical-align: top;\n",
       "    }\n",
       "\n",
       "    .dataframe thead th {\n",
       "        text-align: right;\n",
       "    }\n",
       "</style>\n",
       "<table border=\"1\" class=\"dataframe\">\n",
       "  <thead>\n",
       "    <tr style=\"text-align: right;\">\n",
       "      <th></th>\n",
       "      <th>weight</th>\n",
       "      <th>Time</th>\n",
       "      <th>Chick</th>\n",
       "      <th>Diet</th>\n",
       "      <th>weight_shifted</th>\n",
       "    </tr>\n",
       "    <tr>\n",
       "      <th>rownum</th>\n",
       "      <th></th>\n",
       "      <th></th>\n",
       "      <th></th>\n",
       "      <th></th>\n",
       "      <th></th>\n",
       "    </tr>\n",
       "  </thead>\n",
       "  <tbody>\n",
       "    <tr>\n",
       "      <th>1</th>\n",
       "      <td>42</td>\n",
       "      <td>0</td>\n",
       "      <td>1</td>\n",
       "      <td>1</td>\n",
       "      <td>NaN</td>\n",
       "    </tr>\n",
       "    <tr>\n",
       "      <th>2</th>\n",
       "      <td>51</td>\n",
       "      <td>2</td>\n",
       "      <td>1</td>\n",
       "      <td>1</td>\n",
       "      <td>42.0</td>\n",
       "    </tr>\n",
       "    <tr>\n",
       "      <th>3</th>\n",
       "      <td>59</td>\n",
       "      <td>4</td>\n",
       "      <td>1</td>\n",
       "      <td>1</td>\n",
       "      <td>51.0</td>\n",
       "    </tr>\n",
       "    <tr>\n",
       "      <th>4</th>\n",
       "      <td>64</td>\n",
       "      <td>6</td>\n",
       "      <td>1</td>\n",
       "      <td>1</td>\n",
       "      <td>59.0</td>\n",
       "    </tr>\n",
       "    <tr>\n",
       "      <th>5</th>\n",
       "      <td>76</td>\n",
       "      <td>8</td>\n",
       "      <td>1</td>\n",
       "      <td>1</td>\n",
       "      <td>64.0</td>\n",
       "    </tr>\n",
       "    <tr>\n",
       "      <th>6</th>\n",
       "      <td>93</td>\n",
       "      <td>10</td>\n",
       "      <td>1</td>\n",
       "      <td>1</td>\n",
       "      <td>76.0</td>\n",
       "    </tr>\n",
       "    <tr>\n",
       "      <th>7</th>\n",
       "      <td>106</td>\n",
       "      <td>12</td>\n",
       "      <td>1</td>\n",
       "      <td>1</td>\n",
       "      <td>93.0</td>\n",
       "    </tr>\n",
       "    <tr>\n",
       "      <th>8</th>\n",
       "      <td>125</td>\n",
       "      <td>14</td>\n",
       "      <td>1</td>\n",
       "      <td>1</td>\n",
       "      <td>106.0</td>\n",
       "    </tr>\n",
       "    <tr>\n",
       "      <th>9</th>\n",
       "      <td>149</td>\n",
       "      <td>16</td>\n",
       "      <td>1</td>\n",
       "      <td>1</td>\n",
       "      <td>125.0</td>\n",
       "    </tr>\n",
       "    <tr>\n",
       "      <th>10</th>\n",
       "      <td>171</td>\n",
       "      <td>18</td>\n",
       "      <td>1</td>\n",
       "      <td>1</td>\n",
       "      <td>149.0</td>\n",
       "    </tr>\n",
       "    <tr>\n",
       "      <th>11</th>\n",
       "      <td>199</td>\n",
       "      <td>20</td>\n",
       "      <td>1</td>\n",
       "      <td>1</td>\n",
       "      <td>171.0</td>\n",
       "    </tr>\n",
       "    <tr>\n",
       "      <th>12</th>\n",
       "      <td>205</td>\n",
       "      <td>21</td>\n",
       "      <td>1</td>\n",
       "      <td>1</td>\n",
       "      <td>199.0</td>\n",
       "    </tr>\n",
       "    <tr>\n",
       "      <th>13</th>\n",
       "      <td>40</td>\n",
       "      <td>0</td>\n",
       "      <td>2</td>\n",
       "      <td>1</td>\n",
       "      <td>NaN</td>\n",
       "    </tr>\n",
       "    <tr>\n",
       "      <th>14</th>\n",
       "      <td>49</td>\n",
       "      <td>2</td>\n",
       "      <td>2</td>\n",
       "      <td>1</td>\n",
       "      <td>40.0</td>\n",
       "    </tr>\n",
       "    <tr>\n",
       "      <th>15</th>\n",
       "      <td>58</td>\n",
       "      <td>4</td>\n",
       "      <td>2</td>\n",
       "      <td>1</td>\n",
       "      <td>49.0</td>\n",
       "    </tr>\n",
       "    <tr>\n",
       "      <th>16</th>\n",
       "      <td>72</td>\n",
       "      <td>6</td>\n",
       "      <td>2</td>\n",
       "      <td>1</td>\n",
       "      <td>58.0</td>\n",
       "    </tr>\n",
       "    <tr>\n",
       "      <th>17</th>\n",
       "      <td>84</td>\n",
       "      <td>8</td>\n",
       "      <td>2</td>\n",
       "      <td>1</td>\n",
       "      <td>72.0</td>\n",
       "    </tr>\n",
       "    <tr>\n",
       "      <th>18</th>\n",
       "      <td>103</td>\n",
       "      <td>10</td>\n",
       "      <td>2</td>\n",
       "      <td>1</td>\n",
       "      <td>84.0</td>\n",
       "    </tr>\n",
       "    <tr>\n",
       "      <th>19</th>\n",
       "      <td>122</td>\n",
       "      <td>12</td>\n",
       "      <td>2</td>\n",
       "      <td>1</td>\n",
       "      <td>103.0</td>\n",
       "    </tr>\n",
       "    <tr>\n",
       "      <th>20</th>\n",
       "      <td>138</td>\n",
       "      <td>14</td>\n",
       "      <td>2</td>\n",
       "      <td>1</td>\n",
       "      <td>122.0</td>\n",
       "    </tr>\n",
       "    <tr>\n",
       "      <th>21</th>\n",
       "      <td>162</td>\n",
       "      <td>16</td>\n",
       "      <td>2</td>\n",
       "      <td>1</td>\n",
       "      <td>138.0</td>\n",
       "    </tr>\n",
       "    <tr>\n",
       "      <th>22</th>\n",
       "      <td>187</td>\n",
       "      <td>18</td>\n",
       "      <td>2</td>\n",
       "      <td>1</td>\n",
       "      <td>162.0</td>\n",
       "    </tr>\n",
       "    <tr>\n",
       "      <th>23</th>\n",
       "      <td>209</td>\n",
       "      <td>20</td>\n",
       "      <td>2</td>\n",
       "      <td>1</td>\n",
       "      <td>187.0</td>\n",
       "    </tr>\n",
       "    <tr>\n",
       "      <th>24</th>\n",
       "      <td>215</td>\n",
       "      <td>21</td>\n",
       "      <td>2</td>\n",
       "      <td>1</td>\n",
       "      <td>209.0</td>\n",
       "    </tr>\n",
       "    <tr>\n",
       "      <th>25</th>\n",
       "      <td>43</td>\n",
       "      <td>0</td>\n",
       "      <td>3</td>\n",
       "      <td>1</td>\n",
       "      <td>NaN</td>\n",
       "    </tr>\n",
       "    <tr>\n",
       "      <th>26</th>\n",
       "      <td>39</td>\n",
       "      <td>2</td>\n",
       "      <td>3</td>\n",
       "      <td>1</td>\n",
       "      <td>43.0</td>\n",
       "    </tr>\n",
       "    <tr>\n",
       "      <th>27</th>\n",
       "      <td>55</td>\n",
       "      <td>4</td>\n",
       "      <td>3</td>\n",
       "      <td>1</td>\n",
       "      <td>39.0</td>\n",
       "    </tr>\n",
       "    <tr>\n",
       "      <th>28</th>\n",
       "      <td>67</td>\n",
       "      <td>6</td>\n",
       "      <td>3</td>\n",
       "      <td>1</td>\n",
       "      <td>55.0</td>\n",
       "    </tr>\n",
       "    <tr>\n",
       "      <th>29</th>\n",
       "      <td>84</td>\n",
       "      <td>8</td>\n",
       "      <td>3</td>\n",
       "      <td>1</td>\n",
       "      <td>67.0</td>\n",
       "    </tr>\n",
       "    <tr>\n",
       "      <th>30</th>\n",
       "      <td>99</td>\n",
       "      <td>10</td>\n",
       "      <td>3</td>\n",
       "      <td>1</td>\n",
       "      <td>84.0</td>\n",
       "    </tr>\n",
       "    <tr>\n",
       "      <th>...</th>\n",
       "      <td>...</td>\n",
       "      <td>...</td>\n",
       "      <td>...</td>\n",
       "      <td>...</td>\n",
       "      <td>...</td>\n",
       "    </tr>\n",
       "    <tr>\n",
       "      <th>549</th>\n",
       "      <td>154</td>\n",
       "      <td>12</td>\n",
       "      <td>48</td>\n",
       "      <td>4</td>\n",
       "      <td>125.0</td>\n",
       "    </tr>\n",
       "    <tr>\n",
       "      <th>550</th>\n",
       "      <td>170</td>\n",
       "      <td>14</td>\n",
       "      <td>48</td>\n",
       "      <td>4</td>\n",
       "      <td>154.0</td>\n",
       "    </tr>\n",
       "    <tr>\n",
       "      <th>551</th>\n",
       "      <td>222</td>\n",
       "      <td>16</td>\n",
       "      <td>48</td>\n",
       "      <td>4</td>\n",
       "      <td>170.0</td>\n",
       "    </tr>\n",
       "    <tr>\n",
       "      <th>552</th>\n",
       "      <td>261</td>\n",
       "      <td>18</td>\n",
       "      <td>48</td>\n",
       "      <td>4</td>\n",
       "      <td>222.0</td>\n",
       "    </tr>\n",
       "    <tr>\n",
       "      <th>553</th>\n",
       "      <td>303</td>\n",
       "      <td>20</td>\n",
       "      <td>48</td>\n",
       "      <td>4</td>\n",
       "      <td>261.0</td>\n",
       "    </tr>\n",
       "    <tr>\n",
       "      <th>554</th>\n",
       "      <td>322</td>\n",
       "      <td>21</td>\n",
       "      <td>48</td>\n",
       "      <td>4</td>\n",
       "      <td>303.0</td>\n",
       "    </tr>\n",
       "    <tr>\n",
       "      <th>555</th>\n",
       "      <td>40</td>\n",
       "      <td>0</td>\n",
       "      <td>49</td>\n",
       "      <td>4</td>\n",
       "      <td>NaN</td>\n",
       "    </tr>\n",
       "    <tr>\n",
       "      <th>556</th>\n",
       "      <td>53</td>\n",
       "      <td>2</td>\n",
       "      <td>49</td>\n",
       "      <td>4</td>\n",
       "      <td>40.0</td>\n",
       "    </tr>\n",
       "    <tr>\n",
       "      <th>557</th>\n",
       "      <td>64</td>\n",
       "      <td>4</td>\n",
       "      <td>49</td>\n",
       "      <td>4</td>\n",
       "      <td>53.0</td>\n",
       "    </tr>\n",
       "    <tr>\n",
       "      <th>558</th>\n",
       "      <td>85</td>\n",
       "      <td>6</td>\n",
       "      <td>49</td>\n",
       "      <td>4</td>\n",
       "      <td>64.0</td>\n",
       "    </tr>\n",
       "    <tr>\n",
       "      <th>559</th>\n",
       "      <td>108</td>\n",
       "      <td>8</td>\n",
       "      <td>49</td>\n",
       "      <td>4</td>\n",
       "      <td>85.0</td>\n",
       "    </tr>\n",
       "    <tr>\n",
       "      <th>560</th>\n",
       "      <td>128</td>\n",
       "      <td>10</td>\n",
       "      <td>49</td>\n",
       "      <td>4</td>\n",
       "      <td>108.0</td>\n",
       "    </tr>\n",
       "    <tr>\n",
       "      <th>561</th>\n",
       "      <td>152</td>\n",
       "      <td>12</td>\n",
       "      <td>49</td>\n",
       "      <td>4</td>\n",
       "      <td>128.0</td>\n",
       "    </tr>\n",
       "    <tr>\n",
       "      <th>562</th>\n",
       "      <td>166</td>\n",
       "      <td>14</td>\n",
       "      <td>49</td>\n",
       "      <td>4</td>\n",
       "      <td>152.0</td>\n",
       "    </tr>\n",
       "    <tr>\n",
       "      <th>563</th>\n",
       "      <td>184</td>\n",
       "      <td>16</td>\n",
       "      <td>49</td>\n",
       "      <td>4</td>\n",
       "      <td>166.0</td>\n",
       "    </tr>\n",
       "    <tr>\n",
       "      <th>564</th>\n",
       "      <td>203</td>\n",
       "      <td>18</td>\n",
       "      <td>49</td>\n",
       "      <td>4</td>\n",
       "      <td>184.0</td>\n",
       "    </tr>\n",
       "    <tr>\n",
       "      <th>565</th>\n",
       "      <td>233</td>\n",
       "      <td>20</td>\n",
       "      <td>49</td>\n",
       "      <td>4</td>\n",
       "      <td>203.0</td>\n",
       "    </tr>\n",
       "    <tr>\n",
       "      <th>566</th>\n",
       "      <td>237</td>\n",
       "      <td>21</td>\n",
       "      <td>49</td>\n",
       "      <td>4</td>\n",
       "      <td>233.0</td>\n",
       "    </tr>\n",
       "    <tr>\n",
       "      <th>567</th>\n",
       "      <td>41</td>\n",
       "      <td>0</td>\n",
       "      <td>50</td>\n",
       "      <td>4</td>\n",
       "      <td>NaN</td>\n",
       "    </tr>\n",
       "    <tr>\n",
       "      <th>568</th>\n",
       "      <td>54</td>\n",
       "      <td>2</td>\n",
       "      <td>50</td>\n",
       "      <td>4</td>\n",
       "      <td>41.0</td>\n",
       "    </tr>\n",
       "    <tr>\n",
       "      <th>569</th>\n",
       "      <td>67</td>\n",
       "      <td>4</td>\n",
       "      <td>50</td>\n",
       "      <td>4</td>\n",
       "      <td>54.0</td>\n",
       "    </tr>\n",
       "    <tr>\n",
       "      <th>570</th>\n",
       "      <td>84</td>\n",
       "      <td>6</td>\n",
       "      <td>50</td>\n",
       "      <td>4</td>\n",
       "      <td>67.0</td>\n",
       "    </tr>\n",
       "    <tr>\n",
       "      <th>571</th>\n",
       "      <td>105</td>\n",
       "      <td>8</td>\n",
       "      <td>50</td>\n",
       "      <td>4</td>\n",
       "      <td>84.0</td>\n",
       "    </tr>\n",
       "    <tr>\n",
       "      <th>572</th>\n",
       "      <td>122</td>\n",
       "      <td>10</td>\n",
       "      <td>50</td>\n",
       "      <td>4</td>\n",
       "      <td>105.0</td>\n",
       "    </tr>\n",
       "    <tr>\n",
       "      <th>573</th>\n",
       "      <td>155</td>\n",
       "      <td>12</td>\n",
       "      <td>50</td>\n",
       "      <td>4</td>\n",
       "      <td>122.0</td>\n",
       "    </tr>\n",
       "    <tr>\n",
       "      <th>574</th>\n",
       "      <td>175</td>\n",
       "      <td>14</td>\n",
       "      <td>50</td>\n",
       "      <td>4</td>\n",
       "      <td>155.0</td>\n",
       "    </tr>\n",
       "    <tr>\n",
       "      <th>575</th>\n",
       "      <td>205</td>\n",
       "      <td>16</td>\n",
       "      <td>50</td>\n",
       "      <td>4</td>\n",
       "      <td>175.0</td>\n",
       "    </tr>\n",
       "    <tr>\n",
       "      <th>576</th>\n",
       "      <td>234</td>\n",
       "      <td>18</td>\n",
       "      <td>50</td>\n",
       "      <td>4</td>\n",
       "      <td>205.0</td>\n",
       "    </tr>\n",
       "    <tr>\n",
       "      <th>577</th>\n",
       "      <td>264</td>\n",
       "      <td>20</td>\n",
       "      <td>50</td>\n",
       "      <td>4</td>\n",
       "      <td>234.0</td>\n",
       "    </tr>\n",
       "    <tr>\n",
       "      <th>578</th>\n",
       "      <td>264</td>\n",
       "      <td>21</td>\n",
       "      <td>50</td>\n",
       "      <td>4</td>\n",
       "      <td>264.0</td>\n",
       "    </tr>\n",
       "  </tbody>\n",
       "</table>\n",
       "<p>578 rows × 5 columns</p>\n",
       "</div>"
      ],
      "text/plain": [
       "        weight  Time  Chick  Diet  weight_shifted\n",
       "rownum                                           \n",
       "1           42     0      1     1             NaN\n",
       "2           51     2      1     1            42.0\n",
       "3           59     4      1     1            51.0\n",
       "4           64     6      1     1            59.0\n",
       "5           76     8      1     1            64.0\n",
       "6           93    10      1     1            76.0\n",
       "7          106    12      1     1            93.0\n",
       "8          125    14      1     1           106.0\n",
       "9          149    16      1     1           125.0\n",
       "10         171    18      1     1           149.0\n",
       "11         199    20      1     1           171.0\n",
       "12         205    21      1     1           199.0\n",
       "13          40     0      2     1             NaN\n",
       "14          49     2      2     1            40.0\n",
       "15          58     4      2     1            49.0\n",
       "16          72     6      2     1            58.0\n",
       "17          84     8      2     1            72.0\n",
       "18         103    10      2     1            84.0\n",
       "19         122    12      2     1           103.0\n",
       "20         138    14      2     1           122.0\n",
       "21         162    16      2     1           138.0\n",
       "22         187    18      2     1           162.0\n",
       "23         209    20      2     1           187.0\n",
       "24         215    21      2     1           209.0\n",
       "25          43     0      3     1             NaN\n",
       "26          39     2      3     1            43.0\n",
       "27          55     4      3     1            39.0\n",
       "28          67     6      3     1            55.0\n",
       "29          84     8      3     1            67.0\n",
       "30          99    10      3     1            84.0\n",
       "...        ...   ...    ...   ...             ...\n",
       "549        154    12     48     4           125.0\n",
       "550        170    14     48     4           154.0\n",
       "551        222    16     48     4           170.0\n",
       "552        261    18     48     4           222.0\n",
       "553        303    20     48     4           261.0\n",
       "554        322    21     48     4           303.0\n",
       "555         40     0     49     4             NaN\n",
       "556         53     2     49     4            40.0\n",
       "557         64     4     49     4            53.0\n",
       "558         85     6     49     4            64.0\n",
       "559        108     8     49     4            85.0\n",
       "560        128    10     49     4           108.0\n",
       "561        152    12     49     4           128.0\n",
       "562        166    14     49     4           152.0\n",
       "563        184    16     49     4           166.0\n",
       "564        203    18     49     4           184.0\n",
       "565        233    20     49     4           203.0\n",
       "566        237    21     49     4           233.0\n",
       "567         41     0     50     4             NaN\n",
       "568         54     2     50     4            41.0\n",
       "569         67     4     50     4            54.0\n",
       "570         84     6     50     4            67.0\n",
       "571        105     8     50     4            84.0\n",
       "572        122    10     50     4           105.0\n",
       "573        155    12     50     4           122.0\n",
       "574        175    14     50     4           155.0\n",
       "575        205    16     50     4           175.0\n",
       "576        234    18     50     4           205.0\n",
       "577        264    20     50     4           234.0\n",
       "578        264    21     50     4           264.0\n",
       "\n",
       "[578 rows x 5 columns]"
      ]
     },
     "execution_count": 391,
     "metadata": {},
     "output_type": "execute_result"
    }
   ],
   "source": [
    "df_chickweight"
   ]
  },
  {
   "cell_type": "code",
   "execution_count": 392,
   "metadata": {
    "slideshow": {
     "slide_type": "slide"
    }
   },
   "outputs": [
    {
     "data": {
      "text/plain": [
       "<matplotlib.axes._subplots.AxesSubplot at 0x11506a780>"
      ]
     },
     "execution_count": 392,
     "metadata": {},
     "output_type": "execute_result"
    },
    {
     "data": {
      "image/png": "[encoded data removed]",
      "text/plain": [
       "<Figure size 432x288 with 1 Axes>"
      ]
     },
     "metadata": {},
     "output_type": "display_data"
    }
   ],
   "source": [
    "df_chickweight['weight_diff'] = df_chickweight['weight'] - df_chickweight['weight_shifted']\n",
    "df_chickweight.groupby('Time')['weight_diff'].mean().reset_index().plot('Time', 'weight_diff')"
   ]
  },
  {
   "cell_type": "markdown",
   "metadata": {
    "slideshow": {
     "slide_type": "slide"
    }
   },
   "source": [
    "## Machine Learning: Just a Little\n",
    "\n",
    "Let's do a small regression. This is a mere exercise and a very modest intro to Scikit-learn. There's much more out there."
   ]
  },
  {
   "cell_type": "code",
   "execution_count": 393,
   "metadata": {},
   "outputs": [],
   "source": [
    "ml_df = df_chickweight[~np.isnan(df_chickweight['weight_shifted'])]"
   ]
  },
  {
   "cell_type": "code",
   "execution_count": 394,
   "metadata": {},
   "outputs": [
    {
     "data": {
      "text/plain": [
       "<matplotlib.axes._subplots.AxesSubplot at 0x1150c0fd0>"
      ]
     },
     "execution_count": 394,
     "metadata": {},
     "output_type": "execute_result"
    },
    {
     "data": {
      "image/png": "[encoded data removed]",
      "text/plain": [
       "<Figure size 432x288 with 1 Axes>"
      ]
     },
     "metadata": {},
     "output_type": "display_data"
    }
   ],
   "source": [
    "ml_df.plot(x='weight_shifted', y='weight', kind='scatter')"
   ]
  },
  {
   "cell_type": "code",
   "execution_count": 395,
   "metadata": {
    "slideshow": {
     "slide_type": "slide"
    }
   },
   "outputs": [],
   "source": [
    "y = np.array(ml_df['weight'], dtype='float64')\n",
    "x = np.array(ml_df['weight_shifted']).T"
   ]
  },
  {
   "cell_type": "code",
   "execution_count": 396,
   "metadata": {},
   "outputs": [],
   "source": [
    "from sklearn import linear_model\n",
    "reg = linear_model.LinearRegression(fit_intercept=True)"
   ]
  },
  {
   "cell_type": "code",
   "execution_count": 397,
   "metadata": {
    "slideshow": {
     "slide_type": "slide"
    }
   },
   "outputs": [
    {
     "ename": "ValueError",
     "evalue": "Expected 2D array, got 1D array instead:\narray=[  42.   51.   59.   64.   76.   93.  106.  125.  149.  171.  199.   40.\n   49.   58.   72.   84.  103.  122.  138.  162.  187.  209.   43.   39.\n   55.   67.   84.   99.  115.  138.  163.  187.  198.   42.   49.   56.\n   67.   74.   87.  102.  108.  136.  154.  160.   41.   42.   48.   60.\n   79.  106.  141.  164.  197.  199.  220.   41.   49.   59.   74.   97.\n  124.  141.  148.  155.  160.  160.   41.   49.   57.   71.   89.  112.\n  146.  174.  218.  250.  288.   42.   50.   61.   71.   84.   93.  110.\n  116.  126.  134.   42.   51.   59.   68.   85.   96.   90.   92.   93.\n  100.  100.   41.   44.   52.   63.   74.   81.   89.   96.  101.  112.\n  120.   43.   51.   63.   84.  112.  139.  168.  177.  182.  184.  181.\n   41.   49.   56.   62.   72.   88.  119.  135.  162.  185.  195.   41.\n   48.   53.   60.   65.   67.   71.   70.   71.   81.   91.   41.   49.\n   62.   79.  101.  128.  164.  192.  227.  248.  259.   41.   49.   56.\n   64.   68.   68.   67.   41.   45.   49.   51.   57.   51.   42.   51.\n   61.   72.   83.   89.   98.  103.  113.  123.  133.   39.   43.   48.\n   55.   62.   65.   71.   82.   88.  106.  120.  144.   41.   47.   54.\n   58.   65.   73.   77.   89.   98.  107.  115.   40.   50.   62.   86.\n  125.  163.  217.  240.  275.  307.  318.   41.   55.   64.   77.   90.\n   95.  108.  111.  131.  148.  164.   43.   52.   61.   73.   90.  103.\n  127.  135.  145.  163.  170.   42.   52.   58.   74.   66.   68.   70.\n   71.   72.   72.   76.   40.   49.   62.   78.  102.  124.  146.  164.\n  197.  231.  259.   42.   48.   57.   74.   93.  114.  136.  147.  169.\n  205.  236.   39.   46.   58.   73.   87.  100.  115.  123.  144.  163.\n  185.   39.   46.   58.   73.   92.  114.  145.  156.  184.  207.  212.\n   39.   48.   59.   74.   87.  106.  134.  150.  187.  230.  279.   42.\n   48.   59.   72.   85.   98.  115.  122.  143.  151.  157.   42.   53.\n   62.   73.   85.  102.  123.  138.  170.  204.  235.   41.   49.   65.\n   82.  107.  129.  159.  179.  221.  263.  291.   39.   50.   63.   77.\n   96.  111.  137.  144.  151.  146.  156.   41.   49.   63.   85.  107.\n  134.  164.  186.  235.  294.  327.   41.   53.   64.   87.  123.  158.\n  201.  238.  287.  332.  361.   39.   48.   61.   76.   98.  116.  145.\n  166.  198.  227.  225.   41.   48.   56.   68.   80.   83.  103.  112.\n  135.  157.  169.   41.   49.   61.   74.   98.  109.  128.  154.  192.\n  232.  280.   42.   50.   61.   78.   89.  109.  130.  146.  170.  214.\n  250.   41.   55.   66.   79.  101.  120.  154.  182.  215.  262.  295.\n   42.   51.   66.   85.  103.  124.  155.  153.  175.  184.  199.   42.\n   49.   63.   84.  103.  126.  160.  174.  204.  234.  269.   42.   55.\n   69.   96.  131.  157.  184.  188.  197.  198.  199.   42.   51.   65.\n   86.  103.  118.  127.  138.  145.   41.   50.   61.   78.   98.  117.\n  135.  141.  147.  174.  197.   40.   52.   62.   82.  101.  120.  144.\n  156.  173.  210.  231.   41.   53.   66.   79.  100.  123.  148.  157.\n  168.  185.  210.   39.   50.   62.   80.  104.  125.  154.  170.  222.\n  261.  303.   40.   53.   64.   85.  108.  128.  152.  166.  184.  203.\n  233.   41.   54.   67.   84.  105.  122.  155.  175.  205.  234.  264.].\nReshape your data either using array.reshape(-1, 1) if your data has a single feature or array.reshape(1, -1) if it contains a single sample.",
     "output_type": "error",
     "traceback": [
      "\u001b[0;31m---------------------------------------------------------------------------\u001b[0m",
      "\u001b[0;31mValueError\u001b[0m                                Traceback (most recent call last)",
      "\u001b[0;32m<ipython-input-397-98bf9091ae0e>\u001b[0m in \u001b[0;36m<module>\u001b[0;34m()\u001b[0m\n\u001b[0;32m----> 1\u001b[0;31m \u001b[0mreg\u001b[0m\u001b[0;34m.\u001b[0m\u001b[0mfit\u001b[0m\u001b[0;34m(\u001b[0m\u001b[0mx\u001b[0m\u001b[0;34m,\u001b[0m \u001b[0my\u001b[0m\u001b[0;34m)\u001b[0m\u001b[0;34m\u001b[0m\u001b[0m\n\u001b[0m",
      "\u001b[0;32m~/.virtualenvs/ds/lib/python3.6/site-packages/sklearn/linear_model/base.py\u001b[0m in \u001b[0;36mfit\u001b[0;34m(self, X, y, sample_weight)\u001b[0m\n\u001b[1;32m    480\u001b[0m         \u001b[0mn_jobs_\u001b[0m \u001b[0;34m=\u001b[0m \u001b[0mself\u001b[0m\u001b[0;34m.\u001b[0m\u001b[0mn_jobs\u001b[0m\u001b[0;34m\u001b[0m\u001b[0m\n\u001b[1;32m    481\u001b[0m         X, y = check_X_y(X, y, accept_sparse=['csr', 'csc', 'coo'],\n\u001b[0;32m--> 482\u001b[0;31m                          y_numeric=True, multi_output=True)\n\u001b[0m\u001b[1;32m    483\u001b[0m \u001b[0;34m\u001b[0m\u001b[0m\n\u001b[1;32m    484\u001b[0m         \u001b[0;32mif\u001b[0m \u001b[0msample_weight\u001b[0m \u001b[0;32mis\u001b[0m \u001b[0;32mnot\u001b[0m \u001b[0;32mNone\u001b[0m \u001b[0;32mand\u001b[0m \u001b[0mnp\u001b[0m\u001b[0;34m.\u001b[0m\u001b[0matleast_1d\u001b[0m\u001b[0;34m(\u001b[0m\u001b[0msample_weight\u001b[0m\u001b[0;34m)\u001b[0m\u001b[0;34m.\u001b[0m\u001b[0mndim\u001b[0m \u001b[0;34m>\u001b[0m \u001b[0;36m1\u001b[0m\u001b[0;34m:\u001b[0m\u001b[0;34m\u001b[0m\u001b[0m\n",
      "\u001b[0;32m~/.virtualenvs/ds/lib/python3.6/site-packages/sklearn/utils/validation.py\u001b[0m in \u001b[0;36mcheck_X_y\u001b[0;34m(X, y, accept_sparse, dtype, order, copy, force_all_finite, ensure_2d, allow_nd, multi_output, ensure_min_samples, ensure_min_features, y_numeric, warn_on_dtype, estimator)\u001b[0m\n\u001b[1;32m    571\u001b[0m     X = check_array(X, accept_sparse, dtype, order, copy, force_all_finite,\n\u001b[1;32m    572\u001b[0m                     \u001b[0mensure_2d\u001b[0m\u001b[0;34m,\u001b[0m \u001b[0mallow_nd\u001b[0m\u001b[0;34m,\u001b[0m \u001b[0mensure_min_samples\u001b[0m\u001b[0;34m,\u001b[0m\u001b[0;34m\u001b[0m\u001b[0m\n\u001b[0;32m--> 573\u001b[0;31m                     ensure_min_features, warn_on_dtype, estimator)\n\u001b[0m\u001b[1;32m    574\u001b[0m     \u001b[0;32mif\u001b[0m \u001b[0mmulti_output\u001b[0m\u001b[0;34m:\u001b[0m\u001b[0;34m\u001b[0m\u001b[0m\n\u001b[1;32m    575\u001b[0m         y = check_array(y, 'csr', force_all_finite=True, ensure_2d=False,\n",
      "\u001b[0;32m~/.virtualenvs/ds/lib/python3.6/site-packages/sklearn/utils/validation.py\u001b[0m in \u001b[0;36mcheck_array\u001b[0;34m(array, accept_sparse, dtype, order, copy, force_all_finite, ensure_2d, allow_nd, ensure_min_samples, ensure_min_features, warn_on_dtype, estimator)\u001b[0m\n\u001b[1;32m    439\u001b[0m                     \u001b[0;34m\"Reshape your data either using array.reshape(-1, 1) if \"\u001b[0m\u001b[0;34m\u001b[0m\u001b[0m\n\u001b[1;32m    440\u001b[0m                     \u001b[0;34m\"your data has a single feature or array.reshape(1, -1) \"\u001b[0m\u001b[0;34m\u001b[0m\u001b[0m\n\u001b[0;32m--> 441\u001b[0;31m                     \"if it contains a single sample.\".format(array))\n\u001b[0m\u001b[1;32m    442\u001b[0m             \u001b[0marray\u001b[0m \u001b[0;34m=\u001b[0m \u001b[0mnp\u001b[0m\u001b[0;34m.\u001b[0m\u001b[0matleast_2d\u001b[0m\u001b[0;34m(\u001b[0m\u001b[0marray\u001b[0m\u001b[0;34m)\u001b[0m\u001b[0;34m\u001b[0m\u001b[0m\n\u001b[1;32m    443\u001b[0m             \u001b[0;31m# To ensure that array flags are maintained\u001b[0m\u001b[0;34m\u001b[0m\u001b[0;34m\u001b[0m\u001b[0m\n",
      "\u001b[0;31mValueError\u001b[0m: Expected 2D array, got 1D array instead:\narray=[  42.   51.   59.   64.   76.   93.  106.  125.  149.  171.  199.   40.\n   49.   58.   72.   84.  103.  122.  138.  162.  187.  209.   43.   39.\n   55.   67.   84.   99.  115.  138.  163.  187.  198.   42.   49.   56.\n   67.   74.   87.  102.  108.  136.  154.  160.   41.   42.   48.   60.\n   79.  106.  141.  164.  197.  199.  220.   41.   49.   59.   74.   97.\n  124.  141.  148.  155.  160.  160.   41.   49.   57.   71.   89.  112.\n  146.  174.  218.  250.  288.   42.   50.   61.   71.   84.   93.  110.\n  116.  126.  134.   42.   51.   59.   68.   85.   96.   90.   92.   93.\n  100.  100.   41.   44.   52.   63.   74.   81.   89.   96.  101.  112.\n  120.   43.   51.   63.   84.  112.  139.  168.  177.  182.  184.  181.\n   41.   49.   56.   62.   72.   88.  119.  135.  162.  185.  195.   41.\n   48.   53.   60.   65.   67.   71.   70.   71.   81.   91.   41.   49.\n   62.   79.  101.  128.  164.  192.  227.  248.  259.   41.   49.   56.\n   64.   68.   68.   67.   41.   45.   49.   51.   57.   51.   42.   51.\n   61.   72.   83.   89.   98.  103.  113.  123.  133.   39.   43.   48.\n   55.   62.   65.   71.   82.   88.  106.  120.  144.   41.   47.   54.\n   58.   65.   73.   77.   89.   98.  107.  115.   40.   50.   62.   86.\n  125.  163.  217.  240.  275.  307.  318.   41.   55.   64.   77.   90.\n   95.  108.  111.  131.  148.  164.   43.   52.   61.   73.   90.  103.\n  127.  135.  145.  163.  170.   42.   52.   58.   74.   66.   68.   70.\n   71.   72.   72.   76.   40.   49.   62.   78.  102.  124.  146.  164.\n  197.  231.  259.   42.   48.   57.   74.   93.  114.  136.  147.  169.\n  205.  236.   39.   46.   58.   73.   87.  100.  115.  123.  144.  163.\n  185.   39.   46.   58.   73.   92.  114.  145.  156.  184.  207.  212.\n   39.   48.   59.   74.   87.  106.  134.  150.  187.  230.  279.   42.\n   48.   59.   72.   85.   98.  115.  122.  143.  151.  157.   42.   53.\n   62.   73.   85.  102.  123.  138.  170.  204.  235.   41.   49.   65.\n   82.  107.  129.  159.  179.  221.  263.  291.   39.   50.   63.   77.\n   96.  111.  137.  144.  151.  146.  156.   41.   49.   63.   85.  107.\n  134.  164.  186.  235.  294.  327.   41.   53.   64.   87.  123.  158.\n  201.  238.  287.  332.  361.   39.   48.   61.   76.   98.  116.  145.\n  166.  198.  227.  225.   41.   48.   56.   68.   80.   83.  103.  112.\n  135.  157.  169.   41.   49.   61.   74.   98.  109.  128.  154.  192.\n  232.  280.   42.   50.   61.   78.   89.  109.  130.  146.  170.  214.\n  250.   41.   55.   66.   79.  101.  120.  154.  182.  215.  262.  295.\n   42.   51.   66.   85.  103.  124.  155.  153.  175.  184.  199.   42.\n   49.   63.   84.  103.  126.  160.  174.  204.  234.  269.   42.   55.\n   69.   96.  131.  157.  184.  188.  197.  198.  199.   42.   51.   65.\n   86.  103.  118.  127.  138.  145.   41.   50.   61.   78.   98.  117.\n  135.  141.  147.  174.  197.   40.   52.   62.   82.  101.  120.  144.\n  156.  173.  210.  231.   41.   53.   66.   79.  100.  123.  148.  157.\n  168.  185.  210.   39.   50.   62.   80.  104.  125.  154.  170.  222.\n  261.  303.   40.   53.   64.   85.  108.  128.  152.  166.  184.  203.\n  233.   41.   54.   67.   84.  105.  122.  155.  175.  205.  234.  264.].\nReshape your data either using array.reshape(-1, 1) if your data has a single feature or array.reshape(1, -1) if it contains a single sample."
     ]
    }
   ],
   "source": [
    "reg.fit(x, y)"
   ]
  },
  {
   "cell_type": "code",
   "execution_count": null,
   "metadata": {
    "slideshow": {
     "slide_type": "slide"
    }
   },
   "outputs": [],
   "source": [
    "reg.fit(x.reshape(-1, 1), y)"
   ]
  },
  {
   "cell_type": "code",
   "execution_count": 399,
   "metadata": {},
   "outputs": [
    {
     "data": {
      "text/plain": [
       "(array([ 1.06152295]), 8.5528159557474623)"
      ]
     },
     "execution_count": 399,
     "metadata": {},
     "output_type": "execute_result"
    }
   ],
   "source": [
    "reg.coef_, reg.intercept_"
   ]
  },
  {
   "cell_type": "code",
   "execution_count": 400,
   "metadata": {
    "slideshow": {
     "slide_type": "slide"
    }
   },
   "outputs": [],
   "source": [
    "preds = reg.predict(x.reshape(-1, 1))"
   ]
  },
  {
   "cell_type": "code",
   "execution_count": 401,
   "metadata": {
    "slideshow": {
     "slide_type": "slide"
    }
   },
   "outputs": [
    {
     "data": {
      "text/plain": [
       "[<matplotlib.lines.Line2D at 0x11420c5f8>]"
      ]
     },
     "execution_count": 401,
     "metadata": {},
     "output_type": "execute_result"
    },
    {
     "data": {
      "image/png": "[encoded data removed]",
      "text/plain": [
       "<Figure size 432x288 with 1 Axes>"
      ]
     },
     "metadata": {},
     "output_type": "display_data"
    }
   ],
   "source": [
    "plt.plot(x, y, \"o\")\n",
    "plt.plot(x, preds, color='r')"
   ]
  },
  {
   "cell_type": "markdown",
   "metadata": {},
   "source": [
    "We've just trained a machine learning model which can predict the weight of a chick given its weight the time period before. "
   ]
  },
  {
   "cell_type": "markdown",
   "metadata": {
    "slideshow": {
     "slide_type": "slide"
    }
   },
   "source": [
    "## Working with time series"
   ]
  },
  {
   "cell_type": "code",
   "execution_count": 402,
   "metadata": {},
   "outputs": [
    {
     "data": {
      "text/plain": [
       "DatetimeIndex(['2016-01-01', '2016-01-02', '2016-01-03', '2016-01-04',\n",
       "               '2016-01-05', '2016-01-06', '2016-01-07', '2016-01-08',\n",
       "               '2016-01-09', '2016-01-10'],\n",
       "              dtype='datetime64[ns]', freq='D')"
      ]
     },
     "execution_count": 402,
     "metadata": {},
     "output_type": "execute_result"
    }
   ],
   "source": [
    "dates = pd.date_range('2016-01-01', '2017-01-01')\n",
    "dates[:10]"
   ]
  },
  {
   "cell_type": "code",
   "execution_count": 403,
   "metadata": {},
   "outputs": [
    {
     "data": {
      "text/plain": [
       "Timestamp('2017-01-01 00:00:00', freq='D')"
      ]
     },
     "execution_count": 403,
     "metadata": {},
     "output_type": "execute_result"
    }
   ],
   "source": [
    "dates[-1]"
   ]
  },
  {
   "cell_type": "code",
   "execution_count": 404,
   "metadata": {
    "slideshow": {
     "slide_type": "slide"
    }
   },
   "outputs": [],
   "source": [
    "values1 = np.cumsum(np.random.normal(0, 1, dates.shape))\n",
    "values2 = np.cumsum(np.random.normal(0, 1, dates.shape))"
   ]
  },
  {
   "cell_type": "code",
   "execution_count": 405,
   "metadata": {},
   "outputs": [],
   "source": [
    "df_time = pd.DataFrame({'values1': values1, 'values2': values2}, index=dates)"
   ]
  },
  {
   "cell_type": "code",
   "execution_count": 406,
   "metadata": {
    "slideshow": {
     "slide_type": "slide"
    }
   },
   "outputs": [
    {
     "data": {
      "text/html": [
       "<div>\n",
       "<style scoped>\n",
       "    .dataframe tbody tr th:only-of-type {\n",
       "        vertical-align: middle;\n",
       "    }\n",
       "\n",
       "    .dataframe tbody tr th {\n",
       "        vertical-align: top;\n",
       "    }\n",
       "\n",
       "    .dataframe thead th {\n",
       "        text-align: right;\n",
       "    }\n",
       "</style>\n",
       "<table border=\"1\" class=\"dataframe\">\n",
       "  <thead>\n",
       "    <tr style=\"text-align: right;\">\n",
       "      <th></th>\n",
       "      <th>values1</th>\n",
       "      <th>values2</th>\n",
       "    </tr>\n",
       "  </thead>\n",
       "  <tbody>\n",
       "    <tr>\n",
       "      <th>2016-01-01</th>\n",
       "      <td>-1.202854</td>\n",
       "      <td>-0.945468</td>\n",
       "    </tr>\n",
       "    <tr>\n",
       "      <th>2016-01-02</th>\n",
       "      <td>-1.629328</td>\n",
       "      <td>-1.424312</td>\n",
       "    </tr>\n",
       "    <tr>\n",
       "      <th>2016-01-03</th>\n",
       "      <td>-0.297628</td>\n",
       "      <td>-0.431331</td>\n",
       "    </tr>\n",
       "    <tr>\n",
       "      <th>2016-01-04</th>\n",
       "      <td>-0.205496</td>\n",
       "      <td>0.277939</td>\n",
       "    </tr>\n",
       "    <tr>\n",
       "      <th>2016-01-05</th>\n",
       "      <td>-0.182044</td>\n",
       "      <td>1.042470</td>\n",
       "    </tr>\n",
       "  </tbody>\n",
       "</table>\n",
       "</div>"
      ],
      "text/plain": [
       "             values1   values2\n",
       "2016-01-01 -1.202854 -0.945468\n",
       "2016-01-02 -1.629328 -1.424312\n",
       "2016-01-03 -0.297628 -0.431331\n",
       "2016-01-04 -0.205496  0.277939\n",
       "2016-01-05 -0.182044  1.042470"
      ]
     },
     "execution_count": 406,
     "metadata": {},
     "output_type": "execute_result"
    }
   ],
   "source": [
    "df_time.head()"
   ]
  },
  {
   "cell_type": "code",
   "execution_count": 407,
   "metadata": {
    "slideshow": {
     "slide_type": "slide"
    }
   },
   "outputs": [
    {
     "data": {
      "text/plain": [
       "<matplotlib.axes._subplots.AxesSubplot at 0x1146e4710>"
      ]
     },
     "execution_count": 407,
     "metadata": {},
     "output_type": "execute_result"
    },
    {
     "data": {
      "image/png": "[encoded data removed]",
      "text/plain": [
       "<Figure size 432x288 with 1 Axes>"
      ]
     },
     "metadata": {},
     "output_type": "display_data"
    }
   ],
   "source": [
    "df_time.plot()"
   ]
  },
  {
   "cell_type": "code",
   "execution_count": 408,
   "metadata": {
    "slideshow": {
     "slide_type": "slide"
    }
   },
   "outputs": [],
   "source": [
    "df_smooth = df_time.rolling(window=10, axis=0).mean()"
   ]
  },
  {
   "cell_type": "code",
   "execution_count": 409,
   "metadata": {},
   "outputs": [
    {
     "data": {
      "text/html": [
       "<div>\n",
       "<style scoped>\n",
       "    .dataframe tbody tr th:only-of-type {\n",
       "        vertical-align: middle;\n",
       "    }\n",
       "\n",
       "    .dataframe tbody tr th {\n",
       "        vertical-align: top;\n",
       "    }\n",
       "\n",
       "    .dataframe thead th {\n",
       "        text-align: right;\n",
       "    }\n",
       "</style>\n",
       "<table border=\"1\" class=\"dataframe\">\n",
       "  <thead>\n",
       "    <tr style=\"text-align: right;\">\n",
       "      <th></th>\n",
       "      <th>values1</th>\n",
       "      <th>values2</th>\n",
       "    </tr>\n",
       "  </thead>\n",
       "  <tbody>\n",
       "    <tr>\n",
       "      <th>2016-01-01</th>\n",
       "      <td>NaN</td>\n",
       "      <td>NaN</td>\n",
       "    </tr>\n",
       "    <tr>\n",
       "      <th>2016-01-02</th>\n",
       "      <td>NaN</td>\n",
       "      <td>NaN</td>\n",
       "    </tr>\n",
       "    <tr>\n",
       "      <th>2016-01-03</th>\n",
       "      <td>NaN</td>\n",
       "      <td>NaN</td>\n",
       "    </tr>\n",
       "    <tr>\n",
       "      <th>2016-01-04</th>\n",
       "      <td>NaN</td>\n",
       "      <td>NaN</td>\n",
       "    </tr>\n",
       "    <tr>\n",
       "      <th>2016-01-05</th>\n",
       "      <td>NaN</td>\n",
       "      <td>NaN</td>\n",
       "    </tr>\n",
       "  </tbody>\n",
       "</table>\n",
       "</div>"
      ],
      "text/plain": [
       "            values1  values2\n",
       "2016-01-01      NaN      NaN\n",
       "2016-01-02      NaN      NaN\n",
       "2016-01-03      NaN      NaN\n",
       "2016-01-04      NaN      NaN\n",
       "2016-01-05      NaN      NaN"
      ]
     },
     "execution_count": 409,
     "metadata": {},
     "output_type": "execute_result"
    }
   ],
   "source": [
    "df_smooth.head()"
   ]
  },
  {
   "cell_type": "code",
   "execution_count": 410,
   "metadata": {
    "slideshow": {
     "slide_type": "slide"
    }
   },
   "outputs": [
    {
     "data": {
      "text/html": [
       "<div>\n",
       "<style scoped>\n",
       "    .dataframe tbody tr th:only-of-type {\n",
       "        vertical-align: middle;\n",
       "    }\n",
       "\n",
       "    .dataframe tbody tr th {\n",
       "        vertical-align: top;\n",
       "    }\n",
       "\n",
       "    .dataframe thead th {\n",
       "        text-align: right;\n",
       "    }\n",
       "</style>\n",
       "<table border=\"1\" class=\"dataframe\">\n",
       "  <thead>\n",
       "    <tr style=\"text-align: right;\">\n",
       "      <th></th>\n",
       "      <th>values1</th>\n",
       "      <th>values2</th>\n",
       "    </tr>\n",
       "  </thead>\n",
       "  <tbody>\n",
       "    <tr>\n",
       "      <th>2016-01-01</th>\n",
       "      <td>NaN</td>\n",
       "      <td>NaN</td>\n",
       "    </tr>\n",
       "    <tr>\n",
       "      <th>2016-01-02</th>\n",
       "      <td>NaN</td>\n",
       "      <td>NaN</td>\n",
       "    </tr>\n",
       "    <tr>\n",
       "      <th>2016-01-03</th>\n",
       "      <td>NaN</td>\n",
       "      <td>NaN</td>\n",
       "    </tr>\n",
       "    <tr>\n",
       "      <th>2016-01-04</th>\n",
       "      <td>NaN</td>\n",
       "      <td>NaN</td>\n",
       "    </tr>\n",
       "    <tr>\n",
       "      <th>2016-01-05</th>\n",
       "      <td>NaN</td>\n",
       "      <td>NaN</td>\n",
       "    </tr>\n",
       "    <tr>\n",
       "      <th>2016-01-06</th>\n",
       "      <td>NaN</td>\n",
       "      <td>NaN</td>\n",
       "    </tr>\n",
       "    <tr>\n",
       "      <th>2016-01-07</th>\n",
       "      <td>NaN</td>\n",
       "      <td>NaN</td>\n",
       "    </tr>\n",
       "    <tr>\n",
       "      <th>2016-01-08</th>\n",
       "      <td>NaN</td>\n",
       "      <td>NaN</td>\n",
       "    </tr>\n",
       "    <tr>\n",
       "      <th>2016-01-09</th>\n",
       "      <td>NaN</td>\n",
       "      <td>NaN</td>\n",
       "    </tr>\n",
       "    <tr>\n",
       "      <th>2016-01-10</th>\n",
       "      <td>0.336643</td>\n",
       "      <td>0.137472</td>\n",
       "    </tr>\n",
       "    <tr>\n",
       "      <th>2016-01-11</th>\n",
       "      <td>0.920831</td>\n",
       "      <td>0.267195</td>\n",
       "    </tr>\n",
       "    <tr>\n",
       "      <th>2016-01-12</th>\n",
       "      <td>1.459406</td>\n",
       "      <td>0.602617</td>\n",
       "    </tr>\n",
       "    <tr>\n",
       "      <th>2016-01-13</th>\n",
       "      <td>1.895791</td>\n",
       "      <td>0.765302</td>\n",
       "    </tr>\n",
       "    <tr>\n",
       "      <th>2016-01-14</th>\n",
       "      <td>2.318210</td>\n",
       "      <td>0.968805</td>\n",
       "    </tr>\n",
       "    <tr>\n",
       "      <th>2016-01-15</th>\n",
       "      <td>2.568835</td>\n",
       "      <td>1.026869</td>\n",
       "    </tr>\n",
       "    <tr>\n",
       "      <th>2016-01-16</th>\n",
       "      <td>3.166831</td>\n",
       "      <td>1.137327</td>\n",
       "    </tr>\n",
       "    <tr>\n",
       "      <th>2016-01-17</th>\n",
       "      <td>3.622090</td>\n",
       "      <td>1.328860</td>\n",
       "    </tr>\n",
       "    <tr>\n",
       "      <th>2016-01-18</th>\n",
       "      <td>4.015601</td>\n",
       "      <td>1.383000</td>\n",
       "    </tr>\n",
       "    <tr>\n",
       "      <th>2016-01-19</th>\n",
       "      <td>4.377611</td>\n",
       "      <td>1.310752</td>\n",
       "    </tr>\n",
       "    <tr>\n",
       "      <th>2016-01-20</th>\n",
       "      <td>4.618585</td>\n",
       "      <td>1.140468</td>\n",
       "    </tr>\n",
       "  </tbody>\n",
       "</table>\n",
       "</div>"
      ],
      "text/plain": [
       "             values1   values2\n",
       "2016-01-01       NaN       NaN\n",
       "2016-01-02       NaN       NaN\n",
       "2016-01-03       NaN       NaN\n",
       "2016-01-04       NaN       NaN\n",
       "2016-01-05       NaN       NaN\n",
       "2016-01-06       NaN       NaN\n",
       "2016-01-07       NaN       NaN\n",
       "2016-01-08       NaN       NaN\n",
       "2016-01-09       NaN       NaN\n",
       "2016-01-10  0.336643  0.137472\n",
       "2016-01-11  0.920831  0.267195\n",
       "2016-01-12  1.459406  0.602617\n",
       "2016-01-13  1.895791  0.765302\n",
       "2016-01-14  2.318210  0.968805\n",
       "2016-01-15  2.568835  1.026869\n",
       "2016-01-16  3.166831  1.137327\n",
       "2016-01-17  3.622090  1.328860\n",
       "2016-01-18  4.015601  1.383000\n",
       "2016-01-19  4.377611  1.310752\n",
       "2016-01-20  4.618585  1.140468"
      ]
     },
     "execution_count": 410,
     "metadata": {},
     "output_type": "execute_result"
    }
   ],
   "source": [
    "df_smooth.head(20)"
   ]
  },
  {
   "cell_type": "code",
   "execution_count": 411,
   "metadata": {
    "slideshow": {
     "slide_type": "slide"
    }
   },
   "outputs": [
    {
     "data": {
      "text/plain": [
       "<matplotlib.axes._subplots.AxesSubplot at 0x114739e10>"
      ]
     },
     "execution_count": 411,
     "metadata": {},
     "output_type": "execute_result"
    },
    {
     "data": {
      "image/png": "[encoded data removed]",
      "text/plain": [
       "<Figure size 432x288 with 1 Axes>"
      ]
     },
     "metadata": {},
     "output_type": "display_data"
    }
   ],
   "source": [
    "df_smooth.plot()"
   ]
  },
  {
   "cell_type": "code",
   "execution_count": 412,
   "metadata": {
    "slideshow": {
     "slide_type": "slide"
    }
   },
   "outputs": [],
   "source": [
    "df_smooth.columns = [ 'smooth_' + column_name for column_name in df_smooth.columns ]"
   ]
  },
  {
   "cell_type": "code",
   "execution_count": 413,
   "metadata": {},
   "outputs": [
    {
     "data": {
      "text/plain": [
       "Index(['smooth_values1', 'smooth_values2'], dtype='object')"
      ]
     },
     "execution_count": 413,
     "metadata": {},
     "output_type": "execute_result"
    }
   ],
   "source": [
    "df_smooth.columns"
   ]
  },
  {
   "cell_type": "code",
   "execution_count": 414,
   "metadata": {
    "scrolled": true
   },
   "outputs": [
    {
     "data": {
      "text/html": [
       "<div>\n",
       "<style scoped>\n",
       "    .dataframe tbody tr th:only-of-type {\n",
       "        vertical-align: middle;\n",
       "    }\n",
       "\n",
       "    .dataframe tbody tr th {\n",
       "        vertical-align: top;\n",
       "    }\n",
       "\n",
       "    .dataframe thead th {\n",
       "        text-align: right;\n",
       "    }\n",
       "</style>\n",
       "<table border=\"1\" class=\"dataframe\">\n",
       "  <thead>\n",
       "    <tr style=\"text-align: right;\">\n",
       "      <th></th>\n",
       "      <th>values1</th>\n",
       "      <th>values2</th>\n",
       "      <th>smooth_values1</th>\n",
       "      <th>smooth_values2</th>\n",
       "    </tr>\n",
       "  </thead>\n",
       "  <tbody>\n",
       "    <tr>\n",
       "      <th>2016-01-01</th>\n",
       "      <td>-1.202854</td>\n",
       "      <td>-0.945468</td>\n",
       "      <td>NaN</td>\n",
       "      <td>NaN</td>\n",
       "    </tr>\n",
       "    <tr>\n",
       "      <th>2016-01-02</th>\n",
       "      <td>-1.629328</td>\n",
       "      <td>-1.424312</td>\n",
       "      <td>NaN</td>\n",
       "      <td>NaN</td>\n",
       "    </tr>\n",
       "    <tr>\n",
       "      <th>2016-01-03</th>\n",
       "      <td>-0.297628</td>\n",
       "      <td>-0.431331</td>\n",
       "      <td>NaN</td>\n",
       "      <td>NaN</td>\n",
       "    </tr>\n",
       "    <tr>\n",
       "      <th>2016-01-04</th>\n",
       "      <td>-0.205496</td>\n",
       "      <td>0.277939</td>\n",
       "      <td>NaN</td>\n",
       "      <td>NaN</td>\n",
       "    </tr>\n",
       "    <tr>\n",
       "      <th>2016-01-05</th>\n",
       "      <td>-0.182044</td>\n",
       "      <td>1.042470</td>\n",
       "      <td>NaN</td>\n",
       "      <td>NaN</td>\n",
       "    </tr>\n",
       "    <tr>\n",
       "      <th>2016-01-06</th>\n",
       "      <td>-1.196204</td>\n",
       "      <td>0.349791</td>\n",
       "      <td>NaN</td>\n",
       "      <td>NaN</td>\n",
       "    </tr>\n",
       "    <tr>\n",
       "      <th>2016-01-07</th>\n",
       "      <td>0.294781</td>\n",
       "      <td>0.720578</td>\n",
       "      <td>NaN</td>\n",
       "      <td>NaN</td>\n",
       "    </tr>\n",
       "    <tr>\n",
       "      <th>2016-01-08</th>\n",
       "      <td>1.559086</td>\n",
       "      <td>0.316354</td>\n",
       "      <td>NaN</td>\n",
       "      <td>NaN</td>\n",
       "    </tr>\n",
       "    <tr>\n",
       "      <th>2016-01-09</th>\n",
       "      <td>2.080212</td>\n",
       "      <td>0.767629</td>\n",
       "      <td>NaN</td>\n",
       "      <td>NaN</td>\n",
       "    </tr>\n",
       "    <tr>\n",
       "      <th>2016-01-10</th>\n",
       "      <td>4.145903</td>\n",
       "      <td>0.701068</td>\n",
       "      <td>0.336643</td>\n",
       "      <td>0.137472</td>\n",
       "    </tr>\n",
       "    <tr>\n",
       "      <th>2016-01-11</th>\n",
       "      <td>4.639025</td>\n",
       "      <td>0.351763</td>\n",
       "      <td>0.920831</td>\n",
       "      <td>0.267195</td>\n",
       "    </tr>\n",
       "    <tr>\n",
       "      <th>2016-01-12</th>\n",
       "      <td>3.756425</td>\n",
       "      <td>1.929913</td>\n",
       "      <td>1.459406</td>\n",
       "      <td>0.602617</td>\n",
       "    </tr>\n",
       "    <tr>\n",
       "      <th>2016-01-13</th>\n",
       "      <td>4.066221</td>\n",
       "      <td>1.195514</td>\n",
       "      <td>1.895791</td>\n",
       "      <td>0.765302</td>\n",
       "    </tr>\n",
       "    <tr>\n",
       "      <th>2016-01-14</th>\n",
       "      <td>4.018697</td>\n",
       "      <td>2.312969</td>\n",
       "      <td>2.318210</td>\n",
       "      <td>0.968805</td>\n",
       "    </tr>\n",
       "    <tr>\n",
       "      <th>2016-01-15</th>\n",
       "      <td>2.324206</td>\n",
       "      <td>1.623106</td>\n",
       "      <td>2.568835</td>\n",
       "      <td>1.026869</td>\n",
       "    </tr>\n",
       "    <tr>\n",
       "      <th>2016-01-16</th>\n",
       "      <td>4.783754</td>\n",
       "      <td>1.454374</td>\n",
       "      <td>3.166831</td>\n",
       "      <td>1.137327</td>\n",
       "    </tr>\n",
       "    <tr>\n",
       "      <th>2016-01-17</th>\n",
       "      <td>4.847367</td>\n",
       "      <td>2.635907</td>\n",
       "      <td>3.622090</td>\n",
       "      <td>1.328860</td>\n",
       "    </tr>\n",
       "    <tr>\n",
       "      <th>2016-01-18</th>\n",
       "      <td>5.494204</td>\n",
       "      <td>0.857755</td>\n",
       "      <td>4.015601</td>\n",
       "      <td>1.383000</td>\n",
       "    </tr>\n",
       "    <tr>\n",
       "      <th>2016-01-19</th>\n",
       "      <td>5.700309</td>\n",
       "      <td>0.045152</td>\n",
       "      <td>4.377611</td>\n",
       "      <td>1.310752</td>\n",
       "    </tr>\n",
       "    <tr>\n",
       "      <th>2016-01-20</th>\n",
       "      <td>6.555639</td>\n",
       "      <td>-1.001769</td>\n",
       "      <td>4.618585</td>\n",
       "      <td>1.140468</td>\n",
       "    </tr>\n",
       "    <tr>\n",
       "      <th>2016-01-21</th>\n",
       "      <td>5.701295</td>\n",
       "      <td>-1.407599</td>\n",
       "      <td>4.724812</td>\n",
       "      <td>0.964532</td>\n",
       "    </tr>\n",
       "    <tr>\n",
       "      <th>2016-01-22</th>\n",
       "      <td>4.119324</td>\n",
       "      <td>-2.219264</td>\n",
       "      <td>4.761102</td>\n",
       "      <td>0.549615</td>\n",
       "    </tr>\n",
       "    <tr>\n",
       "      <th>2016-01-23</th>\n",
       "      <td>2.689068</td>\n",
       "      <td>-1.579575</td>\n",
       "      <td>4.623386</td>\n",
       "      <td>0.272106</td>\n",
       "    </tr>\n",
       "    <tr>\n",
       "      <th>2016-01-24</th>\n",
       "      <td>2.059804</td>\n",
       "      <td>-0.633275</td>\n",
       "      <td>4.427497</td>\n",
       "      <td>-0.022519</td>\n",
       "    </tr>\n",
       "    <tr>\n",
       "      <th>2016-01-25</th>\n",
       "      <td>2.556925</td>\n",
       "      <td>-0.994812</td>\n",
       "      <td>4.450769</td>\n",
       "      <td>-0.284311</td>\n",
       "    </tr>\n",
       "    <tr>\n",
       "      <th>2016-01-26</th>\n",
       "      <td>3.273056</td>\n",
       "      <td>-1.821385</td>\n",
       "      <td>4.299699</td>\n",
       "      <td>-0.611886</td>\n",
       "    </tr>\n",
       "    <tr>\n",
       "      <th>2016-01-27</th>\n",
       "      <td>3.502346</td>\n",
       "      <td>0.057817</td>\n",
       "      <td>4.165197</td>\n",
       "      <td>-0.869696</td>\n",
       "    </tr>\n",
       "    <tr>\n",
       "      <th>2016-01-28</th>\n",
       "      <td>3.247997</td>\n",
       "      <td>0.229985</td>\n",
       "      <td>3.940576</td>\n",
       "      <td>-0.932473</td>\n",
       "    </tr>\n",
       "    <tr>\n",
       "      <th>2016-01-29</th>\n",
       "      <td>3.874419</td>\n",
       "      <td>-1.522412</td>\n",
       "      <td>3.757987</td>\n",
       "      <td>-1.089229</td>\n",
       "    </tr>\n",
       "    <tr>\n",
       "      <th>2016-01-30</th>\n",
       "      <td>3.098916</td>\n",
       "      <td>-2.143491</td>\n",
       "      <td>3.412315</td>\n",
       "      <td>-1.203401</td>\n",
       "    </tr>\n",
       "    <tr>\n",
       "      <th>...</th>\n",
       "      <td>...</td>\n",
       "      <td>...</td>\n",
       "      <td>...</td>\n",
       "      <td>...</td>\n",
       "    </tr>\n",
       "    <tr>\n",
       "      <th>2016-12-03</th>\n",
       "      <td>-13.101481</td>\n",
       "      <td>-29.910958</td>\n",
       "      <td>-12.609278</td>\n",
       "      <td>-30.217000</td>\n",
       "    </tr>\n",
       "    <tr>\n",
       "      <th>2016-12-04</th>\n",
       "      <td>-14.105354</td>\n",
       "      <td>-28.328899</td>\n",
       "      <td>-12.757486</td>\n",
       "      <td>-30.175793</td>\n",
       "    </tr>\n",
       "    <tr>\n",
       "      <th>2016-12-05</th>\n",
       "      <td>-14.667113</td>\n",
       "      <td>-29.712922</td>\n",
       "      <td>-12.930993</td>\n",
       "      <td>-30.125140</td>\n",
       "    </tr>\n",
       "    <tr>\n",
       "      <th>2016-12-06</th>\n",
       "      <td>-15.478283</td>\n",
       "      <td>-28.665579</td>\n",
       "      <td>-13.116878</td>\n",
       "      <td>-29.983080</td>\n",
       "    </tr>\n",
       "    <tr>\n",
       "      <th>2016-12-07</th>\n",
       "      <td>-13.583451</td>\n",
       "      <td>-26.649210</td>\n",
       "      <td>-13.223630</td>\n",
       "      <td>-29.616711</td>\n",
       "    </tr>\n",
       "    <tr>\n",
       "      <th>2016-12-08</th>\n",
       "      <td>-12.569898</td>\n",
       "      <td>-25.415938</td>\n",
       "      <td>-13.408744</td>\n",
       "      <td>-29.065817</td>\n",
       "    </tr>\n",
       "    <tr>\n",
       "      <th>2016-12-09</th>\n",
       "      <td>-12.386322</td>\n",
       "      <td>-25.029441</td>\n",
       "      <td>-13.338398</td>\n",
       "      <td>-28.451891</td>\n",
       "    </tr>\n",
       "    <tr>\n",
       "      <th>2016-12-10</th>\n",
       "      <td>-13.165306</td>\n",
       "      <td>-23.568852</td>\n",
       "      <td>-13.415730</td>\n",
       "      <td>-27.714242</td>\n",
       "    </tr>\n",
       "    <tr>\n",
       "      <th>2016-12-11</th>\n",
       "      <td>-12.783364</td>\n",
       "      <td>-23.041410</td>\n",
       "      <td>-13.472492</td>\n",
       "      <td>-27.021311</td>\n",
       "    </tr>\n",
       "    <tr>\n",
       "      <th>2016-12-12</th>\n",
       "      <td>-10.968730</td>\n",
       "      <td>-23.199240</td>\n",
       "      <td>-13.280930</td>\n",
       "      <td>-26.352245</td>\n",
       "    </tr>\n",
       "    <tr>\n",
       "      <th>2016-12-13</th>\n",
       "      <td>-12.498982</td>\n",
       "      <td>-23.238819</td>\n",
       "      <td>-13.220680</td>\n",
       "      <td>-25.685031</td>\n",
       "    </tr>\n",
       "    <tr>\n",
       "      <th>2016-12-14</th>\n",
       "      <td>-12.209784</td>\n",
       "      <td>-22.721555</td>\n",
       "      <td>-13.031123</td>\n",
       "      <td>-25.124296</td>\n",
       "    </tr>\n",
       "    <tr>\n",
       "      <th>2016-12-15</th>\n",
       "      <td>-13.160083</td>\n",
       "      <td>-23.212741</td>\n",
       "      <td>-12.880420</td>\n",
       "      <td>-24.474278</td>\n",
       "    </tr>\n",
       "    <tr>\n",
       "      <th>2016-12-16</th>\n",
       "      <td>-12.848348</td>\n",
       "      <td>-23.130548</td>\n",
       "      <td>-12.617427</td>\n",
       "      <td>-23.920775</td>\n",
       "    </tr>\n",
       "    <tr>\n",
       "      <th>2016-12-17</th>\n",
       "      <td>-13.833194</td>\n",
       "      <td>-23.575057</td>\n",
       "      <td>-12.642401</td>\n",
       "      <td>-23.613360</td>\n",
       "    </tr>\n",
       "    <tr>\n",
       "      <th>2016-12-18</th>\n",
       "      <td>-13.080879</td>\n",
       "      <td>-23.551875</td>\n",
       "      <td>-12.693499</td>\n",
       "      <td>-23.426954</td>\n",
       "    </tr>\n",
       "    <tr>\n",
       "      <th>2016-12-19</th>\n",
       "      <td>-12.946079</td>\n",
       "      <td>-21.670961</td>\n",
       "      <td>-12.749475</td>\n",
       "      <td>-23.091106</td>\n",
       "    </tr>\n",
       "    <tr>\n",
       "      <th>2016-12-20</th>\n",
       "      <td>-12.998124</td>\n",
       "      <td>-21.917588</td>\n",
       "      <td>-12.732757</td>\n",
       "      <td>-22.925979</td>\n",
       "    </tr>\n",
       "    <tr>\n",
       "      <th>2016-12-21</th>\n",
       "      <td>-14.264855</td>\n",
       "      <td>-23.841269</td>\n",
       "      <td>-12.880906</td>\n",
       "      <td>-23.005965</td>\n",
       "    </tr>\n",
       "    <tr>\n",
       "      <th>2016-12-22</th>\n",
       "      <td>-13.060445</td>\n",
       "      <td>-22.926829</td>\n",
       "      <td>-13.090077</td>\n",
       "      <td>-22.978724</td>\n",
       "    </tr>\n",
       "    <tr>\n",
       "      <th>2016-12-23</th>\n",
       "      <td>-12.381289</td>\n",
       "      <td>-23.373590</td>\n",
       "      <td>-13.078308</td>\n",
       "      <td>-22.992201</td>\n",
       "    </tr>\n",
       "    <tr>\n",
       "      <th>2016-12-24</th>\n",
       "      <td>-12.188702</td>\n",
       "      <td>-22.254727</td>\n",
       "      <td>-13.076200</td>\n",
       "      <td>-22.945518</td>\n",
       "    </tr>\n",
       "    <tr>\n",
       "      <th>2016-12-25</th>\n",
       "      <td>-12.188768</td>\n",
       "      <td>-21.664237</td>\n",
       "      <td>-12.979068</td>\n",
       "      <td>-22.790668</td>\n",
       "    </tr>\n",
       "    <tr>\n",
       "      <th>2016-12-26</th>\n",
       "      <td>-12.211951</td>\n",
       "      <td>-21.103311</td>\n",
       "      <td>-12.915429</td>\n",
       "      <td>-22.587944</td>\n",
       "    </tr>\n",
       "    <tr>\n",
       "      <th>2016-12-27</th>\n",
       "      <td>-11.009907</td>\n",
       "      <td>-23.177501</td>\n",
       "      <td>-12.633100</td>\n",
       "      <td>-22.548189</td>\n",
       "    </tr>\n",
       "    <tr>\n",
       "      <th>2016-12-28</th>\n",
       "      <td>-11.043070</td>\n",
       "      <td>-23.544025</td>\n",
       "      <td>-12.429319</td>\n",
       "      <td>-22.547404</td>\n",
       "    </tr>\n",
       "    <tr>\n",
       "      <th>2016-12-29</th>\n",
       "      <td>-10.727957</td>\n",
       "      <td>-24.378335</td>\n",
       "      <td>-12.207507</td>\n",
       "      <td>-22.818141</td>\n",
       "    </tr>\n",
       "    <tr>\n",
       "      <th>2016-12-30</th>\n",
       "      <td>-10.074889</td>\n",
       "      <td>-23.220822</td>\n",
       "      <td>-11.915183</td>\n",
       "      <td>-22.948465</td>\n",
       "    </tr>\n",
       "    <tr>\n",
       "      <th>2016-12-31</th>\n",
       "      <td>-10.549604</td>\n",
       "      <td>-24.428269</td>\n",
       "      <td>-11.543658</td>\n",
       "      <td>-23.007165</td>\n",
       "    </tr>\n",
       "    <tr>\n",
       "      <th>2017-01-01</th>\n",
       "      <td>-11.455182</td>\n",
       "      <td>-24.967937</td>\n",
       "      <td>-11.383132</td>\n",
       "      <td>-23.211275</td>\n",
       "    </tr>\n",
       "  </tbody>\n",
       "</table>\n",
       "<p>367 rows × 4 columns</p>\n",
       "</div>"
      ],
      "text/plain": [
       "              values1    values2  smooth_values1  smooth_values2\n",
       "2016-01-01  -1.202854  -0.945468             NaN             NaN\n",
       "2016-01-02  -1.629328  -1.424312             NaN             NaN\n",
       "2016-01-03  -0.297628  -0.431331             NaN             NaN\n",
       "2016-01-04  -0.205496   0.277939             NaN             NaN\n",
       "2016-01-05  -0.182044   1.042470             NaN             NaN\n",
       "2016-01-06  -1.196204   0.349791             NaN             NaN\n",
       "2016-01-07   0.294781   0.720578             NaN             NaN\n",
       "2016-01-08   1.559086   0.316354             NaN             NaN\n",
       "2016-01-09   2.080212   0.767629             NaN             NaN\n",
       "2016-01-10   4.145903   0.701068        0.336643        0.137472\n",
       "2016-01-11   4.639025   0.351763        0.920831        0.267195\n",
       "2016-01-12   3.756425   1.929913        1.459406        0.602617\n",
       "2016-01-13   4.066221   1.195514        1.895791        0.765302\n",
       "2016-01-14   4.018697   2.312969        2.318210        0.968805\n",
       "2016-01-15   2.324206   1.623106        2.568835        1.026869\n",
       "2016-01-16   4.783754   1.454374        3.166831        1.137327\n",
       "2016-01-17   4.847367   2.635907        3.622090        1.328860\n",
       "2016-01-18   5.494204   0.857755        4.015601        1.383000\n",
       "2016-01-19   5.700309   0.045152        4.377611        1.310752\n",
       "2016-01-20   6.555639  -1.001769        4.618585        1.140468\n",
       "2016-01-21   5.701295  -1.407599        4.724812        0.964532\n",
       "2016-01-22   4.119324  -2.219264        4.761102        0.549615\n",
       "2016-01-23   2.689068  -1.579575        4.623386        0.272106\n",
       "2016-01-24   2.059804  -0.633275        4.427497       -0.022519\n",
       "2016-01-25   2.556925  -0.994812        4.450769       -0.284311\n",
       "2016-01-26   3.273056  -1.821385        4.299699       -0.611886\n",
       "2016-01-27   3.502346   0.057817        4.165197       -0.869696\n",
       "2016-01-28   3.247997   0.229985        3.940576       -0.932473\n",
       "2016-01-29   3.874419  -1.522412        3.757987       -1.089229\n",
       "2016-01-30   3.098916  -2.143491        3.412315       -1.203401\n",
       "...               ...        ...             ...             ...\n",
       "2016-12-03 -13.101481 -29.910958      -12.609278      -30.217000\n",
       "2016-12-04 -14.105354 -28.328899      -12.757486      -30.175793\n",
       "2016-12-05 -14.667113 -29.712922      -12.930993      -30.125140\n",
       "2016-12-06 -15.478283 -28.665579      -13.116878      -29.983080\n",
       "2016-12-07 -13.583451 -26.649210      -13.223630      -29.616711\n",
       "2016-12-08 -12.569898 -25.415938      -13.408744      -29.065817\n",
       "2016-12-09 -12.386322 -25.029441      -13.338398      -28.451891\n",
       "2016-12-10 -13.165306 -23.568852      -13.415730      -27.714242\n",
       "2016-12-11 -12.783364 -23.041410      -13.472492      -27.021311\n",
       "2016-12-12 -10.968730 -23.199240      -13.280930      -26.352245\n",
       "2016-12-13 -12.498982 -23.238819      -13.220680      -25.685031\n",
       "2016-12-14 -12.209784 -22.721555      -13.031123      -25.124296\n",
       "2016-12-15 -13.160083 -23.212741      -12.880420      -24.474278\n",
       "2016-12-16 -12.848348 -23.130548      -12.617427      -23.920775\n",
       "2016-12-17 -13.833194 -23.575057      -12.642401      -23.613360\n",
       "2016-12-18 -13.080879 -23.551875      -12.693499      -23.426954\n",
       "2016-12-19 -12.946079 -21.670961      -12.749475      -23.091106\n",
       "2016-12-20 -12.998124 -21.917588      -12.732757      -22.925979\n",
       "2016-12-21 -14.264855 -23.841269      -12.880906      -23.005965\n",
       "2016-12-22 -13.060445 -22.926829      -13.090077      -22.978724\n",
       "2016-12-23 -12.381289 -23.373590      -13.078308      -22.992201\n",
       "2016-12-24 -12.188702 -22.254727      -13.076200      -22.945518\n",
       "2016-12-25 -12.188768 -21.664237      -12.979068      -22.790668\n",
       "2016-12-26 -12.211951 -21.103311      -12.915429      -22.587944\n",
       "2016-12-27 -11.009907 -23.177501      -12.633100      -22.548189\n",
       "2016-12-28 -11.043070 -23.544025      -12.429319      -22.547404\n",
       "2016-12-29 -10.727957 -24.378335      -12.207507      -22.818141\n",
       "2016-12-30 -10.074889 -23.220822      -11.915183      -22.948465\n",
       "2016-12-31 -10.549604 -24.428269      -11.543658      -23.007165\n",
       "2017-01-01 -11.455182 -24.967937      -11.383132      -23.211275\n",
       "\n",
       "[367 rows x 4 columns]"
      ]
     },
     "execution_count": 414,
     "metadata": {},
     "output_type": "execute_result"
    }
   ],
   "source": [
    "pd.concat([df_time, df_smooth], axis=1)"
   ]
  },
  {
   "cell_type": "code",
   "execution_count": 415,
   "metadata": {
    "slideshow": {
     "slide_type": "slide"
    }
   },
   "outputs": [
    {
     "data": {
      "text/plain": [
       "<matplotlib.axes._subplots.AxesSubplot at 0x115636be0>"
      ]
     },
     "execution_count": 415,
     "metadata": {},
     "output_type": "execute_result"
    },
    {
     "data": {
      "image/png": "[encoded data removed]",
      "text/plain": [
       "<Figure size 720x288 with 1 Axes>"
      ]
     },
     "metadata": {},
     "output_type": "display_data"
    }
   ],
   "source": [
    "pd.concat([df_time, df_smooth], axis=1).plot(figsize = (10, 4), title=\"Smoothed. Albeit delayed.\")"
   ]
  },
  {
   "cell_type": "markdown",
   "metadata": {
    "slideshow": {
     "slide_type": "slide"
    }
   },
   "source": [
    "## Exercise \n",
    "\n",
    "There are many other rolling functions in python. Try some. How can you find them from the notebook?"
   ]
  },
  {
   "cell_type": "code",
   "execution_count": 416,
   "metadata": {
    "slideshow": {
     "slide_type": "slide"
    }
   },
   "outputs": [
    {
     "data": {
      "image/png": "[encoded data removed]",
      "text/plain": [
       "<Figure size 720x216 with 1 Axes>"
      ]
     },
     "metadata": {},
     "output_type": "display_data"
    }
   ],
   "source": [
    "df_time.plot(figsize=(10, 3));"
   ]
  },
  {
   "cell_type": "code",
   "execution_count": 417,
   "metadata": {
    "slideshow": {
     "slide_type": "slide"
    }
   },
   "outputs": [
    {
     "data": {
      "image/png": "[encoded data removed]",
      "text/plain": [
       "<Figure size 720x216 with 1 Axes>"
      ]
     },
     "metadata": {},
     "output_type": "display_data"
    }
   ],
   "source": [
    "df_smooth = df_time['values1'].rolling(10).cov(df_time['values2'])\n",
    "df_smooth.plot(figsize=(10, 3));"
   ]
  },
  {
   "cell_type": "markdown",
   "metadata": {
    "slideshow": {
     "slide_type": "slide"
    }
   },
   "source": [
    "## Aggregating Time\n",
    "\n",
    "You can also use time not just to map values, but also to group values. Let's calculate some values and group them by date. \n",
    "\n",
    "There are two ways of doing that; \n",
    "\n",
    "* create a new column and aggregate that \n",
    "* use the index to do this for you\n",
    "\n",
    "We'll demonstrate the latter, simply because it is safer and a whole lot less work."
   ]
  },
  {
   "cell_type": "code",
   "execution_count": 418,
   "metadata": {
    "scrolled": true,
    "slideshow": {
     "slide_type": "slide"
    }
   },
   "outputs": [
    {
     "data": {
      "text/html": [
       "<div>\n",
       "<style scoped>\n",
       "    .dataframe tbody tr th:only-of-type {\n",
       "        vertical-align: middle;\n",
       "    }\n",
       "\n",
       "    .dataframe tbody tr th {\n",
       "        vertical-align: top;\n",
       "    }\n",
       "\n",
       "    .dataframe thead th {\n",
       "        text-align: right;\n",
       "    }\n",
       "</style>\n",
       "<table border=\"1\" class=\"dataframe\">\n",
       "  <thead>\n",
       "    <tr style=\"text-align: right;\">\n",
       "      <th></th>\n",
       "      <th>values1</th>\n",
       "      <th>values2</th>\n",
       "    </tr>\n",
       "  </thead>\n",
       "  <tbody>\n",
       "    <tr>\n",
       "      <th>2016-01-03</th>\n",
       "      <td>-1.043270</td>\n",
       "      <td>-0.933704</td>\n",
       "    </tr>\n",
       "    <tr>\n",
       "      <th>2016-01-10</th>\n",
       "      <td>0.928034</td>\n",
       "      <td>0.596547</td>\n",
       "    </tr>\n",
       "    <tr>\n",
       "      <th>2016-01-17</th>\n",
       "      <td>4.062242</td>\n",
       "      <td>1.643364</td>\n",
       "    </tr>\n",
       "    <tr>\n",
       "      <th>2016-01-24</th>\n",
       "      <td>4.617092</td>\n",
       "      <td>-0.848368</td>\n",
       "    </tr>\n",
       "    <tr>\n",
       "      <th>2016-01-31</th>\n",
       "      <td>3.133673</td>\n",
       "      <td>-0.845215</td>\n",
       "    </tr>\n",
       "    <tr>\n",
       "      <th>2016-02-07</th>\n",
       "      <td>5.068653</td>\n",
       "      <td>0.900954</td>\n",
       "    </tr>\n",
       "    <tr>\n",
       "      <th>2016-02-14</th>\n",
       "      <td>3.577649</td>\n",
       "      <td>-0.924682</td>\n",
       "    </tr>\n",
       "    <tr>\n",
       "      <th>2016-02-21</th>\n",
       "      <td>0.665007</td>\n",
       "      <td>3.123118</td>\n",
       "    </tr>\n",
       "    <tr>\n",
       "      <th>2016-02-28</th>\n",
       "      <td>1.400017</td>\n",
       "      <td>5.022458</td>\n",
       "    </tr>\n",
       "    <tr>\n",
       "      <th>2016-03-06</th>\n",
       "      <td>2.982486</td>\n",
       "      <td>2.876473</td>\n",
       "    </tr>\n",
       "    <tr>\n",
       "      <th>2016-03-13</th>\n",
       "      <td>-0.342328</td>\n",
       "      <td>3.498061</td>\n",
       "    </tr>\n",
       "    <tr>\n",
       "      <th>2016-03-20</th>\n",
       "      <td>-2.954335</td>\n",
       "      <td>0.695576</td>\n",
       "    </tr>\n",
       "    <tr>\n",
       "      <th>2016-03-27</th>\n",
       "      <td>0.394468</td>\n",
       "      <td>-0.328559</td>\n",
       "    </tr>\n",
       "    <tr>\n",
       "      <th>2016-04-03</th>\n",
       "      <td>-2.111267</td>\n",
       "      <td>-2.311715</td>\n",
       "    </tr>\n",
       "    <tr>\n",
       "      <th>2016-04-10</th>\n",
       "      <td>-0.753374</td>\n",
       "      <td>-2.784537</td>\n",
       "    </tr>\n",
       "    <tr>\n",
       "      <th>2016-04-17</th>\n",
       "      <td>-4.421193</td>\n",
       "      <td>-3.046315</td>\n",
       "    </tr>\n",
       "    <tr>\n",
       "      <th>2016-04-24</th>\n",
       "      <td>-2.466026</td>\n",
       "      <td>-5.156145</td>\n",
       "    </tr>\n",
       "    <tr>\n",
       "      <th>2016-05-01</th>\n",
       "      <td>-3.426302</td>\n",
       "      <td>-7.355652</td>\n",
       "    </tr>\n",
       "    <tr>\n",
       "      <th>2016-05-08</th>\n",
       "      <td>-3.551178</td>\n",
       "      <td>-8.871298</td>\n",
       "    </tr>\n",
       "    <tr>\n",
       "      <th>2016-05-15</th>\n",
       "      <td>-4.837539</td>\n",
       "      <td>-9.711201</td>\n",
       "    </tr>\n",
       "    <tr>\n",
       "      <th>2016-05-22</th>\n",
       "      <td>-9.898535</td>\n",
       "      <td>-9.635329</td>\n",
       "    </tr>\n",
       "    <tr>\n",
       "      <th>2016-05-29</th>\n",
       "      <td>-14.546133</td>\n",
       "      <td>-11.040674</td>\n",
       "    </tr>\n",
       "    <tr>\n",
       "      <th>2016-06-05</th>\n",
       "      <td>-16.523255</td>\n",
       "      <td>-11.134737</td>\n",
       "    </tr>\n",
       "    <tr>\n",
       "      <th>2016-06-12</th>\n",
       "      <td>-15.268189</td>\n",
       "      <td>-13.612706</td>\n",
       "    </tr>\n",
       "    <tr>\n",
       "      <th>2016-06-19</th>\n",
       "      <td>-15.805042</td>\n",
       "      <td>-12.621504</td>\n",
       "    </tr>\n",
       "    <tr>\n",
       "      <th>2016-06-26</th>\n",
       "      <td>-12.925192</td>\n",
       "      <td>-13.366764</td>\n",
       "    </tr>\n",
       "    <tr>\n",
       "      <th>2016-07-03</th>\n",
       "      <td>-13.809686</td>\n",
       "      <td>-13.973168</td>\n",
       "    </tr>\n",
       "    <tr>\n",
       "      <th>2016-07-10</th>\n",
       "      <td>-13.756602</td>\n",
       "      <td>-12.267922</td>\n",
       "    </tr>\n",
       "    <tr>\n",
       "      <th>2016-07-17</th>\n",
       "      <td>-14.335205</td>\n",
       "      <td>-13.554078</td>\n",
       "    </tr>\n",
       "    <tr>\n",
       "      <th>2016-07-24</th>\n",
       "      <td>-10.522536</td>\n",
       "      <td>-14.373727</td>\n",
       "    </tr>\n",
       "    <tr>\n",
       "      <th>2016-07-31</th>\n",
       "      <td>-9.873278</td>\n",
       "      <td>-11.343291</td>\n",
       "    </tr>\n",
       "    <tr>\n",
       "      <th>2016-08-07</th>\n",
       "      <td>-10.468867</td>\n",
       "      <td>-9.767552</td>\n",
       "    </tr>\n",
       "    <tr>\n",
       "      <th>2016-08-14</th>\n",
       "      <td>-11.050006</td>\n",
       "      <td>-12.875145</td>\n",
       "    </tr>\n",
       "    <tr>\n",
       "      <th>2016-08-21</th>\n",
       "      <td>-11.765581</td>\n",
       "      <td>-14.991923</td>\n",
       "    </tr>\n",
       "    <tr>\n",
       "      <th>2016-08-28</th>\n",
       "      <td>-13.252107</td>\n",
       "      <td>-16.566560</td>\n",
       "    </tr>\n",
       "    <tr>\n",
       "      <th>2016-09-04</th>\n",
       "      <td>-10.560958</td>\n",
       "      <td>-18.226928</td>\n",
       "    </tr>\n",
       "    <tr>\n",
       "      <th>2016-09-11</th>\n",
       "      <td>-10.480465</td>\n",
       "      <td>-20.386428</td>\n",
       "    </tr>\n",
       "    <tr>\n",
       "      <th>2016-09-18</th>\n",
       "      <td>-10.770104</td>\n",
       "      <td>-18.711203</td>\n",
       "    </tr>\n",
       "    <tr>\n",
       "      <th>2016-09-25</th>\n",
       "      <td>-8.468545</td>\n",
       "      <td>-20.057780</td>\n",
       "    </tr>\n",
       "    <tr>\n",
       "      <th>2016-10-02</th>\n",
       "      <td>-7.610634</td>\n",
       "      <td>-23.186193</td>\n",
       "    </tr>\n",
       "    <tr>\n",
       "      <th>2016-10-09</th>\n",
       "      <td>-12.633554</td>\n",
       "      <td>-25.828228</td>\n",
       "    </tr>\n",
       "    <tr>\n",
       "      <th>2016-10-16</th>\n",
       "      <td>-14.099397</td>\n",
       "      <td>-25.140328</td>\n",
       "    </tr>\n",
       "    <tr>\n",
       "      <th>2016-10-23</th>\n",
       "      <td>-17.655951</td>\n",
       "      <td>-25.385477</td>\n",
       "    </tr>\n",
       "    <tr>\n",
       "      <th>2016-10-30</th>\n",
       "      <td>-18.218125</td>\n",
       "      <td>-24.913854</td>\n",
       "    </tr>\n",
       "    <tr>\n",
       "      <th>2016-11-06</th>\n",
       "      <td>-18.214347</td>\n",
       "      <td>-27.519348</td>\n",
       "    </tr>\n",
       "    <tr>\n",
       "      <th>2016-11-13</th>\n",
       "      <td>-12.819316</td>\n",
       "      <td>-29.257077</td>\n",
       "    </tr>\n",
       "    <tr>\n",
       "      <th>2016-11-20</th>\n",
       "      <td>-12.865225</td>\n",
       "      <td>-28.290879</td>\n",
       "    </tr>\n",
       "    <tr>\n",
       "      <th>2016-11-27</th>\n",
       "      <td>-11.801224</td>\n",
       "      <td>-29.704187</td>\n",
       "    </tr>\n",
       "    <tr>\n",
       "      <th>2016-12-04</th>\n",
       "      <td>-12.643922</td>\n",
       "      <td>-30.162771</td>\n",
       "    </tr>\n",
       "    <tr>\n",
       "      <th>2016-12-11</th>\n",
       "      <td>-13.519105</td>\n",
       "      <td>-26.011907</td>\n",
       "    </tr>\n",
       "    <tr>\n",
       "      <th>2016-12-18</th>\n",
       "      <td>-12.657143</td>\n",
       "      <td>-23.232833</td>\n",
       "    </tr>\n",
       "    <tr>\n",
       "      <th>2016-12-25</th>\n",
       "      <td>-12.861180</td>\n",
       "      <td>-22.521314</td>\n",
       "    </tr>\n",
       "    <tr>\n",
       "      <th>2017-01-01</th>\n",
       "      <td>-11.010366</td>\n",
       "      <td>-23.545743</td>\n",
       "    </tr>\n",
       "  </tbody>\n",
       "</table>\n",
       "</div>"
      ],
      "text/plain": [
       "              values1    values2\n",
       "2016-01-03  -1.043270  -0.933704\n",
       "2016-01-10   0.928034   0.596547\n",
       "2016-01-17   4.062242   1.643364\n",
       "2016-01-24   4.617092  -0.848368\n",
       "2016-01-31   3.133673  -0.845215\n",
       "2016-02-07   5.068653   0.900954\n",
       "2016-02-14   3.577649  -0.924682\n",
       "2016-02-21   0.665007   3.123118\n",
       "2016-02-28   1.400017   5.022458\n",
       "2016-03-06   2.982486   2.876473\n",
       "2016-03-13  -0.342328   3.498061\n",
       "2016-03-20  -2.954335   0.695576\n",
       "2016-03-27   0.394468  -0.328559\n",
       "2016-04-03  -2.111267  -2.311715\n",
       "2016-04-10  -0.753374  -2.784537\n",
       "2016-04-17  -4.421193  -3.046315\n",
       "2016-04-24  -2.466026  -5.156145\n",
       "2016-05-01  -3.426302  -7.355652\n",
       "2016-05-08  -3.551178  -8.871298\n",
       "2016-05-15  -4.837539  -9.711201\n",
       "2016-05-22  -9.898535  -9.635329\n",
       "2016-05-29 -14.546133 -11.040674\n",
       "2016-06-05 -16.523255 -11.134737\n",
       "2016-06-12 -15.268189 -13.612706\n",
       "2016-06-19 -15.805042 -12.621504\n",
       "2016-06-26 -12.925192 -13.366764\n",
       "2016-07-03 -13.809686 -13.973168\n",
       "2016-07-10 -13.756602 -12.267922\n",
       "2016-07-17 -14.335205 -13.554078\n",
       "2016-07-24 -10.522536 -14.373727\n",
       "2016-07-31  -9.873278 -11.343291\n",
       "2016-08-07 -10.468867  -9.767552\n",
       "2016-08-14 -11.050006 -12.875145\n",
       "2016-08-21 -11.765581 -14.991923\n",
       "2016-08-28 -13.252107 -16.566560\n",
       "2016-09-04 -10.560958 -18.226928\n",
       "2016-09-11 -10.480465 -20.386428\n",
       "2016-09-18 -10.770104 -18.711203\n",
       "2016-09-25  -8.468545 -20.057780\n",
       "2016-10-02  -7.610634 -23.186193\n",
       "2016-10-09 -12.633554 -25.828228\n",
       "2016-10-16 -14.099397 -25.140328\n",
       "2016-10-23 -17.655951 -25.385477\n",
       "2016-10-30 -18.218125 -24.913854\n",
       "2016-11-06 -18.214347 -27.519348\n",
       "2016-11-13 -12.819316 -29.257077\n",
       "2016-11-20 -12.865225 -28.290879\n",
       "2016-11-27 -11.801224 -29.704187\n",
       "2016-12-04 -12.643922 -30.162771\n",
       "2016-12-11 -13.519105 -26.011907\n",
       "2016-12-18 -12.657143 -23.232833\n",
       "2016-12-25 -12.861180 -22.521314\n",
       "2017-01-01 -11.010366 -23.545743"
      ]
     },
     "execution_count": 418,
     "metadata": {},
     "output_type": "execute_result"
    }
   ],
   "source": [
    "df_time.resample('W').mean()"
   ]
  },
  {
   "cell_type": "code",
   "execution_count": 419,
   "metadata": {
    "scrolled": false,
    "slideshow": {
     "slide_type": "slide"
    }
   },
   "outputs": [
    {
     "data": {
      "image/png": "[encoded data removed]",
      "text/plain": [
       "<Figure size 432x288 with 1 Axes>"
      ]
     },
     "metadata": {},
     "output_type": "display_data"
    }
   ],
   "source": [
    "df_time.resample('W').mean().plot();"
   ]
  },
  {
   "cell_type": "markdown",
   "metadata": {
    "slideshow": {
     "slide_type": "slide"
    }
   },
   "source": [
    "Note that the `pd.date_range` function can also be used in other ways "
   ]
  },
  {
   "cell_type": "code",
   "execution_count": 420,
   "metadata": {},
   "outputs": [
    {
     "data": {
      "text/plain": [
       "<matplotlib.axes._subplots.AxesSubplot at 0x115b2f470>"
      ]
     },
     "execution_count": 420,
     "metadata": {},
     "output_type": "execute_result"
    },
    {
     "data": {
      "image/png": "[encoded data removed]",
      "text/plain": [
       "<Figure size 432x288 with 1 Axes>"
      ]
     },
     "metadata": {},
     "output_type": "display_data"
    }
   ],
   "source": [
    "times = pd.date_range('2017-01-01', periods=24 * 3, freq='H')\n",
    "values = np.cumsum(np.random.normal(0, 1, times.shape))\n",
    "df_hours = pd.DataFrame({'values': values}, index = times)\n",
    "df_hours.plot()"
   ]
  },
  {
   "cell_type": "markdown",
   "metadata": {
    "slideshow": {
     "slide_type": "slide"
    }
   },
   "source": [
    "Again, we can do resampling."
   ]
  },
  {
   "cell_type": "code",
   "execution_count": 421,
   "metadata": {
    "scrolled": true
   },
   "outputs": [
    {
     "data": {
      "text/html": [
       "<div>\n",
       "<style scoped>\n",
       "    .dataframe tbody tr th:only-of-type {\n",
       "        vertical-align: middle;\n",
       "    }\n",
       "\n",
       "    .dataframe tbody tr th {\n",
       "        vertical-align: top;\n",
       "    }\n",
       "\n",
       "    .dataframe thead th {\n",
       "        text-align: right;\n",
       "    }\n",
       "</style>\n",
       "<table border=\"1\" class=\"dataframe\">\n",
       "  <thead>\n",
       "    <tr style=\"text-align: right;\">\n",
       "      <th></th>\n",
       "      <th>values</th>\n",
       "    </tr>\n",
       "  </thead>\n",
       "  <tbody>\n",
       "    <tr>\n",
       "      <th>2017-01-01</th>\n",
       "      <td>-11.118210</td>\n",
       "    </tr>\n",
       "    <tr>\n",
       "      <th>2017-01-02</th>\n",
       "      <td>-13.714294</td>\n",
       "    </tr>\n",
       "    <tr>\n",
       "      <th>2017-01-03</th>\n",
       "      <td>15.315960</td>\n",
       "    </tr>\n",
       "  </tbody>\n",
       "</table>\n",
       "</div>"
      ],
      "text/plain": [
       "               values\n",
       "2017-01-01 -11.118210\n",
       "2017-01-02 -13.714294\n",
       "2017-01-03  15.315960"
      ]
     },
     "execution_count": 421,
     "metadata": {},
     "output_type": "execute_result"
    }
   ],
   "source": [
    "df_hours.resample('D').sum()"
   ]
  },
  {
   "cell_type": "markdown",
   "metadata": {
    "slideshow": {
     "slide_type": "slide"
    }
   },
   "source": [
    "You may have noticed that this `.resample()` method is similar to `groupby`. "
   ]
  },
  {
   "cell_type": "code",
   "execution_count": 422,
   "metadata": {},
   "outputs": [
    {
     "data": {
      "text/html": [
       "<div>\n",
       "<style scoped>\n",
       "    .dataframe tbody tr th:only-of-type {\n",
       "        vertical-align: middle;\n",
       "    }\n",
       "\n",
       "    .dataframe tbody tr th {\n",
       "        vertical-align: top;\n",
       "    }\n",
       "\n",
       "    .dataframe thead th {\n",
       "        text-align: right;\n",
       "    }\n",
       "</style>\n",
       "<table border=\"1\" class=\"dataframe\">\n",
       "  <thead>\n",
       "    <tr style=\"text-align: right;\">\n",
       "      <th></th>\n",
       "      <th>values</th>\n",
       "    </tr>\n",
       "  </thead>\n",
       "  <tbody>\n",
       "    <tr>\n",
       "      <th>2017-01-01</th>\n",
       "      <td>we have 24 rows</td>\n",
       "    </tr>\n",
       "    <tr>\n",
       "      <th>2017-01-02</th>\n",
       "      <td>we have 24 rows</td>\n",
       "    </tr>\n",
       "    <tr>\n",
       "      <th>2017-01-03</th>\n",
       "      <td>we have 24 rows</td>\n",
       "    </tr>\n",
       "  </tbody>\n",
       "</table>\n",
       "</div>"
      ],
      "text/plain": [
       "                     values\n",
       "2017-01-01  we have 24 rows\n",
       "2017-01-02  we have 24 rows\n",
       "2017-01-03  we have 24 rows"
      ]
     },
     "execution_count": 422,
     "metadata": {},
     "output_type": "execute_result"
    }
   ],
   "source": [
    "def some_func(frame):\n",
    "    return \"we have {} rows\".format(frame.shape[0])\n",
    "\n",
    "df_hours.resample('D').apply(some_func)"
   ]
  },
  {
   "cell_type": "markdown",
   "metadata": {},
   "source": [
    "There are many more things we can do with times. Let's look at the online documentation to learn more about these features. "
   ]
  }
 ],
 "metadata": {
  "anaconda-cloud": {},
  "celltoolbar": "Slideshow",
  "kernelspec": {
   "display_name": "Python 3",
   "language": "python",
   "name": "python3"
  },
  "language_info": {
   "codemirror_mode": {
    "name": "ipython",
    "version": 3
   },
   "file_extension": ".py",
   "mimetype": "text/x-python",
   "name": "python",
   "nbconvert_exporter": "python",
   "pygments_lexer": "ipython3",
   "version": "3.6.3"
  }
 },
 "nbformat": 4,
 "nbformat_minor": 1
}
